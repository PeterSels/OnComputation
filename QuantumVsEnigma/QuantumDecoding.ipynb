{
 "cells": [
  {
   "cell_type": "code",
   "execution_count": null,
   "metadata": {},
   "outputs": [],
   "source": [
    "import numpy as np\n",
    "from numpy import random\n",
    "import json\n",
    "\n",
    "import string\n",
    "alphabet_str = string.ascii_lowercase\n",
    "print(alphabet_str)\n",
    "N = len(alphabet_str)\n",
    "az_list = list(alphabet_str)\n",
    "print(az_list)"
   ]
  },
  {
   "cell_type": "code",
   "execution_count": null,
   "metadata": {},
   "outputs": [],
   "source": [
    "# As for the encoding schema, \n",
    "# let's start with a general fixed letter to fixed letter permutation first.\n",
    "\n",
    "# Choose one of the 26! letter permutations randomly. \n",
    "# With a fixed seed parameter the same one can be chosen repeatedly.\n",
    "def construct_random_letter_permutation(seed=None):\n",
    "    if seed != None:\n",
    "        random.seed(seed)\n",
    "    letter_indices = np.array(list(range(0,len(alphabet_str))))\n",
    "    #print(letter_indices)\n",
    "    letter_indices_permutated = letter_indices.copy()\n",
    "    letter_indices_permutated = random.permutation(letter_indices_permutated)\n",
    "    #print(letter_indices_permutated)    \n",
    "    letter_permutation_dict = {}\n",
    "    for letter_idx_in in letter_indices:\n",
    "        letter_idx_out = letter_indices_permutated[letter_idx_in]\n",
    "        letter_permutation_dict[alphabet_str[letter_idx_in]] = alphabet_str[letter_idx_out] \n",
    "    return letter_permutation_dict\n",
    "\n",
    "# enoode a message with a letter permutation\n",
    "def encode(msg, letter_permutation):\n",
    "    enc_msg = ''\n",
    "    for i in range(len(msg)):\n",
    "        enc_msg += letter_permutation[msg[i]]\n",
    "    return enc_msg"
   ]
  },
  {
   "cell_type": "code",
   "execution_count": null,
   "metadata": {},
   "outputs": [],
   "source": [
    "plaintext_msg = 'Let us try to decrypt with a quantum computer.'\n",
    "# Remove spaces and dots, and restrict to lowercase characters only, so we have 26 symbols.\n",
    "plaintext_msg = plaintext_msg.replace(' ', '').replace('.', '').lower()\n",
    "\n",
    "print('plaintext message = {:s}'.format(plaintext_msg))\n",
    "letter_permutation_dict = construct_random_letter_permutation(3)\n",
    "print('letter permutation dictionary =')\n",
    "print(json.dumps(letter_permutation_dict, indent=2))\n",
    "enc_msg = encode(plaintext_msg, letter_permutation_dict)\n",
    "print('encoded message = {:s}'.format(enc_msg))"
   ]
  },
  {
   "cell_type": "code",
   "execution_count": null,
   "metadata": {},
   "outputs": [],
   "source": [
    "inverse_letter_permutation_dict = {v: k for k, v in letter_permutation_dict.items()}\n",
    "print('inverse letter permutation dictionary =')\n",
    "print(json.dumps(inverse_letter_permutation_dict, indent=2))\n",
    "recovered_msg = encode(enc_msg, inverse_letter_permutation_dict)\n",
    "print('recovered message = {:s}'.format(recovered_msg))"
   ]
  },
  {
   "cell_type": "code",
   "execution_count": null,
   "metadata": {},
   "outputs": [],
   "source": [
    "# From view-source:http://norvig.com/mayzner.html, we get the unigrams data"
   ]
  },
  {
   "cell_type": "code",
   "execution_count": null,
   "metadata": {},
   "outputs": [],
   "source": [
    "unigram = { 'e': 12.49, 't': 9.28, 'a': 8.04, 'o':7.64, 'i': 7.57, 'n':7.23, 's': 6.51, 'r': 6.28, 'h': 5.05, 'l':4.07, 'd':3.82, 'c':3.34, 'u':2.73, 'm': 2.51, 'f':2.40, 'p': 2.14, 'g': 1.87, 'w': 1.68, 'y': 1.66, 'b': 1.48, 'v':1.05, 'k': 0.54, 'x': 0.23, 'j': 0.16, 'q': 0.12, 'z': 0.09 }"
   ]
  },
  {
   "cell_type": "code",
   "execution_count": null,
   "metadata": {},
   "outputs": [],
   "source": [
    "total = 0.0\n",
    "for k, v in unigram.items():\n",
    "    total += v"
   ]
  },
  {
   "cell_type": "code",
   "execution_count": null,
   "metadata": {},
   "outputs": [],
   "source": [
    "total, len(unigram.keys())"
   ]
  },
  {
   "cell_type": "code",
   "execution_count": null,
   "metadata": {},
   "outputs": [],
   "source": [
    "# define the permutation vars. 26 ints or 26*26 bools? \n",
    "# say: permutation as ints. p[f] = t or 1. f/t = from/to, f in [0,25], t in [0, 25].\n",
    "# constraints: avoiding the ones we'd have to impose for bool vars:\n",
    "# say p is the decode permutation, mapping encoded letter to decoded one. p is to be found var.\n",
    "# sum_f p[f][t] = 1 for all t\n",
    "# sum_t p[f][t] = 1 for all f\n",
    "# objective: achieve typical fraction for all letters.\n",
    "# Minimize quadratic errors = energy function?\n",
    "#sum_{l in enc_text} sum_o (f[p[ord(l)-ord('a')][]] - f[])^2"
   ]
  },
  {
   "cell_type": "code",
   "execution_count": null,
   "metadata": {},
   "outputs": [],
   "source": [
    "import gurobipy as gp\n",
    "from gurobipy import GRB\n",
    "m = gp.Model()\n",
    "\n",
    "print('ord(a) = {:d}'.format(ord('a')))\n",
    "#p = m.addMVar((N,N), vtype=GRB.BINARY) # p[a][b] is the encoding permutation -> p[b][a] encodes\n",
    "p = m.addVars(az_list, az_list, vtype=GRB.BINARY, name='p') # p[a][b] is the encoding permutation -> p[b][a] encodes\n",
    "for y in az_list:\n",
    "    row_sum = 0\n",
    "    for x in az_list:\n",
    "        row_sum += p[y, x]\n",
    "    m.addConstr(row_sum == 1, 'row_{:s}_sum_is_1'.format(y))\n",
    "for x in az_list:\n",
    "    col_sum = 0\n",
    "    for y in az_list:\n",
    "        col_sum += p[y, x]\n",
    "    m.addConstr(col_sum == 1, 'col_{:s}_sum_is_1'.format(x))\n",
    "\n",
    "# relation between original letter and encrypted letter\n",
    "for msg_let_idx, enc_let in enumerate(enc_msg):\n",
    "    enc_let_ord = ord(enc_let) - ord('a')\n",
    "    assert enc_let_ord <= N-1\n",
    "    assert enc_let_ord >= 0\n",
    "    print('msg_let_idx:{:d}, enc_let:{:s}, enc_let_ord:{:d}'.format(msg_let_idx, enc_let, enc_let_ord))\n",
    "    expr = 0\n",
    "    for x in az_list:\n",
    "        bit = p[enc_let, x]\n",
    "        expr += bit * (ord(x) - ord('a'))\n",
    "    m.addConstr(expr <= N-1, 'le_msg_let_idx_{:d}_enc_let_{:s}_enc_let_ord_{:d}'.format(msg_let_idx, enc_let, enc_let_ord))\n",
    "    m.addConstr(expr >= 0, 'ge_msg_let_idx_{:d}_enc_let_{:s}_enc_let_ord_{:d}'.format(msg_let_idx, enc_let, enc_let_ord))\n",
    "\n",
    "#p_dec = m.addVars(permutation_dec, lb=[0]*N, ub=[25]*N, vtype=GRB.BOOL, name='p')  \n",
    "m.write('decode.lp')\n",
    "m.optimize()\n"
   ]
  },
  {
   "cell_type": "code",
   "execution_count": null,
   "metadata": {},
   "outputs": [],
   "source": [
    "#print(p.x)"
   ]
  },
  {
   "cell_type": "code",
   "execution_count": null,
   "metadata": {},
   "outputs": [],
   "source": [
    "# two letters that are the same in the encrypted message originate from two letters in the \n",
    "# original plain text message that are also the same.\n",
    "# This is already embedded (hard coded) in the way the permutation constraitn was formulated.\n",
    "\n",
    "# unigram statistics\n",
    "\n",
    "# bigram statistics\n"
   ]
  },
  {
   "cell_type": "code",
   "execution_count": null,
   "metadata": {},
   "outputs": [],
   "source": [
    "# Reconstruct the message from the permutation matrix found.\n",
    "def codec(enc_msg, decode_io_code=True):\n",
    "    dec_msg = ''\n",
    "    for msg_let_idx, enc_let in enumerate(enc_msg):\n",
    "        enc_let_ord = ord(enc_let)-ord('a')\n",
    "        assert enc_let_ord < 26\n",
    "        assert enc_let_ord >= 0\n",
    "        print('msg_let_idx:{:d}, enc_let:{:s}, enc_let_ord:{:d}'.format(msg_let_idx, enc_let, enc_let_ord))\n",
    "        \n",
    "        dec_let_ord = 0\n",
    "        for x in az_list:\n",
    "            if decode_io_code:\n",
    "                bit = int(p[x, enc_let].x)  # decode. \n",
    "                # The inverse matrix of a permutation matrix is its transposed.\n",
    "            else:\n",
    "                bit = int(p[enc_let, x].x)  # encode\n",
    "                \n",
    "            dec_let_ord += bit * (ord(x) - ord('a'))\n",
    "            \n",
    "        dec_let = chr(ord('a') + dec_let_ord)\n",
    "        dec_msg += dec_let\n",
    "    return dec_msg\n",
    "    \n",
    "    \n",
    "print('enc_msg: {:s}'.format(enc_msg))\n",
    "    \n",
    "dec_msg = codec(enc_msg, decode_io_code=True)\n",
    "print('dec_msg: {:s}'.format(dec_msg))\n",
    "assert len(enc_msg) == len(dec_msg)\n",
    "\n",
    "enc_again_msg = codec(dec_msg, decode_io_code=False)\n",
    "print('enc_again_msg: {:s}'.format(enc_again_msg))\n",
    "assert len(enc_again_msg) == len(dec_msg)\n",
    "\n"
   ]
  },
  {
   "cell_type": "code",
   "execution_count": null,
   "metadata": {},
   "outputs": [],
   "source": []
  }
 ],
 "metadata": {
  "kernelspec": {
   "display_name": "Python 3",
   "language": "python",
   "name": "python3"
  },
  "language_info": {
   "codemirror_mode": {
    "name": "ipython",
    "version": 3
   },
   "file_extension": ".py",
   "mimetype": "text/x-python",
   "name": "python",
   "nbconvert_exporter": "python",
   "pygments_lexer": "ipython3",
   "version": "3.8.7"
  },
  "toc": {
   "base_numbering": 1,
   "nav_menu": {},
   "number_sections": true,
   "sideBar": true,
   "skip_h1_title": false,
   "title_cell": "Table of Contents",
   "title_sidebar": "Contents",
   "toc_cell": false,
   "toc_position": {},
   "toc_section_display": true,
   "toc_window_display": false
  },
  "varInspector": {
   "cols": {
    "lenName": 16,
    "lenType": 16,
    "lenVar": 40
   },
   "kernels_config": {
    "python": {
     "delete_cmd_postfix": "",
     "delete_cmd_prefix": "del ",
     "library": "var_list.py",
     "varRefreshCmd": "print(var_dic_list())"
    },
    "r": {
     "delete_cmd_postfix": ") ",
     "delete_cmd_prefix": "rm(",
     "library": "var_list.r",
     "varRefreshCmd": "cat(var_dic_list()) "
    }
   },
   "types_to_exclude": [
    "module",
    "function",
    "builtin_function_or_method",
    "instance",
    "_Feature"
   ],
   "window_display": false
  }
 },
 "nbformat": 4,
 "nbformat_minor": 4
}
