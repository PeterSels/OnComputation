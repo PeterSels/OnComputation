{
 "cells": [
  {
   "cell_type": "code",
   "execution_count": null,
   "metadata": {},
   "outputs": [],
   "source": [
    "import numpy as np\n",
    "from numpy import random\n",
    "import json\n",
    "\n",
    "import string\n",
    "alphabet_str = string.ascii_lowercase\n",
    "print(alphabet_str)\n",
    "\n",
    "# As for the encoding schema, \n",
    "# let's start with a general fixed letter to fixed letter permutation first.\n",
    "\n",
    "# Choose one of the 26! letter permutations randomly. \n",
    "# With a fixed seed parameter the same one can be chosen repeatedly.\n",
    "def construct_random_letter_permutation(seed=None):\n",
    "    if seed != None:\n",
    "        random.seed(seed)\n",
    "    letter_indices = np.array(list(range(0,len(alphabet_str))))\n",
    "    #print(letter_indices)\n",
    "    letter_indices_permutated = letter_indices.copy()\n",
    "    letter_indices_permutated = random.permutation(letter_indices_permutated)\n",
    "    #print(letter_indices_permutated)    \n",
    "    letter_permutation_dict = {}\n",
    "    for letter_idx_in in letter_indices:\n",
    "        letter_idx_out = letter_indices_permutated[letter_idx_in]\n",
    "        letter_permutation_dict[alphabet_str[letter_idx_in]] = alphabet_str[letter_idx_out] \n",
    "    return letter_permutation_dict\n",
    "\n",
    "# enoode a message with a letter permutation\n",
    "def encode(msg, letter_permutation):\n",
    "    enc_msg = ''\n",
    "    for i in range(len(msg)):\n",
    "        enc_msg += letter_permutation[msg[i]]\n",
    "    return enc_msg"
   ]
  },
  {
   "cell_type": "code",
   "execution_count": null,
   "metadata": {},
   "outputs": [],
   "source": [
    "plaintext_msg = 'Let us try to decrypt with a quantum computer.'\n",
    "# Remove spaces and dots, and restrict to lowercase characters only, so we have 26 symbols.\n",
    "plaintext_msg = plaintext_msg.replace(' ', '').replace('.', '').lower()\n",
    "\n",
    "print('plaintext message = {:s}'.format(plaintext_msg))\n",
    "letter_permutation_dict = construct_random_letter_permutation(3)\n",
    "print('letter permutation dictionary =')\n",
    "print(json.dumps(letter_permutation_dict, indent=2))\n",
    "encoded_msg = encode(plaintext_msg, letter_permutation_dict)\n",
    "print('encoded message = {:s}'.format(encoded_msg))"
   ]
  },
  {
   "cell_type": "code",
   "execution_count": null,
   "metadata": {},
   "outputs": [],
   "source": [
    "inverse_letter_permutation_dict = {v: k for k, v in letter_permutation_dict.items()}\n",
    "print('inverse letter permutation dictionary =')\n",
    "print(json.dumps(inverse_letter_permutation_dict, indent=2))\n",
    "recovered_msg = encoded_msg = encode(encoded_msg, inverse_letter_permutation_dict)\n",
    "print('recovered message = {:s}'.format(recovered_msg))"
   ]
  },
  {
   "cell_type": "code",
   "execution_count": null,
   "metadata": {},
   "outputs": [],
   "source": [
    "\"\"\"  From view-source:http://norvig.com/mayzner.html, we get:\n",
    "E 445.2 B  12.49% <img src=\"o.jpg\" height=12 width=374> E\n",
    "T 330.5 B   9.28% <img src=\"o.jpg\" height=12 width=278> T\n",
    "A 286.5 B   8.04% <img src=\"o.jpg\" height=12 width=241> A\n",
    "O 272.3 B   7.64% <img src=\"o.jpg\" height=12 width=229> O\n",
    "I 269.7 B   7.57% <img src=\"o.jpg\" height=12 width=227> I\n",
    "N 257.8 B   7.23% <img src=\"o.jpg\" height=12 width=217> N\n",
    "S 232.1 B   6.51% <img src=\"o.jpg\" height=12 width=195> S\n",
    "R 223.8 B   6.28% <img src=\"o.jpg\" height=12 width=188> R\n",
    "H 180.1 B   5.05% <img src=\"o.jpg\" height=12 width=151> H\n",
    "L 145.0 B   4.07% <img src=\"o.jpg\" height=12 width=122> L\n",
    "D 136.0 B   3.82% <img src=\"o.jpg\" height=12 width=114> D\n",
    "C 119.2 B   3.34% <img src=\"o.jpg\" height=12 width=100> C\n",
    "U  97.3 B   2.73% <img src=\"o.jpg\" height=12 width=81> U\n",
    "M  89.5 B   2.51% <img src=\"o.jpg\" height=12 width=75> M\n",
    "F  85.6 B   2.40% <img src=\"o.jpg\" height=12 width=72> F\n",
    "P  76.1 B   2.14% <img src=\"o.jpg\" height=12 width=64> P\n",
    "G  66.6 B   1.87% <img src=\"o.jpg\" height=12 width=56> G\n",
    "W  59.7 B   1.68% <img src=\"o.jpg\" height=12 width=50> W\n",
    "Y  59.3 B   1.66% <img src=\"o.jpg\" height=12 width=49> Y\n",
    "B  52.9 B   1.48% <img src=\"o.jpg\" height=12 width=44> B\n",
    "V  37.5 B   1.05% <img src=\"o.jpg\" height=12 width=31> V\n",
    "K  19.3 B   0.54% <img src=\"o.jpg\" height=12 width=16> K\n",
    "X   8.4 B   0.23% <img src=\"o.jpg\" height=12 width=7> X\n",
    "J   5.7 B   0.16% <img src=\"o.jpg\" height=12 width=4> J\n",
    "Q   4.3 B   0.12% <img src=\"o.jpg\" height=12 width=3> Q\n",
    "Z   3.2 B   0.09% <img src=\"o.jpg\" height=12 width=2> Z\n",
    "\"\"\""
   ]
  },
  {
   "cell_type": "code",
   "execution_count": null,
   "metadata": {},
   "outputs": [],
   "source": []
  }
 ],
 "metadata": {
  "kernelspec": {
   "display_name": "Python 3",
   "language": "python",
   "name": "python3"
  },
  "language_info": {
   "codemirror_mode": {
    "name": "ipython",
    "version": 3
   },
   "file_extension": ".py",
   "mimetype": "text/x-python",
   "name": "python",
   "nbconvert_exporter": "python",
   "pygments_lexer": "ipython3",
   "version": "3.8.7"
  },
  "toc": {
   "base_numbering": 1,
   "nav_menu": {},
   "number_sections": true,
   "sideBar": true,
   "skip_h1_title": false,
   "title_cell": "Table of Contents",
   "title_sidebar": "Contents",
   "toc_cell": false,
   "toc_position": {},
   "toc_section_display": true,
   "toc_window_display": false
  },
  "varInspector": {
   "cols": {
    "lenName": 16,
    "lenType": 16,
    "lenVar": 40
   },
   "kernels_config": {
    "python": {
     "delete_cmd_postfix": "",
     "delete_cmd_prefix": "del ",
     "library": "var_list.py",
     "varRefreshCmd": "print(var_dic_list())"
    },
    "r": {
     "delete_cmd_postfix": ") ",
     "delete_cmd_prefix": "rm(",
     "library": "var_list.r",
     "varRefreshCmd": "cat(var_dic_list()) "
    }
   },
   "types_to_exclude": [
    "module",
    "function",
    "builtin_function_or_method",
    "instance",
    "_Feature"
   ],
   "window_display": false
  }
 },
 "nbformat": 4,
 "nbformat_minor": 4
}
