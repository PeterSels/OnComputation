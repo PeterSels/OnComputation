{
 "cells": [
  {
   "cell_type": "code",
   "execution_count": null,
   "metadata": {},
   "outputs": [],
   "source": [
    "# ChessCompressConcurrently, the Kijk 1985 chess challenge revisited and made concurrent, for current times' sake"
   ]
  },
  {
   "cell_type": "code",
   "execution_count": null,
   "metadata": {},
   "outputs": [],
   "source": [
    "# set this notebook to use a large part of the browser window width\n",
    "from IPython.core.display import HTML, display\n",
    "display(HTML(\"<style>.container { width:80% !important; }</style>\"))"
   ]
  },
  {
   "cell_type": "markdown",
   "metadata": {
    "heading_collapsed": true
   },
   "source": [
    "# Leveraging our Previous Notebook\n",
    "\n",
    "## Introduction\n",
    "\n",
    "### Previous Chess Compress Challenge from 1985\n",
    "\n",
    "This notebook expands on the ChessCompress.ipynb one. In that notebook we solved the problem of trying to put as many chess pieces on a board without one threatening another.\n",
    "More precisely, we want to maximise the score of the solution of a problem with the mentioned constraints, but where the score is calculated as follows.\n",
    "Each queen and rook get 1/8 points. Each bishop gets 1/14 points. Each king gets 1/16 points and a knight gets 1.32 points. Paws are not allowed in the game.\n",
    "\n",
    "### New Multi-Floor  Chess Compress (Concurrent) Challenge from 2020\n",
    "\n",
    "We present a new take on this problem here, where only the non-threatening constraints are to be respected between pieces of the same family,\n",
    "but pieces of a different family are supposed to not threaten each other, say because they would 'live' on different floors.\n",
    "\n",
    "Code was developed in that other notebook ChessCompress.ipynb, but is repeated here so that it is self-contained and we can independently execute it. \n",
    "So if you want to have more written text to understand the need or rationale for this code refer to this ChessCompress.ipynb notebook.\n",
    "\n",
    "### Code developed in the ChessCompress.ipynb Notebook"
   ]
  },
  {
   "cell_type": "code",
   "execution_count": null,
   "metadata": {
    "hidden": true
   },
   "outputs": [],
   "source": [
    "%%sh\n",
    "pip3 install python-chess"
   ]
  },
  {
   "cell_type": "code",
   "execution_count": null,
   "metadata": {
    "hidden": true
   },
   "outputs": [],
   "source": [
    "import chess\n",
    "board = chess.Board()\n",
    "board"
   ]
  },
  {
   "cell_type": "code",
   "execution_count": null,
   "metadata": {
    "hidden": true
   },
   "outputs": [],
   "source": [
    "def write_board_to_svg(board, filename):\n",
    "    import chess.svg\n",
    "    boardsvg = chess.svg.board(board)\n",
    "    f = open(filename, \"w\")\n",
    "    f.write(boardsvg)\n",
    "    f.close()\n",
    "write_board_to_svg(board, 'OpeningChessBoard.svg')"
   ]
  },
  {
   "cell_type": "code",
   "execution_count": null,
   "metadata": {
    "hidden": true
   },
   "outputs": [],
   "source": [
    "board = chess.Board(\"rnbqkbnr/pppppppp/8/8/4P3/8/PPPP1PPP/RNBQKBNR\")\n",
    "write_board_to_svg(board, 'FirstMoveBoard.svg')\n",
    "board"
   ]
  },
  {
   "cell_type": "code",
   "execution_count": null,
   "metadata": {
    "hidden": true
   },
   "outputs": [],
   "source": [
    "from gurobipy import *\n",
    "import itertools"
   ]
  },
  {
   "cell_type": "code",
   "execution_count": null,
   "metadata": {
    "hidden": true
   },
   "outputs": [],
   "source": [
    "class ChessCompress():\n",
    "    \n",
    "    def __init__(self, dim, piece_to_weight_dict):\n",
    "        self.dim = dim\n",
    "        self.m = Model()\n",
    "        self.board_vars = {}  # dictionary from piece type letter \n",
    "        # to (row, col) tuple to binary solver var. \n",
    "        self.board_vals = {}  # dictionary from piece type letter \n",
    "        # to (row, col) tuple to binary result val.\n",
    "        self.count = {}  # dictionary from piece type letter \n",
    "        # to number of piece fittable\n",
    "        self.add_variables(piece_to_weight_dict)\n",
    "        \n",
    "    def derive_parameters(self, dim):\n",
    "        n_rows = dim\n",
    "        n_cols = dim\n",
    "        rows = list(range(n_rows))\n",
    "        cols = list(range(n_cols))\n",
    "        return n_rows, n_cols, rows, cols\n",
    "\n",
    "    # define the binary core variables\n",
    "    def add_variables(self, piece_to_weight_dict):\n",
    "        n_rows, n_cols, rows, cols = self.derive_parameters(self.dim)\n",
    "        for piece_letter in piece_to_weight_dict:\n",
    "            piece_weight = piece_to_weight_dict[piece_letter]\n",
    "            pieces = {(r, c): -piece_weight \\\n",
    "                      for r, c in itertools.product(rows, cols)}\n",
    "            self.board_vars[piece_letter] = \\\n",
    "                self.m.addVars(pieces.keys(), obj=pieces, \n",
    "                               vtype=GRB.BINARY, name=piece_letter)\n",
    "    \n",
    "    def add_long_range_piece_constraints(\n",
    "        self, from_piece_letter, to_piece_letter, \n",
    "        piece_weight=1.0, user_cuts=True):\n",
    "        \n",
    "        verbose = 0\n",
    "        \n",
    "        from_piece_upper_letter = from_piece_letter.upper()\n",
    "        to_piece_upper_letter = to_piece_letter.upper()\n",
    "\n",
    "        n_rows, n_cols, rows, cols = self.derive_parameters(self.dim)\n",
    "\n",
    "        # These constraints are sufficient to define \n",
    "        # the allowed search space.\n",
    "        vertical_horizontal_dr_list = [ -1,  0, +1,  0] \n",
    "        vertical_horizontal_dc_list = [  0, +1,  0, -1]\n",
    "\n",
    "        diagonal_dr_list = [ -1, +1, +1, -1]\n",
    "        diagonal_dc_list = [ +1, +1, -1, -1]\n",
    "\n",
    "        dr_list = []\n",
    "        dc_list = []\n",
    "        if from_piece_letter in ['q', 'r']:\n",
    "            dr_list.extend(vertical_horizontal_dr_list)\n",
    "            dc_list.extend(vertical_horizontal_dc_list)\n",
    "        if from_piece_letter in ['q', 'b']:\n",
    "            dr_list.extend(diagonal_dr_list) \n",
    "            dc_list.extend(diagonal_dc_list)\n",
    "        if verbose > 0:\n",
    "            print(dr_list)\n",
    "            print(dc_list)\n",
    "        \n",
    "        for r in rows:\n",
    "            for c in cols:\n",
    "                # dr = delta row, cr is delta column\n",
    "                for dr, dc in list(zip(dr_list, dc_list)):\n",
    "                    r_, c_ = r+dr, c+dc\n",
    "                    # while (d+dr, c+dc) square falls within board\n",
    "                    while (r_ <= self.dim-1 and r_ >= 0) \\\n",
    "                        and (c_ <= self.dim-1 and c_ >= 0):  \n",
    "                        constr_name = \\\n",
    "                            'noQBThreat_r{:d}_c{:d}_dr{:d}_dc{:d}'.\\\n",
    "                            format(r, c, dr, dc)\n",
    "                        self.m.addConstr(\\\n",
    "                            self.board_vars[from_piece_letter][r,c] +\\\n",
    "                            self.board_vars[to_piece_letter][r_,c_] <= 1, \n",
    "                            constr_name)\n",
    "                        r_, c_ = r_+dr, c_+dc\n",
    "            \n",
    "        # The next constraints can be optionally added.\n",
    "        # They are 'user cuts' intended to speed up the solving process.\n",
    "        #They do not restrict the search\n",
    "        # space compared to the constraint already defined above.\n",
    "        # The above constraint work on a pair of binary variables,\n",
    "        # while the below 'user cut' ones work for all binary variables\n",
    "        # in a full row, column or diagonal at once.\n",
    "        if (from_piece_letter == to_piece_letter) and user_cuts:\n",
    "            # row-wise constraints\n",
    "            if from_piece_letter in ['q', 'r']:\n",
    "                for r in rows:\n",
    "                    constr_name = \\\n",
    "                        'atMostOne' + from_piece_upper_letter +\\\n",
    "                        'InRow_r{:d}'.format(r)\n",
    "                    self.m.addConstr(\n",
    "                        quicksum(self.board_vars[from_piece_letter][r,c] \\\n",
    "                                 for c in cols) <= 1, \n",
    "                                constr_name)\n",
    "\n",
    "                # column-wise constraints\n",
    "                for c in cols:\n",
    "                    constr_name = 'atMostOne' + \\\n",
    "                    from_piece_upper_letter + \\\n",
    "                    'InCol_c{:d}'.format(c)\n",
    "                    self.m.addConstr(\n",
    "                        quicksum(self.board_vars[from_piece_letter][r,c] \\\n",
    "                                 for r in rows) <= 1, \n",
    "                                     constr_name)\n",
    "\n",
    "            # all diagonal constraints:\n",
    "            if from_piece_letter in ['q', 'b']:\n",
    "                for dr, dc in [(-1, +1), (+1, +1)]:\n",
    "                    if (dr, dc) == (-1, +1):\n",
    "                        # go over diagonals that go RightUp\n",
    "                        # start (r,c) for these diagonals are \n",
    "                        # left border of board and \n",
    "                        start_r_list = rows[1:]\n",
    "                        start_c_list = [0] * (self.dim-1)\n",
    "                        # lower border of board\n",
    "                        start_r_list.extend([self.dim-1] * (self.dim-2))\n",
    "                        start_c_list.extend(cols[1:][:-1])\n",
    "                        constr_name = 'atMostOne' + \\\n",
    "                            from_piece_upper_letter + 'InRightUpDiag'\n",
    "                    else:\n",
    "                        # go over diagonals that go RightD(ow)n\n",
    "                        # start (r,c) for these diagonals are \n",
    "                        # top border of board and\n",
    "                        start_r_list = [0] * (self.dim-1)\n",
    "                        start_c_list = cols[:-1]  # last col dropped \n",
    "                        # since would result in a 1 q var \n",
    "                        # constraint <=1 which is redundant.\n",
    "                        # left border of board\n",
    "                        start_r_list.extend(rows[1:][:-1])\n",
    "                        start_c_list.extend([0] * (self.dim-2))\n",
    "                        constr_name = 'atMostOne' + \\\n",
    "                            from_piece_upper_letter + 'InRightDnDiag'\n",
    "\n",
    "                    if verbose > 0:\n",
    "                        print(constr_name + ':')\n",
    "                        print('  for start_r range: [' + ','.\\\n",
    "                              join([str(i) for i in start_r_list]) + ']')\n",
    "                        print('  for start_c range: [' + ','.\\\n",
    "                              join([str(i) for i in start_c_list]) + ']')\n",
    "                    assert len(start_r_list) == len(start_c_list)\n",
    "                    for start_r, start_c in list(zip(start_r_list, \n",
    "                                                     start_c_list)): \n",
    "                        r, c = start_r, start_c\n",
    "                        expr = LinExpr(0)\n",
    "                        while (c >= 0 and c <= self.dim-1) and\\\n",
    "                        (r >= 0 and r <= self.dim-1):\n",
    "                            if verbose > 0:\n",
    "                                print(r,c)\n",
    "                            expr += self.board_vars[from_piece_letter][r,c]\n",
    "                            r += dr\n",
    "                            c += dc\n",
    "                        if verbose > 0:\n",
    "                            print('---')\n",
    "                        self.m.addConstr(expr <= 1, \n",
    "                                         constr_name + \\\n",
    "                                         '_rs{:d}cs{:d}'.format(r,c))\n",
    "\n",
    "    def set_solver_output(self, bool):\n",
    "        self.m.setParam('OutputFlag', bool)\n",
    "        \n",
    "    def set_time_limit(self, time_limit_in_seconds):\n",
    "        self.m.setParam('TimeLimit', time_limit_in_seconds)             \n",
    "            \n",
    "    def solve_model(self):\n",
    "        # minimise the objective function the model \n",
    "        # Since coefficients in the objective are negative this will try to \n",
    "        # maximize the number of queens in the board.\n",
    "        self.m.optimize()\n",
    "\n",
    "        # retrieve solution\n",
    "        for piece_letter in self.board_vars:\n",
    "            self.board_vals[piece_letter] = \\\n",
    "                self.m.getAttr('x', self.board_vars[piece_letter])\n",
    "            # the board_vals represent the board solutions \n",
    "            # without any solver specific encoding\n",
    "            self.count[piece_letter] = 0\n",
    "            for r,c in self.board_vals[piece_letter]:\n",
    "                if self.board_vals[piece_letter][r,c]==1:\n",
    "                    self.count[piece_letter] += 1            \n",
    "                \n",
    "        n_different_piece_letters = len(self.board_vars.keys())        \n",
    "        if n_different_piece_letters == 1:\n",
    "            assert self.count[piece_letter] == \\\n",
    "                -int(self.m.getObjective().getValue())\n",
    "        \n",
    "    def get_objective_value(self):\n",
    "        return self.m.getObjective().getValue()\n",
    "\n",
    "    def get_mip_gap(self):\n",
    "        return self.m.getAttr('MIPGap')\n",
    "            \n",
    "    def get_letter(self, r, c):\n",
    "        vals = self.board_vals\n",
    "        found_letter = ' ' # means nothing found yet, so empty square\n",
    "        for letter in vals:\n",
    "            val = int(vals[letter][(r,c)])\n",
    "            if val == 1:\n",
    "                assert found_letter == ' '  # can only find one letter thanks to \n",
    "                # add_at_most_a_piece_per_square_constraints being called before\n",
    "                found_letter = letter\n",
    "                # keep checking that no other letter is found as well\n",
    "        return found_letter\n",
    "        \n",
    "    def encode_to_fen_board_string(self, capitals_for_white=False):\n",
    "        vals = self.board_vals\n",
    "        n_rows, n_cols, rows, cols = self.derive_parameters(self.dim)\n",
    "        s = ''\n",
    "        space = ' '\n",
    "        for r in rows:\n",
    "            for c in cols:  # we assume these couples  lexically sorted\n",
    "                letter = self.get_letter(r,c)\n",
    "                bw_letter = letter.upper() if capitals_for_white else letter\n",
    "                if self.dim == 8:  # then we keep to the standard fen format \n",
    "                    # since we can use chess.Board(on it) later\n",
    "                    if letter != ' ':\n",
    "                        s += bw_letter\n",
    "                    else:\n",
    "                        assert letter == ' '\n",
    "                        if (len(s) == 0):\n",
    "                            s = '1'\n",
    "                        elif s[-1] in ['1','2','3','4','5','6','7','8','9']:\n",
    "                            s = s[:-1] + str(int(s[-1])+1)\n",
    "                        else:  # increment last digit of s\n",
    "                            s += '1'\n",
    "\n",
    "                    if c == self.dim-1:\n",
    "                        if r != self.dim-1:\n",
    "                            s += '/'\n",
    "                else: # The additional 'space' here is \n",
    "                    # there to end up with square boards\n",
    "                    if letter != ' ':\n",
    "                        s += bw_letter + space\n",
    "                    else:\n",
    "                        assert letter == ' '\n",
    "                        s += '.' + space\n",
    "                        \n",
    "                    if c == self.dim-1:\n",
    "                        if r != self.dim-1:\n",
    "                            s += '\\n'\n",
    "\n",
    "        return s"
   ]
  },
  {
   "cell_type": "markdown",
   "metadata": {
    "hidden": true
   },
   "source": [
    "## Queens only Problem"
   ]
  },
  {
   "cell_type": "code",
   "execution_count": null,
   "metadata": {
    "hidden": true
   },
   "outputs": [],
   "source": [
    "cc_queens = ChessCompress(8, {'q' : 1.0})\n",
    "cc_queens.add_long_range_piece_constraints('q', 'q')\n",
    "cc_queens.set_solver_output(True)\n",
    "cc_queens.solve_model()\n",
    "print('I could maximally fit {:d} queens on the chess board.'.\\\n",
    "      format(cc_queens.count['q']))\n",
    "n_queens = cc_queens.count['q']\n",
    "\n",
    "board_string = \\\n",
    "    cc_queens.encode_to_fen_board_string(capitals_for_white=True)\n",
    "print(board_string)\n",
    "board8Q = chess.Board(board_string)\n",
    "write_board_to_svg(board8Q, 'EightQueensBoard.svg')\n",
    "board8Q"
   ]
  },
  {
   "cell_type": "markdown",
   "metadata": {
    "hidden": true
   },
   "source": [
    "## Rooks only Problem"
   ]
  },
  {
   "cell_type": "code",
   "execution_count": null,
   "metadata": {
    "hidden": true
   },
   "outputs": [],
   "source": [
    "cc_rooks = ChessCompress(8, {'r':1.0})\n",
    "cc_rooks.add_long_range_piece_constraints('r', 'r')\n",
    "cc_rooks.m.setParam('OutputFlag', False)\n",
    "cc_rooks.solve_model()\n",
    "print('I could maximally fit {:d} rooks on the chess board.'.\\\n",
    "      format(cc_rooks.count['r']))\n",
    "n_rooks = cc_rooks.count['r']\n",
    "\n",
    "board_string = \\\n",
    "    cc_rooks.encode_to_fen_board_string(capitals_for_white=True)\n",
    "print(board_string)\n",
    "board8R = chess.Board(board_string)\n",
    "\n",
    "write_board_to_svg(board8R, 'EightRooksBoard.svg')\n",
    "board8R"
   ]
  },
  {
   "cell_type": "markdown",
   "metadata": {
    "hidden": true
   },
   "source": [
    "## Bishops only Problem"
   ]
  },
  {
   "cell_type": "code",
   "execution_count": null,
   "metadata": {
    "hidden": true
   },
   "outputs": [],
   "source": [
    "cc_bishops = ChessCompress(8, {'b': 1.0})\n",
    "cc_bishops.add_long_range_piece_constraints('b','b')\n",
    "cc_bishops.m.setParam('OutputFlag', False)\n",
    "cc_bishops.solve_model()\n",
    "print('I could maximally fit {:d} bishops on the chess board.'.\\\n",
    "      format(cc_bishops.count['b']))\n",
    "n_bishops = cc_bishops.count['b']\n",
    "\n",
    "board_string = \\\n",
    "    cc_bishops.encode_to_fen_board_string(\\\n",
    "        capitals_for_white=True)\n",
    "print(board_string)\n",
    "board16B = chess.Board(board_string)\n",
    "\n",
    "write_board_to_svg(board16B, 'SixteenBishopsBoard.svg')\n",
    "board16B"
   ]
  },
  {
   "cell_type": "markdown",
   "metadata": {
    "hidden": true
   },
   "source": [
    "## Kings only Problem"
   ]
  },
  {
   "cell_type": "code",
   "execution_count": null,
   "metadata": {
    "hidden": true
   },
   "outputs": [],
   "source": [
    "class ChessCompress(ChessCompress):  # extend the class\n",
    "    \n",
    "    def add_kings_constraints(self, to_piece_letter, \n",
    "                              piece_weight=1.0):\n",
    "        n_rows, n_cols, rows, cols = self.derive_parameters(self.dim)\n",
    "        kings = {(r, c): -piece_weight for r, \n",
    "                 c in itertools.product(rows, cols)}\n",
    "\n",
    "        n_rows, n_cols, rows, cols = \\\n",
    "            self.derive_parameters(self.dim)\n",
    "        kings = {(r, c): -piece_weight for r, \n",
    "                 c in itertools.product(rows, cols)}\n",
    "\n",
    "        for r in rows:\n",
    "            for c in cols:\n",
    "                # dr = delta row, cr is delta column\n",
    "                dr_list = [ -1,  0, +1, +1, +1, 0, -1, -1]\n",
    "                dc_list = [ +1, +1, +1,  0, -1, -1, -1, 0]\n",
    "                for dr, dc in list(zip(dr_list, dc_list)):\n",
    "                    if (r+dr <= self.dim-1 and r+dr >= 0) \\\n",
    "                        and (c+dc <= self.dim-1 and c+dc >= 0):  \n",
    "                        # if (d+dr, c+dc) square falls within board\n",
    "                        constr_name = \\\n",
    "                            'noKingsThreat_r{:d}_c{:d}_dr{:d}_dc{:d}'.\\\n",
    "                        format(r, c, dr, dc)\n",
    "                        self.m.addConstr(\n",
    "                            self.board_vars['k'][r,c] + \n",
    "                            self.board_vars[to_piece_letter][r+dr,c+dc] <= 1, \n",
    "                            constr_name)\n",
    "\n",
    "cc_kings = ChessCompress(8, {'k':1.0})\n",
    "cc_kings.add_kings_constraints('k')\n",
    "cc_kings.m.setParam('OutputFlag', False)\n",
    "cc_kings.solve_model()\n",
    "print('I could maximally fit {:d} kings on the chess board.'.\n",
    "      format(cc_kings.count['k']))\n",
    "board_string = \\\n",
    "    cc_kings.encode_to_fen_board_string(capitals_for_white=True)\n",
    "n_kings = cc_kings.count['k']\n",
    "\n",
    "print(board_string)\n",
    "board16K = chess.Board(board_string)\n",
    "\n",
    "write_board_to_svg(board16K, 'SixteenKingsBoard.svg')\n",
    "board16K"
   ]
  },
  {
   "cell_type": "markdown",
   "metadata": {
    "hidden": true
   },
   "source": [
    "## Knights only Problem"
   ]
  },
  {
   "cell_type": "code",
   "execution_count": null,
   "metadata": {
    "hidden": true
   },
   "outputs": [],
   "source": [
    "class ChessCompress(ChessCompress):  # extend the class\n",
    "    \n",
    "    def add_knights_constraints(self, to_piece_letter, piece_weight=1.0):\n",
    "        verbose = 0\n",
    "\n",
    "        n_rows, n_cols, rows, cols = self.derive_parameters(self.dim)\n",
    "        kings = {(r, c): -piece_weight for r, c in itertools.product(rows, cols)}\n",
    "\n",
    "        # define the basic Constraints\n",
    "\n",
    "        # row-wise constraints\n",
    "        for r in rows:\n",
    "            for c in cols:\n",
    "                # dr = delta row, cr is delta column\n",
    "                dr_list = [-2, -1, +1, +2, +2, +1, -1, -2]\n",
    "                dc_list = [+1, +2, +2, +1, -1, -2, -2, -1]\n",
    "                for dr, dc in list(zip(dr_list, dc_list)):\n",
    "                    if (r+dr <= self.dim-1 and r+dr >= 0) \\\n",
    "                        and (c+dc <= self.dim-1 and c+dc >= 0):  \n",
    "                        # if (d+dr, c+dc) square falls within board\n",
    "                        constr_name = \\\n",
    "                            'noTwoNWithinSingleJump_r{:d}_c{:d}_dr{:d}_dc{:d}'.\\\n",
    "                            format(r, c, dr, dc)\n",
    "                        self.m.addConstr(\n",
    "                            self.board_vars['n'][r,c] + \n",
    "                            self.board_vars[to_piece_letter][r+dr,c+dc] <= 1, \n",
    "                            constr_name)\n",
    "\n",
    "cc_knights = ChessCompress(8, {'n':1.0})\n",
    "cc_knights.add_knights_constraints('n')\n",
    "cc_knights.m.setParam('OutputFlag', False)\n",
    "cc_knights.solve_model()\n",
    "print('I could maximally fit {:d} knights on the chess board.'.\n",
    "      format(cc_knights.count['n']))\n",
    "print('The board setup scores {:f}.'.format(-cc_knights.get_objective_value()))\n",
    "\n",
    "board_string = cc_knights.encode_to_fen_board_string(capitals_for_white=True)\n",
    "n_knights = cc_knights.count['n']\n",
    "print(board_string)\n",
    "board32N = chess.Board(board_string)\n",
    "\n",
    "write_board_to_svg(board32N, 'ThirtyTwoKnightsBoard.svg')\n",
    "board32N"
   ]
  },
  {
   "cell_type": "markdown",
   "metadata": {
    "hidden": true
   },
   "source": [
    "So 32 knights is the maximum fittable on a board, so they get the weight of 1/32 in the final problem. They are on (all) the squares of one color only, white here, but another solution would be for them on all the black squares. \n",
    "\n",
    "Let's summarize by writing a function that calculates all the weights for a given board dimension."
   ]
  },
  {
   "cell_type": "code",
   "execution_count": null,
   "metadata": {
    "hidden": true
   },
   "outputs": [],
   "source": [
    "def calculate_piece_weights(dim, user_cuts=True, \n",
    "                            capitals_for_white=True, solver_output=False):\n",
    "    weights = {}\n",
    "    boards = {}\n",
    "    \n",
    "    cc = ChessCompress(dim, {'k':1.0})\n",
    "    cc.add_kings_constraints('k')\n",
    "    cc.set_solver_output(solver_output)\n",
    "    cc.solve_model()\n",
    "    \n",
    "    weights['k'] = 1/(-cc.get_objective_value())\n",
    "    s = cc.encode_to_fen_board_string(capitals_for_white)\n",
    "    boards['k'] = chess.Board(s) if dim == 8 else HTML(s)\n",
    "    for piece_letter in ['q', 'b', 'r']:\n",
    "        cc = ChessCompress(dim, {piece_letter:1.0})\n",
    "        cc.add_long_range_piece_constraints(piece_letter, piece_letter, \n",
    "                                            {piece_letter:1.0}, user_cuts)\n",
    "        cc.set_solver_output(solver_output)\n",
    "        cc.solve_model()\n",
    "        weights[piece_letter] = 1/(-cc.get_objective_value())\n",
    "        s = cc.encode_to_fen_board_string(capitals_for_white)\n",
    "        boards[piece_letter] = chess.Board(s) if dim == 8 else HTML(s)\n",
    "\n",
    "    cc = ChessCompress(dim, {'n':1.0})\n",
    "    cc.add_knights_constraints('n')\n",
    "    cc.set_solver_output(solver_output)\n",
    "    cc.solve_model()\n",
    "    weights['n'] = 1/(-cc.get_objective_value())\n",
    "    s = cc.encode_to_fen_board_string(capitals_for_white)\n",
    "    boards['n'] = chess.Board(s) if dim == 8 else HTML(s)\n",
    "     \n",
    "    return weights, boards\n",
    "\n",
    "weights_dim8, boards = calculate_piece_weights(8, user_cuts=True, \n",
    "                                               capitals_for_white=False)\n",
    "for key, val in weights_dim8.items():\n",
    "    print(key, int(1/val))\n",
    "print(weights_dim8)"
   ]
  },
  {
   "cell_type": "markdown",
   "metadata": {},
   "source": [
    "# The 2020 Problem, a Manual Solving Attempt\n",
    "\n",
    "If you think it's fun to first try and aim to come up with some as good as possible solutions (optimal or not) without algorithms, \n",
    "here we go. Combining the horses only solution with the bishops only solution, we get this solution."
   ]
  },
  {
   "cell_type": "code",
   "execution_count": null,
   "metadata": {},
   "outputs": [],
   "source": [
    "fen = \"NBN1N1N1/1N1N1N1N/N1N1N1NB/1N1N1N1N/N1N1N1NB/1N1N1N1N/N1N1N1N1/BN1N1NBN\"\n",
    "board = chess.Board(fen)\n",
    "write_board_to_svg(board, 'ChessCompressConcurrentPeter1Board.svg')\n",
    "board"
   ]
  },
  {
   "cell_type": "markdown",
   "metadata": {},
   "source": [
    "It's a bit exhausting, error prone and boring for a human to calculate the score, but I imagine that for a computer, it must be fun. :)\n",
    "So let's write a function to do that based on the fen string and the piece weights as the two function inputs."
   ]
  },
  {
   "cell_type": "code",
   "execution_count": null,
   "metadata": {},
   "outputs": [],
   "source": [
    "def calculate_score(fen, weights_dim8):\n",
    "    score = 0.0\n",
    "    for c in fen:\n",
    "        c = c.lower()\n",
    "        if c in weights_dim8.keys():\n",
    "            score += weights_dim8[c]\n",
    "        \n",
    "    return score\n",
    "\n",
    "calculate_score(fen, weights_dim8)"
   ]
  },
  {
   "cell_type": "markdown",
   "metadata": {},
   "source": [
    "# The 2020 Problem, Solved to Optimality by Integer Programming\n",
    "\n",
    "## Teams, assume position, all Piece Types get Equal Score 1\n",
    "\n",
    "Hmm, shall we try to piece things together? \n",
    "Surely we still have to add a constraint saying that any square can contain at most one chess piece.\n",
    "\n",
    "### Plain Vanilla Model, no user cuts"
   ]
  },
  {
   "cell_type": "code",
   "execution_count": null,
   "metadata": {},
   "outputs": [],
   "source": [
    "class ChessCompress(ChessCompress):  # extend the class\n",
    "\n",
    "    def add_at_most_a_piece_per_square_constraints(self):\n",
    "        n_rows, n_cols, rows, cols = self.derive_parameters(self.dim)\n",
    "        for r in rows:\n",
    "            for c in cols:\n",
    "                constr_name = \\\n",
    "                'atMostOnePiecePerSquare_r{:d}_c{:d}'.format(r, c)\n",
    "                self.m.addConstr(\n",
    "                    quicksum(self.board_vars[letter][r,c] \n",
    "                             for letter in self.board_vars) <= 1, \n",
    "                    constr_name)"
   ]
  },
  {
   "cell_type": "code",
   "execution_count": null,
   "metadata": {},
   "outputs": [],
   "source": [
    "def max_pieces_on_board_forbidding_threat_within_own_type_only(\n",
    "    piece_weights, user_cuts=False, solver_output=False):\n",
    "    \n",
    "    cc_all = ChessCompress(8, piece_weights)\n",
    "    for piece_letter in ['q', 'b', 'r']:\n",
    "        cc_all.add_long_range_piece_constraints(\n",
    "            piece_letter, piece_letter,\n",
    "            piece_weights[piece_letter], user_cuts)\n",
    "    cc_all.add_kings_constraints('k')\n",
    "    cc_all.add_knights_constraints('n')\n",
    "    cc_all.add_at_most_a_piece_per_square_constraints()\n",
    "    cc_all.set_solver_output(solver_output)\n",
    "    cc_all.solve_model()\n",
    "    solver_time_in_seconds = cc_all.m.getAttr('Runtime')\n",
    "    print('Needed {:f} seconds to find optimal solution.'.format(\n",
    "        solver_time_in_seconds))\n",
    "    print('I could maximally fit {:d} queens, {:d} kings, {:d} bishops,'.\n",
    "          format(cc_all.count['q'], cc_all.count['k'], cc_all.count['b']))\n",
    "    print('  {:d} knights and {:d} rooks together on the chess board.'.\n",
    "          format(cc_all.count['n'], cc_all.count['r']))\n",
    "\n",
    "    print('The board setup scores {:f}.'.format(-cc_all.get_objective_value()))\n",
    "\n",
    "    board_string = cc_all.encode_to_fen_board_string(capitals_for_white=True)\n",
    "    print(board_string)\n",
    "    board = chess.Board(board_string)\n",
    "    return board\n",
    "\n",
    "# For now we assume here that each piece gets a score of 1.\n",
    "max_pieces_board = max_pieces_on_board_forbidding_threat_within_own_type_only(\n",
    "    piece_weights={'q':1, 'k':1, 'b':1, 'r':1, 'n':1}, \n",
    "    user_cuts=False)\n",
    "\n",
    "\n",
    "write_board_to_svg(max_pieces_board, 'MaxPiecesBoard.svg')\n",
    "max_pieces_board"
   ]
  },
  {
   "cell_type": "markdown",
   "metadata": {},
   "source": [
    "Now that's surprising: 63 pieces could be fit but nothing in the last square. Verified with our score calculating function, the score of this solution is indeed 63."
   ]
  },
  {
   "cell_type": "code",
   "execution_count": null,
   "metadata": {},
   "outputs": [],
   "source": [
    "equal_one_weights = {'k': 1.0, 'q': 1.0, 'b': 1.0, 'r': 1.0, 'n': 1.0}\n",
    "calculate_score(\"NKBKNKNR/RNBNQNBB/NQNKNKNK/KBRN1QBN/NBNRNKNK/KBKNRBQN/NRNQNBNK/KNKNKNRN\", equal_one_weights)"
   ]
  },
  {
   "cell_type": "markdown",
   "metadata": {},
   "source": [
    "### Improving Time to Optimal Solution by Adding  User Cuts\n",
    "\n",
    "The above problem takes 88 seconds to solve on my laptop. Maybe this time can be improved with adding the above mentioned user cuts. Let's try."
   ]
  },
  {
   "cell_type": "code",
   "execution_count": null,
   "metadata": {},
   "outputs": [],
   "source": [
    "max_pieces_user_cuts_board = max_pieces_on_board_forbidding_threat_within_own_type_only(\n",
    "    piece_weights={'q':1, 'k':1, 'b':1, 'r':1, 'n':1}, \n",
    "    user_cuts=True)\n",
    "\n",
    "write_board_to_svg(max_pieces_user_cuts_board, 'MaxPiecesUserCutsBoard.svg')\n",
    "max_pieces_user_cuts_board"
   ]
  },
  {
   "cell_type": "markdown",
   "metadata": {},
   "source": [
    "Yes! We only need about 7 seconds when including the user cuts. So this shows how big an effect this can have. In fact user cuts in business questions can come from business logic. It is something the solver cannot automatically identify, but the human modeler can add by having some higher level insight.\n",
    "\n",
    "The solution has of course the same 'quality', objective function value -63 as the previous one without user cuts, but it need not be the same, and indeed here it isn't. Such is the nature of user cuts.\n",
    "Let's double check our score just to be sure."
   ]
  },
  {
   "cell_type": "code",
   "execution_count": null,
   "metadata": {},
   "outputs": [],
   "source": [
    "calculate_score(\"KNKNKNRN/NRNBNQNK/KNKNKNBQ/NQN1NRNK/KNKNRNQN/BBQRNKNK/KNRBBNBN/NNNKNKBR\", equal_one_weights)"
   ]
  },
  {
   "cell_type": "markdown",
   "metadata": {},
   "source": [
    "Okay, that's correct, since the score should equal the number of pieces on the board here.\n",
    "\n",
    "## Adding the Correct Weights per Chess Piece\n",
    "\n",
    "For now, we have weighted pieces with the same weight 1. Maybe if we weigh them differently, we get a different solution or even structure. Let's try."
   ]
  },
  {
   "cell_type": "markdown",
   "metadata": {},
   "source": [
    "### Plain Vanilla Model, Without User Cuts\n",
    "\n",
    "Let's try again first without user cuts, to see how long it takes Gurobi."
   ]
  },
  {
   "cell_type": "code",
   "execution_count": null,
   "metadata": {},
   "outputs": [],
   "source": [
    "max_weighted_pieces_board = max_pieces_on_board_forbidding_threat_within_own_type_only(\n",
    "    piece_weights=weights_dim8, \n",
    "    user_cuts=False)\n",
    "\n",
    "write_board_to_svg(max_weighted_pieces_board, 'MaxWeightedPiecesBoard.svg')\n",
    "max_weighted_pieces_board"
   ]
  },
  {
   "cell_type": "markdown",
   "metadata": {},
   "source": [
    "Ha, by introduction of these different weights we get that the optimal solution does not contain 63 pieces anymore but only 61. The solver cannot improve the solution by putting any piece on the leftover 3 squares. Double checking with weights all equal to 1 gives "
   ]
  },
  {
   "cell_type": "code",
   "execution_count": null,
   "metadata": {},
   "outputs": [],
   "source": [
    "optimal_2020_fen = \"KBBQKBRB/N1KRNQNK/KN1NRKBQ/BQNKNRNK/BKRN1NQB/QRNKNKNK/BNQNBNBR/RKBKQKBK\"\n",
    "calculate_score(optimal_2020_fen, equal_one_weights)"
   ]
  },
  {
   "cell_type": "markdown",
   "metadata": {},
   "source": [
    "indeed.\n",
    "\n",
    "\n",
    "Double checking the score, but now with the different weights, gives"
   ]
  },
  {
   "cell_type": "code",
   "execution_count": null,
   "metadata": {},
   "outputs": [],
   "source": [
    "calculate_score(optimal_2020_fen, weights_dim8)"
   ]
  },
  {
   "cell_type": "markdown",
   "metadata": {},
   "source": [
    "indeed.\n",
    "\n",
    "### Improving Time to Optimal Solution by Adding  User Cuts\n",
    "\n",
    "Let's try again with user cuts, to see if this speeds up Gurobi, also in this weighted case."
   ]
  },
  {
   "cell_type": "code",
   "execution_count": null,
   "metadata": {},
   "outputs": [],
   "source": [
    "max_weighted_pieces_User_cuts_board = max_pieces_on_board_forbidding_threat_within_own_type_only(\n",
    "    piece_weights=weights_dim8, \n",
    "    user_cuts=True)\n",
    "\n",
    "write_board_to_svg(max_weighted_pieces_User_cuts_board, 'MaxWeightedPiecesUserCutsBoard.svg')\n",
    "max_weighted_pieces_User_cuts_board"
   ]
  },
  {
   "cell_type": "markdown",
   "metadata": {},
   "source": [
    "So this is again a solution with 'the same' 63 pieces but not the same positioning as found without user cuts."
   ]
  },
  {
   "cell_type": "code",
   "execution_count": null,
   "metadata": {},
   "outputs": [],
   "source": [
    "optimal_2020_fen = \"KNKBBQBR/B1NQKRNK/BK1NRNQB/QRNKNKNK/KNRN1NBQ/BQKRNKNK/RNBNQNBB/BKQKBKRK\"\n",
    "calculate_score(optimal_2020_fen, equal_one_weights)"
   ]
  },
  {
   "cell_type": "markdown",
   "metadata": {},
   "source": [
    "and with the correct different weights"
   ]
  },
  {
   "cell_type": "code",
   "execution_count": null,
   "metadata": {},
   "outputs": [],
   "source": [
    "calculate_score(optimal_2020_fen, weights_dim8)"
   ]
  },
  {
   "cell_type": "markdown",
   "metadata": {},
   "source": [
    "So this is an optimal solution to the 2020 ChessCompressConcurrent challenge.\n",
    "The top score, given by this solution found by Gurobi is $4.428571$. \n",
    "Gurobi says: \"No other solutions better than -4.428571\" and that means it has proven this solution is optimal. \n",
    "To be totally exact about the final number, we can express it in rational number notation.\n",
    "\n",
    "The $8$ queens give score $8/8=1$, 16 kings give $16/16=1$, 13 bishops give $13/14$, 16 knights give $16/32=1/2$ and 8 rooks give $8/8=1$\n",
    "together that makes 1 + 1 + (1-1/14) + 1/2 + 1 = 5.5 - 1/14 = 9/2 -1/14 = (9*7 - 1)/14 = 62/14.\n",
    "\n",
    "So this takes about 19 seconds on my laptop with the same user cuts, compared to about 53 seconds without user cuts.\n",
    "A significant improvement again.\n",
    "\n",
    "### Analysing the Structure of the Optimal Solution\n",
    "\n",
    "There are some remarkable properties to be found in the optimal solution.\n",
    "\n",
    "First, there are many piece types that score a full one (queens, kings and rooks). So these make up a combined score of 3.\n",
    "Then the combined score of the knights is 16/32, so we can only put half of the number of knight (32) compared to the case where no other pieces would be allowed.\n",
    "For the bishops we just have 13 i.o. 14.\n",
    "So are the sub-structures formed per type of piece quite similar to the structures of the optimal solution to the problems of the solution with one allowed piece type only?\n",
    "We guess they must be. But a human cannot easily separate the combined solution into the per piece type sub-solutions.\n",
    "A computer can (when taught)."
   ]
  },
  {
   "cell_type": "code",
   "execution_count": null,
   "metadata": {},
   "outputs": [],
   "source": [
    "def get_subsolution_fen_and_subscore(fen, weights_dim8, piece_type):\n",
    "    terminated_fen = fen + '/'\n",
    "    digits = [str(x) for x in list(range(0,10))]  # from 0 to 9\n",
    "    sub_fen = ''\n",
    "    sub_score = 0.0\n",
    "    accumulated_read_not_yet_written_pieces_in_current_row = 0\n",
    "\n",
    "    assert piece_type in weights_dim8.keys()                        \n",
    "    unit_piece_type_score = weights_dim8[piece_type]\n",
    "\n",
    "    row_fen = ''\n",
    "    for c in terminated_fen:\n",
    "        c_lower = c.lower()\n",
    "        if c_lower in digits:\n",
    "            accumulated_read_not_yet_written_pieces_in_current_row += int(c_lower)\n",
    "        elif c_lower!=piece_type and c_lower != '/':\n",
    "            assert c_lower in ['q', 'k', 'b', 'n', 'r']\n",
    "            assert c_lower != piece_type\n",
    "            accumulated_read_not_yet_written_pieces_in_current_row += 1            \n",
    "        elif c_lower==piece_type:\n",
    "            if accumulated_read_not_yet_written_pieces_in_current_row >= 1:\n",
    "                row_fen += str(accumulated_read_not_yet_written_pieces_in_current_row)                \n",
    "                accumulated_read_not_yet_written_pieces_in_current_row = 0  # reset\n",
    "            row_fen += c  # don't change color compared to fen\n",
    "            sub_score += unit_piece_type_score\n",
    "        elif c_lower == '/':\n",
    "            if accumulated_read_not_yet_written_pieces_in_current_row >= 1:\n",
    "                row_fen += str(accumulated_read_not_yet_written_pieces_in_current_row)                            \n",
    "                accumulated_read_not_yet_written_pieces_in_current_row = 0  # reset\n",
    "            row_fen += '/'\n",
    "            sub_fen += row_fen\n",
    "            row_fen = ''  \n",
    "        else:\n",
    "            assert False\n",
    "        \n",
    "    return sub_fen[:-1], sub_score # [:-1] drops last added '/'\n",
    "\n",
    "def show_filtered_out_score_and_board(fen, weights_dim8, piece_type):\n",
    "    sub_fen, sub_score = get_subsolution_fen_and_subscore(fen, weights_dim8, piece_type)\n",
    "    print('sub_fen: ' + sub_fen)\n",
    "    print('sub_score: {:f}'.format(sub_score))\n",
    "    return chess.Board(sub_fen)"
   ]
  },
  {
   "cell_type": "markdown",
   "metadata": {},
   "source": [
    "Calling this function for queens, we get"
   ]
  },
  {
   "cell_type": "code",
   "execution_count": null,
   "metadata": {},
   "outputs": [],
   "source": [
    "board = show_filtered_out_score_and_board(optimal_2020_fen, weights_dim8, 'q')\n",
    "write_board_to_svg(board, 'CCC_optimal_board_filtered_q.svg')\n",
    "board"
   ]
  },
  {
   "cell_type": "markdown",
   "metadata": {},
   "source": [
    "Note that this is an optimal solution for the maximum (=eight) queens (and no other pieces) problem, and even one possessing some symmetry.\n",
    "\n",
    "Filtering out the the kings, we get"
   ]
  },
  {
   "cell_type": "code",
   "execution_count": null,
   "metadata": {},
   "outputs": [],
   "source": [
    "board = show_filtered_out_score_and_board(optimal_2020_fen, weights_dim8, 'k')\n",
    "write_board_to_svg(board, 'CCC_optimal_board_filtered_k.svg')\n",
    "board"
   ]
  },
  {
   "cell_type": "markdown",
   "metadata": {},
   "source": [
    "This is an optimal kings only solution as well, but not the one Gurobi finds with 4 kings in 4 corners of the board. So it is adapted because of the presence of other pieces, but its score does not get lowered by it."
   ]
  },
  {
   "cell_type": "markdown",
   "metadata": {},
   "source": [
    "For the rooks, we get"
   ]
  },
  {
   "cell_type": "code",
   "execution_count": null,
   "metadata": {},
   "outputs": [],
   "source": [
    "board = show_filtered_out_score_and_board(optimal_2020_fen, weights_dim8, 'r')\n",
    "write_board_to_svg(board, 'CCC_optimal_board_filtered_r.svg')\n",
    "board"
   ]
  },
  {
   "cell_type": "markdown",
   "metadata": {},
   "source": [
    "The diagonal is used for 6 out of 8 rooks, where it was used by the optimal Gurobi solution for all the rooks in the rook only problem. But this solution also scores 1."
   ]
  },
  {
   "cell_type": "markdown",
   "metadata": {},
   "source": [
    "For the bishops, we get"
   ]
  },
  {
   "cell_type": "code",
   "execution_count": null,
   "metadata": {},
   "outputs": [],
   "source": [
    "board = show_filtered_out_score_and_board(optimal_2020_fen, weights_dim8, 'b')\n",
    "write_board_to_svg(board, 'CCC_optimal_board_filtered_b.svg')\n",
    "board"
   ]
  },
  {
   "cell_type": "markdown",
   "metadata": {},
   "source": [
    "So for the bishops we have one less piece then in an optimal solution to the bishops only problem.\n",
    "\n",
    "For the kights"
   ]
  },
  {
   "cell_type": "code",
   "execution_count": null,
   "metadata": {},
   "outputs": [],
   "source": [
    "board = show_filtered_out_score_and_board(optimal_2020_fen, weights_dim8, 'n')\n",
    "write_board_to_svg(board, 'CCC_optimal_board_filtered_n.svg')\n",
    "board"
   ]
  },
  {
   "cell_type": "markdown",
   "metadata": {},
   "source": [
    "So we have only half the number of knights compared to the optimal solution to the knight only problem. They are still all on one square color though,\n",
    "so that much is left of 'the pattern'."
   ]
  },
  {
   "cell_type": "markdown",
   "metadata": {},
   "source": [
    "All in all, I think it's remarkable that the score of the combined problem is so high."
   ]
  },
  {
   "cell_type": "markdown",
   "metadata": {},
   "source": [
    "$\\square$"
   ]
  },
  {
   "cell_type": "code",
   "execution_count": null,
   "metadata": {},
   "outputs": [],
   "source": [
    "# The following code will convert all the svg files to png files, \n",
    "# for example to be used in a Medium article. :)\n",
    "import os\n",
    "import glob\n",
    "svg_list = glob.glob('*.svg')\n",
    "print(svg_list)\n",
    "for svg in svg_list:\n",
    "    png = svg.replace('.svg', '.png')\n",
    "    cmd = 'rsvg-convert -h 320 {:s} > {:s}'.format(svg, png)\n",
    "    print(cmd)\n",
    "    os.system(cmd)"
   ]
  },
  {
   "cell_type": "markdown",
   "metadata": {},
   "source": [
    "# Conclusions\n",
    "\n",
    "\n",
    "## Time to Optimal Solution\n",
    "\n",
    "The right user cuts seem to speed up solving these problems to optimality. The extent to which can apparently depend on weights in the objective function.\n",
    "Indeed when weights of pieces were all 1, adding user cuts lowered solution time from 88 to 7 seconds, but when weights were 1/n with n the maximum possible pieces of its chess piece type possible to put on a chess board without threats, the \n",
    "time to optimal solution by just adding user cuts went down from 55 to 19 seconds. Nevertheless, in both cases solver time went down, so it is always useful to consider user cuts.\n",
    "\n",
    "## Decoupling Solutions into Chess Piece Families\n",
    "\n",
    "By splitting the solution into sub-solutions per each chess family, we see that \n",
    "a lot of the structures of the optimal solutions per chess piece family \n",
    "are still present in the solution to the combined problem.\n",
    "\n",
    "# Possible Speed Improvements\n",
    "\n",
    "To minimize total solver time, it may be useful to first solve the problem with weights set to 1 and add user cuts, \n",
    "which only took 7 seconds, and then insert that solution to the problem with the 1/n weights. \n",
    "Gurobi and other solvers can be warm started with a valid solution. Doing so may reduced total solver time to solve the combined problems.\n"
   ]
  },
  {
   "cell_type": "markdown",
   "metadata": {},
   "source": [
    "# References\n",
    "\n",
    "[1] https://github.com/PeterSels/OnComputation/tree/master/ChessCompress\n",
    "\n",
    "[2] https://gist.github.com/PeterSels/923d2f39fe742fce3cc13065e97c9f57\n",
    "\n",
    "[3] https://www.gurobi.com/"
   ]
  },
  {
   "cell_type": "markdown",
   "metadata": {},
   "source": [
    "Peter Sels, April 21st 2020. \n",
    "\n",
    "Copyright © 2020 Logically Yours BV."
   ]
  }
 ],
 "metadata": {
  "_draft": {
   "nbviewer_url": "https://gist.github.com/965c5ce567daf870d4817e2d8afc1e5b"
  },
  "gist": {
   "data": {
    "description": "ChessCompressConcurrently.ipynb",
    "public": true
   },
   "id": "965c5ce567daf870d4817e2d8afc1e5b"
  },
  "kernelspec": {
   "display_name": "Python 3",
   "language": "python",
   "name": "python3"
  },
  "language_info": {
   "codemirror_mode": {
    "name": "ipython",
    "version": 3
   },
   "file_extension": ".py",
   "mimetype": "text/x-python",
   "name": "python",
   "nbconvert_exporter": "python",
   "pygments_lexer": "ipython3",
   "version": "3.7.6"
  },
  "toc": {
   "base_numbering": 1,
   "nav_menu": {},
   "number_sections": true,
   "sideBar": true,
   "skip_h1_title": false,
   "title_cell": "Table of Contents",
   "title_sidebar": "Contents",
   "toc_cell": false,
   "toc_position": {
    "height": "calc(100% - 180px)",
    "left": "10px",
    "top": "150px",
    "width": "513px"
   },
   "toc_section_display": true,
   "toc_window_display": true
  },
  "varInspector": {
   "cols": {
    "lenName": 16,
    "lenType": 16,
    "lenVar": 40
   },
   "kernels_config": {
    "python": {
     "delete_cmd_postfix": "",
     "delete_cmd_prefix": "del ",
     "library": "var_list.py",
     "varRefreshCmd": "print(var_dic_list())"
    },
    "r": {
     "delete_cmd_postfix": ") ",
     "delete_cmd_prefix": "rm(",
     "library": "var_list.r",
     "varRefreshCmd": "cat(var_dic_list()) "
    }
   },
   "types_to_exclude": [
    "module",
    "function",
    "builtin_function_or_method",
    "instance",
    "_Feature"
   ],
   "window_display": false
  }
 },
 "nbformat": 4,
 "nbformat_minor": 4
}
