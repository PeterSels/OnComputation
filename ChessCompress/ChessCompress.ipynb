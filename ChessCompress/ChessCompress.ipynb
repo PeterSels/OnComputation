{
 "cells": [
  {
   "cell_type": "markdown",
   "metadata": {},
   "source": [
    "# ChessCompress, the Kijk chess challenge, for old times sake"
   ]
  },
  {
   "cell_type": "code",
   "execution_count": null,
   "metadata": {},
   "outputs": [],
   "source": [
    "# set this notebook to use a large part of the browser window width\n",
    "from IPython.core.display import HTML, display\n",
    "display(HTML(\"<style>.container { width:80% !important; }</style>\"))"
   ]
  },
  {
   "cell_type": "markdown",
   "metadata": {},
   "source": [
    "## Introduction\n",
    "\n",
    "As a young boy, my parents donated me a subscription to \"Kijk\". The magazine called itself \"populair scientific journal\" on the blue with yellow letters cover, but then in Dutch.\n",
    "It still exists. It's online version is published at https://www.kijk.nl.\n",
    "\n",
    "One month, I was probably 15 then, Kijk published a challenge that intrigued me. It was about trying to place as many chess pieces on a board without any being able to catch any other. You have an unlimited amount (or 64 if you want) of pieces of each type. However, pawns do not participate.\n",
    "\n",
    "Clearly, if the weight by which you count would be 1 for each type, you'd just put 32 knights on all squares of a chosen color (either black or white) and be done and the score would be 32.\n",
    "\n",
    "However, instead, each piece is counted with a certain weight depending on its type only. This type weight is equal to one over the number of pieces of that type only you could put on the board without any of the pieces being able to catch any other piece. So a queen would get 1/8 points, as one can put maximum 8 queens on a board without any queen threatening any other queen. The \"Eight Queens\" problem is in fact quite well known. See https://en.wikipedia.org/wiki/Eight_queens_puzzle.\n",
    "\n",
    "A king gets 1/16 points, a rook 1/8 points, a bishop 1/14 points and a knight 1/32 points. The idea of the weights scaling is that, the more 'powerful' a piece is, the \n",
    "fewer one can typically collect on a board and so the harder it is to get many of them, so the higher the reward must be to fit more of them on the final problem. Fitting 8 queens results in a score of 8 * 1/8 = 1 but fitting 8 kings only results in a score of 8 * 1/16 = 1/2.\n",
    "\n",
    "I puzzled a bit and my dad also helped and then we wrote a letter, which I still remember contained the hand waving argument that \"Surely, the best solution could not possibly be much better than ours.\" A feeling of uncertainty about that claim stuck ... until now, when we actually have some tools and some time to find a better solution and also possibly prove its optimality.\n",
    "\n",
    "I still have all my Kijk magazines at home, bundled in 3 dark blue covers, one per year, which you got when you extended your membership with a year. I should look for the results of that contest. I only remember there were quite some people that beat us at it which higher scores. So much for the handwaving argument. But before looking things up, let's try with a MILP solver. So it took 34 years for me to have time to reconsider this gem of a challenge. :)\n",
    "\n",
    "## Spoiler Alert\n",
    "\n",
    "You may want to have some fun trying to find a good solution before you read on. If you don't have physical chess pieces this virtual version may help. https://lichess.org/editor/8/8/8/8/8/8/8/8_w_-_-_0_1\n",
    "\n",
    "## Generating a clean Visualisation\n",
    "\n",
    "To motivate ourselves even a bit more, let's first look for a nice generatable HTML representation of a chess board with its pieces positioned on it. What about this one? https://pypi.org/project/python-chess/\n",
    "\n",
    "To install it, just uncomment the next two lines and run them from the notebook or in your system terminal."
   ]
  },
  {
   "cell_type": "code",
   "execution_count": null,
   "metadata": {},
   "outputs": [],
   "source": [
    "%%sh\n",
    "pip3 install python-chess"
   ]
  },
  {
   "cell_type": "code",
   "execution_count": null,
   "metadata": {},
   "outputs": [],
   "source": [
    "import chess\n",
    "board = chess.Board()\n",
    "board"
   ]
  },
  {
   "cell_type": "markdown",
   "metadata": {},
   "source": [
    "Ha! Nice! One cannot possibly beat this representation. This took me 1 minute. Long live open source! A *good* epidemic :) We can even write out this board as an svg file."
   ]
  },
  {
   "cell_type": "code",
   "execution_count": null,
   "metadata": {},
   "outputs": [],
   "source": [
    "def write_board_to_svg(board, filename):\n",
    "    import chess.svg\n",
    "    boardsvg = chess.svg.board(board)\n",
    "    f = open(filename, \"w\")\n",
    "    f.write(boardsvg)\n",
    "    f.close()\n",
    "write_board_to_svg(board, 'OpeningChessBoard.svg')"
   ]
  },
  {
   "cell_type": "markdown",
   "metadata": {},
   "source": [
    "python-chess also uses a simple string format to represent a board situation as follows."
   ]
  },
  {
   "cell_type": "code",
   "execution_count": null,
   "metadata": {},
   "outputs": [],
   "source": [
    "board = chess.Board(\"rnbqkbnr/pppppppp/8/8/4P3/8/PPPP1PPP/RNBQKBNR\")\n",
    "write_board_to_svg(board, 'FirstMoveBoard.svg')\n",
    "board"
   ]
  },
  {
   "cell_type": "markdown",
   "metadata": {},
   "source": [
    "This one line string format is called the Forsyth Edwards Notation (FEN), see https://en.wikipedia.org/wiki/Forsyth–Edwards_Notation.\n",
    "It is easily understood when realizing that the 8 subsequent rows are separated by a / and that the numerals stand for the number of empty squares in that row and that lower case letters represent black pieces and upper case letters represent white pieces."
   ]
  },
  {
   "cell_type": "markdown",
   "metadata": {},
   "source": [
    "## Sidebar: Incrementally adding methods to a Python Class\n",
    "\n",
    "For this challenge we want to setup an IP model to calculate the weights per piece. Each of these problems has its own variables and constraints that will be reused exactly in the same form for the final problem. Only the final problem will have extra constraints, formulating that there cannot be two pieces of different types on the same board square.\n",
    "\n",
    "So we will need code to construct an empty model and then various functions that add variables and constraints to this model. This means we build up 'state' bit by bit. A logical programming construct to handle that is a Class. Let's call it Class ChessCompress. \n",
    "\n",
    "In regular python, one writes a Class as one piece of code, where variables and methods are contained inside the single Class definition. However, as Notebooks go, we will want to add code (chess) piece by (chess) piece. There is a way to handle that by the use of recursive class definitions.\n",
    "Consider the example below, which we got from user dsblank's answer on  https://github.com/jupyter/notebook/issues/1243"
   ]
  },
  {
   "cell_type": "code",
   "execution_count": null,
   "metadata": {},
   "outputs": [],
   "source": [
    "class MyClass():\n",
    "    def method1(self):\n",
    "        print('method1')"
   ]
  },
  {
   "cell_type": "code",
   "execution_count": null,
   "metadata": {},
   "outputs": [],
   "source": [
    "class MyClass(MyClass):\n",
    "    def method2(self):\n",
    "        print('method2')"
   ]
  },
  {
   "cell_type": "code",
   "execution_count": null,
   "metadata": {},
   "outputs": [],
   "source": [
    "instance = MyClass()\n",
    "instance.method1()\n",
    "instance.method2()"
   ]
  },
  {
   "cell_type": "markdown",
   "metadata": {},
   "source": [
    "So the first cell is the most regular Pythonic way to define a class and add method1. But the second cell does not simply say class MyClass() again but extends the first class by specifying class MyClass(MyClass). The third cell shows that there is no syntactic difference in calling method1 or method2. This is what we like. We can now proceed in a modular way, cell by cell, enriching the python class definition."
   ]
  },
  {
   "cell_type": "markdown",
   "metadata": {},
   "source": [
    "# Determining the weights per chess piece\n",
    "\n",
    "We start with calculating the weights of the piece types and begin with the queens problem."
   ]
  },
  {
   "cell_type": "markdown",
   "metadata": {},
   "source": [
    "## Queens Problem\n",
    "\n",
    "If a queen takes a certain position the diagonals and row and column cannot contain another queen. To encode that, we will define binary variables q[r,c] that are 1 when we decide to put a queen in row r column c and 0 otherwise.\n",
    "\n",
    "To solve all the below problems, we call the Mixed Integer Programming solver Gurobi (https://www.gurobi.com/) via its Python API. You will need this solver to run this notebook. We have tested this notebook with Python 3.7.6 and Gurobi 9."
   ]
  },
  {
   "cell_type": "code",
   "execution_count": null,
   "metadata": {},
   "outputs": [],
   "source": [
    "from gurobipy import *\n",
    "import itertools"
   ]
  },
  {
   "cell_type": "code",
   "execution_count": null,
   "metadata": {},
   "outputs": [],
   "source": [
    "class ChessCompress():\n",
    "    \n",
    "    def __init__(self, dim, piece_to_weight_dict):\n",
    "        self.dim = dim\n",
    "        self.m = Model()\n",
    "        self.board_vars = {}  # dictionary from piece type letter \n",
    "        # to (row, col) tuple to binary solver var. \n",
    "        self.board_vals = {}  # dictionary from piece type letter \n",
    "        # to (row, col) tuple to binary result val.\n",
    "        self.count = {}  # dictionary from piece type letter \n",
    "        # to number of piece fittable\n",
    "        self.add_variables(piece_to_weight_dict)\n",
    "        \n",
    "    def derive_parameters(self, dim):\n",
    "        n_rows = dim\n",
    "        n_cols = dim\n",
    "        rows = list(range(n_rows))\n",
    "        cols = list(range(n_cols))\n",
    "        return n_rows, n_cols, rows, cols\n",
    "\n",
    "    # define the binary core variables\n",
    "    def add_variables(self, piece_to_weight_dict):\n",
    "        n_rows, n_cols, rows, cols = self.derive_parameters(self.dim)\n",
    "        for piece_letter in piece_to_weight_dict:\n",
    "            piece_weight = piece_to_weight_dict[piece_letter]\n",
    "            pieces = {(r, c): -piece_weight \\\n",
    "                      for r, c in itertools.product(rows, cols)}\n",
    "            self.board_vars[piece_letter] = \\\n",
    "                self.m.addVars(pieces.keys(), obj=pieces, \n",
    "                               vtype=GRB.BINARY, name=piece_letter)\n",
    "    \n",
    "    def add_long_range_piece_constraints(\n",
    "        self, from_piece_letter, to_piece_letter, \n",
    "        piece_weight=1.0, user_cuts=True):\n",
    "        \n",
    "        verbose = 0\n",
    "        \n",
    "        from_piece_upper_letter = from_piece_letter.upper()\n",
    "        to_piece_upper_letter = to_piece_letter.upper()\n",
    "\n",
    "        n_rows, n_cols, rows, cols = self.derive_parameters(self.dim)\n",
    "\n",
    "        # These constraints are sufficient to define \n",
    "        # the allowed search space.\n",
    "        vertical_horizontal_dr_list = [ -1,  0, +1,  0] \n",
    "        vertical_horizontal_dc_list = [  0, +1,  0, -1]\n",
    "\n",
    "        diagonal_dr_list = [ -1, +1, +1, -1]\n",
    "        diagonal_dc_list = [ +1, +1, -1, -1]\n",
    "\n",
    "        dr_list = []\n",
    "        dc_list = []\n",
    "        if from_piece_letter in ['q', 'r']:\n",
    "            dr_list.extend(vertical_horizontal_dr_list)\n",
    "            dc_list.extend(vertical_horizontal_dc_list)\n",
    "        if from_piece_letter in ['q', 'b']:\n",
    "            dr_list.extend(diagonal_dr_list) \n",
    "            dc_list.extend(diagonal_dc_list)\n",
    "        if verbose > 0:\n",
    "            print(dr_list)\n",
    "            print(dc_list)\n",
    "        \n",
    "        for r in rows:\n",
    "            for c in cols:\n",
    "                # dr = delta row, cr is delta column\n",
    "                for dr, dc in list(zip(dr_list, dc_list)):\n",
    "                    r_, c_ = r+dr, c+dc\n",
    "                    # while (d+dr, c+dc) square falls within board\n",
    "                    while (r_ <= self.dim-1 and r_ >= 0) \\\n",
    "                        and (c_ <= self.dim-1 and c_ >= 0):  \n",
    "                        constr_name = \\\n",
    "                            'noQBThreat_r{:d}_c{:d}_dr{:d}_dc{:d}'.\\\n",
    "                            format(r, c, dr, dc)\n",
    "                        self.m.addConstr(\\\n",
    "                            self.board_vars[from_piece_letter][r,c] +\\\n",
    "                            self.board_vars[to_piece_letter][r_,c_] <= 1, \n",
    "                            constr_name)\n",
    "                        r_, c_ = r_+dr, c_+dc\n",
    "            \n",
    "        # The next constraints can be optionally added.\n",
    "        # They are 'user cuts' intended to speed up the solving process.\n",
    "        #They do not restrict the search\n",
    "        # space compared to the constraint already defined above.\n",
    "        # The above constraint work on a pair of binary variables,\n",
    "        # while the below 'user cut' ones work for all binary variables\n",
    "        # in a full row, column or diagonal at once.\n",
    "        if (from_piece_letter == to_piece_letter) and user_cuts:\n",
    "            # row-wise constraints\n",
    "            if from_piece_letter in ['q', 'r']:\n",
    "                for r in rows:\n",
    "                    constr_name = \\\n",
    "                        'atMostOne' + from_piece_upper_letter +\\\n",
    "                        'InRow_r{:d}'.format(r)\n",
    "                    self.m.addConstr(\n",
    "                        quicksum(self.board_vars[from_piece_letter][r,c] \\\n",
    "                                 for c in cols) <= 1, \n",
    "                                constr_name)\n",
    "\n",
    "                # column-wise constraints\n",
    "                for c in cols:\n",
    "                    constr_name = 'atMostOne' + \\\n",
    "                    from_piece_upper_letter + \\\n",
    "                    'InCol_c{:d}'.format(c)\n",
    "                    self.m.addConstr(\n",
    "                        quicksum(self.board_vars[from_piece_letter][r,c] \\\n",
    "                                 for r in rows) <= 1, \n",
    "                                     constr_name)\n",
    "\n",
    "            # all diagonal constraints:\n",
    "            if from_piece_letter in ['q', 'b']:\n",
    "                for dr, dc in [(-1, +1), (+1, +1)]:\n",
    "                    if (dr, dc) == (-1, +1):\n",
    "                        # go over diagonals that go RightUp\n",
    "                        # start (r,c) for these diagonals are \n",
    "                        # left border of board and \n",
    "                        start_r_list = rows[1:]\n",
    "                        start_c_list = [0] * (self.dim-1)\n",
    "                        # lower border of board\n",
    "                        start_r_list.extend([self.dim-1] * (self.dim-2))\n",
    "                        start_c_list.extend(cols[1:][:-1])\n",
    "                        constr_name = 'atMostOne' + \\\n",
    "                            from_piece_upper_letter + 'InRightUpDiag'\n",
    "                    else:\n",
    "                        # go over diagonals that go RightD(ow)n\n",
    "                        # start (r,c) for these diagonals are \n",
    "                        # top border of board and\n",
    "                        start_r_list = [0] * (self.dim-1)\n",
    "                        start_c_list = cols[:-1]  # last col dropped \n",
    "                        # since would result in a 1 q var \n",
    "                        # constraint <=1 which is redundant.\n",
    "                        # left border of board\n",
    "                        start_r_list.extend(rows[1:][:-1])\n",
    "                        start_c_list.extend([0] * (self.dim-2))\n",
    "                        constr_name = 'atMostOne' + \\\n",
    "                            from_piece_upper_letter + 'InRightDnDiag'\n",
    "\n",
    "                    if verbose > 0:\n",
    "                        print(constr_name + ':')\n",
    "                        print('  for start_r range: [' + ','.\\\n",
    "                              join([str(i) for i in start_r_list]) + ']')\n",
    "                        print('  for start_c range: [' + ','.\\\n",
    "                              join([str(i) for i in start_c_list]) + ']')\n",
    "                    assert len(start_r_list) == len(start_c_list)\n",
    "                    for start_r, start_c in list(zip(start_r_list, \n",
    "                                                     start_c_list)): \n",
    "                        r, c = start_r, start_c\n",
    "                        expr = LinExpr(0)\n",
    "                        while (c >= 0 and c <= self.dim-1) and\\\n",
    "                        (r >= 0 and r <= self.dim-1):\n",
    "                            if verbose > 0:\n",
    "                                print(r,c)\n",
    "                            expr += self.board_vars[from_piece_letter][r,c]\n",
    "                            r += dr\n",
    "                            c += dc\n",
    "                        if verbose > 0:\n",
    "                            print('---')\n",
    "                        self.m.addConstr(expr <= 1, \n",
    "                                         constr_name + \\\n",
    "                                         '_rs{:d}cs{:d}'.format(r,c))\n",
    "\n",
    "    def set_solver_output(self, bool):\n",
    "        self.m.setParam('OutputFlag', bool)\n",
    "        \n",
    "    def set_time_limit(self, time_limit_in_seconds):\n",
    "        self.m.setParam('TimeLimit', time_limit_in_seconds)             \n",
    "            \n",
    "    def solve_model(self):\n",
    "        # minimise the objective function the model \n",
    "        # Since coefficients in the objective are negative this will try to \n",
    "        # maximize the number of queens in the board.\n",
    "        self.m.optimize()\n",
    "\n",
    "        # retrieve solution\n",
    "        for piece_letter in self.board_vars:\n",
    "            self.board_vals[piece_letter] = \\\n",
    "                self.m.getAttr('x', self.board_vars[piece_letter])\n",
    "            # the board_vals represent the board solutions \n",
    "            # without any solver specific encoding\n",
    "            self.count[piece_letter] = 0\n",
    "            for r,c in self.board_vals[piece_letter]:\n",
    "                if self.board_vals[piece_letter][r,c]==1:\n",
    "                    self.count[piece_letter] += 1            \n",
    "                \n",
    "        n_different_piece_letters = len(self.board_vars.keys())        \n",
    "        if n_different_piece_letters == 1:\n",
    "            assert self.count[piece_letter] == \\\n",
    "                -int(self.m.getObjective().getValue())\n",
    "        \n",
    "    def get_objective_value(self):\n",
    "        return self.m.getObjective().getValue()\n",
    "\n",
    "    def get_mip_gap(self):\n",
    "        return self.m.getAttr('MIPGap')\n",
    "            \n",
    "    def get_letter(self, r, c):\n",
    "        vals = self.board_vals\n",
    "        found_letter = ' ' # means nothing found yet, so empty square\n",
    "        for letter in vals:\n",
    "            val = int(vals[letter][(r,c)])\n",
    "            if val == 1:\n",
    "                assert found_letter == ' '  # can only find one letter thanks to \n",
    "                # add_at_most_a_piece_per_square_constraints being called before\n",
    "                found_letter = letter\n",
    "                # keep checking that no other letter is found as well\n",
    "        return found_letter\n",
    "        \n",
    "    def encode_to_fen_board_string(self, capitals_for_white=False):\n",
    "        vals = self.board_vals\n",
    "        n_rows, n_cols, rows, cols = self.derive_parameters(self.dim)\n",
    "        s = ''\n",
    "        space = ' '\n",
    "        for r in rows:\n",
    "            for c in cols:  # we assume these couples  lexically sorted\n",
    "                letter = self.get_letter(r,c)\n",
    "                bw_letter = letter.upper() if capitals_for_white else letter\n",
    "                if self.dim == 8:  # then we keep to the standard fen format \n",
    "                    # since we can use chess.Board(on it) later\n",
    "                    if letter != ' ':\n",
    "                        s += bw_letter\n",
    "                    else:\n",
    "                        assert letter == ' '\n",
    "                        if (len(s) == 0):\n",
    "                            s = '1'\n",
    "                        elif s[-1] in ['1','2','3','4','5','6','7','8','9']:\n",
    "                            s = s[:-1] + str(int(s[-1])+1)\n",
    "                        else:  # increment last digit of s\n",
    "                            s += '1'\n",
    "\n",
    "                    if c == self.dim-1:\n",
    "                        if r != self.dim-1:\n",
    "                            s += '/'\n",
    "                else: # The additional 'space' here is \n",
    "                    # there to end up with square boards\n",
    "                    if letter != ' ':\n",
    "                        s += bw_letter + space\n",
    "                    else:\n",
    "                        assert letter == ' '\n",
    "                        s += '.' + space\n",
    "                        \n",
    "                    if c == self.dim-1:\n",
    "                        if r != self.dim-1:\n",
    "                            s += '\\n'\n",
    "\n",
    "        return s\n",
    "        \n",
    "cc_queens = ChessCompress(8, {'q' : 1.0})\n",
    "cc_queens.add_long_range_piece_constraints('q', 'q')\n",
    "cc_queens.set_solver_output(True)\n",
    "cc_queens.solve_model()\n",
    "print('I could maximally fit {:d} queens on the chess board.'.\\\n",
    "      format(cc_queens.count['q']))\n",
    "n_queens = cc_queens.count['q']"
   ]
  },
  {
   "cell_type": "markdown",
   "metadata": {},
   "source": [
    "So that took only 10 milliseconds. Not a lot. :) We allowed the solver to output its log here, to show you that a solver is called. In the next notebook cells we will avoid that by calling set_solver_output(False) instead.\n",
    "\n",
    "Let's now display the 8 queens on the board. We need to generate that string encoding."
   ]
  },
  {
   "cell_type": "code",
   "execution_count": null,
   "metadata": {},
   "outputs": [],
   "source": [
    "board_string = \\\n",
    "    cc_queens.encode_to_fen_board_string(capitals_for_white=True)\n",
    "print(board_string)\n",
    "board8Q = chess.Board(board_string)\n",
    "write_board_to_svg(board8Q, 'EightQueensBoard.svg')\n",
    "board8Q"
   ]
  },
  {
   "cell_type": "markdown",
   "metadata": {},
   "source": [
    "We can indeed visually check that each row and column has at most one queen. Also on each diagonal we have at most one queen. This is one solution and there are of course others, even only due to symmetries alone. For example by flipping the queen positions along the horizontal axis or vertical axis in the middle of the board. Also, a multiple of 90 degrees rotations of the queens positions delivers new solutions.\n",
    "\n",
    "In fact the wikipedia page https://en.wikipedia.org/wiki/Eight_queens_puzzle mentions a more symmetrical version reproduced here below."
   ]
  },
  {
   "cell_type": "code",
   "execution_count": null,
   "metadata": {},
   "outputs": [],
   "source": [
    "board8QSymmetric = chess.Board('5Q2/3Q4/6Q1/Q7/7Q/1Q6/4Q3/2Q5')\n",
    "write_board_to_svg(board8QSymmetric, 'EightQueensSymmetricBoard.svg')\n",
    "board8QSymmetric"
   ]
  },
  {
   "cell_type": "markdown",
   "metadata": {},
   "source": [
    "Note that the solver Gurobi does not have a preference for this symmetric solution. The objective function of both solutions is the same: 1.\n",
    "\n",
    "In any case, because we can maximally fit 8 queens, the score of the type queen will be 1/8 in the final problem."
   ]
  },
  {
   "cell_type": "markdown",
   "metadata": {},
   "source": [
    "## Bishops Problem\n",
    "\n",
    "Hmm, we have done this one before. We should reuse the diagonal constraints we defined for the queens. 'Not entirely accidentally', we have written up the queens problem so that we can just call the function add_long_range_piece_variables_and_constraints(piece_letter) with piece letter='b' and we're done with the bishops. Let's try."
   ]
  },
  {
   "cell_type": "code",
   "execution_count": null,
   "metadata": {},
   "outputs": [],
   "source": [
    "cc_bishops = ChessCompress(8, {'b': 1.0})\n",
    "cc_bishops.add_long_range_piece_constraints('b','b')\n",
    "cc_bishops.m.setParam('OutputFlag', False)\n",
    "cc_bishops.solve_model()\n",
    "print('I could maximally fit {:d} bishops on the chess board.'.\\\n",
    "      format(cc_bishops.count['b']))\n",
    "n_bishops = cc_bishops.count['b']\n",
    "\n",
    "board_string = \\\n",
    "    cc_bishops.encode_to_fen_board_string(\\\n",
    "        capitals_for_white=True)\n",
    "print(board_string)\n",
    "board16B = chess.Board(board_string)\n",
    "\n",
    "write_board_to_svg(board16B, 'SixteenBishopsBoard.svg')\n",
    "board16B"
   ]
  },
  {
   "cell_type": "markdown",
   "metadata": {},
   "source": [
    "So 14 bishops can be fitted and the bishops weight in the final problem becomes 1/14."
   ]
  },
  {
   "cell_type": "markdown",
   "metadata": {},
   "source": [
    "## Rooks Problem\n",
    "\n",
    "Done before for queens. Let's reuse that. Hmm, I wonder if Gurobi is going to put all the rooks on the diagonal... Let's see."
   ]
  },
  {
   "cell_type": "code",
   "execution_count": null,
   "metadata": {},
   "outputs": [],
   "source": [
    "cc_rooks = ChessCompress(8, {'r':1.0})\n",
    "cc_rooks.add_long_range_piece_constraints('r', 'r')\n",
    "cc_rooks.m.setParam('OutputFlag', False)\n",
    "cc_rooks.solve_model()\n",
    "print('I could maximally fit {:d} rooks on the chess board.'.\\\n",
    "      format(cc_rooks.count['r']))\n",
    "n_rooks = cc_rooks.count['r']\n",
    "\n",
    "board_string = \\\n",
    "    cc_rooks.encode_to_fen_board_string(capitals_for_white=True)\n",
    "print(board_string)\n",
    "board8R = chess.Board(board_string)\n",
    "\n",
    "write_board_to_svg(board8R, 'EightRooksBoard.svg')\n",
    "board8R"
   ]
  },
  {
   "cell_type": "markdown",
   "metadata": {},
   "source": [
    "So 8 rooks can be fitted and the rook's weight in the final problem becomes 1/8."
   ]
  },
  {
   "cell_type": "markdown",
   "metadata": {},
   "source": [
    "Yes, the diagonal it is! There are obviously many other possible solutions, all with the same number of rooks: 8. Let's write up the problem for the kings now."
   ]
  },
  {
   "cell_type": "markdown",
   "metadata": {},
   "source": [
    "## Kings Problem\n",
    "\n",
    "Kings are like queens in the sense that they can attack or threaten other pieces in the same directions: up, down, left, right and the 4 diagonal directions, but their reach is only one square instead of the whole row, column or diagonal. So the problem is similar, but the constraints only span two subsequent squares in these same directions."
   ]
  },
  {
   "cell_type": "code",
   "execution_count": null,
   "metadata": {},
   "outputs": [],
   "source": [
    "class ChessCompress(ChessCompress):  # extend the class\n",
    "    \n",
    "    def add_kings_constraints(self, to_piece_letter, \n",
    "                              piece_weight=1.0):\n",
    "        n_rows, n_cols, rows, cols = self.derive_parameters(self.dim)\n",
    "        kings = {(r, c): -piece_weight for r, \n",
    "                 c in itertools.product(rows, cols)}\n",
    "\n",
    "        n_rows, n_cols, rows, cols = \\\n",
    "            self.derive_parameters(self.dim)\n",
    "        kings = {(r, c): -piece_weight for r, \n",
    "                 c in itertools.product(rows, cols)}\n",
    "\n",
    "        for r in rows:\n",
    "            for c in cols:\n",
    "                # dr = delta row, cr is delta column\n",
    "                dr_list = [ -1,  0, +1, +1, +1, 0, -1, -1]\n",
    "                dc_list = [ +1, +1, +1,  0, -1, -1, -1, 0]\n",
    "                for dr, dc in list(zip(dr_list, dc_list)):\n",
    "                    if (r+dr <= self.dim-1 and r+dr >= 0) \\\n",
    "                        and (c+dc <= self.dim-1 and c+dc >= 0):  \n",
    "                        # if (d+dr, c+dc) square falls within board\n",
    "                        constr_name = \\\n",
    "                            'noKingsThreat_r{:d}_c{:d}_dr{:d}_dc{:d}'.\\\n",
    "                        format(r, c, dr, dc)\n",
    "                        self.m.addConstr(\n",
    "                            self.board_vars['k'][r,c] + \n",
    "                            self.board_vars[to_piece_letter][r+dr,c+dc] <= 1, \n",
    "                            constr_name)\n",
    "\n",
    "cc_kings = ChessCompress(8, {'k':1.0})\n",
    "cc_kings.add_kings_constraints('k')\n",
    "cc_kings.m.setParam('OutputFlag', False)\n",
    "cc_kings.solve_model()\n",
    "print('I could maximally fit {:d} kings on the chess board.'.\n",
    "      format(cc_kings.count['k']))\n",
    "board_string = \\\n",
    "    cc_kings.encode_to_fen_board_string(capitals_for_white=True)\n",
    "n_kings = cc_kings.count['k']\n",
    "\n",
    "print(board_string)\n",
    "board16K = chess.Board(board_string)\n",
    "\n",
    "write_board_to_svg(board16K, 'SixteenKingsBoard.svg')\n",
    "board16K"
   ]
  },
  {
   "cell_type": "markdown",
   "metadata": {},
   "source": [
    "Another 10 ms wasted. :) \n",
    "\n",
    "So 16 kings can be fitted and the king's weight in the final problem becomes 1/16.\n",
    "\n",
    "Let's go for the knights problem, which is quite different."
   ]
  },
  {
   "cell_type": "markdown",
   "metadata": {},
   "source": [
    "## Knights Problem"
   ]
  },
  {
   "cell_type": "code",
   "execution_count": null,
   "metadata": {},
   "outputs": [],
   "source": [
    "class ChessCompress(ChessCompress):  # extend the class\n",
    "    \n",
    "    def add_knights_constraints(self, to_piece_letter, piece_weight=1.0):\n",
    "        verbose = 0\n",
    "\n",
    "        n_rows, n_cols, rows, cols = self.derive_parameters(self.dim)\n",
    "        kings = {(r, c): -piece_weight for r, c in itertools.product(rows, cols)}\n",
    "\n",
    "        # define the basic Constraints\n",
    "\n",
    "        # row-wise constraints\n",
    "        for r in rows:\n",
    "            for c in cols:\n",
    "                # dr = delta row, cr is delta column\n",
    "                dr_list = [-2, -1, +1, +2, +2, +1, -1, -2]\n",
    "                dc_list = [+1, +2, +2, +1, -1, -2, -2, -1]\n",
    "                for dr, dc in list(zip(dr_list, dc_list)):\n",
    "                    if (r+dr <= self.dim-1 and r+dr >= 0) \\\n",
    "                        and (c+dc <= self.dim-1 and c+dc >= 0):  \n",
    "                        # if (d+dr, c+dc) square falls within board\n",
    "                        constr_name = \\\n",
    "                            'noTwoNWithinSingleJump_r{:d}_c{:d}_dr{:d}_dc{:d}'.\\\n",
    "                            format(r, c, dr, dc)\n",
    "                        self.m.addConstr(\n",
    "                            self.board_vars['n'][r,c] + \n",
    "                            self.board_vars[to_piece_letter][r+dr,c+dc] <= 1, \n",
    "                            constr_name)\n",
    "\n",
    "cc_knights = ChessCompress(8, {'n':1.0})\n",
    "cc_knights.add_knights_constraints('n')\n",
    "cc_knights.m.setParam('OutputFlag', False)\n",
    "cc_knights.solve_model()\n",
    "print('I could maximally fit {:d} knights on the chess board.'.\n",
    "      format(cc_knights.count['n']))\n",
    "print('The board setup scores {:f}.'.format(-cc_knights.get_objective_value()))\n",
    "\n",
    "board_string = cc_knights.encode_to_fen_board_string(capitals_for_white=True)\n",
    "n_knights = cc_knights.count['n']\n",
    "print(board_string)\n",
    "board32N = chess.Board(board_string)\n",
    "\n",
    "write_board_to_svg(board32N, 'ThirtyTwoKnightsBoard.svg')\n",
    "board32N"
   ]
  },
  {
   "cell_type": "markdown",
   "metadata": {},
   "source": [
    "So 32 knights is the maximum fittable on a board, so they get the weight of 1/32 in the final problem. They are on (all) the squares of one color only, white here, but another solution would be for them on all the black squares. \n",
    "\n",
    "Let's summarize by writing a function that calculates the weights for a given board dimension."
   ]
  },
  {
   "cell_type": "code",
   "execution_count": null,
   "metadata": {},
   "outputs": [],
   "source": [
    "def calculate_piece_weights(dim, user_cuts=True, \n",
    "                            capitals_for_white=True, solver_output=False):\n",
    "    weights = {}\n",
    "    boards = {}\n",
    "    \n",
    "    cc = ChessCompress(dim, {'k':1.0})\n",
    "    cc.add_kings_constraints('k')\n",
    "    cc.set_solver_output(solver_output)\n",
    "    cc.solve_model()\n",
    "    \n",
    "    weights['k'] = 1/(-cc.get_objective_value())\n",
    "    s = cc.encode_to_fen_board_string(capitals_for_white)\n",
    "    boards['k'] = chess.Board(s) if dim == 8 else HTML(s)\n",
    "    for piece_letter in ['q', 'b', 'r']:\n",
    "        cc = ChessCompress(dim, {piece_letter:1.0})\n",
    "        cc.add_long_range_piece_constraints(piece_letter, piece_letter, \n",
    "                                            {piece_letter:1.0}, user_cuts)\n",
    "        cc.set_solver_output(solver_output)\n",
    "        cc.solve_model()\n",
    "        weights[piece_letter] = 1/(-cc.get_objective_value())\n",
    "        s = cc.encode_to_fen_board_string(capitals_for_white)\n",
    "        boards[piece_letter] = chess.Board(s) if dim == 8 else HTML(s)\n",
    "\n",
    "    cc = ChessCompress(dim, {'n':1.0})\n",
    "    cc.add_knights_constraints('n')\n",
    "    cc.set_solver_output(solver_output)\n",
    "    cc.solve_model()\n",
    "    weights['n'] = 1/(-cc.get_objective_value())\n",
    "    s = cc.encode_to_fen_board_string(capitals_for_white)\n",
    "    boards['n'] = chess.Board(s) if dim == 8 else HTML(s)\n",
    "     \n",
    "    return weights, boards\n",
    "\n",
    "weights_dim8, boards = calculate_piece_weights(8, user_cuts=True, \n",
    "                                               capitals_for_white=False)\n",
    "for key, val in weights_dim8.items():\n",
    "    print(key, int(1/val))\n",
    "print(weights_dim8)"
   ]
  },
  {
   "cell_type": "markdown",
   "metadata": {},
   "source": [
    "# The Real Problem\n",
    "\n",
    "## Teams, assume position\n",
    "\n",
    "Hmm, shall we try to already piece things together? Surely we still have to add a constraint saying that any square can contain at most one chess piece.\n",
    "\n",
    "### Plain Vanilla Model"
   ]
  },
  {
   "cell_type": "code",
   "execution_count": null,
   "metadata": {},
   "outputs": [],
   "source": [
    "class ChessCompress(ChessCompress):  # extend the class\n",
    "\n",
    "    def add_at_most_a_piece_per_square_constraints(self):\n",
    "        n_rows, n_cols, rows, cols = self.derive_parameters(self.dim)\n",
    "        for r in rows:\n",
    "            for c in cols:\n",
    "                constr_name = \\\n",
    "                'atMostOnePiecePerSquare_r{:d}_c{:d}'.format(r, c)\n",
    "                self.m.addConstr(\n",
    "                    quicksum(self.board_vars[letter][r,c] \n",
    "                             for letter in self.board_vars) <= 1, \n",
    "                    constr_name)"
   ]
  },
  {
   "cell_type": "code",
   "execution_count": null,
   "metadata": {},
   "outputs": [],
   "source": [
    "def max_pieces_on_board_forbidding_threat_within_own_type_only(\n",
    "    piece_weights, user_cuts=False, solver_output=False):\n",
    "    \n",
    "    cc_all = ChessCompress(8, piece_weights)\n",
    "    for piece_letter in ['q', 'b', 'r']:\n",
    "        cc_all.add_long_range_piece_constraints(\n",
    "            piece_letter, piece_letter,\n",
    "            piece_weights[piece_letter], user_cuts)\n",
    "    cc_all.add_kings_constraints('k')\n",
    "    cc_all.add_knights_constraints('n')\n",
    "    cc_all.add_at_most_a_piece_per_square_constraints()\n",
    "    cc_all.set_solver_output(solver_output)\n",
    "    cc_all.solve_model()\n",
    "    solver_time_in_seconds = cc_all.m.getAttr('Runtime')\n",
    "    print('Needed {:f} seconds to find optimal solution.'.format(\n",
    "        solver_time_in_seconds))\n",
    "    print('I could maximally fit {:d} queens, {:d} kings, {:d} bishops,'.\n",
    "          format(cc_all.count['q'], cc_all.count['k'], cc_all.count['b']))\n",
    "    print('  {:d} knights and {:d} rooks together on the chess board.'.\n",
    "          format(cc_all.count['n'], cc_all.count['r']))\n",
    "\n",
    "    print('The board setup scores {:f}.'.format(-cc_all.get_objective_value()))\n",
    "\n",
    "    board_string = cc_all.encode_to_fen_board_string(capitals_for_white=True)\n",
    "    print(board_string)\n",
    "    board = chess.Board(board_string)\n",
    "    return board\n",
    "\n",
    "max_pieces_board = max_pieces_on_board_forbidding_threat_within_own_type_only(\n",
    "    piece_weights={'q':1, 'k':1, 'b':1, 'r':1, 'n':1}, \n",
    "    user_cuts=False)\n",
    "\n",
    "\n",
    "write_board_to_svg(max_pieces_board, 'MaxPiecesBoard.svg')\n",
    "max_pieces_board"
   ]
  },
  {
   "cell_type": "markdown",
   "metadata": {},
   "source": [
    "Now that's surprising: 63 pieces could be fit but nothing in the last square. \n",
    "\n",
    "\n",
    "### Improving Time to Solution by Adding  User Cuts\n",
    "\n",
    "The above problem takes 98 seconds to solve on my laptop. Maybe this time can be improved with adding the above mentioned user cuts. Let's try."
   ]
  },
  {
   "cell_type": "code",
   "execution_count": null,
   "metadata": {},
   "outputs": [],
   "source": [
    "max_pieces_user_cuts_board = max_pieces_on_board_forbidding_threat_within_own_type_only(\n",
    "    piece_weights={'q':1, 'k':1, 'b':1, 'r':1, 'n':1}, \n",
    "    user_cuts=True)\n",
    "\n",
    "write_board_to_svg(max_pieces_board, 'MaxPiecesUserCutsBoard.svg')\n",
    "max_pieces_user_cuts_board"
   ]
  },
  {
   "cell_type": "markdown",
   "metadata": {},
   "source": [
    "Yes! We only need about 7 seconds when including the user cuts. So this shows how big an effect this can have. In fact user cuts in business questions can come from business logic. It is something the solver cannot automatically identify, but the human modeler can add by having some higher level insight.\n",
    "\n",
    "The solution has of course the same 'quality', objective function value -63 as the previous one without user cuts, but it need not be the same, and indeed here it isn't. Such is the nature of user cuts.\n",
    "\n",
    "\n",
    "## Adding the Correct Weights per Chess Piece\n",
    "\n",
    "For now, we have weighted pieces with the same weight 1. Maybe if weigh them differently, we get a different structure. Let's try."
   ]
  },
  {
   "cell_type": "code",
   "execution_count": null,
   "metadata": {},
   "outputs": [],
   "source": [
    "max_weighted_pieces_board = max_pieces_on_board_forbidding_threat_within_own_type_only(\n",
    "    piece_weights={'q':1/n_queens, 'k':1/n_kings, \n",
    "                   'b':1/n_bishops, 'r':1/n_rooks, \n",
    "                   'n':1/n_knights}, \n",
    "    user_cuts=True)\n",
    "\n",
    "write_board_to_svg(max_weighted_pieces_board, 'MaxWeightedPiecesBoard.svg')\n",
    "max_weighted_pieces_board"
   ]
  },
  {
   "cell_type": "markdown",
   "metadata": {},
   "source": [
    "This takes about 390 seconds on my laptop, even with the same user cuts. It seems the coefficients being different from 1 makes choices between piece types harder. Note that until now, we have ignored to forbid any attacking between pieces of a different type. Let's add that now."
   ]
  },
  {
   "cell_type": "markdown",
   "metadata": {},
   "source": [
    "## Now, also be kind to others\n",
    "\n",
    "So we are now additionally imposing that pieces of different families do not threaten each other. So they kind of have to practice some social distancing now. :) This then becomes the final problem we wanted to solve."
   ]
  },
  {
   "cell_type": "code",
   "execution_count": null,
   "metadata": {},
   "outputs": [],
   "source": [
    "def kijk_chess_challenge(\n",
    "    dim=8,\n",
    "    piece_weights={'q':1/n_queens, 'k':1/n_kings, \n",
    "                   'b':1/n_bishops, 'r':1/n_rooks, 'n':1/n_knights}, \n",
    "    user_cuts=True,\n",
    "    solver_output=False,\n",
    "    solver_seconds=48*3600):\n",
    "    \n",
    "    all_pieces = piece_weights.keys()\n",
    "    long_range_pieces = set(['q', 'b', 'r']).\\\n",
    "        intersection(piece_weights.keys())\n",
    "    cc_all = ChessCompress(dim, piece_weights)\n",
    "    cc_all.set_solver_output(solver_output)\n",
    "    for to_piece_letter in all_pieces:\n",
    "        for from_piece_letter in long_range_pieces:\n",
    "            cc_all.add_long_range_piece_constraints(from_piece_letter, \n",
    "                                                    to_piece_letter, \n",
    "                                                    user_cuts)\n",
    "        if 'k' in piece_weights.keys():\n",
    "            cc_all.add_kings_constraints(to_piece_letter)\n",
    "        if 'n' in piece_weights.keys():\n",
    "            cc_all.add_knights_constraints(to_piece_letter)\n",
    "    cc_all.add_at_most_a_piece_per_square_constraints()\n",
    "    \n",
    "    cc_all.set_solver_output(solver_output)\n",
    "    cc_all.set_time_limit(solver_seconds)\n",
    "    cc_all.solve_model()\n",
    "    \n",
    "    solver_time_in_seconds = cc_all.m.getAttr('Runtime')\n",
    "    print('Needed {:f} seconds to find this solution.'.\\\n",
    "          format(solver_time_in_seconds))\n",
    "    s = []\n",
    "    for piece_letter in piece_weights.keys():\n",
    "        s.append('{:d} {:s}'.format(cc_all.count[piece_letter], \n",
    "                                    piece_letter))\n",
    "    print('With this objective, this solution contains: ' +\\\n",
    "          ', '.join(s))\n",
    "    print('The board setup scores {:f}.'.\\\n",
    "          format(-cc_all.get_objective_value()))\n",
    "    mip_gap = cc_all.get_mip_gap()\n",
    "    print('This ' + ('suboptimal' if mip_gap>0.0 else 'optimal') \n",
    "          + ' solution\\'s MIP gap equals: {:.2f}'.\\\n",
    "          format(cc_all.get_mip_gap()))\n",
    "    \n",
    "    board_string = \\\n",
    "    cc_all.encode_to_fen_board_string(\n",
    "        capitals_for_white=True)\n",
    "    print(board_string)\n",
    "    if dim==8:\n",
    "        board = chess.Board(board_string)\n",
    "        return board\n",
    "    else:\n",
    "        pass\n",
    "\n",
    "kijk_chess_challenge_board = kijk_chess_challenge()\n",
    "write_board_to_svg(kijk_chess_challenge_board, 'KijkChessChallengeBoard.svg')\n",
    "kijk_chess_challenge_board"
   ]
  },
  {
   "cell_type": "markdown",
   "metadata": {},
   "source": [
    "So this is an optimal solution to the Kijk Chess challenge of 1985 and it only took about 30 seconds to solve! The top score, given by this solution found by Gurobi is $1.334821428571$. Gurobi says: \"No other solutions better than -1.33482\" and that means it has proven this solution is optimal. To be totally exact about the final number, we can express it in rational number notation.\n",
    "\n",
    "The $9$ kings give score $9/16$, 6 bishops give $6/14$, 7 knights give $7/32$ and the 1 rook gives $1/8$, together that makes 9/16 + 6/14 + 7 / 32 + 1/8 = (18 + 7 + 4) / 32 + 6 / 14 = (29 * 7)/(32 * 7) + (6 * 16)/(14 * 16) = 203 / 224 + 96 / 224 = 299 / 224."
   ]
  },
  {
   "cell_type": "markdown",
   "metadata": {},
   "source": [
    "$\\square$"
   ]
  },
  {
   "cell_type": "markdown",
   "metadata": {},
   "source": [
    "# Problem Variations\n",
    "\n",
    "We can now easily code variations of the problem."
   ]
  },
  {
   "cell_type": "markdown",
   "metadata": {},
   "source": [
    "## Second Division\n",
    "\n",
    "So queens do not occur and kings and horses occur abundantly. So what happens if we exclude kings and horses from the game?"
   ]
  },
  {
   "cell_type": "code",
   "execution_count": null,
   "metadata": {},
   "outputs": [],
   "source": [
    "second_division_board = kijk_chess_challenge(\n",
    "    dim=8, \n",
    "    piece_weights={'q':1/n_queens, 'b':1/n_bishops, 'n':1/n_knights}, \n",
    "    user_cuts=True,\n",
    "    solver_output=False)\n",
    "\n",
    "write_board_to_svg(second_division_board, 'SecondDivisionBoard.svg')\n",
    "second_division_board"
   ]
  },
  {
   "cell_type": "markdown",
   "metadata": {},
   "source": [
    "This took less than 3 seconds. So also with only 2 chess piece types we can get a score above 1. Rooks do not occur here because all empty squares are already under threat."
   ]
  },
  {
   "cell_type": "markdown",
   "metadata": {},
   "source": [
    "## Mixed Division\n",
    "\n",
    "Can we define a problem to which the optimal solution contains all the piece types, by discouraging the use of kings and knights a bit? For that we can give these first division players a small handicap. Let's try."
   ]
  },
  {
   "cell_type": "code",
   "execution_count": null,
   "metadata": {},
   "outputs": [],
   "source": [
    "mixed_division_board = kijk_chess_challenge(\n",
    "    dim=8,\n",
    "    piece_weights={'q':1/n_queens, 'k':1/(n_kings+4), 'b':1/n_bishops, \n",
    "                   'r':1/n_rooks, 'n':1/(n_knights+4)}, \n",
    "    user_cuts=True,\n",
    "    solver_output=False\n",
    ")\n",
    "\n",
    "write_board_to_svg(second_division_board, 'MixedDivisionBoard.svg')\n",
    "mixed_division_board"
   ]
  },
  {
   "cell_type": "markdown",
   "metadata": {},
   "source": [
    "The solver took 25 seconds and makes an interesting combination of 4 piece types but no queens. Queens don't seem to combine so well with other pieces apart from bishops."
   ]
  },
  {
   "cell_type": "markdown",
   "metadata": {},
   "source": [
    "## Scale Down\n",
    "\n",
    "Scaling down a problem is often a good way to debug a model more easily.\n",
    "\n",
    "### A 4x4 chess board"
   ]
  },
  {
   "cell_type": "code",
   "execution_count": null,
   "metadata": {},
   "outputs": [],
   "source": [
    "weights_dim4, boards = \\\n",
    "    calculate_piece_weights(4, user_cuts=True, \n",
    "                            capitals_for_white=False)\n",
    "print(weights_dim4)\n",
    "kijk_chess_challenge(dim=4, piece_weights=weights_dim4, \n",
    "                     user_cuts=True, solver_output=False)"
   ]
  },
  {
   "cell_type": "markdown",
   "metadata": {},
   "source": [
    "### A 3x3 chess board"
   ]
  },
  {
   "cell_type": "code",
   "execution_count": null,
   "metadata": {},
   "outputs": [],
   "source": [
    "weights_dim3, boards = \\\n",
    "calculate_piece_weights(3, user_cuts=True, \n",
    "                        capitals_for_white=False)\n",
    "print(weights_dim3)\n",
    "kijk_chess_challenge(dim=3, piece_weights=weights_dim3, \n",
    "                     user_cuts=True, solver_output=False)"
   ]
  },
  {
   "cell_type": "markdown",
   "metadata": {},
   "source": [
    "### A 2x2 chess board"
   ]
  },
  {
   "cell_type": "code",
   "execution_count": null,
   "metadata": {},
   "outputs": [],
   "source": [
    "weights_dim2, boards = \\\n",
    "    calculate_piece_weights(2, user_cuts=True, \n",
    "                            capitals_for_white=False)\n",
    "print(weights_dim2)\n",
    "kijk_chess_challenge(dim=2, piece_weights=weights_dim2, \n",
    "                     user_cuts=True, solver_output=False)"
   ]
  },
  {
   "cell_type": "markdown",
   "metadata": {},
   "source": [
    "### A 1x1 chess board"
   ]
  },
  {
   "cell_type": "code",
   "execution_count": null,
   "metadata": {},
   "outputs": [],
   "source": [
    "weights_dim1, boards = \\\n",
    "calculate_piece_weights(1, user_cuts=True, \n",
    "                        capitals_for_white=False)\n",
    "print(weights_dim1)\n",
    "kijk_chess_challenge(dim=1, piece_weights=weights_dim1, \n",
    "                     user_cuts=True, solver_output=False)"
   ]
  },
  {
   "cell_type": "markdown",
   "metadata": {},
   "source": [
    "It does not matter much what symbol is chosen here since all pieces have score 1 on a 1x1 board.\n",
    "\n",
    "## Scale Up\n",
    "\n",
    "Scaling up a problem is a good way to check performance for real world applications. Here it's just play of course or solver testing at best. :)\n",
    "\n",
    "### A 9x9 board"
   ]
  },
  {
   "cell_type": "code",
   "execution_count": null,
   "metadata": {},
   "outputs": [],
   "source": [
    "weights_dim9, boards = \\\n",
    "    calculate_piece_weights(9, user_cuts=True, \n",
    "                            capitals_for_white=False)\n",
    "print(weights_dim9)\n",
    "kijk_chess_challenge(dim=9, piece_weights=weights_dim9, \n",
    "                     user_cuts=True, solver_output=False)"
   ]
  },
  {
   "cell_type": "markdown",
   "metadata": {},
   "source": [
    "Calculated in 75 seconds, ... ooh that's a nice and regular 'optimal' structure! :)\n",
    "\n",
    "### A 10x10 board"
   ]
  },
  {
   "cell_type": "code",
   "execution_count": null,
   "metadata": {},
   "outputs": [],
   "source": [
    "weights_dim10, boards = \\\n",
    "    calculate_piece_weights(10, user_cuts=True, \n",
    "                            capitals_for_white=False)\n",
    "print(weights_dim10)\n",
    "kijk_chess_challenge(dim=10, piece_weights=weights_dim10, \n",
    "                     user_cuts=True, solver_output=False)"
   ]
  },
  {
   "cell_type": "markdown",
   "metadata": {},
   "source": [
    "A similar structure, calculated in 43 seconds.\n",
    "\n",
    "### A 11x11 board"
   ]
  },
  {
   "cell_type": "code",
   "execution_count": null,
   "metadata": {},
   "outputs": [],
   "source": [
    "weights_dim11, boards = \\\n",
    "    calculate_piece_weights(11, user_cuts=True, \n",
    "                            capitals_for_white=False)\n",
    "print(weights_dim11)\n",
    "kijk_chess_challenge(dim=11, piece_weights=weights_dim11, \n",
    "                     user_cuts=True, solver_output=False)"
   ]
  },
  {
   "cell_type": "markdown",
   "metadata": {},
   "source": [
    "So that took 1241 seconds to reach the optimal solution. \n",
    "\n",
    "### A 12x12 board"
   ]
  },
  {
   "cell_type": "code",
   "execution_count": null,
   "metadata": {},
   "outputs": [],
   "source": [
    "weights_dim12, boards = \\\n",
    "    calculate_piece_weights(12, user_cuts=True, \n",
    "                            capitals_for_white=False)\n",
    "print(weights_dim12)\n",
    "kijk_chess_challenge(dim=12, piece_weights=weights_dim12, \n",
    "                     user_cuts=True, \n",
    "                     solver_output=False, solver_seconds=3*60)"
   ]
  },
  {
   "cell_type": "markdown",
   "metadata": {},
   "source": [
    "The above solution is only the one found after 10 minutes.\n",
    "The optimal solution calculated earlier took 34125.92 to calculate and is:\n",
    "<pre>\n",
    "No other solutions better than -1.42298\n",
    "Optimal solution found (tolerance 1.00e-04)\n",
    "Best objective -1.422979797980e+00, best bound -1.422979797980e+00, gap 0.0000%\n",
    "Needed 34126.014710 seconds to find optimal solution.\n",
    "With this objective, the best solution contains:\n",
    "  , 15 k, 0 q, 9 b, 4 r, 19 n\n",
    "The board setup scores 1.422980.\n",
    "<pre>\n",
    "K . N . N . K . N B N B \n",
    ". . . R . . . . . . . . \n",
    "N . N . N . K . K . K . \n",
    ". R . . . . . . . . . . \n",
    "N . . . K . K . N . . B \n",
    "B . . . . . . . B . . N \n",
    "N . K . K . K . N . . B \n",
    "B . . . . . . . . . . . \n",
    "N . K . N . N . K . K . \n",
    ". . . . . R . . . . . . \n",
    "K . K . N . N . N B N B \n",
    ". . . . . . . R . . . . \n",
    "</pre>"
   ]
  },
  {
   "cell_type": "markdown",
   "metadata": {},
   "source": [
    "### A 13x13 board"
   ]
  },
  {
   "cell_type": "code",
   "execution_count": null,
   "metadata": {},
   "outputs": [],
   "source": [
    "weights_dim13, boards = \\\n",
    "    calculate_piece_weights(13, user_cuts=True, \n",
    "                            capitals_for_white=False)\n",
    "print(weights_dim13)\n",
    "kijk_chess_challenge(dim=13, piece_weights=weights_dim13, \n",
    "                     user_cuts=True, solver_output=False,\n",
    "                     solver_seconds=3*60)"
   ]
  },
  {
   "cell_type": "markdown",
   "metadata": {},
   "source": [
    "Solving the above problem did instead take 10668 seconds\n",
    "<pre>  \n",
    "Optimal solution found (tolerance 1.00e-04)\n",
    "Best objective -1.467456213255e+00, best bound -1.467456213255e+00, gap 0.0000%\n",
    "Needed 10668.292165 seconds to find optimal solution.\n",
    "With this objective, the best solution contains:\n",
    "  , 22 k, 0 q, 10 b, 4 r, 25 n\n",
    "The board setup scores 1.467456.\n",
    "K . K . K . N . N B N B N \n",
    ". . . . . . . R . . . . . \n",
    "K . K . N . N . . . K . K \n",
    ". . . . . R . . . . . . . \n",
    "N . K . N . N . N B N B N \n",
    "B . . . . . . . . . . . . \n",
    "N . K . K . K . K . K . K \n",
    "B . . . . . . . . . . . . \n",
    "N . . . K . K . N B N B N \n",
    ". R . . . . . . . . . . . \n",
    "N . N . N . K . K . K . K \n",
    ". . . R . . . . . . . . . \n",
    "K . N . N . K . N B N B N \n",
    "</pre>  \n",
    "\n",
    "### A 14x14 board\n",
    "\n",
    "From here onwards, things take more time. After 90000 seconds the solver was only just below 5% removed from the lower bound to the optimal solution."
   ]
  },
  {
   "cell_type": "code",
   "execution_count": null,
   "metadata": {},
   "outputs": [],
   "source": [
    "weights_dim14, boards = \\\n",
    "    calculate_piece_weights(14, user_cuts=True, \n",
    "                            capitals_for_white=False)\n",
    "print(weights_dim14)\n",
    "kijk_chess_challenge(dim=14, piece_weights=weights_dim14, \n",
    "                     user_cuts=True, solver_output=False, \n",
    "                     solver_seconds=3*60)"
   ]
  },
  {
   "cell_type": "markdown",
   "metadata": {},
   "source": [
    "The above is calculated in a 3 minutes time restriction.\n",
    "One run took 90000 seconds to calculate a solution still 5% removed from the lower bound to the optimal solution.\n",
    "\n",
    "### A 15x15 board"
   ]
  },
  {
   "cell_type": "code",
   "execution_count": null,
   "metadata": {},
   "outputs": [],
   "source": [
    "weights_dim15, boards = \\\n",
    "    calculate_piece_weights(15, user_cuts=True, \n",
    "                            capitals_for_white=False)\n",
    "print(weights_dim15)\n",
    "kijk_chess_challenge(dim=15, piece_weights=weights_dim15, \n",
    "                     user_cuts=True, solver_output=False, \n",
    "                     solver_seconds=3*60)"
   ]
  },
  {
   "cell_type": "markdown",
   "metadata": {},
   "source": [
    "### A 16x16 board"
   ]
  },
  {
   "cell_type": "code",
   "execution_count": null,
   "metadata": {},
   "outputs": [],
   "source": [
    "weights_dim16, boards = \\\n",
    "    calculate_piece_weights(16, user_cuts=True, \n",
    "                            capitals_for_white=False)\n",
    "print(weights_dim16)\n",
    "kijk_chess_challenge(dim=16, piece_weights=weights_dim16, \n",
    "                     user_cuts=True, solver_output=False, \n",
    "                     solver_seconds=3*60)"
   ]
  },
  {
   "cell_type": "markdown",
   "metadata": {},
   "source": [
    "The  ${CO}_{2}$/fun ratio is getting too high here so we'll stop the fun here."
   ]
  },
  {
   "cell_type": "markdown",
   "metadata": {},
   "source": [
    "# Other ways to (almost) get there and beyond\n",
    "\n",
    "Apart from Integer Programming, one can also use constraint programming (e.g. with IBM © CPOptimizer) to get to the same solution in one minute calculation time as a colleague of mine demonstrated. \n",
    "As for artificial intelligence techniques, a nice challenge would be to solve this with reinforcement learning.\n",
    "Apart from that, one can keep using ones own natural intelligence. A colleague found the optimal solution right away, but yeah, he is a chess master. But also my 17 year old nephew Edward came up with the next two sub-optimal but attention deserving solutions."
   ]
  },
  {
   "cell_type": "code",
   "execution_count": null,
   "metadata": {},
   "outputs": [],
   "source": [
    "edward_board_1 = chess.Board(\"1NBNBNBN/8/8/2N1N1N1/1N1N1N1N/R7/8/1BNBNBNB\")\n",
    "write_board_to_svg(edward_board_1, 'EdwardBoard1.svg')\n",
    "edward_board_1"
   ]
  },
  {
   "cell_type": "markdown",
   "metadata": {},
   "source": [
    "which a score of 17/16=1.0625 and"
   ]
  },
  {
   "cell_type": "code",
   "execution_count": null,
   "metadata": {},
   "outputs": [],
   "source": [
    "edward_board_2 = chess.Board(\"1NBBBBN1/7R/8/3NN3/3NN3/8/R7/1NBBBBN1\")\n",
    "write_board_to_svg(edward_board_2, 'EdwardBoard2.svg')\n",
    "edward_board_2"
   ]
  },
  {
   "cell_type": "markdown",
   "metadata": {},
   "source": [
    "with a score of 15/14 = 1.07142857142857142857."
   ]
  },
  {
   "cell_type": "markdown",
   "metadata": {},
   "source": [
    "Edward named the latter one \"Four Horses on a Funeral\".\n",
    "\n",
    "It will take AI some time before it can make us laugh out loud, just by naming a chess configuration."
   ]
  },
  {
   "cell_type": "code",
   "execution_count": null,
   "metadata": {},
   "outputs": [],
   "source": [
    "# The following code will convert all the svg files to png files, \n",
    "# for example to be used in a Medium article. :)\n",
    "import os\n",
    "import glob\n",
    "svg_list = glob.glob('*.svg')\n",
    "print(svg_list)\n",
    "for svg in svg_list:\n",
    "    png = svg.replace('.svg', '.png')\n",
    "    cmd = 'rsvg-convert -h 320 {:s} > {:s}'.format(svg, png)\n",
    "    print(cmd)\n",
    "    os.system(cmd)"
   ]
  },
  {
   "cell_type": "markdown",
   "metadata": {},
   "source": [
    "# References\n",
    "\n",
    "[1] https://www.kijk.nl\n",
    "\n",
    "[2] https://en.wikipedia.org/wiki/Eight_queens_puzzle\n",
    "\n",
    "[3] https://lichess.org/editor/8/8/8/8/8/8/8/8_w_-_-_0_1\n",
    "\n",
    "[4] https://pypi.org/project/python-chess/\n",
    "\n",
    "[5] https://en.wikipedia.org/wiki/Forsyth–Edwards_Notation\n",
    "\n",
    "[6] https://www.gurobi.com/"
   ]
  },
  {
   "cell_type": "markdown",
   "metadata": {},
   "source": [
    "Peter Sels, April 15th 2020. Dedicated to my dad. \n",
    "\n",
    "Copyright © 2020 Logically Yours BV."
   ]
  }
 ],
 "metadata": {
  "_draft": {
   "nbviewer_url": "https://gist.github.com/923d2f39fe742fce3cc13065e97c9f57"
  },
  "gist": {
   "data": {
    "description": "ChessCompress.ipynb",
    "public": true
   },
   "id": "923d2f39fe742fce3cc13065e97c9f57"
  },
  "kernelspec": {
   "display_name": "Python 3",
   "language": "python",
   "name": "python3"
  },
  "language_info": {
   "codemirror_mode": {
    "name": "ipython",
    "version": 3
   },
   "file_extension": ".py",
   "mimetype": "text/x-python",
   "name": "python",
   "nbconvert_exporter": "python",
   "pygments_lexer": "ipython3",
   "version": "3.7.6"
  },
  "toc": {
   "base_numbering": 1,
   "nav_menu": {},
   "number_sections": true,
   "sideBar": true,
   "skip_h1_title": false,
   "title_cell": "Table of Contents",
   "title_sidebar": "Contents",
   "toc_cell": false,
   "toc_position": {},
   "toc_section_display": true,
   "toc_window_display": true
  },
  "varInspector": {
   "cols": {
    "lenName": 16,
    "lenType": 16,
    "lenVar": 40
   },
   "kernels_config": {
    "python": {
     "delete_cmd_postfix": "",
     "delete_cmd_prefix": "del ",
     "library": "var_list.py",
     "varRefreshCmd": "print(var_dic_list())"
    },
    "r": {
     "delete_cmd_postfix": ") ",
     "delete_cmd_prefix": "rm(",
     "library": "var_list.r",
     "varRefreshCmd": "cat(var_dic_list()) "
    }
   },
   "types_to_exclude": [
    "module",
    "function",
    "builtin_function_or_method",
    "instance",
    "_Feature"
   ],
   "window_display": false
  }
 },
 "nbformat": 4,
 "nbformat_minor": 4
}
