{
 "cells": [
  {
   "cell_type": "markdown",
   "metadata": {},
   "source": [
    "<font size=\"18\">Chain Gang on a Fence</font>"
   ]
  },
  {
   "cell_type": "code",
   "execution_count": null,
   "metadata": {
    "scrolled": false
   },
   "outputs": [],
   "source": [
    "# set this notebook to use a large part of the browser window width\n",
    "from IPython.core.display import HTML, display\n",
    "display(HTML(\"<style>.container { width:80% !important; }</style>\"))"
   ]
  },
  {
   "cell_type": "markdown",
   "metadata": {},
   "source": [
    "# Introduction\n",
    "\n",
    "We consider the setup where N people are holding hands in a chain, so in series and the first person\n",
    "puts one hand on an electric fence.\n",
    "\n",
    "Given normal human resistances, we intend here to calculate the currents through arms and bodies of each person.\n",
    "\n",
    "This is mainly to refute a false belief \n",
    "stated on [this Quora webpage](https://www.quora.com/If-a-line-of-people-hold-hands-and-the-person-at-the-end-touches-an-electric-fence-who-will-get-the-greatest-shock)\n",
    "that somehow, the last person in the chain would receives the most current through his arms or body.\n",
    "This belief makes N-1 people play some pranks on the Nth person, and they are wrongly convinced that the Nth person suffers the most. It must be group psychology, tricking the N-1 people into that.\n",
    "\n",
    "\n",
    "# Model Setup\n",
    "\n",
    "The network of resistances can be represented as in the below figure."
   ]
  },
  {
   "cell_type": "code",
   "execution_count": null,
   "metadata": {},
   "outputs": [],
   "source": [
    "from IPython.display import Image\n",
    "Image(filename='ChainGangOnAFence.png', width=1000, height=3000)"
   ]
  },
  {
   "cell_type": "markdown",
   "metadata": {},
   "source": [
    "Using Kirchhoff current and voltege laws we get the equations."
   ]
  },
  {
   "cell_type": "code",
   "execution_count": null,
   "metadata": {},
   "outputs": [],
   "source": [
    "Image(filename='KirchhoffCurrentLawUpperNodes.tex.png')"
   ]
  },
  {
   "cell_type": "code",
   "execution_count": null,
   "metadata": {},
   "outputs": [],
   "source": [
    "Image(filename='KirchhoffCurrentLawLowerNodes.tex.png')"
   ]
  },
  {
   "cell_type": "code",
   "execution_count": null,
   "metadata": {},
   "outputs": [],
   "source": [
    "Image(filename='KirchhoffVoltageLawForAllUpperLines.tex.png')"
   ]
  },
  {
   "cell_type": "code",
   "execution_count": null,
   "metadata": {},
   "outputs": [],
   "source": [
    "Image(filename='KirchhoffVoltageLawForAllUpDownLines.tex.png')"
   ]
  },
  {
   "cell_type": "code",
   "execution_count": null,
   "metadata": {},
   "outputs": [],
   "source": [
    "Image(filename='KirchhoffVoltageLawForAllLowerLines.tex.png')"
   ]
  },
  {
   "cell_type": "markdown",
   "metadata": {},
   "source": [
    "This gives a system of 5N linear equations. \n",
    "for 3N current variables and 2(N+1) voltage variables, so for 5N+2 variables.\n",
    "However, in addition, we set v(l,0) to 0 and v(u,0) to the battery voltage, so we then have 5N+2 equations as well.\n",
    "That is nicely and easily solvable using some linear algebra.\n",
    "\n",
    "Even though, there is only one solution here and we do not have an objective, to solve this,\n",
    "we can still use the Integer Linear Programming (ILP) solver Gurobi. There will be only continuous variables\n",
    "and the problem is a feasibility rather than optimization problem.\n",
    "We code this as follows."
   ]
  },
  {
   "cell_type": "code",
   "execution_count": null,
   "metadata": {},
   "outputs": [],
   "source": [
    "from gurobipy import *\n",
    "\n",
    "# https://www.agrisellex.co.uk/blogs/blog/electric-fencing-in-dry-soil-conditions\n",
    "# claims:\n",
    "wet_ground_resistance_ohms = 50\n",
    "dry_ground_resistance_ohms = 10000\n",
    "\n",
    "def set_resistances(N, \n",
    "                    hand_to_hand_resistance_ohm = 10000, \n",
    "                    neck_to_feet_resistance_ohm = 10000, \n",
    "                    person_thru_ground_to_prev_person_resistance_ohm = wet_ground_resistance_ohms):    \n",
    "    verbose = 0\n",
    "\n",
    "    r_a = [hand_to_hand_resistance_ohm] * N\n",
    "    r_b = [neck_to_feet_resistance_ohm] * N\n",
    "    r_g = [person_thru_ground_to_prev_person_resistance_ohm] * N\n",
    "    \n",
    "    if verbose >= 1:\n",
    "        print(r_a)\n",
    "\n",
    "    return r_a, r_b, r_g\n",
    "\n",
    "def print_resistances(r_a, r_b, r_g):\n",
    "    for const_name, const_struct in list(zip(['r_a', 'r_b', 'r_g'], [r_a, r_b, r_g])):\n",
    "        print(const_name + ' (Ohm) = ')\n",
    "        print(const_struct)\n",
    "\n",
    "def calculate_currents_and_voltages(r_a, r_b, r_g, battery_voltage=5000):\n",
    "    verbose = 0\n",
    "    \n",
    "    N = len(r_a)\n",
    "    assert len(r_b) == N\n",
    "    assert len(r_g) == N\n",
    "    \n",
    "    m = Model()\n",
    "\n",
    "    rN = range(0,N)         # [0, 1, .. N-1]\n",
    "    rNplus1 = range(0,N+1)  # [0, 1, .. N]\n",
    "\n",
    "    rCurrents = list(rN)\n",
    "    rVoltages = list(rNplus1)  # we also define v0 as a variable even if this battery voltage is fixed and known ahead.\n",
    "    \n",
    "    if verbose >= 1:\n",
    "        print(rCurrents)\n",
    "        print(rVoltages)\n",
    "\n",
    "    # create all the 4N continuous variables:\n",
    "    i_a = m.addVars(rCurrents, vtype=GRB.CONTINUOUS, name='i_a')  # upper node currents (going to the right thru arms)\n",
    "    i_b = m.addVars(rCurrents, vtype=GRB.CONTINUOUS, name='i_b')  # body currents (flowing down from nack to legs)\n",
    "    i_g = m.addVars(rCurrents, vtype=GRB.CONTINUOUS, name='i_g')  # lower node to battery anode (in ground) currents\n",
    "    vu = m.addVars(rVoltages, vtype=GRB.CONTINUOUS, name='v')    # v0 (battery neck) and N voltages at person i neck for i in 1..N\n",
    "    vd = m.addVars(rVoltages, vtype=GRB.CONTINUOUS, name='v')    # v0 (battery feet) and N voltages at person i feet for i in 1..N\n",
    "\n",
    "    assert len(i_a) == N\n",
    "    assert len(i_b) == N\n",
    "    assert len(i_g) == N\n",
    "    assert len(vu) == N+1\n",
    "    assert len(vd) == N+1\n",
    "\n",
    "    # (1) create all the 3N linear current constraints:\n",
    "    for i in rCurrents:  # there are N of them: 0..N-1\n",
    "        if i < N-1:\n",
    "            m.addConstr(i_a[i  ] == i_a[i+1] + i_b[i  ], 'i_a_constr{:d}'.format(i))\n",
    "            m.addConstr(i_g[i  ] == i_b[i  ] + i_g[i+1], 'i_b_constr{:d}'.format(i))\n",
    "        else:\n",
    "            m.addConstr(i_a[i  ] ==            i_b[i  ], 'i_a_constr{:d}'.format(i))\n",
    "            m.addConstr(i_g[i  ] == i_b[i  ]           , 'i_b_constr{:d}'.format(i))\n",
    "\n",
    "    # (2) create all the 2N linear current constraints:\n",
    "    for i in rCurrents: # there are N+1 of them: 0,..N\n",
    "        r = r_a[i] if i == 0 else r_a[i-1] + r_a[i]\n",
    "        m.addConstr(vu[i  ] - r      * i_a[i] == vu[i+1], 'v_upper{:d}'.format(i))                 \n",
    "        m.addConstr(vu[i+1] - r_b[i] * i_b[i] == vd[i+1], 'v_up_down{:d}'.format(i))\n",
    "        m.addConstr(vd[i+1] - r_g[i] * i_g[i] == vd[i  ], 'v_lower{:d}'.format(i))\n",
    "\n",
    "    # (3) create all the 2 linear voltage constraints, sespecially for the battery:\n",
    "    # Set the battery voltage:\n",
    "    m.addConstr(vu[0] == battery_voltage, 'vu_0_fix')  # 5000V is a typical average voltage for an average fence battery\n",
    "    # See: https://hypertextbook.com/facts/2001/NicoleCastellano.shtml\n",
    "    m.addConstr(vd[0] == 0, 'vl_0_fix')  # 0V is the typical voltage for the ground\n",
    "\n",
    "    m.optimize()\n",
    "    \n",
    "    return m, i_a, i_b, i_g, vu, vd\n",
    "        \n",
    "def print_results(m, i_a, i_b, i_g, vu, vd):    \n",
    "    for var_name, var_struct in list(zip(['i_a', 'i_b', 'i_g', 'vu', 'vd'], [i_a, i_b, i_g, vu, vd])):\n",
    "        values = m.getAttr('x', var_struct)\n",
    "        s = var_name\n",
    "        if var_name in ['i_a', 'i_b', 'i_g']:\n",
    "            s += ' (mA) = '\n",
    "            vals = ['{:d}'.format(int(values[v] * 1000)) for v in values]\n",
    "        else:\n",
    "            assert var_name in ['vu', 'vd']\n",
    "            s += ' (kV) = '\n",
    "            vals = ['{:.2f}'.format((values[v] / 1000)) for v in values]\n",
    "        print(s)\n",
    "        print(vals)"
   ]
  },
  {
   "cell_type": "markdown",
   "metadata": {},
   "source": [
    "# Calculation Examples\n",
    "\n",
    "## Example with 2 Persons on Dry Ground"
   ]
  },
  {
   "cell_type": "code",
   "execution_count": null,
   "metadata": {},
   "outputs": [],
   "source": [
    "N = 2  # number of people in the chain gang\n",
    "r_a, r_b, r_g = set_resistances(N, \n",
    "                                hand_to_hand_resistance_ohm = 10000, \n",
    "                                neck_to_feet_resistance_ohm = 5000, \n",
    "                                person_thru_ground_to_prev_person_resistance_ohm = dry_ground_resistance_ohms)\n",
    "m, i_a, i_b, i_g, vu, vd = calculate_currents_and_voltages(r_a, r_b, r_g, battery_voltage=5000)\n",
    "print_results(m, i_a, i_b, i_g, vu, vd)"
   ]
  },
  {
   "cell_type": "markdown",
   "metadata": {},
   "source": [
    "So all current series i_a and i_b (and even i_g) show lower and lower values, when going from the first to the last person.\n",
    "This means that in all respects, in arms and body, the Nth person is the one suffering the least, contrary to the popular false belief."
   ]
  },
  {
   "cell_type": "markdown",
   "metadata": {},
   "source": [
    "## Example with 3 Persons on Dry Ground"
   ]
  },
  {
   "cell_type": "code",
   "execution_count": null,
   "metadata": {},
   "outputs": [],
   "source": [
    "N = 3  # number of people in the chain gang\n",
    "r_a, r_b, r_g = set_resistances(N, \n",
    "                                hand_to_hand_resistance_ohm = 10000, \n",
    "                                neck_to_feet_resistance_ohm = 5000,\n",
    "                                person_thru_ground_to_prev_person_resistance_ohm = wet_ground_resistance_ohms)\n",
    "m, i_a, i_b, i_g, vu, vd = calculate_currents_and_voltages(r_a, r_b, r_g, battery_voltage=5000)\n",
    "print_results(m, i_a, i_b, i_g, vu, vd)"
   ]
  },
  {
   "cell_type": "markdown",
   "metadata": {},
   "source": [
    "Again, in all respects, in arms and body, the Nth person is the one suffering the least, contrary to the popular false belief."
   ]
  },
  {
   "cell_type": "markdown",
   "metadata": {},
   "source": [
    "## Example with 4 Persons on Wet Ground"
   ]
  },
  {
   "cell_type": "code",
   "execution_count": null,
   "metadata": {},
   "outputs": [],
   "source": [
    "N = 4  # number of people in the chain gang\n",
    "r_a, r_b, r_g = set_resistances(N, \n",
    "                                hand_to_hand_resistance_ohm = 10000, \n",
    "                                neck_to_feet_resistance_ohm = 5000,\n",
    "                                person_thru_ground_to_prev_person_resistance_ohm = wet_ground_resistance_ohms)\n",
    "m, i_a, i_b, i_g, vu, vd = calculate_currents_and_voltages(r_a, r_b, r_g, battery_voltage=5000)\n",
    "print_results(m, i_a, i_b, i_g, vu, vd)"
   ]
  },
  {
   "cell_type": "markdown",
   "metadata": {},
   "source": [
    "## Example with 4 Persons on Wet Ground, where Only the 4th is Barefoot in Wet Grass\n",
    "\n",
    "We still assume wet grass here for all, but now assume even unrealistically low resistances for the last person's arm and body."
   ]
  },
  {
   "cell_type": "code",
   "execution_count": null,
   "metadata": {},
   "outputs": [],
   "source": [
    "N = 4  # number of people in the chain gang\n",
    "r_a, r_b, r_g = set_resistances(N, \n",
    "                                hand_to_hand_resistance_ohm = 10000, \n",
    "                                neck_to_feet_resistance_ohm = 5000,\n",
    "                                person_thru_ground_to_prev_person_resistance_ohm = wet_ground_resistance_ohms)\n",
    "r_a[N-1] = 50  # even almost zero arm resistance resulting from good wet contact with ground\n",
    "r_b[N-1] = 50  # even almost zero body resistance resulting from good wet contact with ground\n",
    "m, i_a, i_b, i_g, vu, vd = calculate_currents_and_voltages(r_a, r_b, r_g, battery_voltage=5000)\n",
    "print_results(m, i_a, i_b, i_g, vu, vd)"
   ]
  },
  {
   "cell_type": "markdown",
   "metadata": {},
   "source": [
    "So even if the resistance of the arm and body of the last person are supposed to be unrealistically low, he would not suffer great currents due to being protected by the resistance of all the people between him and the fence. This totally disproves the false believe that the last person would suffer the most. He suffers the least instead.\n",
    "\n",
    "## Example with 4 Persons on Wet Ground, where Only the First and the Last are Barefoot in Wet Grass\n"
   ]
  },
  {
   "cell_type": "code",
   "execution_count": null,
   "metadata": {},
   "outputs": [],
   "source": [
    "N = 4  # number of people in the chain gang\n",
    "r_a, r_b, r_g = set_resistances(N, \n",
    "                                hand_to_hand_resistance_ohm = 10000, \n",
    "                                neck_to_feet_resistance_ohm = 5000,\n",
    "                                person_thru_ground_to_prev_person_resistance_ohm = wet_ground_resistance_ohms)\n",
    "r_a[0] = 50  # even almost zero arm resistance resulting from good wet contact with ground\n",
    "r_b[0] = 50  # even almost zero body resistance resulting from good wet contact with ground\n",
    "\n",
    "r_a[N-1] = 50  # even almost zero arm resistance resulting from good wet contact with ground\n",
    "r_b[N-1] = 50  # even almost zero body resistance resulting from good wet contact with ground\n",
    "\n",
    "m, i_a, i_b, i_g, vu, vd = calculate_currents_and_voltages(r_a, r_b, r_g, battery_voltage=5000)\n",
    "print_results(m, i_a, i_b, i_g, vu, vd)"
   ]
  },
  {
   "cell_type": "markdown",
   "metadata": {},
   "source": [
    "Clearly the first person gets electrocuted but the last is still totally safe."
   ]
  },
  {
   "cell_type": "markdown",
   "metadata": {},
   "source": [
    "# A Better Way to Play the Prank\n",
    "\n",
    "So the belief that the last person in the chain would somehow get the most current is clearly false.\n",
    "Chaining up in series would be the [Bart SImpson](https://simpsons.fandom.com/wiki/Bart_Simpson) way to play the prank. Haahaa! :)"
   ]
  },
  {
   "cell_type": "code",
   "execution_count": null,
   "metadata": {},
   "outputs": [],
   "source": [
    "Image(filename='BartSimpsonLaughingAnimated.gif')"
   ]
  },
  {
   "cell_type": "markdown",
   "metadata": {},
   "source": [
    "But if you want to play a prank on the last person in the chain, trying to get more current through any body part than through the first N-1 persons and cannot force person N to wear more conductive shoes than the N-1 previous persons are wearing, there is a way...\n",
    "\n",
    "It's putting the N-1 persons in parallel i.o. in series of course, as in the following figure."
   ]
  },
  {
   "cell_type": "code",
   "execution_count": null,
   "metadata": {},
   "outputs": [],
   "source": [
    "Image(filename='ParallelChainGangOnAFence.png', width=600, height=1000)"
   ]
  },
  {
   "cell_type": "markdown",
   "metadata": {},
   "source": [
    "We could write a function calculate_currents_and_voltages(r_a, r_b, r_g, battery_voltage=5000) setting up the Kirchhoff laws, resulting in different equations here.\n",
    "But it suffices to first understand that N-1 people shunted in parallel behave as a single person\n",
    "of which the arm resistance is 1/(N-1) of a single person and of which the body resistance is also 1/(N-1) of a single person, as is done in the right halve of the figure above.\n",
    "So the parallel N-1 people can be replaced by the equivalent network of 1 person with these 1/(N-1) lower resistances.\n",
    "\n",
    "Now, the person N will roughly suffer N-1 times as much as the other N-1 people playing the prank.\n",
    "This is clearly the way [Martin Prince Jr](https://simpsons.fandom.com/wiki/Martin_Prince) would do it! :)"
   ]
  },
  {
   "cell_type": "code",
   "execution_count": null,
   "metadata": {},
   "outputs": [],
   "source": [
    "Image(filename='MartinPrinceJrLaughing.gif')"
   ]
  },
  {
   "cell_type": "markdown",
   "metadata": {},
   "source": [
    "# Conclusion\n",
    "\n",
    "So, let's agree that science should be taught before pranking age. :)"
   ]
  },
  {
   "cell_type": "markdown",
   "metadata": {},
   "source": [
    "You can find [an article on Medium](https://logicallyyours.com/on-computation) refuting the same false belief but with as little physics / mathematical knowledge as possible. For more computational diversions from Logically Yours, have a look [at this blog](https://logicallyyours.com/on-computation). "
   ]
  },
  {
   "cell_type": "markdown",
   "metadata": {},
   "source": [
    "Peter Sels, June 20th, 2020. \n",
    "Copyright © 2020 Logically Yours BV."
   ]
  }
 ],
 "metadata": {
  "_draft": {
   "nbviewer_url": "https://gist.github.com/02be944085006dd9f6cf7fb0bd527c3f"
  },
  "gist": {
   "data": {
    "description": "ChainGangOnAFence.ipynb",
    "public": false
   },
   "id": "02be944085006dd9f6cf7fb0bd527c3f"
  },
  "kernelspec": {
   "display_name": "Python 3",
   "language": "python",
   "name": "python3"
  },
  "language_info": {
   "codemirror_mode": {
    "name": "ipython",
    "version": 3
   },
   "file_extension": ".py",
   "mimetype": "text/x-python",
   "name": "python",
   "nbconvert_exporter": "python",
   "pygments_lexer": "ipython3",
   "version": "3.7.6"
  },
  "toc": {
   "base_numbering": 1,
   "nav_menu": {},
   "number_sections": true,
   "sideBar": true,
   "skip_h1_title": false,
   "title_cell": "Table of Contents",
   "title_sidebar": "Contents",
   "toc_cell": false,
   "toc_position": {
    "height": "calc(100% - 180px)",
    "left": "10px",
    "top": "150px",
    "width": "403.8541564941406px"
   },
   "toc_section_display": true,
   "toc_window_display": true
  },
  "varInspector": {
   "cols": {
    "lenName": 16,
    "lenType": 16,
    "lenVar": 40
   },
   "kernels_config": {
    "python": {
     "delete_cmd_postfix": "",
     "delete_cmd_prefix": "del ",
     "library": "var_list.py",
     "varRefreshCmd": "print(var_dic_list())"
    },
    "r": {
     "delete_cmd_postfix": ") ",
     "delete_cmd_prefix": "rm(",
     "library": "var_list.r",
     "varRefreshCmd": "cat(var_dic_list()) "
    }
   },
   "types_to_exclude": [
    "module",
    "function",
    "builtin_function_or_method",
    "instance",
    "_Feature"
   ],
   "window_display": false
  }
 },
 "nbformat": 4,
 "nbformat_minor": 4
}
