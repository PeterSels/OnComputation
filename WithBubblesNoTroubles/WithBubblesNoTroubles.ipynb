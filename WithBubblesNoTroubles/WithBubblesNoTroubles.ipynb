{
 "cells": [
  {
   "cell_type": "markdown",
   "metadata": {},
   "source": [
    "<font size=\"18\">With Bubbles, No Troubles</font>"
   ]
  },
  {
   "cell_type": "code",
   "execution_count": null,
   "metadata": {
    "scrolled": false
   },
   "outputs": [],
   "source": [
    "# set this notebook to use a large part of the browser window width\n",
    "from IPython.core.display import HTML, display\n",
    "display(HTML(\"<style>.container { width:80% !important; }</style>\"))"
   ]
  },
  {
   "cell_type": "markdown",
   "metadata": {},
   "source": [
    "# Introduction\n",
    "\n",
    "We consider the problem of allocating all people p in a set P a spot (x,y), where\n",
    "... see README.txt i  this dir.\n",
    "\n",
    "# Model Setup\n",
    "\n"
   ]
  },
  {
   "cell_type": "code",
   "execution_count": null,
   "metadata": {},
   "outputs": [],
   "source": [
    "from IPython.display import Image\n",
    "#Image(filename='ChainGangOnAFence.png', width=1000, height=3000)"
   ]
  },
  {
   "cell_type": "markdown",
   "metadata": {},
   "source": [
    "Using Kirchhoff current and voltege laws we get the equations."
   ]
  },
  {
   "cell_type": "code",
   "execution_count": null,
   "metadata": {},
   "outputs": [],
   "source": [
    "from gurobipy import *\n",
    "import random\n",
    "\n",
    "random.seed()\n",
    "\n",
    "program = 'WithBubblesNoTroubles'\n",
    "\n",
    "# generate some bubbles with people:\n",
    "max_persons_per_bubble = 5\n",
    "B = 4\n",
    "\n",
    "p = 0\n",
    "bubbles = []\n",
    "persons = []\n",
    "for b in range(0, B):\n",
    "    bubble_b_size = random.randint(1, max_persons_per_bubble)\n",
    "    for i in range(0, bubble_b_size):\n",
    "        bubbles.append(b)\n",
    "        persons.append(p)        \n",
    "        p += 1\n",
    "\n",
    "P = len(persons)\n",
    "print('P = {:d}'.format(P))\n",
    "print('persons = ')\n",
    "print(persons)\n",
    "\n",
    "print('B = {:d}'.format(B))\n",
    "print('bubbles = ')\n",
    "print(bubbles)\n",
    "\n",
    "dSameBubbleMLo = 0.3 # meter\n",
    "dSameBubbleMHi = 3.0 # meter\n",
    "\n",
    "dOtherBMLo = 1.5 # meter\n",
    "\n",
    "def model(xlo=0, xhi=100,\n",
    "          ylo=0, yhi=100):\n",
    "    \n",
    "    verbose = 0\n",
    "        \n",
    "    m = Model()\n",
    "\n",
    "    # create all the 4N continuous variables:\n",
    "    x = m.addVars(persons, lb=[xlo]*P, ub=[xhi]*P, vtype=GRB.CONTINUOUS, name='x')  \n",
    "    y = m.addVars(persons, lb=[ylo]*P, ub=[yhi]*P, vtype=GRB.CONTINUOUS, name='y')  \n",
    "\n",
    "    assert len(x) == P\n",
    "    assert len(y) == P\n",
    "\n",
    "    # (1) create all the 3N linear current constraints:\n",
    "    for p1 in persons:  # there are P of them: 0..P-1\n",
    "        for p2 in persons:  # there are P of them: 0..P-1\n",
    "            if p1 < p2:\n",
    "                quad_expr = (x[p2] - x[p1]) *  (x[p2] - x[p1]) + (y[p2] - y[p1]) * (y[p2] - y[p1])\n",
    "                if bubbles[p1] == bubbles[p2]:  # pair is in same bubble, pull together\n",
    "                    m.addConstr(quad_expr >= dSameBubbleMLo**2, 'sameMLo_p{:d}_p{:d}'.format(p1,p2))\n",
    "                    m.addConstr(quad_expr <= dSameBubbleMHi**2, 'sameMHi_p{:d}_p{:d}'.format(p1,p2))\n",
    "                else: # pair is not in same bubble, separate by pushing away from each other\n",
    "                    m.addConstr(quad_expr >= dOtherBMLo**2, 'otherMLo_p{:d}_p{:d}'.format(p1,p2))\n",
    "\n",
    "    m.setParam(GRB.Param.NonConvex, 2)\n",
    "    m.write(program + '.lp')\n",
    "    m.optimize()\n",
    "    print(x)\n",
    "    print(y)\n",
    "    return m, x, y\n",
    "    \n",
    "m, x, y = model()"
   ]
  },
  {
   "cell_type": "code",
   "execution_count": null,
   "metadata": {},
   "outputs": [],
   "source": [
    "# Select B different colors to display the bubbles in different colors,\n",
    "# so that the use can immediately see that bubbles are well separated.\n",
    "import numpy as np\n",
    "import colorsys\n",
    "\n",
    "def _get_colors(num_colors):\n",
    "    colors=[]\n",
    "    for i in np.arange(0., 360., 360. / num_colors):\n",
    "        hue = i/360.\n",
    "        lightness = (50 + np.random.rand() * 10)/100.\n",
    "        saturation = (90 + np.random.rand() * 10)/100.\n",
    "        colors.append(colorsys.hls_to_rgb(hue, lightness, saturation))\n",
    "    return colors\n",
    "\n",
    "bubble_to_color_map = _get_colors(B)"
   ]
  },
  {
   "cell_type": "code",
   "execution_count": null,
   "metadata": {},
   "outputs": [],
   "source": [
    "#import numpy as np\n",
    "\n",
    "def print_and_convert_results(m, x, y):     \n",
    "    for var_name, var_struct in list(zip(['x', 'y'], [x, y])):\n",
    "        values = m.getAttr('x', var_struct)\n",
    "        s = var_name\n",
    "        s += ' (m) = '\n",
    "        vals = [(values[v]) for v in values]\n",
    "        do_print = False\n",
    "        if do_print:\n",
    "            print(s)\n",
    "            print(vals)\n",
    "        \n",
    "        if var_name == 'x':\n",
    "            x_values = vals\n",
    "            if do_print:\n",
    "                print(x_values)\n",
    "        else:\n",
    "            y_values = vals\n",
    "            if do_print:\n",
    "                print(y_values)\n",
    "    return x_values, y_values\n",
    "\n",
    "    \n",
    "x_values, y_values = print_and_convert_results(m, x, y)\n",
    "\n",
    "\n",
    "import matplotlib\n",
    "\n",
    "\n",
    "import pandas as pd\n",
    "df = pd.DataFrame(columns=[ \"person\", \"bubble\", \"x\", \"y\", \"color\"])\n",
    "df[\"person\"] = persons\n",
    "df[\"bubble\"] = bubbles\n",
    "df[\"color\"] = [matplotlib.colors.to_hex(bubble_to_color_map[b]) for b in bubbles]\n",
    "df[\"x\"] = x_values\n",
    "df[\"y\"] = y_values\n",
    "\n",
    "df"
   ]
  },
  {
   "cell_type": "code",
   "execution_count": null,
   "metadata": {},
   "outputs": [],
   "source": [
    "import matplotlib.pyplot as plt\n",
    "\n",
    "plt.scatter(df[\"x\"], df[\"y\"], color=df[\"color\"], alpha=0.7)"
   ]
  }
 ],
 "metadata": {
  "_draft": {
   "nbviewer_url": "https://gist.github.com/02be944085006dd9f6cf7fb0bd527c3f"
  },
  "gist": {
   "data": {
    "description": "ChainGangOnAFence.ipynb",
    "public": false
   },
   "id": "02be944085006dd9f6cf7fb0bd527c3f"
  },
  "kernelspec": {
   "display_name": "Python 3",
   "language": "python",
   "name": "python3"
  },
  "language_info": {
   "codemirror_mode": {
    "name": "ipython",
    "version": 3
   },
   "file_extension": ".py",
   "mimetype": "text/x-python",
   "name": "python",
   "nbconvert_exporter": "python",
   "pygments_lexer": "ipython3",
   "version": "3.7.6"
  },
  "toc": {
   "base_numbering": 1,
   "nav_menu": {},
   "number_sections": true,
   "sideBar": true,
   "skip_h1_title": false,
   "title_cell": "Table of Contents",
   "title_sidebar": "Contents",
   "toc_cell": false,
   "toc_position": {
    "height": "calc(100% - 180px)",
    "left": "10px",
    "top": "150px",
    "width": "403.8541564941406px"
   },
   "toc_section_display": true,
   "toc_window_display": true
  },
  "varInspector": {
   "cols": {
    "lenName": 16,
    "lenType": 16,
    "lenVar": 40
   },
   "kernels_config": {
    "python": {
     "delete_cmd_postfix": "",
     "delete_cmd_prefix": "del ",
     "library": "var_list.py",
     "varRefreshCmd": "print(var_dic_list())"
    },
    "r": {
     "delete_cmd_postfix": ") ",
     "delete_cmd_prefix": "rm(",
     "library": "var_list.r",
     "varRefreshCmd": "cat(var_dic_list()) "
    }
   },
   "types_to_exclude": [
    "module",
    "function",
    "builtin_function_or_method",
    "instance",
    "_Feature"
   ],
   "window_display": false
  }
 },
 "nbformat": 4,
 "nbformat_minor": 4
}
