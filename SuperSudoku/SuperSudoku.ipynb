{
 "cells": [
  {
   "cell_type": "markdown",
   "metadata": {},
   "source": [
    "<font size=\"18\">Automatically Solving Sudokus and Meta Sudokus</font>"
   ]
  },
  {
   "cell_type": "code",
   "execution_count": null,
   "metadata": {},
   "outputs": [],
   "source": [
    "# set this notebook to use a large part of the browser window width\n",
    "from IPython.core.display import HTML, display\n",
    "display(HTML(\"<style>.container { width:70% !important; }</style>\"))"
   ]
  },
  {
   "cell_type": "markdown",
   "metadata": {},
   "source": [
    "# The well known Sudoku Puzzle\n",
    "\n",
    "## Introduction\n",
    "\n",
    "The Sudoku version played on a 9 x 9 squares board, is a well known puzzle game. \n",
    "The goal of the puzzle is for the player to put a digit from 1 to 9 in each free square,\n",
    "so that:\n",
    "    (a) in every row of 9 squares, no digit occurs more than once\n",
    "    (b) in every column of 9 squares, no digit occurs more than once\n",
    "    (c) in every marked 3x3 subsquare, no digit occurs more than once.\n",
    "A given 9 * 9 Sudoku puzzle typically contains some squares that already contain a number from 1 to 9.\n",
    "An example Sudoku challenge, taken from [1] is:"
   ]
  },
  {
   "cell_type": "markdown",
   "metadata": {},
   "source": [
    "<!DOCTYPE html>\n",
    "<html>\n",
    "<head>\n",
    "<style>\n",
    "table { border-collapse: collapse; font-family: Calibri, sans-serif; }\n",
    "colgroup, tbody { border: solid medium; }\n",
    "td { border: solid thin; height: 1.4em; width: 1.4em; text-align: center; padding: 0; }\n",
    "</style>\n",
    "</head>\n",
    "<body>\n",
    "<table>\n",
    "  <caption>A standard Sudoku challenge</caption>\n",
    "  <colgroup><col><col><col>\n",
    "  <colgroup><col><col><col>\n",
    "  <colgroup><col><col><col>\n",
    "  <tbody>\n",
    "   <tr> <td>1 <td>  <td>3 <td>6 <td>  <td>4 <td>7 <td>  <td>9\n",
    "   <tr> <td>  <td>2 <td>  <td>  <td>9 <td>  <td>  <td>1 <td>\n",
    "   <tr> <td>7 <td>  <td>  <td>  <td>  <td>  <td>  <td>  <td>6</td></tr>\n",
    "  </tbody>\n",
    "  <tbody>\n",
    "   <tr> <td>2 <td>  <td>4 <td>  <td>3 <td>  <td>9 <td>  <td>8\n",
    "   <tr> <td>  <td>  <td>  <td>  <td>  <td>  <td>  <td>  <td>\n",
    "   <tr> <td>5 <td>  <td>  <td>9 <td>  <td>7 <td>  <td>  <td>1\n",
    "  <tbody>\n",
    "   <tr> <td>6 <td>  <td>  <td>  <td>5 <td>  <td>  <td>  <td>2\n",
    "   <tr> <td>  <td>  <td>  <td>  <td>7 <td>  <td>  <td>  <td>\n",
    "   <tr> <td>9 <td>  <td>  <td>8 <td>  <td>2 <td>  <td>  <td>5\n",
    "</table>\n",
    "</body>\n",
    "</html>"
   ]
  },
  {
   "cell_type": "markdown",
   "metadata": {},
   "source": [
    "<html>\n",
    "<head>\n",
    "\n",
    "  <style>\n",
    "  table { border-collapse: collapse; font-family: Calibri, sans-serif; }\n",
    "  colgroup, tbody { border: solid medium; }\n",
    "  td { border: solid thin; height: 1.4em; width: 1.4em; text-align: center; padding: 0; }\n",
    "  </style>\n",
    "  <title></title>\n",
    "</head>\n",
    "<body>\n",
    "  <table>\n",
    "    <caption>\n",
    "      A standard Sudoku challenge\n",
    "    </caption>\n",
    "    <colgroup>\n",
    "      <col>\n",
    "      <col>\n",
    "      <col>\n",
    "    </colgroup>\n",
    "    <colgroup>\n",
    "      <col>\n",
    "      <col>\n",
    "      <col>\n",
    "    </colgroup>\n",
    "    <colgroup>\n",
    "      <col>\n",
    "      <col>\n",
    "      <col>\n",
    "    </colgroup>\n",
    "    <tbody>\n",
    "      <tr>\n",
    "        <td>1</td>\n",
    "        <td></td>\n",
    "        <td>3</td>\n",
    "        <td>6</td>\n",
    "        <td></td>\n",
    "        <td>4</td>\n",
    "        <td>7</td>\n",
    "        <td></td>\n",
    "        <td>9</td>\n",
    "      </tr>\n",
    "      <tr>\n",
    "        <td></td>\n",
    "        <td>2</td>\n",
    "        <td></td>\n",
    "        <td></td>\n",
    "        <td>9</td>\n",
    "        <td></td>\n",
    "        <td></td>\n",
    "        <td>1</td>\n",
    "        <td></td>\n",
    "      </tr>\n",
    "      <tr>\n",
    "        <td>7</td>\n",
    "        <td></td>\n",
    "        <td></td>\n",
    "        <td></td>\n",
    "        <td></td>\n",
    "        <td></td>\n",
    "        <td></td>\n",
    "        <td></td>\n",
    "        <td>6</td>\n",
    "      </tr>\n",
    "    </tbody>\n",
    "    <tbody>\n",
    "      <tr>\n",
    "        <td>2</td>\n",
    "        <td></td>\n",
    "        <td>4</td>\n",
    "        <td></td>\n",
    "        <td>3</td>\n",
    "        <td></td>\n",
    "        <td>9</td>\n",
    "        <td></td>\n",
    "        <td>8</td>\n",
    "      </tr>\n",
    "      <tr>\n",
    "        <td></td>\n",
    "        <td></td>\n",
    "        <td></td>\n",
    "        <td></td>\n",
    "        <td></td>\n",
    "        <td></td>\n",
    "        <td></td>\n",
    "        <td></td>\n",
    "        <td></td>\n",
    "      </tr>\n",
    "      <tr>\n",
    "        <td>5</td>\n",
    "        <td></td>\n",
    "        <td></td>\n",
    "        <td>9</td>\n",
    "        <td></td>\n",
    "        <td>7</td>\n",
    "        <td></td>\n",
    "        <td></td>\n",
    "        <td>1</td>\n",
    "      </tr>\n",
    "    </tbody>\n",
    "    <tbody>\n",
    "      <tr>\n",
    "        <td>6</td>\n",
    "        <td></td>\n",
    "        <td></td>\n",
    "        <td></td>\n",
    "        <td>5</td>\n",
    "        <td></td>\n",
    "        <td></td>\n",
    "        <td></td>\n",
    "        <td>2</td>\n",
    "      </tr>\n",
    "      <tr>\n",
    "        <td></td>\n",
    "        <td></td>\n",
    "        <td></td>\n",
    "        <td></td>\n",
    "        <td>7</td>\n",
    "        <td></td>\n",
    "        <td></td>\n",
    "        <td></td>\n",
    "        <td></td>\n",
    "      </tr>\n",
    "      <tr>\n",
    "        <td>9</td>\n",
    "        <td></td>\n",
    "        <td></td>\n",
    "        <td>8</td>\n",
    "        <td></td>\n",
    "        <td>2</td>\n",
    "        <td></td>\n",
    "        <td></td>\n",
    "        <td>5</td>\n",
    "      </tr>\n",
    "    </tbody>\n",
    "  </table>\n",
    "</body>\n",
    "</html>"
   ]
  },
  {
   "cell_type": "markdown",
   "metadata": {},
   "source": [
    "## Sudoku Model Formulation\n",
    "\n",
    "A Sudoku is a very easy problem to formulate as an Integer Linear Programming (ILP) problem. Its mathematical declarative model can be stated as follows.\n",
    "\n",
    "### Sets and Indices\n",
    "\n",
    "\n",
    "$D \\in \\mathbb{N}$: meta sudoku dimension of the Sudoku board.\n",
    "\n",
    "$\\overline{n} = D^{2}$: the maximum number to be filled out in the Sudoku. The minimum number is always 1.\n",
    "\n",
    "$r \\in R$: indices for the row of the Sudoku board.\n",
    "\n",
    "$c \\in C$: indices for the column of the Sudoku board.\n",
    "\n",
    "$n \\in N$: indices for the allowable number set of the Sudoku board.\n",
    "\n",
    "\n",
    "### Parameters \n",
    "\n",
    "$f_{r, c}: R \\times C \\mapsto N$: Specifies the already decided - fixed - numbers for some board squares in the Sudoku problem definition. \n",
    "f_{r,c,n} is 1 if n is the number decided for row r and column c of the Sudoku board. Typically, note all combinations of r and c are be specified.\n",
    "\n",
    "\n",
    "### Decision Variables\n",
    "$b_{r, c, n} \\in \\{0, 1\\}$: This variable is equal to 1, if we decide to put in row r and column c the number n. Otherwise, the decision variable is equal to zero.\n",
    "\n",
    "$n_{r, c} \\in \\{0, \\overline{n}\\}$: This variable is equal to n, if we decide to put in row r and column c the number n. Otherwise, the decision variable is equal to zero.\n",
    "They formulate a more direct way to represent the solution than the b variables. Of course b and n cannot be decided upon separately so there will be a binding constraint between them.\n",
    "\n",
    "### Objective Function\n",
    "\n",
    "Since Sudoku is a feasibility problem only, there is no concept of optimality here and so no objective function to be minimize or maximized needs to be specified.\n",
    "\n",
    "### Constraints \n",
    "\n",
    "- **Square-wise constraints **. Each square of the Sudoku board holds exactly 1 number $n \\in N$.\n",
    "\n",
    "\\begin{equation}\n",
    "\\sum_{n \\in N} b_{r, c, n} = 1 \\quad \\forall (r,c) \\in R \\times C\n",
    "\\tag{1}\n",
    "\\end{equation}\n",
    "\n",
    "- **Row-wise constraints **. For each row $r$, ensure that each number $n \\in N$ occurs exactly once.\n",
    "\n",
    "\\begin{equation}\n",
    "\\sum_{c \\in C} b_{r, c, n} = 1 \\quad \\forall (r,n) \\in R \\times N\n",
    "\\tag{2}\n",
    "\\end{equation}\n",
    "\n",
    "- **Columns-wise constraints **. For each column $c$, ensure that each number $n \\in N$ occurs exactly once.\n",
    "\n",
    "\\begin{equation}\n",
    "\\sum_{r \\in R} b_{r, c, n} = 1 \\quad \\forall (c,n) \\in C \\times N\n",
    "\\tag{3}\n",
    "\\end{equation}\n",
    "\n",
    "- **SubBoard-wise constraints **. For each $D*D$-sized subboard $n$, ensure that each number $n \\in N$ occurs exactly once.\n",
    "\n",
    "\\begin{equation}\n",
    "\\sum_{(r\\_, c\\_) \\in R \\times C} b_{r*D+r\\_, c*D+c\\_, n} = 1 \\quad \\forall (r, c, n) \\in R \\times C\\times  N\n",
    "\\tag{4}\n",
    "\\end{equation}\n",
    "\n",
    "\n",
    "- **Preset squares constraints **.\n",
    "\n",
    "\\begin{equation}\n",
    "\\sum_{n \\in N} b_{r, c, n} \\cdot (n+1)= f_{r,c} \\quad \\forall (r,c) \\in dom(f_{r,n})\n",
    "\\tag{5}\n",
    "\\end{equation}\n",
    "\n",
    "- **Linking constraints between binary and numeric decision variables **.\n",
    "\n",
    "\\begin{equation}\n",
    "\\sum_{n \\in N} b_{r, c, n} \\cdot (n+1)= n_{r,c} \\quad \\forall (r,c) \\in R \\times C\n",
    "\\tag{6}\n",
    "\\end{equation}"
   ]
  },
  {
   "cell_type": "markdown",
   "metadata": {},
   "source": [
    "# General Implementation in Python3 with gurobipy API to the Gurobi MILP Solver\n",
    "\n",
    "We store the Sudoku problem formulation in a json file, like this one."
   ]
  },
  {
   "cell_type": "markdown",
   "metadata": {},
   "source": [
    "## Store a Sudoku Problem specification in a Json File"
   ]
  },
  {
   "cell_type": "code",
   "execution_count": null,
   "metadata": {},
   "outputs": [],
   "source": [
    "cat 'sudokuDim3.json'"
   ]
  },
  {
   "cell_type": "markdown",
   "metadata": {},
   "source": [
    "The \"dim\" field indicates the dimension of the Sudoku which is in the most common case equal to 3. The \"fixed\" field prefixes a dictionary with first key being the Sudoku board row, second key being the board column and the value being the number that is already decided for that row and column of the board."
   ]
  },
  {
   "cell_type": "markdown",
   "metadata": {},
   "source": [
    "## Read a Sudoku Problem from a Json File\n",
    "\n",
    "We then write a function to read the sudoku from such a json file, perform some checks at the same time and return us the dimension \"dim\" and the \"fixed\" data structure as a python dictionary."
   ]
  },
  {
   "cell_type": "code",
   "execution_count": null,
   "metadata": {
    "scrolled": true
   },
   "outputs": [],
   "source": [
    "import json\n",
    "\n",
    "def read_sudoku_from_json_file_and_check(file_name):\n",
    "    verbose = 0  # set to 1 to see more output\n",
    "\n",
    "    sudoku_json = json.load(open(file_name))\n",
    "\n",
    "    # do some basic checks to see we have all the information needed and none other\n",
    "    errors = ''\n",
    "     \n",
    "    # read dim(ension) field\n",
    "    dim = int(sudoku_json[\"dim\"])\n",
    "    if verbose > 0: \n",
    "        print(\"dim = {:d}\".format(dim))\n",
    "    max_nr = pow(dim, 2)\n",
    "    if verbose > 0: \n",
    "        print(\"max_nr = {:d}\".format(max_nr) if (verbose>0) else '')\n",
    "    nrs = list(range(1, max_nr+1))\n",
    "    nrs_str = '[' + ','.join([str(nr) for nr in nrs]) + ']'\n",
    "    if verbose > 0: \n",
    "        print(nrs_str if (verbose>0) else '')\n",
    "\n",
    "    # read fixed part\n",
    "    fixed = sudoku_json[\"fixed\"]\n",
    "    for row in fixed:\n",
    "        r = int(row)\n",
    "        if r not in nrs:\n",
    "            errors += \\\n",
    "            'row index number should be in {:s} but is {:d}.\\n'.\\\n",
    "            format(nrs_str, r)\n",
    "        for col in fixed[row]:\n",
    "            c = int(col)\n",
    "            if c not in nrs:\n",
    "                errors += 'column index number should be in {:s} but is {:d}.\\n'.\\\n",
    "                format(nrs_str, c)\n",
    "            num = fixed[row][col]\n",
    "            n = int(num)\n",
    "            if n not in nrs:\n",
    "                errors += 'square[{:d}][{:d}] number should be in {:s} but is {:d}.\\n'.\\\n",
    "                format(r, c, nrs_str, n)\n",
    "\n",
    "    print('I have read a ' + ('faulty' if (errors!='') else 'valid') +\\\n",
    "          ' MetaSudoku problem description of dimension {:d}.'.format(dim) + '\\n' + errors)\n",
    "    return dim, fixed\n",
    "    \n",
    "dim, fixed = read_sudoku_from_json_file_and_check('sudokuDim3.json')"
   ]
  },
  {
   "cell_type": "markdown",
   "metadata": {},
   "source": [
    "## Solve a Sudoku Problem\n",
    "\n",
    "The following function solves the problem using the solver Gurobi."
   ]
  },
  {
   "cell_type": "code",
   "execution_count": null,
   "metadata": {},
   "outputs": [],
   "source": [
    "# tested with Python 3.7.6 & Gurobi 9\n",
    "from gurobipy import *\n",
    "\n",
    "def solve_sudoku_with_gurobi(dim, fixed):\n",
    "\n",
    "    verbose = 0\n",
    "    \n",
    "    n_rows = n_cols = n_nums = dim * dim\n",
    "    n_subs = dim\n",
    "\n",
    "    rows = cols = nums = list(range(n_rows))\n",
    "    subs  = list(range(n_subs))\n",
    "\n",
    "    if verbose > 0:\n",
    "        print(rows); print(cols); print(nums)\n",
    "        print(subs)\n",
    "    \n",
    "    m = Model()\n",
    "\n",
    "    # define the binary core variables\n",
    "    bin_vars = m.addVars(n_rows, n_cols, n_nums, vtype=GRB.BINARY, name='bin')\n",
    "\n",
    "    # define the basic Constraints\n",
    "    for r in rows:\n",
    "        for c in cols:\n",
    "            constr_name = \\\n",
    "            'uniqueNumberPerSquare_r{:d}_c{:d}'.format(r, c)\n",
    "            m.addConstr(quicksum(bin_vars[r,c,n] for n in nums) == 1, \n",
    "                        constr_name)\n",
    "\n",
    "    for r in rows:\n",
    "        for n in nums:\n",
    "            constr_name = \\\n",
    "            'noDoublesInRow_r{:d}_n{:d}'.format(r, n)\n",
    "            m.addConstr(quicksum(bin_vars[r,c,n] for c in cols) == 1, \n",
    "                        constr_name)\n",
    "\n",
    "    for c in cols:\n",
    "        for n in nums:\n",
    "            constr_name = \\\n",
    "            'noDoublesInCol_c{:d}_n{:d}'.format(c, n)\n",
    "            m.addConstr(quicksum(bin_vars[r,c,n] for r in rows) == 1, \n",
    "                        constr_name)\n",
    "\n",
    "    import itertools\n",
    "    combos = list(itertools.product(*[subs, subs]))\n",
    "    if verbose > 0:\n",
    "        print(combos)\n",
    "\n",
    "    for r in subs:\n",
    "        for c in subs:\n",
    "            for n in nums:\n",
    "                constr_name = \\\n",
    "                    'noDoublesInSubboard_r{:d}_c{:d}_n{:d}'.format(r, c, n)\n",
    "                m.addConstr(quicksum(bin_vars[r*dim+r_,c*dim+c_,n] \\\n",
    "                                     for r_,c_ in combos) == 1, constr_name)\n",
    "\n",
    "    # define the numeric helper variables so that the board \n",
    "    # can easily be displayed:\n",
    "    num_vars = m.addVars(n_rows, n_cols, vtype=GRB.INTEGER, \n",
    "                         lb=1, ub=n_nums, name='num') \n",
    "    # note that the lower bound is 1 and not 0.     \n",
    "    \n",
    "    # initial squares, fixed\n",
    "    for r_str in fixed:\n",
    "        r = int(r_str)-1\n",
    "        for c_str in fixed[r_str]:\n",
    "            c = int(c_str)-1\n",
    "            f = int(fixed[r_str][c_str])\n",
    "            constr_name = 'binFixRelation_r{:d}_c{:d}_f{:d}'.format(r, c, f)\n",
    "            m.addConstr(quicksum(bin_vars[r,c,n] * (n+1) for n in nums)\\\n",
    "                        == f, constr_name)    \n",
    "    \n",
    "    # define the constraints linking binary and numeric constraints\n",
    "    for r in rows:\n",
    "        for c in cols:\n",
    "            constr_name = 'binNumRelation_r{:d}_c{:d}'.format(r, c)\n",
    "            m.addConstr(quicksum(bin_vars[r,c,n] * (n+1) for n in nums) \\\n",
    "                        == num_vars[r,c], constr_name)\n",
    "            # note the n+1 i.o. because of the lower bound \n",
    "            # of 1 of the num_vars.\n",
    "\n",
    "    # optimize the model\n",
    "    m.optimize()\n",
    "    \n",
    "    # retrieve solution\n",
    "    num_vals = m.getAttr('x', num_vars)\n",
    "        \n",
    "    return rows, cols, subs, num_vals\n",
    "\n",
    "rows, cols, subs, num_vals = solve_sudoku_with_gurobi(dim, fixed)"
   ]
  },
  {
   "cell_type": "markdown",
   "metadata": {},
   "source": [
    "## Display a solved Sudoku problem\n",
    "\n",
    "This function generates html code that can be easily displayed in this python notebook."
   ]
  },
  {
   "cell_type": "code",
   "execution_count": null,
   "metadata": {
    "scrolled": true
   },
   "outputs": [],
   "source": [
    "def display_solution(\n",
    "    rows, cols, subs, \n",
    "    fixed, num_vals, caption, \n",
    "    sudoku_table_style=\"table { border-collapse: collapse; \" + \\\n",
    "    \"font-family: Calibri, sans-serif; } \" + \\\n",
    "    \"colgroup, tbody { border: solid thin; } td { td border: solid thin; \"\\\n",
    "    \"height: 1.4em; width: 1.4em; text-align: center; padding: 0; }\"):\n",
    "    table = '\\n<table>\\n'\n",
    "    table += '  <caption>{:s}</caption>\\n'.format(caption)\n",
    "    N = len(subs)\n",
    "    for s1 in subs:\n",
    "        table += '  <colgroup>'\n",
    "        for s2 in subs:\n",
    "            table += '<col>'\n",
    "        table += '\\n'\n",
    "    for r in rows:\n",
    "        if (r % N) == 0:\n",
    "            table += '\\n<tbody>'\n",
    "        table += '\\n  <tr>'\n",
    "        for c in cols:\n",
    "            pre = '<td style=\"color:black;\">'\n",
    "            if str(r+1) in fixed:\n",
    "                if str(c+1) in fixed[str(r+1)]:\n",
    "                    pre = '<td style=\"color:red;\">'   \n",
    "            table += ' ' + pre + '{:d} '.format(int(num_vals[(r,c)]))\n",
    "    table += '\\n</table>'\n",
    "    # HTML(table)\n",
    "    return HTML('<html><head><style>' + sudoku_table_style  + \\\n",
    "                '</style></head><body>' + table + '</body></html>') \n",
    "    \n",
    "display_solution(rows, cols, subs, fixed, num_vals, '3x3x3x3 Sudoku')"
   ]
  },
  {
   "cell_type": "markdown",
   "metadata": {},
   "source": [
    "## Write the solution back to a json File\n",
    "\n",
    "You may have spotted that our input file 'sudokuDim3.json', specifying the Sudoku problem, contained an empty subdictionary with key \"solved\" and that it was not read at all by the function 'read_sudoku_from_json_file_and_check'. This is of course a placeholder for the solution to be written back. Let's write a function to do that. Note that we want to keep the separation between the fixed and the solved squares in the output file."
   ]
  },
  {
   "cell_type": "code",
   "execution_count": null,
   "metadata": {},
   "outputs": [],
   "source": [
    "def write_sudoku_solution_to_json_file(dim, fixed, num_vals, output_file_name):\n",
    "    d = {}\n",
    "    d[\"dim\"] = dim\n",
    "    d[\"fixed\"] = fixed  # fixed stores keys in row then col and both \n",
    "    # in string form already, since we read it from json input\n",
    "    d[\"solved\"] = {}\n",
    "    for (row, col) in num_vals:  # num_vals stores row, col keys \n",
    "        # as an integer pair \n",
    "        #print(row, col)\n",
    "        row_str = str(row+1)\n",
    "        col_str = str(col+1)\n",
    "        if row_str in fixed and col_str in fixed[row_str]:\n",
    "            # it's part of the fixed squares and will be written \n",
    "            # out via d[\"fixed\"]\n",
    "            pass\n",
    "        else:\n",
    "            if not (row_str in d[\"solved\"]):\n",
    "                d[\"solved\"][row_str]= {}\n",
    "            d[\"solved\"][row_str][col_str] = int(num_vals[(row,col)])\n",
    "    with open(output_file_name, 'w') as outfile:\n",
    "        json.dump(d, outfile, indent=2)\n",
    "        \n",
    "write_sudoku_solution_to_json_file(dim, fixed, num_vals, \n",
    "                                   'sudokuDim3_solved.json')"
   ]
  },
  {
   "cell_type": "code",
   "execution_count": null,
   "metadata": {},
   "outputs": [],
   "source": [
    "cat 'sudokuDim3_solved.json'"
   ]
  },
  {
   "cell_type": "markdown",
   "metadata": {},
   "source": [
    "## One function to read, solve, write and display a Sudoku\n",
    "\n",
    "Taking it all together we can bundle the reading, solving and displaying into one function."
   ]
  },
  {
   "cell_type": "code",
   "execution_count": null,
   "metadata": {},
   "outputs": [],
   "source": [
    "def read_solve_write_display_sudoku(input_file_name, display=True):\n",
    "    dim, fixed = read_sudoku_from_json_file_and_check(input_file_name)\n",
    "    rows, cols, subs, num_vals = solve_sudoku_with_gurobi(dim, fixed)\n",
    "    output_file_name = input_file_name.replace('.json', '_solved.json')\n",
    "    write_sudoku_solution_to_json_file(dim, fixed, \n",
    "                                       num_vals, output_file_name)\n",
    "    if display:\n",
    "        html_table = display_solution(\n",
    "            rows, cols, subs, fixed, num_vals,\n",
    "            '{:d} x {:d} x {:d} x {:d} Sudoku'.format(dim, dim, \n",
    "                                                      dim, dim))\n",
    "        return html_table"
   ]
  },
  {
   "cell_type": "markdown",
   "metadata": {},
   "source": [
    "## Fixed point check\n",
    "The fixed part of this dictionary is of course exactly the same as of the unsolved version in the file 'sudokuDim3.json'. This means we could test that the solved version solves to the same solution. "
   ]
  },
  {
   "cell_type": "code",
   "execution_count": null,
   "metadata": {},
   "outputs": [],
   "source": [
    "read_solve_write_display_sudoku('sudokuDim3_solved.json', \n",
    "                                display=False)"
   ]
  },
  {
   "cell_type": "markdown",
   "metadata": {},
   "source": [
    "Indeed:"
   ]
  },
  {
   "cell_type": "markdown",
   "metadata": {},
   "source": [
    "diff sudokuDim3_solved.json sudokuDim3_solved_solved.json"
   ]
  },
  {
   "cell_type": "markdown",
   "metadata": {},
   "source": [
    "gives no output, meaning the files are identical."
   ]
  },
  {
   "cell_type": "markdown",
   "metadata": {},
   "source": [
    "# Meta Sudoku\n",
    "\n",
    "By the definition of the variable $D$ above, or just by the title of this article, you will have realised that\n",
    "a Sudoku can be extended to higher values of dim. An example of a Meta Sudoku of dimension 4 is for example."
   ]
  },
  {
   "cell_type": "markdown",
   "metadata": {},
   "source": [
    "## Scaling Down\n",
    "\n",
    "Oh, let's first try to solve smaller Sudokus, like for D=1 and for D=2. That's a good test to see if our code is robust against corner cases."
   ]
  },
  {
   "cell_type": "code",
   "execution_count": null,
   "metadata": {},
   "outputs": [],
   "source": [
    "read_solve_write_display_sudoku('sudokuDim2.json')"
   ]
  },
  {
   "cell_type": "markdown",
   "metadata": {},
   "source": [
    "That is easy to check for corectness."
   ]
  },
  {
   "cell_type": "code",
   "execution_count": null,
   "metadata": {},
   "outputs": [],
   "source": [
    "read_solve_write_display_sudoku('sudokuDim1.json')"
   ]
  },
  {
   "cell_type": "markdown",
   "metadata": {},
   "source": [
    "That's fine and the only 1x1 Sudoku around."
   ]
  },
  {
   "cell_type": "code",
   "execution_count": null,
   "metadata": {},
   "outputs": [],
   "source": [
    "read_solve_write_display_sudoku('sudokuDim0.json')"
   ]
  },
  {
   "cell_type": "markdown",
   "metadata": {},
   "source": [
    "Even that works! :) That may not surprise you but for example the solver XPRESS, at least for its C++ API in 2016, gave an error if you pass it a problem with 0 variables and zero constraints."
   ]
  },
  {
   "cell_type": "markdown",
   "metadata": {},
   "source": [
    "## Scaling Up"
   ]
  },
  {
   "cell_type": "markdown",
   "metadata": {},
   "source": [
    "Time to scale up now. How about dimension 4?"
   ]
  },
  {
   "cell_type": "code",
   "execution_count": null,
   "metadata": {},
   "outputs": [],
   "source": [
    "read_solve_write_display_sudoku('sudokuDim4.json')"
   ]
  },
  {
   "cell_type": "code",
   "execution_count": null,
   "metadata": {
    "scrolled": true
   },
   "outputs": [],
   "source": [
    "read_solve_write_display_sudoku('sudokuDim5.json')"
   ]
  },
  {
   "cell_type": "code",
   "execution_count": null,
   "metadata": {},
   "outputs": [],
   "source": [
    "read_solve_write_display_sudoku('sudokuDim6.json')"
   ]
  },
  {
   "cell_type": "code",
   "execution_count": null,
   "metadata": {},
   "outputs": [],
   "source": [
    "read_solve_write_display_sudoku('sudokuDim7.json')"
   ]
  },
  {
   "cell_type": "markdown",
   "metadata": {},
   "source": [
    "# Other Sudoku Related Ideas\n",
    "\n",
    "How does Gurobi compare to previous versions of its solver and also to other solvers in terms of solver times for larger MetaSudoku instances? The code we wrote uses the Gurobi specific Python API, and we do not want to recode it for each separate solver. But one can imagine it should be possible to write out solver independent AMPL code and then run CPLEX or XPRESS or CBC via that AMPL code.\n",
    "\n",
    "An App on your phone that would recognize a Sudoku problem by camera, also recognize the filled in digits using some OCR and then immediately solve the problem and overlay the solution on screen in an Augmented Reality sense would not save the world, but still be really cool, right?! :)\n",
    "\n",
    "We can very well solve Sudokus by computer now, but in fact Sudokus are created because some humans seem to derive pleasure from solving them with their natural brains. So depriving them from that satisfaction is not a very useful undertaking. Here, we have been reading Sudokus from a json file, but I generated them manually in a pretty much trial and error way. As for computer generation of them, surely brute force generation of random numbers for some random squares can lead to infeasible Sudoku problems. So clearly something smarter is needed. It could be enjoyable to dabble a bit into that. However, there are plenty to be found on the internet already. \n",
    "\n",
    "I also wonder how a technique like reinforcement learning could solve these discrete optimisation problems. We could have agents per constraint, each trying to satisfy their constraint, without coordination with any other agent. They would receive a reward if their constraint is satisfied or close to satisfied. Would that work? Or, due to the discrete nature of the problem, rather just keep oscillating and never converge to a valid solution? It sounds quite similar to decoupling a MILP approach into an ADMM approach, which also generally has no guarantees to converge to a solution when integer variables are contained in the problem. However, [2] argues it proves convergence for a special ADMM case it set up."
   ]
  },
  {
   "cell_type": "markdown",
   "metadata": {},
   "source": [
    "# References\n",
    "\n",
    "[1] Sudoku Solving Algorithms, Wikipedia (https://en.wikipedia.org/wiki/Sudoku_solving_algorithms#Computation_time) <br>\n",
    "\n",
    "[2] Baoyuan Wu, Bernard Ghanem, lp-Box ADMM: A Versatile Framework for Integer Programming. (https://arxiv.org/pdf/1604.07666.pdf)"
   ]
  },
  {
   "cell_type": "markdown",
   "metadata": {},
   "source": [
    "Peter Sels, March 22nd, 2020. Copyright © 2020 Logically Yours BV."
   ]
  }
 ],
 "metadata": {
  "_draft": {
   "nbviewer_url": "https://gist.github.com/02be944085006dd9f6cf7fb0bd527c3f"
  },
  "gist": {
   "data": {
    "description": "SuperSudoku.ipynb",
    "public": false
   },
   "id": "02be944085006dd9f6cf7fb0bd527c3f"
  },
  "kernelspec": {
   "display_name": "Python 3",
   "language": "python",
   "name": "python3"
  },
  "language_info": {
   "codemirror_mode": {
    "name": "ipython",
    "version": 3
   },
   "file_extension": ".py",
   "mimetype": "text/x-python",
   "name": "python",
   "nbconvert_exporter": "python",
   "pygments_lexer": "ipython3",
   "version": "3.7.6"
  },
  "toc": {
   "base_numbering": 1,
   "nav_menu": {},
   "number_sections": true,
   "sideBar": true,
   "skip_h1_title": false,
   "title_cell": "Table of Contents",
   "title_sidebar": "Contents",
   "toc_cell": false,
   "toc_position": {
    "height": "calc(100% - 180px)",
    "left": "10px",
    "top": "150px",
    "width": "554.1875px"
   },
   "toc_section_display": true,
   "toc_window_display": true
  },
  "varInspector": {
   "cols": {
    "lenName": 16,
    "lenType": 16,
    "lenVar": 40
   },
   "kernels_config": {
    "python": {
     "delete_cmd_postfix": "",
     "delete_cmd_prefix": "del ",
     "library": "var_list.py",
     "varRefreshCmd": "print(var_dic_list())"
    },
    "r": {
     "delete_cmd_postfix": ") ",
     "delete_cmd_prefix": "rm(",
     "library": "var_list.r",
     "varRefreshCmd": "cat(var_dic_list()) "
    }
   },
   "types_to_exclude": [
    "module",
    "function",
    "builtin_function_or_method",
    "instance",
    "_Feature"
   ],
   "window_display": false
  }
 },
 "nbformat": 4,
 "nbformat_minor": 4
}
