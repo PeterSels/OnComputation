{
 "cells": [
  {
   "cell_type": "markdown",
   "metadata": {},
   "source": [
    "# Automatically Solving Sudokus and Meta Sudokus"
   ]
  },
  {
   "cell_type": "code",
   "execution_count": 1,
   "metadata": {},
   "outputs": [
    {
     "data": {
      "text/html": [
       "<style>.container { width:80% !important; }</style>"
      ],
      "text/plain": [
       "<IPython.core.display.HTML object>"
      ]
     },
     "metadata": {},
     "output_type": "display_data"
    }
   ],
   "source": [
    "# set this notebook to use a large part of the browser window width\n",
    "from IPython.core.display import HTML, display\n",
    "display(HTML(\"<style>.container { width:80% !important; }</style>\"))"
   ]
  },
  {
   "cell_type": "markdown",
   "metadata": {},
   "source": [
    "# The well known Sudoku Puzzle\n",
    "\n",
    "## Introduction\n",
    "\n",
    "The Sudoku version played on a 9 x 9 squares board, is a well known puzzle game. \n",
    "The goal of the puzzle is for the player to put a digit from 1 to 9 in each free square,\n",
    "so that:\n",
    "    (a) in every row of 9 squares, no digit occurs more than once\n",
    "    (b) in every column of 9 squares, no digit occurs more than once\n",
    "    (c) in every marked 3x3 subsquare, no digit occurs more than once.\n",
    "A given 9 * 9 Sudoku puzzle typically contains some squares that already contain a number from 1 to 9.\n",
    "An example Sudoku challenge, taken from [1] is:"
   ]
  },
  {
   "cell_type": "markdown",
   "metadata": {},
   "source": [
    "<html>\n",
    "<head>\n",
    "<style>\n",
    "table { \n",
    "    border-collapse: collapse; font-family: Calibri, sans-serif; \n",
    "} \n",
    "colgroup, \n",
    "tbody { \n",
    "    border: solid thin;\n",
    "} \n",
    "td { \n",
    "    td border: solid thin; height: 1.4em; width: 1.4em; text-align: center; padding: 0;\n",
    "}\n",
    "</style>\n",
    "</head>\n",
    "<body>\n",
    "<table>\n",
    "  <caption>A standard Sudoku challenge</caption>\n",
    "  <colgroup><col><col><col>\n",
    "  <colgroup><col><col><col>\n",
    "  <colgroup><col><col><col>\n",
    "  <tbody>\n",
    "   <tr> <td>1 <td>  <td>3 <td>6 <td>  <td>4 <td>7 <td>  <td>9\n",
    "   <tr> <td>  <td>2 <td>  <td>  <td>9 <td>  <td>  <td>1 <td>\n",
    "   <tr> <td>7 <td>  <td>  <td>  <td>  <td>  <td>  <td>  <td>6\n",
    "  <tbody>\n",
    "   <tr> <td>2 <td>  <td>4 <td>  <td>3 <td>  <td>9 <td>  <td>8\n",
    "   <tr> <td>  <td>  <td>  <td>  <td>  <td>  <td>  <td>  <td>\n",
    "   <tr> <td>5 <td>  <td>  <td>9 <td>  <td>7 <td>  <td>  <td>1\n",
    "  <tbody>\n",
    "   <tr> <td>6 <td>  <td>  <td>  <td>5 <td>  <td>  <td>  <td>2\n",
    "   <tr> <td>  <td>  <td>  <td>  <td>7 <td>  <td>  <td>  <td>\n",
    "   <tr> <td>9 <td>  <td>  <td>8 <td>  <td>2 <td>  <td>  <td>5\n",
    "</table>\n",
    "</body>\n",
    "</html>"
   ]
  },
  {
   "cell_type": "markdown",
   "metadata": {},
   "source": [
    "## Sudoku Model Formulation\n",
    "\n",
    "A Sudoku is a very easy problem to formulate as an Integer Linear Programming (ILP) problem. Its mathematical declarative model can be stated as follows.\n",
    "\n",
    "### Sets and Indices\n",
    "\n",
    "\n",
    "$D \\in \\mathbb{N}$: meta sudoku dimension of the Sudoku board.\n",
    "\n",
    "$\\overline{n} = D^{2}$: the maximum number to be filled out in the Sudoku. The minimum number is always 1.\n",
    "\n",
    "$r \\in R$: indices for the row of the Sudoku board.\n",
    "\n",
    "$c \\in C$: indices for the column of the Sudoku board.\n",
    "\n",
    "$n \\in N$: indices for the allowable number set of the Sudoku board.\n",
    "\n",
    "\n",
    "### Parameters \n",
    "\n",
    "$f_{r, c}: R \\times C \\mapsto N$: Specifies the already decided - fixed - numbers for some board squares in the Sudoku problem definition. \n",
    "f_{r,c,n} is 1 if n is the number decided for row r and column c of the Sudoku board. Typically, note all combinations of r and c are be specified.\n",
    "\n",
    "\n",
    "### Decision Variables\n",
    "$b_{r, c, n} \\in \\{0, 1\\}$: This variable is equal to 1, if we decide to put in row r and column c the number n. Otherwise, the decision variable is equal to zero.\n",
    "\n",
    "$n_{r, c} \\in \\{0, \\overline{n}\\}$: This variable is equal to n, if we decide to put in row r and column c the number n. Otherwise, the decision variable is equal to zero.\n",
    "They formulate a more direct way to represent the solution than the b variables. Of course b and n cannot be decided upon separately so there will be a binding constraint between them.\n",
    "\n",
    "### Objective Function\n",
    "\n",
    "Since Sudoku is a feasibility problem only, there is no concept of optimality here and so no objective function to be minimize or maximized needs to be specified.\n",
    "\n",
    "### Constraints \n",
    "\n",
    "- **Square-wise constraints **. Each square of the Sudoku board holds exactly 1 number $n \\in N$.\n",
    "\n",
    "\\begin{equation}\n",
    "\\sum_{n \\in N} b_{r, c, n} = 1 \\quad \\forall (r,c) \\in R \\times C\n",
    "\\tag{1}\n",
    "\\end{equation}\n",
    "\n",
    "- **Row-wise constraints **. For each row $r$, ensure that each number $n \\in N$ occurs exactly once.\n",
    "\n",
    "\\begin{equation}\n",
    "\\sum_{c \\in C} b_{r, c, n} = 1 \\quad \\forall (r,n) \\in R \\times N\n",
    "\\tag{2}\n",
    "\\end{equation}\n",
    "\n",
    "- **Columns-wise constraints **. For each column $c$, ensure that each number $n \\in N$ occurs exactly once.\n",
    "\n",
    "\\begin{equation}\n",
    "\\sum_{r \\in R} b_{r, c, n} = 1 \\quad \\forall (c,n) \\in C \\times N\n",
    "\\tag{3}\n",
    "\\end{equation}\n",
    "\n",
    "- **SubBoard-wise constraints **. For each $D*D$-sized subboard $n$, ensure that each number $n \\in N$ occurs exactly once.\n",
    "\n",
    "\\begin{equation}\n",
    "\\sum_{(r\\_, c\\_) \\in R \\times C} b_{r*D+r\\_, c*D+c\\_, n} = 1 \\quad \\forall (r, c, n) \\in R \\times C\\times  N\n",
    "\\tag{4}\n",
    "\\end{equation}\n",
    "\n",
    "\n",
    "- **Preset squares constraints **.\n",
    "\n",
    "\\begin{equation}\n",
    "\\sum_{n \\in N} b_{r, c, n} \\cdot (n+1)= f_{r,c} \\quad \\forall (r,c) \\in dom(f_{r,n})\n",
    "\\tag{5}\n",
    "\\end{equation}\n",
    "\n",
    "- **Linking constraints between binary and numeric decision variables **.\n",
    "\n",
    "\\begin{equation}\n",
    "\\sum_{n \\in N} b_{r, c, n} \\cdot (n+1)= n_{r,c} \\quad \\forall (r,c) \\in R \\times C\n",
    "\\tag{6}\n",
    "\\end{equation}"
   ]
  },
  {
   "cell_type": "markdown",
   "metadata": {},
   "source": [
    "## Implementation in Python3 with gurobipy API to the Gurobi MILP Solver\n",
    "\n",
    "We store the Sudoku problem formulation in a json file, like this one."
   ]
  },
  {
   "cell_type": "code",
   "execution_count": 2,
   "metadata": {},
   "outputs": [
    {
     "name": "stdout",
     "output_type": "stream",
     "text": [
      "{\r\n",
      "  \"dim\": 3,\r\n",
      "  \"fixed\": {\r\n",
      "    \"1\": {\r\n",
      "      \"1\": \"5\",\r\n",
      "      \"2\": \"3\",\r\n",
      "      \"5\": \"7\"\r\n",
      "    },\r\n",
      "    \"2\": {\r\n",
      "      \"1\": \"6\",\r\n",
      "      \"4\": \"1\",\r\n",
      "      \"5\": \"9\",\r\n",
      "      \"6\": \"5\"\r\n",
      "    },\r\n",
      "    \"3\": {\r\n",
      "      \"2\": \"9\",\r\n",
      "      \"3\": \"8\",\r\n",
      "      \"8\": \"6\"\r\n",
      "    },\r\n",
      "    \"4\": {\r\n",
      "      \"1\": \"8\",\r\n",
      "      \"5\": \"6\",\r\n",
      "      \"9\": \"3\"\r\n",
      "    },\r\n",
      "    \"5\": {\r\n",
      "      \"1\": \"4\",\r\n",
      "      \"4\": \"8\",\r\n",
      "      \"6\": \"3\",\r\n",
      "      \"9\": \"1\"\r\n",
      "    },\r\n",
      "    \"6\": {\r\n",
      "      \"1\": \"7\",\r\n",
      "      \"5\": \"2\",\r\n",
      "      \"9\": \"6\"\r\n",
      "    },\r\n",
      "    \"7\": {\r\n",
      "      \"2\": \"6\",\r\n",
      "      \"7\": \"2\",\r\n",
      "      \"8\": \"8\"\r\n",
      "    },\r\n",
      "    \"8\": {\r\n",
      "      \"4\": \"4\",\r\n",
      "      \"5\": \"1\",\r\n",
      "      \"6\": \"9\",\r\n",
      "      \"9\": \"5\"\r\n",
      "    },\r\n",
      "    \"9\": {\r\n",
      "      \"5\": \"8\",\r\n",
      "      \"8\": \"7\",\r\n",
      "      \"9\": \"9\"\r\n",
      "    }\r\n",
      "  },\r\n",
      "  \"solved\":\r\n",
      "  {\r\n",
      "  }\r\n",
      "}\r\n"
     ]
    }
   ],
   "source": [
    "cat 'sudokuDim3.json'"
   ]
  },
  {
   "cell_type": "markdown",
   "metadata": {},
   "source": [
    "The \"dim\" field indicates the dimension of the Sudoku which is in the most common case equal to 3. The \"fixed\" field prefixes a dictionary with first key being the Sudoku board row, second key being the board column and the value being the number that is already decided for that row and column of the board."
   ]
  },
  {
   "cell_type": "markdown",
   "metadata": {},
   "source": [
    "### Read a Sudoku Problem from a Json File\n",
    "\n",
    "We then write a function to read the sudoku from such a json file, perform some checks at the same time and return us the dimension \"dim\" and the \"fixed\" data structure as a python dictionary."
   ]
  },
  {
   "cell_type": "code",
   "execution_count": 3,
   "metadata": {
    "scrolled": true
   },
   "outputs": [
    {
     "name": "stdout",
     "output_type": "stream",
     "text": [
      "I have read a valid MetaSudoku problem description of dimension 3.\n",
      "\n"
     ]
    }
   ],
   "source": [
    "import json\n",
    "\n",
    "def read_sudoku_from_json_file_and_check(file_name):\n",
    "    verbose = 0  # set to 1 to see more output\n",
    "\n",
    "    sudoku_json = json.load(open(file_name))\n",
    "\n",
    "    # do some basic checks to see we have all the information needed and none other\n",
    "    errors = ''\n",
    "     \n",
    "    # read dim(ension) field\n",
    "    dim = int(sudoku_json[\"dim\"])\n",
    "    if verbose > 0: \n",
    "        print(\"dim = {:d}\".format(dim))\n",
    "    max_nr = pow(dim, 2)\n",
    "    if verbose > 0: \n",
    "        print(\"max_nr = {:d}\".format(max_nr) if (verbose>0) else '')\n",
    "    nrs = list(range(1, max_nr+1))\n",
    "    nrs_str = '[' + ','.join([str(nr) for nr in nrs]) + ']'\n",
    "    if verbose > 0: \n",
    "        print(nrs_str if (verbose>0) else '')\n",
    "\n",
    "    # read fixed part\n",
    "    fixed = sudoku_json[\"fixed\"]\n",
    "    for row in fixed:\n",
    "        r = int(row)\n",
    "        if r not in nrs:\n",
    "            errors += 'row index number should be in {:s} but is {:d}.\\n'.format(nrs_str, r)\n",
    "        for col in fixed[row]:\n",
    "            c = int(col)\n",
    "            if c not in nrs:\n",
    "                errors += 'column index number should be in {:s} but is {:d}.\\n'.format(nrs_str, c)\n",
    "            num = fixed[row][col]\n",
    "            n = int(num)\n",
    "            if n not in nrs:\n",
    "                errors += 'square[{:d}][{:d}] number should be in {:s} but is {:d}.\\n'.format(r, c, nrs_str, n)\n",
    "\n",
    "    print('I have read a ' + ('faulty' if (errors!='') else 'valid') + ' MetaSudoku problem description of dimension {:d}.'.format(dim) + '\\n' + errors)\n",
    "    return dim, fixed\n",
    "    \n",
    "dim, fixed = read_sudoku_from_json_file_and_check('sudokuDim3.json')"
   ]
  },
  {
   "cell_type": "markdown",
   "metadata": {},
   "source": [
    "### Solve a Sudoku Problem\n",
    "\n",
    "The following function solves the problem using the solver Gurobi."
   ]
  },
  {
   "cell_type": "code",
   "execution_count": 4,
   "metadata": {},
   "outputs": [
    {
     "name": "stdout",
     "output_type": "stream",
     "text": [
      "Using license file /Library/gurobi901/gurobi.lic\n",
      "Gurobi Optimizer version 9.0.1 build v9.0.1rc0 (mac64)\n",
      "Optimize a model with 435 rows, 810 columns and 3996 nonzeros\n",
      "Model fingerprint: 0x2c4eb571\n",
      "Variable types: 0 continuous, 810 integer (729 binary)\n",
      "Coefficient statistics:\n",
      "  Matrix range     [1e+00, 9e+00]\n",
      "  Objective range  [0e+00, 0e+00]\n",
      "  Bounds range     [1e+00, 9e+00]\n",
      "  RHS range        [1e+00, 9e+00]\n",
      "Presolve removed 435 rows and 810 columns\n",
      "Presolve time: 0.00s\n",
      "Presolve: All rows and columns removed\n",
      "\n",
      "Explored 0 nodes (0 simplex iterations) in 0.01 seconds\n",
      "Thread count was 1 (of 16 available processors)\n",
      "\n",
      "Solution count 1: 0 \n",
      "\n",
      "Optimal solution found (tolerance 1.00e-04)\n",
      "Best objective 0.000000000000e+00, best bound 0.000000000000e+00, gap 0.0000%\n"
     ]
    }
   ],
   "source": [
    "# tested with Python 3.7.6 & Gurobi 9\n",
    "from gurobipy import *\n",
    "\n",
    "def solve_sudoku_with_gurobi(dim, fixed):\n",
    "\n",
    "    verbose = 0\n",
    "    \n",
    "    n_rows = n_cols = n_nums = dim * dim\n",
    "    n_subs = dim\n",
    "\n",
    "    rows = cols = nums = list(range(n_rows))\n",
    "    subs  = list(range(n_subs))\n",
    "\n",
    "    if verbose > 0:\n",
    "        print(rows); print(cols); print(nums)\n",
    "        print(subs)\n",
    "    \n",
    "    m = Model()\n",
    "\n",
    "    # define the binary core variables\n",
    "    bin_vars = m.addVars(n_rows, n_cols, n_nums, vtype=GRB.BINARY, name='bin')\n",
    "\n",
    "    # define the basic Constraints\n",
    "    for r in rows:\n",
    "        for c in cols:\n",
    "            constr_name = 'uniqueNumberPerSquare_r{:d}_c{:d}'.format(r, c)\n",
    "            m.addConstr(quicksum(bin_vars[r,c,n] for n in nums) == 1, constr_name)\n",
    "\n",
    "    for r in rows:\n",
    "        for n in nums:\n",
    "            constr_name = 'noDoublesInRow_r{:d}_n{:d}'.format(r, n)\n",
    "            m.addConstr(quicksum(bin_vars[r,c,n] for c in cols) == 1, constr_name)\n",
    "\n",
    "    for c in cols:\n",
    "        for n in nums:\n",
    "            constr_name = 'noDoublesInCol_c{:d}_n{:d}'.format(c, n)\n",
    "            m.addConstr(quicksum(bin_vars[r,c,n] for r in rows) == 1, constr_name)\n",
    "\n",
    "    import itertools\n",
    "    combos = list(itertools.product(*[subs, subs]))\n",
    "    if verbose > 0:\n",
    "        print(combos)\n",
    "\n",
    "    for r in subs:\n",
    "        for c in subs:\n",
    "            for n in nums:\n",
    "                constr_name =  'noDoublesInSubboard_r{:d}_c{:d}_n{:d}'.format(r, c, n)\n",
    "                m.addConstr(quicksum(bin_vars[r*dim+r_,c*dim+c_,n] for r_,c_ in combos) == 1, constr_name)\n",
    "\n",
    "    # define the numeric helper variables so that the board can easily be displayed:\n",
    "    num_vars = m.addVars(n_rows, n_cols, vtype=GRB.INTEGER, lb=1, ub=n_nums, name='num') \n",
    "    # note that the lower bound is 1 and not 0.     \n",
    "    \n",
    "    # initial squares, fixed\n",
    "    for r_str in fixed:\n",
    "        r = int(r_str)-1\n",
    "        for c_str in fixed[r_str]:\n",
    "            c = int(c_str)-1\n",
    "            f = int(fixed[r_str][c_str])\n",
    "            constr_name = 'binFixRelation_r{:d}_c{:d}_f{:d}'.format(r, c, f)\n",
    "            m.addConstr(quicksum(bin_vars[r,c,n] * (n+1) for n in nums) == f, constr_name)    \n",
    "    \n",
    "    # define the constraints linking binary and numeric constraints\n",
    "    for r in rows:\n",
    "        for c in cols:\n",
    "            constr_name = 'binNumRelation_r{:d}_c{:d}'.format(r, c)\n",
    "            m.addConstr(quicksum(bin_vars[r,c,n] * (n+1) for n in nums) == num_vars[r,c], constr_name)\n",
    "            # note the n+1 i.o. because of the lower bound of 1 of the num_vars.\n",
    "\n",
    "    # optimize the model\n",
    "    m.optimize()\n",
    "    \n",
    "    # retrieve solution\n",
    "    num_vals = m.getAttr('x', num_vars)\n",
    "        \n",
    "    return rows, cols, subs, num_vals\n",
    "\n",
    "rows, cols, subs, num_vals = solve_sudoku_with_gurobi(dim, fixed)"
   ]
  },
  {
   "cell_type": "markdown",
   "metadata": {},
   "source": [
    "### Display a solved Sudoku problem\n",
    "\n",
    "This function generates html code that can be easily displayed in this python notebook."
   ]
  },
  {
   "cell_type": "code",
   "execution_count": 5,
   "metadata": {
    "scrolled": true
   },
   "outputs": [
    {
     "data": {
      "text/html": [
       "<html><head><style>table { border-collapse: collapse; font-family: Calibri, sans-serif; } colgroup, tbody { border: solid thin; } td { td border: solid thin; height: 1.4em; width: 1.4em; text-align: center; padding: 0; }</style></head><body>\n",
       "<table>\n",
       "  <caption>3x3x3x3 Sudoku</caption>\n",
       "  <colgroup><col><col><col>\n",
       "  <colgroup><col><col><col>\n",
       "  <colgroup><col><col><col>\n",
       "\n",
       "<tbody>\n",
       "  <tr> <td style=\"color:red;\">5  <td style=\"color:red;\">3  <td style=\"color:black;\">4  <td style=\"color:black;\">6  <td style=\"color:red;\">7  <td style=\"color:black;\">8  <td style=\"color:black;\">9  <td style=\"color:black;\">1  <td style=\"color:black;\">2 \n",
       "  <tr> <td style=\"color:red;\">6  <td style=\"color:black;\">7  <td style=\"color:black;\">2  <td style=\"color:red;\">1  <td style=\"color:red;\">9  <td style=\"color:red;\">5  <td style=\"color:black;\">3  <td style=\"color:black;\">4  <td style=\"color:black;\">8 \n",
       "  <tr> <td style=\"color:black;\">1  <td style=\"color:red;\">9  <td style=\"color:red;\">8  <td style=\"color:black;\">3  <td style=\"color:black;\">4  <td style=\"color:black;\">2  <td style=\"color:black;\">5  <td style=\"color:red;\">6  <td style=\"color:black;\">7 \n",
       "<tbody>\n",
       "  <tr> <td style=\"color:red;\">8  <td style=\"color:black;\">5  <td style=\"color:black;\">9  <td style=\"color:black;\">7  <td style=\"color:red;\">6  <td style=\"color:black;\">1  <td style=\"color:black;\">4  <td style=\"color:black;\">2  <td style=\"color:red;\">3 \n",
       "  <tr> <td style=\"color:red;\">4  <td style=\"color:black;\">2  <td style=\"color:black;\">6  <td style=\"color:red;\">8  <td style=\"color:black;\">5  <td style=\"color:red;\">3  <td style=\"color:black;\">7  <td style=\"color:black;\">9  <td style=\"color:red;\">1 \n",
       "  <tr> <td style=\"color:red;\">7  <td style=\"color:black;\">1  <td style=\"color:black;\">3  <td style=\"color:black;\">9  <td style=\"color:red;\">2  <td style=\"color:black;\">4  <td style=\"color:black;\">8  <td style=\"color:black;\">5  <td style=\"color:red;\">6 \n",
       "<tbody>\n",
       "  <tr> <td style=\"color:black;\">9  <td style=\"color:red;\">6  <td style=\"color:black;\">1  <td style=\"color:black;\">5  <td style=\"color:black;\">3  <td style=\"color:black;\">7  <td style=\"color:red;\">2  <td style=\"color:red;\">8  <td style=\"color:black;\">4 \n",
       "  <tr> <td style=\"color:black;\">2  <td style=\"color:black;\">8  <td style=\"color:black;\">7  <td style=\"color:red;\">4  <td style=\"color:red;\">1  <td style=\"color:red;\">9  <td style=\"color:black;\">6  <td style=\"color:black;\">3  <td style=\"color:red;\">5 \n",
       "  <tr> <td style=\"color:black;\">3  <td style=\"color:black;\">4  <td style=\"color:black;\">5  <td style=\"color:black;\">2  <td style=\"color:red;\">8  <td style=\"color:black;\">6  <td style=\"color:black;\">1  <td style=\"color:red;\">7  <td style=\"color:red;\">9 \n",
       "</table></body></html>"
      ],
      "text/plain": [
       "<IPython.core.display.HTML object>"
      ]
     },
     "execution_count": 5,
     "metadata": {},
     "output_type": "execute_result"
    }
   ],
   "source": [
    "def display_solution(rows, cols, subs, fixed, num_vals, caption, \n",
    "                     sudoku_table_style=\"table { border-collapse: collapse; font-family: Calibri, sans-serif; } \" +\n",
    "                     \"colgroup, tbody { border: solid thin; } td { td border: solid thin; height: 1.4em; width: 1.4em; text-align: center; padding: 0; }\"):\n",
    "    table = '\\n<table>\\n'\n",
    "    table += '  <caption>{:s}</caption>\\n'.format(caption)\n",
    "    N = len(subs)\n",
    "    for s1 in subs:\n",
    "        table += '  <colgroup>'\n",
    "        for s2 in subs:\n",
    "            table += '<col>'\n",
    "        table += '\\n'\n",
    "    for r in rows:\n",
    "        if (r % N) == 0:\n",
    "            table += '\\n<tbody>'\n",
    "        table += '\\n  <tr>'\n",
    "        for c in cols:\n",
    "            pre = '<td style=\"color:black;\">'\n",
    "            if str(r+1) in fixed:\n",
    "                if str(c+1) in fixed[str(r+1)]:\n",
    "                    pre = '<td style=\"color:red;\">'   \n",
    "            table += ' ' + pre + '{:d} '.format(int(num_vals[(r,c)]))\n",
    "    table += '\\n</table>'\n",
    "    return HTML('<html><head><style>' + sudoku_table_style  + '</style></head><body>' + table + '</body></html>') # HTML(table)\n",
    "    \n",
    "display_solution(rows, cols, subs, fixed, num_vals, '3x3x3x3 Sudoku')"
   ]
  },
  {
   "cell_type": "markdown",
   "metadata": {},
   "source": [
    "### Writing the solution back to a json file\n",
    "\n",
    "You may have spotted that our input file 'sudokuDim3.json', specifying the Sudoku problem, contained an empty subdictionary with key \"solved\" and that it was not read at all by the function 'read_sudoku_from_json_file_and_check'. This is of course a placeholder for the solution to be written back. Let's write a function to do that. Note that we want to keep the separation between the fixed and the solved squares in the output file."
   ]
  },
  {
   "cell_type": "code",
   "execution_count": 6,
   "metadata": {},
   "outputs": [],
   "source": [
    "def write_sudoku_solution_to_json_file(dim, fixed, num_vals, output_file_name):\n",
    "    d = {}\n",
    "    d[\"dim\"] = dim\n",
    "    d[\"fixed\"] = fixed  # fixed stores keys in row then col and both in string form already, since we read it from json input\n",
    "    d[\"solved\"] = {}\n",
    "    for (row, col) in num_vals:  # num_vals stores row, col keys as an integer pair \n",
    "        #print(row, col)\n",
    "        row_str = str(row+1)\n",
    "        col_str = str(col+1)\n",
    "        if row_str in fixed and col_str in fixed[row_str]:\n",
    "            # it's part of the fixed squares and will be written out via d[\"fixed\"]\n",
    "            pass\n",
    "        else:\n",
    "            if not (row_str in d[\"solved\"]):\n",
    "                d[\"solved\"][row_str]= {}\n",
    "            d[\"solved\"][row_str][col_str] = int(num_vals[(row,col)])\n",
    "    with open(output_file_name, 'w') as outfile:\n",
    "        json.dump(d, outfile, indent=2)\n",
    "        \n",
    "write_sudoku_solution_to_json_file(dim, fixed, num_vals, 'sudokuDim3_solved.json')"
   ]
  },
  {
   "cell_type": "code",
   "execution_count": 7,
   "metadata": {},
   "outputs": [
    {
     "name": "stdout",
     "output_type": "stream",
     "text": [
      "{\r\n",
      "  \"dim\": 3,\r\n",
      "  \"fixed\": {\r\n",
      "    \"1\": {\r\n",
      "      \"1\": \"5\",\r\n",
      "      \"2\": \"3\",\r\n",
      "      \"5\": \"7\"\r\n",
      "    },\r\n",
      "    \"2\": {\r\n",
      "      \"1\": \"6\",\r\n",
      "      \"4\": \"1\",\r\n",
      "      \"5\": \"9\",\r\n",
      "      \"6\": \"5\"\r\n",
      "    },\r\n",
      "    \"3\": {\r\n",
      "      \"2\": \"9\",\r\n",
      "      \"3\": \"8\",\r\n",
      "      \"8\": \"6\"\r\n",
      "    },\r\n",
      "    \"4\": {\r\n",
      "      \"1\": \"8\",\r\n",
      "      \"5\": \"6\",\r\n",
      "      \"9\": \"3\"\r\n",
      "    },\r\n",
      "    \"5\": {\r\n",
      "      \"1\": \"4\",\r\n",
      "      \"4\": \"8\",\r\n",
      "      \"6\": \"3\",\r\n",
      "      \"9\": \"1\"\r\n",
      "    },\r\n",
      "    \"6\": {\r\n",
      "      \"1\": \"7\",\r\n",
      "      \"5\": \"2\",\r\n",
      "      \"9\": \"6\"\r\n",
      "    },\r\n",
      "    \"7\": {\r\n",
      "      \"2\": \"6\",\r\n",
      "      \"7\": \"2\",\r\n",
      "      \"8\": \"8\"\r\n",
      "    },\r\n",
      "    \"8\": {\r\n",
      "      \"4\": \"4\",\r\n",
      "      \"5\": \"1\",\r\n",
      "      \"6\": \"9\",\r\n",
      "      \"9\": \"5\"\r\n",
      "    },\r\n",
      "    \"9\": {\r\n",
      "      \"5\": \"8\",\r\n",
      "      \"8\": \"7\",\r\n",
      "      \"9\": \"9\"\r\n",
      "    }\r\n",
      "  },\r\n",
      "  \"solved\": {\r\n",
      "    \"1\": {\r\n",
      "      \"3\": 4,\r\n",
      "      \"4\": 6,\r\n",
      "      \"6\": 8,\r\n",
      "      \"7\": 9,\r\n",
      "      \"8\": 1,\r\n",
      "      \"9\": 2\r\n",
      "    },\r\n",
      "    \"2\": {\r\n",
      "      \"2\": 7,\r\n",
      "      \"3\": 2,\r\n",
      "      \"7\": 3,\r\n",
      "      \"8\": 4,\r\n",
      "      \"9\": 8\r\n",
      "    },\r\n",
      "    \"3\": {\r\n",
      "      \"1\": 1,\r\n",
      "      \"4\": 3,\r\n",
      "      \"5\": 4,\r\n",
      "      \"6\": 2,\r\n",
      "      \"7\": 5,\r\n",
      "      \"9\": 7\r\n",
      "    },\r\n",
      "    \"4\": {\r\n",
      "      \"2\": 5,\r\n",
      "      \"3\": 9,\r\n",
      "      \"4\": 7,\r\n",
      "      \"6\": 1,\r\n",
      "      \"7\": 4,\r\n",
      "      \"8\": 2\r\n",
      "    },\r\n",
      "    \"5\": {\r\n",
      "      \"2\": 2,\r\n",
      "      \"3\": 6,\r\n",
      "      \"5\": 5,\r\n",
      "      \"7\": 7,\r\n",
      "      \"8\": 9\r\n",
      "    },\r\n",
      "    \"6\": {\r\n",
      "      \"2\": 1,\r\n",
      "      \"3\": 3,\r\n",
      "      \"4\": 9,\r\n",
      "      \"6\": 4,\r\n",
      "      \"7\": 8,\r\n",
      "      \"8\": 5\r\n",
      "    },\r\n",
      "    \"7\": {\r\n",
      "      \"1\": 9,\r\n",
      "      \"3\": 1,\r\n",
      "      \"4\": 5,\r\n",
      "      \"5\": 3,\r\n",
      "      \"6\": 7,\r\n",
      "      \"9\": 4\r\n",
      "    },\r\n",
      "    \"8\": {\r\n",
      "      \"1\": 2,\r\n",
      "      \"2\": 8,\r\n",
      "      \"3\": 7,\r\n",
      "      \"7\": 6,\r\n",
      "      \"8\": 3\r\n",
      "    },\r\n",
      "    \"9\": {\r\n",
      "      \"1\": 3,\r\n",
      "      \"2\": 4,\r\n",
      "      \"3\": 5,\r\n",
      "      \"4\": 2,\r\n",
      "      \"6\": 6,\r\n",
      "      \"7\": 1\r\n",
      "    }\r\n",
      "  }\r\n",
      "}"
     ]
    }
   ],
   "source": [
    "cat 'sudokuDim3_solved.json'"
   ]
  },
  {
   "cell_type": "markdown",
   "metadata": {},
   "source": [
    "### One function to read, solve, write and display a Sudoku\n",
    "\n",
    "Taking it all together we can bundle the reading, solving and displaying into one function."
   ]
  },
  {
   "cell_type": "code",
   "execution_count": 8,
   "metadata": {},
   "outputs": [],
   "source": [
    "def read_solve_write_display_sudoku(input_file_name, display=True):\n",
    "    dim, fixed = read_sudoku_from_json_file_and_check(input_file_name)\n",
    "    rows, cols, subs, num_vals = solve_sudoku_with_gurobi(dim, fixed)\n",
    "    output_file_name = input_file_name.replace('.json', '_solved.json')\n",
    "    write_sudoku_solution_to_json_file(dim, fixed, num_vals, output_file_name)\n",
    "    if display:\n",
    "        html_table = display_solution(rows, cols, subs, fixed, num_vals, '{:d} x {:d} x {:d} x {:d} Sudoku'.format(dim, dim, dim, dim))\n",
    "        return html_table"
   ]
  },
  {
   "cell_type": "markdown",
   "metadata": {},
   "source": [
    "### Fixed point check\n",
    "The fixed part of this dictionary is of course exactly the same as of the unsolved version in the file 'sudokuDim3.json'. This means we could test that the solved version solves to the same solution. "
   ]
  },
  {
   "cell_type": "code",
   "execution_count": 9,
   "metadata": {},
   "outputs": [
    {
     "name": "stdout",
     "output_type": "stream",
     "text": [
      "I have read a valid MetaSudoku problem description of dimension 3.\n",
      "\n",
      "Gurobi Optimizer version 9.0.1 build v9.0.1rc0 (mac64)\n",
      "Optimize a model with 435 rows, 810 columns and 3996 nonzeros\n",
      "Model fingerprint: 0x2c4eb571\n",
      "Variable types: 0 continuous, 810 integer (729 binary)\n",
      "Coefficient statistics:\n",
      "  Matrix range     [1e+00, 9e+00]\n",
      "  Objective range  [0e+00, 0e+00]\n",
      "  Bounds range     [1e+00, 9e+00]\n",
      "  RHS range        [1e+00, 9e+00]\n",
      "Presolve removed 435 rows and 810 columns\n",
      "Presolve time: 0.00s\n",
      "Presolve: All rows and columns removed\n",
      "\n",
      "Explored 0 nodes (0 simplex iterations) in 0.01 seconds\n",
      "Thread count was 1 (of 16 available processors)\n",
      "\n",
      "Solution count 1: 0 \n",
      "\n",
      "Optimal solution found (tolerance 1.00e-04)\n",
      "Best objective 0.000000000000e+00, best bound 0.000000000000e+00, gap 0.0000%\n"
     ]
    }
   ],
   "source": [
    "read_solve_write_display_sudoku('sudokuDim3_solved.json', display=False)"
   ]
  },
  {
   "cell_type": "markdown",
   "metadata": {},
   "source": [
    "Indeed:"
   ]
  },
  {
   "cell_type": "markdown",
   "metadata": {},
   "source": [
    "diff sudokuDim3_solved.json sudokuDim3_solved_solved.json"
   ]
  },
  {
   "cell_type": "markdown",
   "metadata": {},
   "source": [
    "gives no output, meaning the files are identical."
   ]
  },
  {
   "cell_type": "markdown",
   "metadata": {},
   "source": [
    "# Meta Sudoku\n",
    "\n",
    "By the definition of the variable $D$ above, or just by the title of this article, you will have realised that\n",
    "a Sudoku can be extended to higher values of dim. An example of a Meta Sudoku of dimension 4 is for example."
   ]
  },
  {
   "cell_type": "markdown",
   "metadata": {},
   "source": [
    "## Scaling Down\n",
    "\n",
    "Oh, let's first try to solve smaller Sudokus, like for D=1 and for D=2. That's a good test to see if our code is robust against corner cases."
   ]
  },
  {
   "cell_type": "code",
   "execution_count": 10,
   "metadata": {},
   "outputs": [
    {
     "name": "stdout",
     "output_type": "stream",
     "text": [
      "I have read a valid MetaSudoku problem description of dimension 2.\n",
      "\n",
      "Gurobi Optimizer version 9.0.1 build v9.0.1rc0 (mac64)\n",
      "Optimize a model with 81 rows, 80 columns and 340 nonzeros\n",
      "Model fingerprint: 0xa92e082f\n",
      "Variable types: 0 continuous, 80 integer (64 binary)\n",
      "Coefficient statistics:\n",
      "  Matrix range     [1e+00, 4e+00]\n",
      "  Objective range  [0e+00, 0e+00]\n",
      "  Bounds range     [1e+00, 4e+00]\n",
      "  RHS range        [1e+00, 1e+00]\n",
      "Found heuristic solution: objective 0.0000000\n",
      "\n",
      "Explored 0 nodes (0 simplex iterations) in 0.00 seconds\n",
      "Thread count was 1 (of 16 available processors)\n",
      "\n",
      "Solution count 1: 0 \n",
      "\n",
      "Optimal solution found (tolerance 1.00e-04)\n",
      "Best objective 0.000000000000e+00, best bound 0.000000000000e+00, gap 0.0000%\n"
     ]
    },
    {
     "data": {
      "text/html": [
       "<html><head><style>table { border-collapse: collapse; font-family: Calibri, sans-serif; } colgroup, tbody { border: solid thin; } td { td border: solid thin; height: 1.4em; width: 1.4em; text-align: center; padding: 0; }</style></head><body>\n",
       "<table>\n",
       "  <caption>2 x 2 x 2 x 2 Sudoku</caption>\n",
       "  <colgroup><col><col>\n",
       "  <colgroup><col><col>\n",
       "\n",
       "<tbody>\n",
       "  <tr> <td style=\"color:black;\">2  <td style=\"color:red;\">1  <td style=\"color:black;\">4  <td style=\"color:black;\">3 \n",
       "  <tr> <td style=\"color:black;\">4  <td style=\"color:black;\">3  <td style=\"color:black;\">2  <td style=\"color:black;\">1 \n",
       "<tbody>\n",
       "  <tr> <td style=\"color:black;\">1  <td style=\"color:black;\">4  <td style=\"color:black;\">3  <td style=\"color:black;\">2 \n",
       "  <tr> <td style=\"color:black;\">3  <td style=\"color:black;\">2  <td style=\"color:black;\">1  <td style=\"color:black;\">4 \n",
       "</table></body></html>"
      ],
      "text/plain": [
       "<IPython.core.display.HTML object>"
      ]
     },
     "execution_count": 10,
     "metadata": {},
     "output_type": "execute_result"
    }
   ],
   "source": [
    "read_solve_write_display_sudoku('sudokuDim2.json')"
   ]
  },
  {
   "cell_type": "markdown",
   "metadata": {},
   "source": [
    "That is easy to check for corectness."
   ]
  },
  {
   "cell_type": "code",
   "execution_count": 11,
   "metadata": {},
   "outputs": [
    {
     "name": "stdout",
     "output_type": "stream",
     "text": [
      "I have read a valid MetaSudoku problem description of dimension 1.\n",
      "\n",
      "Gurobi Optimizer version 9.0.1 build v9.0.1rc0 (mac64)\n",
      "Optimize a model with 6 rows, 2 columns and 7 nonzeros\n",
      "Model fingerprint: 0x338cd1b6\n",
      "Variable types: 0 continuous, 2 integer (1 binary)\n",
      "Coefficient statistics:\n",
      "  Matrix range     [1e+00, 1e+00]\n",
      "  Objective range  [0e+00, 0e+00]\n",
      "  Bounds range     [1e+00, 1e+00]\n",
      "  RHS range        [1e+00, 1e+00]\n",
      "Found heuristic solution: objective 0.0000000\n",
      "\n",
      "Explored 0 nodes (0 simplex iterations) in 0.00 seconds\n",
      "Thread count was 1 (of 16 available processors)\n",
      "\n",
      "Solution count 1: 0 \n",
      "\n",
      "Optimal solution found (tolerance 1.00e-04)\n",
      "Best objective 0.000000000000e+00, best bound 0.000000000000e+00, gap 0.0000%\n"
     ]
    },
    {
     "data": {
      "text/html": [
       "<html><head><style>table { border-collapse: collapse; font-family: Calibri, sans-serif; } colgroup, tbody { border: solid thin; } td { td border: solid thin; height: 1.4em; width: 1.4em; text-align: center; padding: 0; }</style></head><body>\n",
       "<table>\n",
       "  <caption>1 x 1 x 1 x 1 Sudoku</caption>\n",
       "  <colgroup><col>\n",
       "\n",
       "<tbody>\n",
       "  <tr> <td style=\"color:red;\">1 \n",
       "</table></body></html>"
      ],
      "text/plain": [
       "<IPython.core.display.HTML object>"
      ]
     },
     "execution_count": 11,
     "metadata": {},
     "output_type": "execute_result"
    }
   ],
   "source": [
    "read_solve_write_display_sudoku('sudokuDim1.json')"
   ]
  },
  {
   "cell_type": "markdown",
   "metadata": {},
   "source": [
    "That's fine and the only 1x1 Sudoku around."
   ]
  },
  {
   "cell_type": "code",
   "execution_count": 12,
   "metadata": {},
   "outputs": [
    {
     "name": "stdout",
     "output_type": "stream",
     "text": [
      "I have read a valid MetaSudoku problem description of dimension 0.\n",
      "\n",
      "Gurobi Optimizer version 9.0.1 build v9.0.1rc0 (mac64)\n",
      "Optimize a model with 0 rows, 0 columns and 0 nonzeros\n",
      "Model fingerprint: 0xf9715da1\n",
      "Coefficient statistics:\n",
      "  Matrix range     [0e+00, 0e+00]\n",
      "  Objective range  [0e+00, 0e+00]\n",
      "  Bounds range     [0e+00, 0e+00]\n",
      "  RHS range        [0e+00, 0e+00]\n",
      "Presolve time: 0.00s\n",
      "Presolve: All rows and columns removed\n",
      "Iteration    Objective       Primal Inf.    Dual Inf.      Time\n",
      "       0    0.0000000e+00   0.000000e+00   0.000000e+00      0s\n",
      "\n",
      "Solved in 0 iterations and 0.00 seconds\n",
      "Optimal objective  0.000000000e+00\n"
     ]
    },
    {
     "data": {
      "text/html": [
       "<html><head><style>table { border-collapse: collapse; font-family: Calibri, sans-serif; } colgroup, tbody { border: solid thin; } td { td border: solid thin; height: 1.4em; width: 1.4em; text-align: center; padding: 0; }</style></head><body>\n",
       "<table>\n",
       "  <caption>0 x 0 x 0 x 0 Sudoku</caption>\n",
       "\n",
       "</table></body></html>"
      ],
      "text/plain": [
       "<IPython.core.display.HTML object>"
      ]
     },
     "execution_count": 12,
     "metadata": {},
     "output_type": "execute_result"
    }
   ],
   "source": [
    "read_solve_write_display_sudoku('sudokuDim0.json')"
   ]
  },
  {
   "cell_type": "markdown",
   "metadata": {},
   "source": [
    "Even that works! :) That may not surprise you but for example the solver XPRESS, at least for its C++ API in 2016, gave an error if you pass it a problem with 0 variables and zero constraints."
   ]
  },
  {
   "cell_type": "markdown",
   "metadata": {},
   "source": [
    "## Scaling Up"
   ]
  },
  {
   "cell_type": "markdown",
   "metadata": {},
   "source": [
    "Time to scale up now. How about dimension 4?"
   ]
  },
  {
   "cell_type": "code",
   "execution_count": 13,
   "metadata": {},
   "outputs": [
    {
     "name": "stdout",
     "output_type": "stream",
     "text": [
      "I have read a valid MetaSudoku problem description of dimension 4.\n",
      "\n",
      "Gurobi Optimizer version 9.0.1 build v9.0.1rc0 (mac64)\n",
      "Optimize a model with 1290 rows, 4352 columns and 20896 nonzeros\n",
      "Model fingerprint: 0x03572a4b\n",
      "Variable types: 0 continuous, 4352 integer (4096 binary)\n",
      "Coefficient statistics:\n",
      "  Matrix range     [1e+00, 2e+01]\n",
      "  Objective range  [0e+00, 0e+00]\n",
      "  Bounds range     [1e+00, 2e+01]\n",
      "  RHS range        [1e+00, 9e+00]\n",
      "Presolve removed 306 rows and 760 columns\n",
      "Presolve time: 0.04s\n",
      "Presolved: 984 rows, 3592 columns, 14368 nonzeros\n",
      "Variable types: 0 continuous, 3592 integer (3592 binary)\n",
      "\n",
      "Root relaxation: objective 0.000000e+00, 1963 iterations, 0.16 seconds\n",
      "\n",
      "    Nodes    |    Current Node    |     Objective Bounds      |     Work\n",
      " Expl Unexpl |  Obj  Depth IntInf | Incumbent    BestBd   Gap | It/Node Time\n",
      "\n",
      "*    0     0               0       0.0000000    0.00000  0.00%     -    1s\n",
      "\n",
      "Explored 0 nodes (12998 simplex iterations) in 1.44 seconds\n",
      "Thread count was 16 (of 16 available processors)\n",
      "\n",
      "Solution count 1: 0 \n",
      "\n",
      "Optimal solution found (tolerance 1.00e-04)\n",
      "Best objective 0.000000000000e+00, best bound 0.000000000000e+00, gap 0.0000%\n"
     ]
    },
    {
     "data": {
      "text/html": [
       "<html><head><style>table { border-collapse: collapse; font-family: Calibri, sans-serif; } colgroup, tbody { border: solid thin; } td { td border: solid thin; height: 1.4em; width: 1.4em; text-align: center; padding: 0; }</style></head><body>\n",
       "<table>\n",
       "  <caption>4 x 4 x 4 x 4 Sudoku</caption>\n",
       "  <colgroup><col><col><col><col>\n",
       "  <colgroup><col><col><col><col>\n",
       "  <colgroup><col><col><col><col>\n",
       "  <colgroup><col><col><col><col>\n",
       "\n",
       "<tbody>\n",
       "  <tr> <td style=\"color:red;\">5  <td style=\"color:red;\">3  <td style=\"color:black;\">4  <td style=\"color:black;\">16  <td style=\"color:red;\">7  <td style=\"color:black;\">11  <td style=\"color:black;\">10  <td style=\"color:black;\">9  <td style=\"color:black;\">14  <td style=\"color:black;\">1  <td style=\"color:black;\">6  <td style=\"color:black;\">15  <td style=\"color:black;\">8  <td style=\"color:black;\">12  <td style=\"color:black;\">2  <td style=\"color:black;\">13 \n",
       "  <tr> <td style=\"color:black;\">15  <td style=\"color:black;\">11  <td style=\"color:black;\">12  <td style=\"color:black;\">6  <td style=\"color:black;\">5  <td style=\"color:black;\">1  <td style=\"color:black;\">3  <td style=\"color:black;\">8  <td style=\"color:black;\">10  <td style=\"color:black;\">2  <td style=\"color:black;\">16  <td style=\"color:black;\">13  <td style=\"color:black;\">9  <td style=\"color:black;\">14  <td style=\"color:black;\">7  <td style=\"color:black;\">4 \n",
       "  <tr> <td style=\"color:black;\">13  <td style=\"color:red;\">9  <td style=\"color:red;\">8  <td style=\"color:black;\">7  <td style=\"color:black;\">15  <td style=\"color:black;\">2  <td style=\"color:black;\">14  <td style=\"color:red;\">6  <td style=\"color:black;\">3  <td style=\"color:black;\">4  <td style=\"color:black;\">11  <td style=\"color:black;\">12  <td style=\"color:black;\">5  <td style=\"color:black;\">10  <td style=\"color:black;\">1  <td style=\"color:black;\">16 \n",
       "  <tr> <td style=\"color:black;\">10  <td style=\"color:black;\">1  <td style=\"color:black;\">2  <td style=\"color:black;\">14  <td style=\"color:black;\">12  <td style=\"color:black;\">13  <td style=\"color:black;\">4  <td style=\"color:black;\">16  <td style=\"color:black;\">9  <td style=\"color:black;\">7  <td style=\"color:black;\">8  <td style=\"color:black;\">5  <td style=\"color:black;\">15  <td style=\"color:black;\">6  <td style=\"color:black;\">11  <td style=\"color:black;\">3 \n",
       "<tbody>\n",
       "  <tr> <td style=\"color:red;\">4  <td style=\"color:black;\">5  <td style=\"color:black;\">6  <td style=\"color:red;\">8  <td style=\"color:black;\">16  <td style=\"color:red;\">3  <td style=\"color:black;\">12  <td style=\"color:black;\">13  <td style=\"color:red;\">1  <td style=\"color:black;\">15  <td style=\"color:black;\">9  <td style=\"color:black;\">14  <td style=\"color:black;\">7  <td style=\"color:black;\">2  <td style=\"color:black;\">10  <td style=\"color:black;\">11 \n",
       "  <tr> <td style=\"color:black;\">2  <td style=\"color:black;\">16  <td style=\"color:black;\">14  <td style=\"color:black;\">1  <td style=\"color:black;\">10  <td style=\"color:black;\">6  <td style=\"color:black;\">5  <td style=\"color:black;\">7  <td style=\"color:black;\">13  <td style=\"color:black;\">8  <td style=\"color:black;\">12  <td style=\"color:black;\">11  <td style=\"color:black;\">4  <td style=\"color:black;\">15  <td style=\"color:black;\">3  <td style=\"color:black;\">9 \n",
       "  <tr> <td style=\"color:black;\">3  <td style=\"color:black;\">15  <td style=\"color:black;\">10  <td style=\"color:black;\">12  <td style=\"color:black;\">11  <td style=\"color:black;\">8  <td style=\"color:black;\">9  <td style=\"color:black;\">2  <td style=\"color:black;\">16  <td style=\"color:black;\">6  <td style=\"color:black;\">7  <td style=\"color:black;\">4  <td style=\"color:black;\">13  <td style=\"color:black;\">1  <td style=\"color:black;\">5  <td style=\"color:black;\">14 \n",
       "  <tr> <td style=\"color:black;\">11  <td style=\"color:black;\">7  <td style=\"color:black;\">9  <td style=\"color:black;\">13  <td style=\"color:black;\">4  <td style=\"color:black;\">15  <td style=\"color:black;\">1  <td style=\"color:black;\">14  <td style=\"color:black;\">5  <td style=\"color:black;\">3  <td style=\"color:black;\">10  <td style=\"color:black;\">2  <td style=\"color:black;\">6  <td style=\"color:black;\">16  <td style=\"color:black;\">8  <td style=\"color:black;\">12 \n",
       "<tbody>\n",
       "  <tr> <td style=\"color:black;\">16  <td style=\"color:black;\">14  <td style=\"color:black;\">13  <td style=\"color:black;\">2  <td style=\"color:black;\">1  <td style=\"color:black;\">10  <td style=\"color:black;\">8  <td style=\"color:black;\">11  <td style=\"color:black;\">15  <td style=\"color:black;\">9  <td style=\"color:black;\">5  <td style=\"color:black;\">3  <td style=\"color:black;\">12  <td style=\"color:black;\">4  <td style=\"color:black;\">6  <td style=\"color:black;\">7 \n",
       "  <tr> <td style=\"color:black;\">12  <td style=\"color:black;\">8  <td style=\"color:black;\">5  <td style=\"color:black;\">9  <td style=\"color:black;\">13  <td style=\"color:black;\">4  <td style=\"color:black;\">6  <td style=\"color:black;\">15  <td style=\"color:black;\">7  <td style=\"color:black;\">14  <td style=\"color:black;\">2  <td style=\"color:black;\">1  <td style=\"color:black;\">3  <td style=\"color:black;\">11  <td style=\"color:black;\">16  <td style=\"color:black;\">10 \n",
       "  <tr> <td style=\"color:black;\">7  <td style=\"color:black;\">4  <td style=\"color:black;\">3  <td style=\"color:black;\">11  <td style=\"color:black;\">2  <td style=\"color:black;\">12  <td style=\"color:black;\">16  <td style=\"color:black;\">5  <td style=\"color:black;\">6  <td style=\"color:black;\">10  <td style=\"color:black;\">13  <td style=\"color:black;\">8  <td style=\"color:black;\">1  <td style=\"color:black;\">9  <td style=\"color:black;\">14  <td style=\"color:black;\">15 \n",
       "  <tr> <td style=\"color:black;\">6  <td style=\"color:black;\">10  <td style=\"color:black;\">1  <td style=\"color:black;\">15  <td style=\"color:black;\">9  <td style=\"color:black;\">14  <td style=\"color:black;\">7  <td style=\"color:black;\">3  <td style=\"color:black;\">11  <td style=\"color:black;\">12  <td style=\"color:black;\">4  <td style=\"color:black;\">16  <td style=\"color:black;\">2  <td style=\"color:black;\">5  <td style=\"color:black;\">13  <td style=\"color:black;\">8 \n",
       "<tbody>\n",
       "  <tr> <td style=\"color:black;\">1  <td style=\"color:black;\">2  <td style=\"color:black;\">15  <td style=\"color:black;\">4  <td style=\"color:black;\">3  <td style=\"color:black;\">9  <td style=\"color:black;\">11  <td style=\"color:black;\">10  <td style=\"color:black;\">8  <td style=\"color:black;\">13  <td style=\"color:black;\">14  <td style=\"color:black;\">6  <td style=\"color:black;\">16  <td style=\"color:black;\">7  <td style=\"color:black;\">12  <td style=\"color:black;\">5 \n",
       "  <tr> <td style=\"color:black;\">8  <td style=\"color:black;\">6  <td style=\"color:black;\">7  <td style=\"color:black;\">5  <td style=\"color:black;\">14  <td style=\"color:black;\">16  <td style=\"color:black;\">2  <td style=\"color:black;\">12  <td style=\"color:black;\">4  <td style=\"color:black;\">11  <td style=\"color:black;\">3  <td style=\"color:black;\">9  <td style=\"color:black;\">10  <td style=\"color:black;\">13  <td style=\"color:black;\">15  <td style=\"color:black;\">1 \n",
       "  <tr> <td style=\"color:black;\">9  <td style=\"color:black;\">12  <td style=\"color:black;\">11  <td style=\"color:black;\">10  <td style=\"color:black;\">8  <td style=\"color:black;\">5  <td style=\"color:black;\">13  <td style=\"color:black;\">1  <td style=\"color:black;\">2  <td style=\"color:black;\">16  <td style=\"color:black;\">15  <td style=\"color:black;\">7  <td style=\"color:black;\">14  <td style=\"color:black;\">3  <td style=\"color:black;\">4  <td style=\"color:black;\">6 \n",
       "  <tr> <td style=\"color:black;\">14  <td style=\"color:black;\">13  <td style=\"color:black;\">16  <td style=\"color:black;\">3  <td style=\"color:black;\">6  <td style=\"color:black;\">7  <td style=\"color:black;\">15  <td style=\"color:black;\">4  <td style=\"color:black;\">12  <td style=\"color:black;\">5  <td style=\"color:black;\">1  <td style=\"color:black;\">10  <td style=\"color:black;\">11  <td style=\"color:black;\">8  <td style=\"color:black;\">9  <td style=\"color:black;\">2 \n",
       "</table></body></html>"
      ],
      "text/plain": [
       "<IPython.core.display.HTML object>"
      ]
     },
     "execution_count": 13,
     "metadata": {},
     "output_type": "execute_result"
    }
   ],
   "source": [
    "read_solve_write_display_sudoku('sudokuDim4.json')"
   ]
  },
  {
   "cell_type": "code",
   "execution_count": 14,
   "metadata": {
    "scrolled": true
   },
   "outputs": [
    {
     "name": "stdout",
     "output_type": "stream",
     "text": [
      "I have read a valid MetaSudoku problem description of dimension 5.\n",
      "\n",
      "Gurobi Optimizer version 9.0.1 build v9.0.1rc0 (mac64)\n",
      "Optimize a model with 3138 rows, 16250 columns and 79075 nonzeros\n",
      "Model fingerprint: 0x122ff111\n",
      "Variable types: 0 continuous, 16250 integer (15625 binary)\n",
      "Coefficient statistics:\n",
      "  Matrix range     [1e+00, 2e+01]\n",
      "  Objective range  [0e+00, 0e+00]\n",
      "  Bounds range     [1e+00, 2e+01]\n",
      "  RHS range        [1e+00, 2e+01]\n",
      "Presolve removed 690 rows and 1716 columns\n",
      "Presolve time: 0.14s\n",
      "Presolved: 2448 rows, 14534 columns, 58136 nonzeros\n",
      "Variable types: 0 continuous, 14534 integer (14534 binary)\n",
      "\n",
      "Root relaxation: objective 0.000000e+00, 8575 iterations, 3.30 seconds\n",
      "Total elapsed time = 11.36s\n",
      "Total elapsed time = 18.71s\n",
      "Total elapsed time = 24.05s\n",
      "Total elapsed time = 30.36s\n",
      "\n",
      "    Nodes    |    Current Node    |     Objective Bounds      |     Work\n",
      " Expl Unexpl |  Obj  Depth IntInf | Incumbent    BestBd   Gap | It/Node Time\n",
      "\n",
      "     0     0    0.00000    0  886          -    0.00000      -     -   36s\n",
      "H    0     0                       0.0000000    0.00000  0.00%     -   39s\n",
      "     0     0    0.00000    0  886    0.00000    0.00000  0.00%     -   39s\n",
      "\n",
      "Explored 1 nodes (96419 simplex iterations) in 39.30 seconds\n",
      "Thread count was 16 (of 16 available processors)\n",
      "\n",
      "Solution count 1: 0 \n",
      "\n",
      "Optimal solution found (tolerance 1.00e-04)\n",
      "Best objective 0.000000000000e+00, best bound 0.000000000000e+00, gap 0.0000%\n"
     ]
    },
    {
     "data": {
      "text/html": [
       "<html><head><style>table { border-collapse: collapse; font-family: Calibri, sans-serif; } colgroup, tbody { border: solid thin; } td { td border: solid thin; height: 1.4em; width: 1.4em; text-align: center; padding: 0; }</style></head><body>\n",
       "<table>\n",
       "  <caption>5 x 5 x 5 x 5 Sudoku</caption>\n",
       "  <colgroup><col><col><col><col><col>\n",
       "  <colgroup><col><col><col><col><col>\n",
       "  <colgroup><col><col><col><col><col>\n",
       "  <colgroup><col><col><col><col><col>\n",
       "  <colgroup><col><col><col><col><col>\n",
       "\n",
       "<tbody>\n",
       "  <tr> <td style=\"color:red;\">5  <td style=\"color:red;\">3  <td style=\"color:black;\">10  <td style=\"color:black;\">21  <td style=\"color:black;\">25  <td style=\"color:black;\">23  <td style=\"color:red;\">7  <td style=\"color:black;\">11  <td style=\"color:black;\">12  <td style=\"color:black;\">9  <td style=\"color:black;\">19  <td style=\"color:black;\">4  <td style=\"color:black;\">1  <td style=\"color:black;\">14  <td style=\"color:black;\">16  <td style=\"color:black;\">22  <td style=\"color:black;\">8  <td style=\"color:black;\">24  <td style=\"color:black;\">17  <td style=\"color:black;\">2  <td style=\"color:black;\">6  <td style=\"color:black;\">20  <td style=\"color:black;\">18  <td style=\"color:black;\">13  <td style=\"color:black;\">15 \n",
       "  <tr> <td style=\"color:black;\">23  <td style=\"color:black;\">22  <td style=\"color:black;\">17  <td style=\"color:black;\">19  <td style=\"color:black;\">1  <td style=\"color:black;\">25  <td style=\"color:black;\">13  <td style=\"color:black;\">21  <td style=\"color:black;\">10  <td style=\"color:black;\">14  <td style=\"color:black;\">20  <td style=\"color:black;\">3  <td style=\"color:black;\">7  <td style=\"color:black;\">2  <td style=\"color:black;\">15  <td style=\"color:black;\">6  <td style=\"color:black;\">4  <td style=\"color:black;\">16  <td style=\"color:black;\">18  <td style=\"color:black;\">11  <td style=\"color:black;\">24  <td style=\"color:black;\">9  <td style=\"color:black;\">5  <td style=\"color:black;\">12  <td style=\"color:black;\">8 \n",
       "  <tr> <td style=\"color:black;\">15  <td style=\"color:red;\">9  <td style=\"color:red;\">8  <td style=\"color:black;\">18  <td style=\"color:black;\">2  <td style=\"color:black;\">24  <td style=\"color:black;\">16  <td style=\"color:red;\">6  <td style=\"color:black;\">4  <td style=\"color:black;\">17  <td style=\"color:black;\">12  <td style=\"color:black;\">22  <td style=\"color:black;\">13  <td style=\"color:black;\">21  <td style=\"color:black;\">23  <td style=\"color:black;\">19  <td style=\"color:black;\">3  <td style=\"color:black;\">5  <td style=\"color:black;\">20  <td style=\"color:black;\">1  <td style=\"color:black;\">11  <td style=\"color:black;\">14  <td style=\"color:black;\">25  <td style=\"color:black;\">7  <td style=\"color:black;\">10 \n",
       "  <tr> <td style=\"color:black;\">24  <td style=\"color:black;\">11  <td style=\"color:black;\">20  <td style=\"color:black;\">13  <td style=\"color:black;\">6  <td style=\"color:black;\">18  <td style=\"color:black;\">22  <td style=\"color:black;\">5  <td style=\"color:black;\">19  <td style=\"color:black;\">2  <td style=\"color:black;\">25  <td style=\"color:black;\">10  <td style=\"color:black;\">8  <td style=\"color:black;\">17  <td style=\"color:black;\">9  <td style=\"color:black;\">15  <td style=\"color:black;\">21  <td style=\"color:black;\">14  <td style=\"color:black;\">7  <td style=\"color:black;\">12  <td style=\"color:black;\">1  <td style=\"color:black;\">23  <td style=\"color:black;\">3  <td style=\"color:black;\">16  <td style=\"color:black;\">4 \n",
       "  <tr> <td style=\"color:black;\">16  <td style=\"color:black;\">12  <td style=\"color:black;\">14  <td style=\"color:black;\">7  <td style=\"color:black;\">4  <td style=\"color:black;\">3  <td style=\"color:black;\">1  <td style=\"color:black;\">15  <td style=\"color:black;\">20  <td style=\"color:black;\">8  <td style=\"color:black;\">5  <td style=\"color:black;\">18  <td style=\"color:black;\">24  <td style=\"color:black;\">6  <td style=\"color:black;\">11  <td style=\"color:black;\">10  <td style=\"color:black;\">23  <td style=\"color:black;\">9  <td style=\"color:black;\">13  <td style=\"color:black;\">25  <td style=\"color:black;\">17  <td style=\"color:black;\">22  <td style=\"color:black;\">19  <td style=\"color:black;\">2  <td style=\"color:black;\">21 \n",
       "<tbody>\n",
       "  <tr> <td style=\"color:black;\">3  <td style=\"color:black;\">7  <td style=\"color:black;\">23  <td style=\"color:black;\">20  <td style=\"color:black;\">9  <td style=\"color:black;\">4  <td style=\"color:black;\">10  <td style=\"color:black;\">22  <td style=\"color:black;\">11  <td style=\"color:black;\">24  <td style=\"color:black;\">17  <td style=\"color:black;\">12  <td style=\"color:black;\">21  <td style=\"color:black;\">18  <td style=\"color:black;\">25  <td style=\"color:black;\">13  <td style=\"color:black;\">2  <td style=\"color:black;\">8  <td style=\"color:black;\">14  <td style=\"color:black;\">19  <td style=\"color:black;\">16  <td style=\"color:black;\">15  <td style=\"color:black;\">1  <td style=\"color:black;\">6  <td style=\"color:black;\">5 \n",
       "  <tr> <td style=\"color:black;\">22  <td style=\"color:black;\">19  <td style=\"color:black;\">1  <td style=\"color:black;\">6  <td style=\"color:black;\">5  <td style=\"color:black;\">20  <td style=\"color:black;\">8  <td style=\"color:black;\">18  <td style=\"color:black;\">13  <td style=\"color:black;\">7  <td style=\"color:black;\">4  <td style=\"color:black;\">15  <td style=\"color:black;\">16  <td style=\"color:black;\">24  <td style=\"color:black;\">14  <td style=\"color:black;\">12  <td style=\"color:black;\">9  <td style=\"color:black;\">21  <td style=\"color:black;\">3  <td style=\"color:black;\">17  <td style=\"color:black;\">23  <td style=\"color:black;\">10  <td style=\"color:black;\">2  <td style=\"color:black;\">11  <td style=\"color:black;\">25 \n",
       "  <tr> <td style=\"color:black;\">14  <td style=\"color:black;\">2  <td style=\"color:black;\">25  <td style=\"color:red;\">4  <td style=\"color:red;\">11  <td style=\"color:red;\">19  <td style=\"color:black;\">3  <td style=\"color:black;\">16  <td style=\"color:red;\">5  <td style=\"color:black;\">6  <td style=\"color:black;\">10  <td style=\"color:black;\">8  <td style=\"color:black;\">23  <td style=\"color:black;\">22  <td style=\"color:black;\">1  <td style=\"color:black;\">18  <td style=\"color:black;\">7  <td style=\"color:black;\">15  <td style=\"color:black;\">24  <td style=\"color:black;\">20  <td style=\"color:black;\">9  <td style=\"color:black;\">17  <td style=\"color:black;\">12  <td style=\"color:black;\">21  <td style=\"color:black;\">13 \n",
       "  <tr> <td style=\"color:black;\">21  <td style=\"color:black;\">10  <td style=\"color:black;\">16  <td style=\"color:black;\">24  <td style=\"color:red;\">8  <td style=\"color:black;\">15  <td style=\"color:black;\">14  <td style=\"color:red;\">17  <td style=\"color:red;\">2  <td style=\"color:black;\">12  <td style=\"color:black;\">9  <td style=\"color:black;\">11  <td style=\"color:black;\">6  <td style=\"color:black;\">20  <td style=\"color:black;\">13  <td style=\"color:black;\">23  <td style=\"color:black;\">22  <td style=\"color:black;\">1  <td style=\"color:black;\">25  <td style=\"color:black;\">5  <td style=\"color:black;\">7  <td style=\"color:black;\">3  <td style=\"color:black;\">4  <td style=\"color:black;\">19  <td style=\"color:black;\">18 \n",
       "  <tr> <td style=\"color:black;\">17  <td style=\"color:black;\">18  <td style=\"color:black;\">13  <td style=\"color:black;\">12  <td style=\"color:black;\">15  <td style=\"color:black;\">21  <td style=\"color:black;\">9  <td style=\"color:black;\">1  <td style=\"color:black;\">23  <td style=\"color:black;\">25  <td style=\"color:black;\">2  <td style=\"color:black;\">5  <td style=\"color:black;\">3  <td style=\"color:black;\">19  <td style=\"color:black;\">7  <td style=\"color:black;\">16  <td style=\"color:black;\">11  <td style=\"color:black;\">6  <td style=\"color:black;\">4  <td style=\"color:black;\">10  <td style=\"color:black;\">22  <td style=\"color:black;\">8  <td style=\"color:black;\">14  <td style=\"color:black;\">20  <td style=\"color:black;\">24 \n",
       "<tbody>\n",
       "  <tr> <td style=\"color:black;\">9  <td style=\"color:black;\">21  <td style=\"color:black;\">22  <td style=\"color:black;\">11  <td style=\"color:black;\">7  <td style=\"color:black;\">12  <td style=\"color:black;\">25  <td style=\"color:black;\">13  <td style=\"color:black;\">8  <td style=\"color:black;\">3  <td style=\"color:black;\">1  <td style=\"color:black;\">14  <td style=\"color:black;\">18  <td style=\"color:black;\">16  <td style=\"color:black;\">4  <td style=\"color:black;\">17  <td style=\"color:black;\">24  <td style=\"color:black;\">23  <td style=\"color:black;\">10  <td style=\"color:black;\">6  <td style=\"color:black;\">5  <td style=\"color:black;\">19  <td style=\"color:black;\">20  <td style=\"color:black;\">15  <td style=\"color:black;\">2 \n",
       "  <tr> <td style=\"color:black;\">25  <td style=\"color:black;\">8  <td style=\"color:black;\">19  <td style=\"color:black;\">14  <td style=\"color:black;\">16  <td style=\"color:black;\">5  <td style=\"color:black;\">6  <td style=\"color:black;\">4  <td style=\"color:black;\">7  <td style=\"color:black;\">18  <td style=\"color:black;\">23  <td style=\"color:black;\">24  <td style=\"color:black;\">22  <td style=\"color:black;\">3  <td style=\"color:black;\">2  <td style=\"color:black;\">9  <td style=\"color:black;\">15  <td style=\"color:black;\">20  <td style=\"color:black;\">11  <td style=\"color:black;\">13  <td style=\"color:black;\">12  <td style=\"color:black;\">21  <td style=\"color:black;\">17  <td style=\"color:black;\">10  <td style=\"color:black;\">1 \n",
       "  <tr> <td style=\"color:black;\">1  <td style=\"color:black;\">17  <td style=\"color:black;\">4  <td style=\"color:black;\">3  <td style=\"color:black;\">20  <td style=\"color:black;\">22  <td style=\"color:black;\">15  <td style=\"color:black;\">9  <td style=\"color:black;\">24  <td style=\"color:black;\">23  <td style=\"color:black;\">7  <td style=\"color:black;\">6  <td style=\"color:black;\">25  <td style=\"color:black;\">10  <td style=\"color:black;\">5  <td style=\"color:black;\">14  <td style=\"color:black;\">19  <td style=\"color:black;\">12  <td style=\"color:black;\">2  <td style=\"color:black;\">21  <td style=\"color:black;\">8  <td style=\"color:black;\">13  <td style=\"color:black;\">11  <td style=\"color:black;\">18  <td style=\"color:black;\">16 \n",
       "  <tr> <td style=\"color:black;\">6  <td style=\"color:black;\">23  <td style=\"color:black;\">5  <td style=\"color:black;\">2  <td style=\"color:black;\">10  <td style=\"color:black;\">11  <td style=\"color:black;\">17  <td style=\"color:black;\">20  <td style=\"color:black;\">16  <td style=\"color:black;\">21  <td style=\"color:black;\">8  <td style=\"color:black;\">13  <td style=\"color:black;\">12  <td style=\"color:black;\">15  <td style=\"color:black;\">19  <td style=\"color:black;\">3  <td style=\"color:black;\">25  <td style=\"color:black;\">4  <td style=\"color:black;\">1  <td style=\"color:black;\">18  <td style=\"color:black;\">14  <td style=\"color:black;\">24  <td style=\"color:black;\">7  <td style=\"color:black;\">22  <td style=\"color:black;\">9 \n",
       "  <tr> <td style=\"color:black;\">18  <td style=\"color:black;\">13  <td style=\"color:black;\">12  <td style=\"color:black;\">15  <td style=\"color:black;\">24  <td style=\"color:black;\">1  <td style=\"color:black;\">2  <td style=\"color:black;\">19  <td style=\"color:black;\">14  <td style=\"color:black;\">10  <td style=\"color:black;\">21  <td style=\"color:black;\">9  <td style=\"color:black;\">17  <td style=\"color:black;\">11  <td style=\"color:black;\">20  <td style=\"color:black;\">7  <td style=\"color:black;\">5  <td style=\"color:black;\">22  <td style=\"color:black;\">16  <td style=\"color:black;\">8  <td style=\"color:black;\">25  <td style=\"color:black;\">4  <td style=\"color:black;\">23  <td style=\"color:black;\">3  <td style=\"color:black;\">6 \n",
       "<tbody>\n",
       "  <tr> <td style=\"color:black;\">7  <td style=\"color:black;\">15  <td style=\"color:black;\">11  <td style=\"color:black;\">23  <td style=\"color:black;\">22  <td style=\"color:black;\">2  <td style=\"color:black;\">19  <td style=\"color:black;\">8  <td style=\"color:black;\">6  <td style=\"color:black;\">4  <td style=\"color:black;\">14  <td style=\"color:black;\">21  <td style=\"color:black;\">20  <td style=\"color:black;\">25  <td style=\"color:black;\">10  <td style=\"color:black;\">1  <td style=\"color:black;\">13  <td style=\"color:black;\">17  <td style=\"color:black;\">5  <td style=\"color:black;\">16  <td style=\"color:black;\">3  <td style=\"color:black;\">18  <td style=\"color:black;\">9  <td style=\"color:black;\">24  <td style=\"color:black;\">12 \n",
       "  <tr> <td style=\"color:black;\">13  <td style=\"color:black;\">14  <td style=\"color:black;\">2  <td style=\"color:black;\">10  <td style=\"color:black;\">17  <td style=\"color:black;\">16  <td style=\"color:black;\">18  <td style=\"color:black;\">25  <td style=\"color:black;\">22  <td style=\"color:black;\">5  <td style=\"color:black;\">3  <td style=\"color:black;\">23  <td style=\"color:black;\">9  <td style=\"color:black;\">8  <td style=\"color:black;\">6  <td style=\"color:black;\">24  <td style=\"color:black;\">20  <td style=\"color:black;\">19  <td style=\"color:black;\">12  <td style=\"color:black;\">4  <td style=\"color:black;\">15  <td style=\"color:black;\">7  <td style=\"color:black;\">21  <td style=\"color:black;\">1  <td style=\"color:black;\">11 \n",
       "  <tr> <td style=\"color:black;\">12  <td style=\"color:black;\">6  <td style=\"color:black;\">24  <td style=\"color:black;\">25  <td style=\"color:black;\">19  <td style=\"color:black;\">14  <td style=\"color:black;\">23  <td style=\"color:black;\">3  <td style=\"color:black;\">15  <td style=\"color:black;\">13  <td style=\"color:black;\">11  <td style=\"color:black;\">1  <td style=\"color:black;\">2  <td style=\"color:black;\">7  <td style=\"color:black;\">22  <td style=\"color:black;\">21  <td style=\"color:black;\">10  <td style=\"color:black;\">18  <td style=\"color:black;\">8  <td style=\"color:black;\">9  <td style=\"color:black;\">20  <td style=\"color:black;\">5  <td style=\"color:black;\">16  <td style=\"color:black;\">4  <td style=\"color:black;\">17 \n",
       "  <tr> <td style=\"color:black;\">4  <td style=\"color:black;\">1  <td style=\"color:black;\">9  <td style=\"color:black;\">8  <td style=\"color:black;\">3  <td style=\"color:black;\">17  <td style=\"color:black;\">11  <td style=\"color:black;\">24  <td style=\"color:black;\">21  <td style=\"color:black;\">20  <td style=\"color:black;\">18  <td style=\"color:black;\">16  <td style=\"color:black;\">5  <td style=\"color:black;\">13  <td style=\"color:black;\">12  <td style=\"color:black;\">2  <td style=\"color:black;\">14  <td style=\"color:black;\">25  <td style=\"color:black;\">15  <td style=\"color:black;\">7  <td style=\"color:black;\">19  <td style=\"color:black;\">6  <td style=\"color:black;\">10  <td style=\"color:black;\">23  <td style=\"color:black;\">22 \n",
       "  <tr> <td style=\"color:black;\">20  <td style=\"color:black;\">16  <td style=\"color:black;\">18  <td style=\"color:black;\">5  <td style=\"color:black;\">21  <td style=\"color:black;\">10  <td style=\"color:black;\">12  <td style=\"color:black;\">7  <td style=\"color:black;\">9  <td style=\"color:black;\">1  <td style=\"color:black;\">24  <td style=\"color:black;\">19  <td style=\"color:black;\">15  <td style=\"color:black;\">4  <td style=\"color:black;\">17  <td style=\"color:black;\">11  <td style=\"color:black;\">6  <td style=\"color:black;\">3  <td style=\"color:black;\">22  <td style=\"color:black;\">23  <td style=\"color:black;\">2  <td style=\"color:black;\">25  <td style=\"color:black;\">13  <td style=\"color:black;\">8  <td style=\"color:black;\">14 \n",
       "<tbody>\n",
       "  <tr> <td style=\"color:black;\">2  <td style=\"color:black;\">24  <td style=\"color:black;\">15  <td style=\"color:black;\">22  <td style=\"color:black;\">13  <td style=\"color:black;\">6  <td style=\"color:black;\">5  <td style=\"color:black;\">10  <td style=\"color:black;\">17  <td style=\"color:black;\">19  <td style=\"color:black;\">16  <td style=\"color:black;\">25  <td style=\"color:black;\">4  <td style=\"color:black;\">12  <td style=\"color:black;\">21  <td style=\"color:black;\">20  <td style=\"color:black;\">1  <td style=\"color:black;\">7  <td style=\"color:black;\">9  <td style=\"color:black;\">3  <td style=\"color:black;\">18  <td style=\"color:black;\">11  <td style=\"color:black;\">8  <td style=\"color:black;\">14  <td style=\"color:black;\">23 \n",
       "  <tr> <td style=\"color:black;\">11  <td style=\"color:black;\">20  <td style=\"color:black;\">3  <td style=\"color:black;\">17  <td style=\"color:black;\">23  <td style=\"color:black;\">7  <td style=\"color:black;\">4  <td style=\"color:black;\">12  <td style=\"color:black;\">25  <td style=\"color:black;\">16  <td style=\"color:black;\">6  <td style=\"color:black;\">2  <td style=\"color:black;\">14  <td style=\"color:black;\">5  <td style=\"color:black;\">24  <td style=\"color:black;\">8  <td style=\"color:black;\">18  <td style=\"color:black;\">13  <td style=\"color:black;\">21  <td style=\"color:black;\">15  <td style=\"color:black;\">10  <td style=\"color:black;\">1  <td style=\"color:black;\">22  <td style=\"color:black;\">9  <td style=\"color:black;\">19 \n",
       "  <tr> <td style=\"color:black;\">8  <td style=\"color:black;\">5  <td style=\"color:black;\">6  <td style=\"color:black;\">9  <td style=\"color:black;\">14  <td style=\"color:black;\">13  <td style=\"color:black;\">21  <td style=\"color:black;\">23  <td style=\"color:black;\">3  <td style=\"color:black;\">11  <td style=\"color:black;\">22  <td style=\"color:black;\">7  <td style=\"color:black;\">10  <td style=\"color:black;\">1  <td style=\"color:black;\">18  <td style=\"color:black;\">25  <td style=\"color:black;\">12  <td style=\"color:black;\">2  <td style=\"color:black;\">19  <td style=\"color:black;\">24  <td style=\"color:black;\">4  <td style=\"color:black;\">16  <td style=\"color:black;\">15  <td style=\"color:black;\">17  <td style=\"color:black;\">20 \n",
       "  <tr> <td style=\"color:black;\">19  <td style=\"color:black;\">4  <td style=\"color:black;\">7  <td style=\"color:black;\">1  <td style=\"color:black;\">12  <td style=\"color:black;\">9  <td style=\"color:black;\">20  <td style=\"color:black;\">14  <td style=\"color:black;\">18  <td style=\"color:black;\">15  <td style=\"color:black;\">13  <td style=\"color:black;\">17  <td style=\"color:black;\">11  <td style=\"color:black;\">23  <td style=\"color:black;\">8  <td style=\"color:black;\">5  <td style=\"color:black;\">16  <td style=\"color:black;\">10  <td style=\"color:black;\">6  <td style=\"color:black;\">22  <td style=\"color:black;\">21  <td style=\"color:black;\">2  <td style=\"color:black;\">24  <td style=\"color:black;\">25  <td style=\"color:black;\">3 \n",
       "  <tr> <td style=\"color:black;\">10  <td style=\"color:black;\">25  <td style=\"color:black;\">21  <td style=\"color:black;\">16  <td style=\"color:black;\">18  <td style=\"color:black;\">8  <td style=\"color:black;\">24  <td style=\"color:black;\">2  <td style=\"color:black;\">1  <td style=\"color:black;\">22  <td style=\"color:black;\">15  <td style=\"color:black;\">20  <td style=\"color:black;\">19  <td style=\"color:black;\">9  <td style=\"color:black;\">3  <td style=\"color:black;\">4  <td style=\"color:black;\">17  <td style=\"color:black;\">11  <td style=\"color:black;\">23  <td style=\"color:black;\">14  <td style=\"color:black;\">13  <td style=\"color:black;\">12  <td style=\"color:black;\">6  <td style=\"color:black;\">5  <td style=\"color:black;\">7 \n",
       "</table></body></html>"
      ],
      "text/plain": [
       "<IPython.core.display.HTML object>"
      ]
     },
     "execution_count": 14,
     "metadata": {},
     "output_type": "execute_result"
    }
   ],
   "source": [
    "read_solve_write_display_sudoku('sudokuDim5.json')"
   ]
  },
  {
   "cell_type": "code",
   "execution_count": 15,
   "metadata": {},
   "outputs": [
    {
     "name": "stdout",
     "output_type": "stream",
     "text": [
      "I have read a valid MetaSudoku problem description of dimension 6.\n",
      "\n",
      "Gurobi Optimizer version 9.0.1 build v9.0.1rc0 (mac64)\n",
      "Optimize a model with 6493 rows, 47952 columns and 235044 nonzeros\n",
      "Model fingerprint: 0xb8bfaa5b\n",
      "Variable types: 0 continuous, 47952 integer (46656 binary)\n",
      "Coefficient statistics:\n",
      "  Matrix range     [1e+00, 4e+01]\n",
      "  Objective range  [0e+00, 0e+00]\n",
      "  Bounds range     [1e+00, 4e+01]\n",
      "  RHS range        [1e+00, 2e+01]\n",
      "Presolve removed 1361 rows and 2933 columns\n",
      "Presolve time: 0.31s\n",
      "Presolved: 5132 rows, 45019 columns, 180076 nonzeros\n",
      "Variable types: 0 continuous, 45019 integer (45019 binary)\n",
      "\n",
      "Root simplex log...\n",
      "\n",
      "Iteration    Objective       Primal Inf.    Dual Inf.      Time\n",
      "    9423    3.1056620e-04   1.233514e+04   0.000000e+00      5s\n",
      "   13173    3.9466817e-04   6.006911e+03   0.000000e+00     10s\n",
      "   16493    4.4170394e-04   4.059309e+03   0.000000e+00     15s\n",
      "   19543    4.7224664e-04   2.416282e+03   0.000000e+00     20s\n",
      "   22053    5.1365077e-04   1.301021e+04   0.000000e+00     25s\n",
      "   24333    5.4159924e-04   3.065397e+03   0.000000e+00     30s\n",
      "   26753    5.5933225e-04   2.109224e+03   0.000000e+00     35s\n",
      "   28553    0.0000000e+00   0.000000e+00   0.000000e+00     39s\n",
      "\n",
      "Root relaxation: objective 0.000000e+00, 28553 iterations, 38.39 seconds\n",
      "Total elapsed time = 116.48s\n",
      "\n",
      "    Nodes    |    Current Node    |     Objective Bounds      |     Work\n",
      " Expl Unexpl |  Obj  Depth IntInf | Incumbent    BestBd   Gap | It/Node Time\n",
      "\n",
      "     0     0    0.00000    0 2572          -    0.00000      -     -  304s\n",
      "     0     0    0.00000    0 2932          -    0.00000      -     -  319s\n",
      "     0     0    0.00000    0 1901          -    0.00000      -     - 1006s\n",
      "H    0     0                       0.0000000    0.00000  0.00%     - 1429s\n",
      "     0     0          -    0         0.00000    0.00000  0.00%     - 1429s\n",
      "\n",
      "Cutting planes:\n",
      "  Zero half: 1\n",
      "  RLT: 118\n",
      "\n",
      "Explored 1 nodes (1152099 simplex iterations) in 1429.08 seconds\n",
      "Thread count was 16 (of 16 available processors)\n",
      "\n",
      "Solution count 1: 0 \n",
      "\n",
      "Optimal solution found (tolerance 1.00e-04)\n",
      "Best objective 0.000000000000e+00, best bound 0.000000000000e+00, gap 0.0000%\n"
     ]
    },
    {
     "data": {
      "text/html": [
       "<html><head><style>table { border-collapse: collapse; font-family: Calibri, sans-serif; } colgroup, tbody { border: solid thin; } td { td border: solid thin; height: 1.4em; width: 1.4em; text-align: center; padding: 0; }</style></head><body>\n",
       "<table>\n",
       "  <caption>6 x 6 x 6 x 6 Sudoku</caption>\n",
       "  <colgroup><col><col><col><col><col><col>\n",
       "  <colgroup><col><col><col><col><col><col>\n",
       "  <colgroup><col><col><col><col><col><col>\n",
       "  <colgroup><col><col><col><col><col><col>\n",
       "  <colgroup><col><col><col><col><col><col>\n",
       "  <colgroup><col><col><col><col><col><col>\n",
       "\n",
       "<tbody>\n",
       "  <tr> <td style=\"color:red;\">5  <td style=\"color:red;\">3  <td style=\"color:black;\">29  <td style=\"color:black;\">34  <td style=\"color:black;\">36  <td style=\"color:black;\">35  <td style=\"color:red;\">7  <td style=\"color:black;\">21  <td style=\"color:black;\">13  <td style=\"color:black;\">8  <td style=\"color:black;\">11  <td style=\"color:black;\">19  <td style=\"color:black;\">29  <td style=\"color:black;\">2  <td style=\"color:black;\">4  <td style=\"color:black;\">31  <td style=\"color:black;\">15  <td style=\"color:black;\">32  <td style=\"color:black;\">24  <td style=\"color:black;\">33  <td style=\"color:black;\">27  <td style=\"color:black;\">12  <td style=\"color:black;\">25  <td style=\"color:black;\">14  <td style=\"color:black;\">21  <td style=\"color:black;\">17  <td style=\"color:black;\">1  <td style=\"color:black;\">23  <td style=\"color:black;\">26  <td style=\"color:black;\">9  <td style=\"color:black;\">10  <td style=\"color:black;\">28  <td style=\"color:black;\">16  <td style=\"color:black;\">18  <td style=\"color:black;\">20  <td style=\"color:black;\">6 \n",
       "  <tr> <td style=\"color:black;\">32  <td style=\"color:black;\">23  <td style=\"color:black;\">14  <td style=\"color:black;\">6  <td style=\"color:black;\">19  <td style=\"color:black;\">25  <td style=\"color:black;\">15  <td style=\"color:black;\">29  <td style=\"color:black;\">34  <td style=\"color:black;\">33  <td style=\"color:black;\">18  <td style=\"color:black;\">5  <td style=\"color:black;\">22  <td style=\"color:black;\">10  <td style=\"color:black;\">24  <td style=\"color:black;\">35  <td style=\"color:black;\">3  <td style=\"color:black;\">25  <td style=\"color:black;\">13  <td style=\"color:black;\">7  <td style=\"color:black;\">2  <td style=\"color:black;\">8  <td style=\"color:black;\">1  <td style=\"color:black;\">4  <td style=\"color:black;\">36  <td style=\"color:black;\">12  <td style=\"color:black;\">16  <td style=\"color:black;\">28  <td style=\"color:black;\">20  <td style=\"color:black;\">31  <td style=\"color:black;\">27  <td style=\"color:black;\">21  <td style=\"color:black;\">28  <td style=\"color:black;\">17  <td style=\"color:black;\">9  <td style=\"color:black;\">11 \n",
       "  <tr> <td style=\"color:black;\">20  <td style=\"color:red;\">9  <td style=\"color:red;\">8  <td style=\"color:black;\">31  <td style=\"color:black;\">1  <td style=\"color:black;\">27  <td style=\"color:black;\">23  <td style=\"color:red;\">6  <td style=\"color:black;\">16  <td style=\"color:black;\">2  <td style=\"color:black;\">12  <td style=\"color:black;\">10  <td style=\"color:black;\">36  <td style=\"color:black;\">17  <td style=\"color:black;\">28  <td style=\"color:black;\">28  <td style=\"color:black;\">18  <td style=\"color:black;\">14  <td style=\"color:black;\">15  <td style=\"color:black;\">32  <td style=\"color:black;\">21  <td style=\"color:black;\">21  <td style=\"color:black;\">26  <td style=\"color:black;\">34  <td style=\"color:black;\">24  <td style=\"color:black;\">11  <td style=\"color:black;\">5  <td style=\"color:black;\">25  <td style=\"color:black;\">4  <td style=\"color:black;\">33  <td style=\"color:black;\">29  <td style=\"color:black;\">3  <td style=\"color:black;\">13  <td style=\"color:black;\">19  <td style=\"color:black;\">7  <td style=\"color:black;\">35 \n",
       "  <tr> <td style=\"color:black;\">11  <td style=\"color:black;\">24  <td style=\"color:black;\">16  <td style=\"color:black;\">18  <td style=\"color:black;\">4  <td style=\"color:black;\">2  <td style=\"color:black;\">25  <td style=\"color:black;\">9  <td style=\"color:black;\">36  <td style=\"color:black;\">22  <td style=\"color:black;\">27  <td style=\"color:black;\">14  <td style=\"color:black;\">6  <td style=\"color:black;\">12  <td style=\"color:black;\">7  <td style=\"color:black;\">21  <td style=\"color:black;\">20  <td style=\"color:black;\">33  <td style=\"color:black;\">35  <td style=\"color:black;\">28  <td style=\"color:black;\">17  <td style=\"color:black;\">5  <td style=\"color:black;\">23  <td style=\"color:black;\">19  <td style=\"color:black;\">32  <td style=\"color:black;\">29  <td style=\"color:black;\">29  <td style=\"color:black;\">3  <td style=\"color:black;\">13  <td style=\"color:black;\">10  <td style=\"color:black;\">1  <td style=\"color:black;\">15  <td style=\"color:black;\">31  <td style=\"color:black;\">8  <td style=\"color:black;\">34  <td style=\"color:black;\">26 \n",
       "  <tr> <td style=\"color:black;\">22  <td style=\"color:black;\">30  <td style=\"color:black;\">12  <td style=\"color:black;\">10  <td style=\"color:black;\">17  <td style=\"color:black;\">15  <td style=\"color:black;\">31  <td style=\"color:black;\">28  <td style=\"color:black;\">25  <td style=\"color:black;\">1  <td style=\"color:black;\">32  <td style=\"color:black;\">3  <td style=\"color:black;\">27  <td style=\"color:black;\">23  <td style=\"color:black;\">9  <td style=\"color:black;\">13  <td style=\"color:black;\">5  <td style=\"color:black;\">19  <td style=\"color:black;\">11  <td style=\"color:black;\">16  <td style=\"color:black;\">18  <td style=\"color:black;\">20  <td style=\"color:black;\">29  <td style=\"color:black;\">6  <td style=\"color:black;\">21  <td style=\"color:black;\">34  <td style=\"color:black;\">35  <td style=\"color:black;\">8  <td style=\"color:black;\">7  <td style=\"color:black;\">2  <td style=\"color:black;\">36  <td style=\"color:black;\">13  <td style=\"color:black;\">33  <td style=\"color:black;\">24  <td style=\"color:black;\">4  <td style=\"color:black;\">25 \n",
       "  <tr> <td style=\"color:black;\">28  <td style=\"color:black;\">21  <td style=\"color:black;\">7  <td style=\"color:black;\">25  <td style=\"color:black;\">33  <td style=\"color:black;\">13  <td style=\"color:black;\">17  <td style=\"color:black;\">24  <td style=\"color:black;\">4  <td style=\"color:black;\">28  <td style=\"color:black;\">20  <td style=\"color:black;\">35  <td style=\"color:black;\">11  <td style=\"color:black;\">8  <td style=\"color:black;\">16  <td style=\"color:black;\">26  <td style=\"color:black;\">34  <td style=\"color:black;\">1  <td style=\"color:black;\">3  <td style=\"color:black;\">36  <td style=\"color:black;\">9  <td style=\"color:black;\">10  <td style=\"color:black;\">30  <td style=\"color:black;\">31  <td style=\"color:black;\">15  <td style=\"color:black;\">6  <td style=\"color:black;\">18  <td style=\"color:black;\">19  <td style=\"color:black;\">14  <td style=\"color:black;\">27  <td style=\"color:black;\">5  <td style=\"color:black;\">32  <td style=\"color:black;\">23  <td style=\"color:black;\">21  <td style=\"color:black;\">2  <td style=\"color:black;\">12 \n",
       "<tbody>\n",
       "  <tr> <td style=\"color:black;\">3  <td style=\"color:black;\">1  <td style=\"color:black;\">36  <td style=\"color:black;\">28  <td style=\"color:black;\">24  <td style=\"color:black;\">33  <td style=\"color:black;\">13  <td style=\"color:black;\">19  <td style=\"color:black;\">22  <td style=\"color:black;\">26  <td style=\"color:black;\">25  <td style=\"color:black;\">8  <td style=\"color:black;\">12  <td style=\"color:black;\">21  <td style=\"color:black;\">17  <td style=\"color:black;\">9  <td style=\"color:black;\">14  <td style=\"color:black;\">20  <td style=\"color:black;\">31  <td style=\"color:black;\">18  <td style=\"color:black;\">10  <td style=\"color:black;\">4  <td style=\"color:black;\">6  <td style=\"color:black;\">29  <td style=\"color:black;\">11  <td style=\"color:black;\">32  <td style=\"color:black;\">34  <td style=\"color:black;\">5  <td style=\"color:black;\">35  <td style=\"color:black;\">23  <td style=\"color:black;\">16  <td style=\"color:black;\">2  <td style=\"color:black;\">15  <td style=\"color:black;\">7  <td style=\"color:black;\">28  <td style=\"color:black;\">27 \n",
       "  <tr> <td style=\"color:black;\">6  <td style=\"color:black;\">17  <td style=\"color:black;\">31  <td style=\"color:red;\">4  <td style=\"color:red;\">11  <td style=\"color:red;\">19  <td style=\"color:black;\">32  <td style=\"color:black;\">3  <td style=\"color:red;\">5  <td style=\"color:black;\">7  <td style=\"color:black;\">36  <td style=\"color:black;\">24  <td style=\"color:black;\">28  <td style=\"color:black;\">33  <td style=\"color:black;\">13  <td style=\"color:black;\">30  <td style=\"color:black;\">16  <td style=\"color:black;\">23  <td style=\"color:black;\">22  <td style=\"color:black;\">20  <td style=\"color:black;\">15  <td style=\"color:black;\">14  <td style=\"color:black;\">35  <td style=\"color:black;\">26  <td style=\"color:black;\">17  <td style=\"color:black;\">28  <td style=\"color:black;\">27  <td style=\"color:black;\">2  <td style=\"color:black;\">1  <td style=\"color:black;\">12  <td style=\"color:black;\">25  <td style=\"color:black;\">8  <td style=\"color:black;\">21  <td style=\"color:black;\">9  <td style=\"color:black;\">10  <td style=\"color:black;\">34 \n",
       "  <tr> <td style=\"color:black;\">12  <td style=\"color:black;\">28  <td style=\"color:black;\">27  <td style=\"color:black;\">14  <td style=\"color:red;\">8  <td style=\"color:black;\">25  <td style=\"color:black;\">1  <td style=\"color:red;\">17  <td style=\"color:red;\">2  <td style=\"color:black;\">23  <td style=\"color:black;\">31  <td style=\"color:black;\">18  <td style=\"color:black;\">35  <td style=\"color:black;\">3  <td style=\"color:black;\">6  <td style=\"color:black;\">24  <td style=\"color:black;\">4  <td style=\"color:black;\">15  <td style=\"color:black;\">16  <td style=\"color:black;\">34  <td style=\"color:black;\">32  <td style=\"color:black;\">21  <td style=\"color:black;\">5  <td style=\"color:black;\">36  <td style=\"color:black;\">9  <td style=\"color:black;\">7  <td style=\"color:black;\">10  <td style=\"color:black;\">13  <td style=\"color:black;\">29  <td style=\"color:black;\">28  <td style=\"color:black;\">33  <td style=\"color:black;\">26  <td style=\"color:black;\">20  <td style=\"color:black;\">11  <td style=\"color:black;\">22  <td style=\"color:black;\">19 \n",
       "  <tr> <td style=\"color:black;\">35  <td style=\"color:black;\">2  <td style=\"color:black;\">21  <td style=\"color:black;\">16  <td style=\"color:black;\">22  <td style=\"color:black;\">20  <td style=\"color:black;\">4  <td style=\"color:black;\">10  <td style=\"color:black;\">9  <td style=\"color:black;\">14  <td style=\"color:black;\">6  <td style=\"color:black;\">34  <td style=\"color:black;\">7  <td style=\"color:black;\">1  <td style=\"color:black;\">29  <td style=\"color:black;\">8  <td style=\"color:black;\">11  <td style=\"color:black;\">5  <td style=\"color:black;\">23  <td style=\"color:black;\">17  <td style=\"color:black;\">19  <td style=\"color:black;\">25  <td style=\"color:black;\">27  <td style=\"color:black;\">12  <td style=\"color:black;\">3  <td style=\"color:black;\">26  <td style=\"color:black;\">33  <td style=\"color:black;\">15  <td style=\"color:black;\">36  <td style=\"color:black;\">18  <td style=\"color:black;\">12  <td style=\"color:black;\">31  <td style=\"color:black;\">24  <td style=\"color:black;\">29  <td style=\"color:black;\">32  <td style=\"color:black;\">28 \n",
       "  <tr> <td style=\"color:black;\">10  <td style=\"color:black;\">17  <td style=\"color:black;\">5  <td style=\"color:black;\">13  <td style=\"color:black;\">7  <td style=\"color:black;\">34  <td style=\"color:black;\">12  <td style=\"color:black;\">20  <td style=\"color:black;\">29  <td style=\"color:black;\">35  <td style=\"color:black;\">15  <td style=\"color:black;\">29  <td style=\"color:black;\">25  <td style=\"color:black;\">27  <td style=\"color:black;\">31  <td style=\"color:black;\">32  <td style=\"color:black;\">2  <td style=\"color:black;\">26  <td style=\"color:black;\">33  <td style=\"color:black;\">11  <td style=\"color:black;\">8  <td style=\"color:black;\">28  <td style=\"color:black;\">9  <td style=\"color:black;\">24  <td style=\"color:black;\">19  <td style=\"color:black;\">14  <td style=\"color:black;\">21  <td style=\"color:black;\">21  <td style=\"color:black;\">6  <td style=\"color:black;\">16  <td style=\"color:black;\">23  <td style=\"color:black;\">1  <td style=\"color:black;\">36  <td style=\"color:black;\">4  <td style=\"color:black;\">3  <td style=\"color:black;\">18 \n",
       "  <tr> <td style=\"color:black;\">23  <td style=\"color:black;\">15  <td style=\"color:black;\">9  <td style=\"color:black;\">32  <td style=\"color:black;\">25  <td style=\"color:black;\">30  <td style=\"color:black;\">11  <td style=\"color:black;\">27  <td style=\"color:black;\">21  <td style=\"color:black;\">16  <td style=\"color:black;\">33  <td style=\"color:black;\">28  <td style=\"color:black;\">10  <td style=\"color:black;\">34  <td style=\"color:black;\">17  <td style=\"color:black;\">22  <td style=\"color:black;\">19  <td style=\"color:black;\">36  <td style=\"color:black;\">2  <td style=\"color:black;\">13  <td style=\"color:black;\">28  <td style=\"color:black;\">1  <td style=\"color:black;\">3  <td style=\"color:black;\">7  <td style=\"color:black;\">25  <td style=\"color:black;\">20  <td style=\"color:black;\">31  <td style=\"color:black;\">24  <td style=\"color:black;\">8  <td style=\"color:black;\">4  <td style=\"color:black;\">17  <td style=\"color:black;\">5  <td style=\"color:black;\">12  <td style=\"color:black;\">6  <td style=\"color:black;\">35  <td style=\"color:black;\">14 \n",
       "<tbody>\n",
       "  <tr> <td style=\"color:black;\">9  <td style=\"color:black;\">25  <td style=\"color:black;\">25  <td style=\"color:black;\">19  <td style=\"color:black;\">20  <td style=\"color:black;\">12  <td style=\"color:black;\">10  <td style=\"color:black;\">32  <td style=\"color:black;\">27  <td style=\"color:black;\">28  <td style=\"color:black;\">35  <td style=\"color:black;\">23  <td style=\"color:black;\">17  <td style=\"color:black;\">13  <td style=\"color:black;\">15  <td style=\"color:black;\">4  <td style=\"color:black;\">6  <td style=\"color:black;\">28  <td style=\"color:black;\">5  <td style=\"color:black;\">22  <td style=\"color:black;\">7  <td style=\"color:black;\">16  <td style=\"color:black;\">14  <td style=\"color:black;\">3  <td style=\"color:black;\">2  <td style=\"color:black;\">18  <td style=\"color:black;\">24  <td style=\"color:black;\">35  <td style=\"color:black;\">33  <td style=\"color:black;\">34  <td style=\"color:black;\">31  <td style=\"color:black;\">29  <td style=\"color:black;\">11  <td style=\"color:black;\">21  <td style=\"color:black;\">1  <td style=\"color:black;\">8 \n",
       "  <tr> <td style=\"color:black;\">7  <td style=\"color:black;\">32  <td style=\"color:black;\">21  <td style=\"color:black;\">23  <td style=\"color:black;\">15  <td style=\"color:black;\">35  <td style=\"color:black;\">28  <td style=\"color:black;\">5  <td style=\"color:black;\">3  <td style=\"color:black;\">21  <td style=\"color:black;\">8  <td style=\"color:black;\">1  <td style=\"color:black;\">14  <td style=\"color:black;\">16  <td style=\"color:black;\">34  <td style=\"color:black;\">12  <td style=\"color:black;\">31  <td style=\"color:black;\">35  <td style=\"color:black;\">17  <td style=\"color:black;\">24  <td style=\"color:black;\">25  <td style=\"color:black;\">6  <td style=\"color:black;\">19  <td style=\"color:black;\">18  <td style=\"color:black;\">4  <td style=\"color:black;\">27  <td style=\"color:black;\">29  <td style=\"color:black;\">11  <td style=\"color:black;\">10  <td style=\"color:black;\">13  <td style=\"color:black;\">25  <td style=\"color:black;\">9  <td style=\"color:black;\">2  <td style=\"color:black;\">33  <td style=\"color:black;\">28  <td style=\"color:black;\">20 \n",
       "  <tr> <td style=\"color:black;\">31  <td style=\"color:black;\">35  <td style=\"color:black;\">13  <td style=\"color:black;\">3  <td style=\"color:black;\">2  <td style=\"color:black;\">24  <td style=\"color:black;\">6  <td style=\"color:black;\">22  <td style=\"color:black;\">7  <td style=\"color:black;\">12  <td style=\"color:black;\">25  <td style=\"color:black;\">16  <td style=\"color:black;\">21  <td style=\"color:black;\">5  <td style=\"color:black;\">11  <td style=\"color:black;\">33  <td style=\"color:black;\">36  <td style=\"color:black;\">9  <td style=\"color:black;\">34  <td style=\"color:black;\">1  <td style=\"color:black;\">4  <td style=\"color:black;\">29  <td style=\"color:black;\">10  <td style=\"color:black;\">28  <td style=\"color:black;\">8  <td style=\"color:black;\">25  <td style=\"color:black;\">19  <td style=\"color:black;\">14  <td style=\"color:black;\">15  <td style=\"color:black;\">20  <td style=\"color:black;\">32  <td style=\"color:black;\">18  <td style=\"color:black;\">26  <td style=\"color:black;\">28  <td style=\"color:black;\">23  <td style=\"color:black;\">17 \n",
       "  <tr> <td style=\"color:black;\">34  <td style=\"color:black;\">14  <td style=\"color:black;\">1  <td style=\"color:black;\">11  <td style=\"color:black;\">10  <td style=\"color:black;\">21  <td style=\"color:black;\">24  <td style=\"color:black;\">18  <td style=\"color:black;\">25  <td style=\"color:black;\">36  <td style=\"color:black;\">19  <td style=\"color:black;\">2  <td style=\"color:black;\">32  <td style=\"color:black;\">20  <td style=\"color:black;\">8  <td style=\"color:black;\">7  <td style=\"color:black;\">30  <td style=\"color:black;\">28  <td style=\"color:black;\">27  <td style=\"color:black;\">26  <td style=\"color:black;\">35  <td style=\"color:black;\">31  <td style=\"color:black;\">13  <td style=\"color:black;\">33  <td style=\"color:black;\">28  <td style=\"color:black;\">23  <td style=\"color:black;\">9  <td style=\"color:black;\">17  <td style=\"color:black;\">12  <td style=\"color:black;\">21  <td style=\"color:black;\">15  <td style=\"color:black;\">6  <td style=\"color:black;\">3  <td style=\"color:black;\">16  <td style=\"color:black;\">5  <td style=\"color:black;\">4 \n",
       "  <tr> <td style=\"color:black;\">16  <td style=\"color:black;\">4  <td style=\"color:black;\">30  <td style=\"color:black;\">29  <td style=\"color:black;\">5  <td style=\"color:black;\">6  <td style=\"color:black;\">14  <td style=\"color:black;\">33  <td style=\"color:black;\">20  <td style=\"color:black;\">17  <td style=\"color:black;\">13  <td style=\"color:black;\">15  <td style=\"color:black;\">3  <td style=\"color:black;\">25  <td style=\"color:black;\">23  <td style=\"color:black;\">17  <td style=\"color:black;\">25  <td style=\"color:black;\">27  <td style=\"color:black;\">9  <td style=\"color:black;\">2  <td style=\"color:black;\">36  <td style=\"color:black;\">11  <td style=\"color:black;\">8  <td style=\"color:black;\">32  <td style=\"color:black;\">35  <td style=\"color:black;\">31  <td style=\"color:black;\">21  <td style=\"color:black;\">1  <td style=\"color:black;\">28  <td style=\"color:black;\">7  <td style=\"color:black;\">24  <td style=\"color:black;\">10  <td style=\"color:black;\">19  <td style=\"color:black;\">34  <td style=\"color:black;\">12  <td style=\"color:black;\">21 \n",
       "  <tr> <td style=\"color:black;\">17  <td style=\"color:black;\">27  <td style=\"color:black;\">33  <td style=\"color:black;\">8  <td style=\"color:black;\">28  <td style=\"color:black;\">18  <td style=\"color:black;\">29  <td style=\"color:black;\">34  <td style=\"color:black;\">11  <td style=\"color:black;\">31  <td style=\"color:black;\">4  <td style=\"color:black;\">9  <td style=\"color:black;\">19  <td style=\"color:black;\">24  <td style=\"color:black;\">2  <td style=\"color:black;\">1  <td style=\"color:black;\">10  <td style=\"color:black;\">22  <td style=\"color:black;\">29  <td style=\"color:black;\">21  <td style=\"color:black;\">23  <td style=\"color:black;\">15  <td style=\"color:black;\">12  <td style=\"color:black;\">20  <td style=\"color:black;\">5  <td style=\"color:black;\">16  <td style=\"color:black;\">26  <td style=\"color:black;\">6  <td style=\"color:black;\">32  <td style=\"color:black;\">3  <td style=\"color:black;\">35  <td style=\"color:black;\">25  <td style=\"color:black;\">7  <td style=\"color:black;\">13  <td style=\"color:black;\">14  <td style=\"color:black;\">36 \n",
       "<tbody>\n",
       "  <tr> <td style=\"color:black;\">1  <td style=\"color:black;\">36  <td style=\"color:black;\">24  <td style=\"color:black;\">2  <td style=\"color:black;\">13  <td style=\"color:black;\">31  <td style=\"color:black;\">22  <td style=\"color:black;\">4  <td style=\"color:black;\">14  <td style=\"color:black;\">9  <td style=\"color:black;\">28  <td style=\"color:black;\">6  <td style=\"color:black;\">20  <td style=\"color:black;\">28  <td style=\"color:black;\">27  <td style=\"color:black;\">15  <td style=\"color:black;\">33  <td style=\"color:black;\">29  <td style=\"color:black;\">18  <td style=\"color:black;\">23  <td style=\"color:black;\">11  <td style=\"color:black;\">17  <td style=\"color:black;\">7  <td style=\"color:black;\">16  <td style=\"color:black;\">34  <td style=\"color:black;\">8  <td style=\"color:black;\">12  <td style=\"color:black;\">10  <td style=\"color:black;\">3  <td style=\"color:black;\">25  <td style=\"color:black;\">19  <td style=\"color:black;\">35  <td style=\"color:black;\">5  <td style=\"color:black;\">26  <td style=\"color:black;\">21  <td style=\"color:black;\">32 \n",
       "  <tr> <td style=\"color:black;\">30  <td style=\"color:black;\">28  <td style=\"color:black;\">10  <td style=\"color:black;\">15  <td style=\"color:black;\">17  <td style=\"color:black;\">29  <td style=\"color:black;\">8  <td style=\"color:black;\">11  <td style=\"color:black;\">35  <td style=\"color:black;\">32  <td style=\"color:black;\">24  <td style=\"color:black;\">13  <td style=\"color:black;\">2  <td style=\"color:black;\">6  <td style=\"color:black;\">3  <td style=\"color:black;\">17  <td style=\"color:black;\">22  <td style=\"color:black;\">21  <td style=\"color:black;\">36  <td style=\"color:black;\">19  <td style=\"color:black;\">1  <td style=\"color:black;\">26  <td style=\"color:black;\">33  <td style=\"color:black;\">9  <td style=\"color:black;\">27  <td style=\"color:black;\">5  <td style=\"color:black;\">14  <td style=\"color:black;\">31  <td style=\"color:black;\">23  <td style=\"color:black;\">11  <td style=\"color:black;\">4  <td style=\"color:black;\">20  <td style=\"color:black;\">34  <td style=\"color:black;\">25  <td style=\"color:black;\">16  <td style=\"color:black;\">7 \n",
       "  <tr> <td style=\"color:black;\">19  <td style=\"color:black;\">6  <td style=\"color:black;\">34  <td style=\"color:black;\">21  <td style=\"color:black;\">14  <td style=\"color:black;\">32  <td style=\"color:black;\">28  <td style=\"color:black;\">36  <td style=\"color:black;\">15  <td style=\"color:black;\">27  <td style=\"color:black;\">16  <td style=\"color:black;\">33  <td style=\"color:black;\">4  <td style=\"color:black;\">9  <td style=\"color:black;\">26  <td style=\"color:black;\">5  <td style=\"color:black;\">25  <td style=\"color:black;\">31  <td style=\"color:black;\">12  <td style=\"color:black;\">8  <td style=\"color:black;\">30  <td style=\"color:black;\">35  <td style=\"color:black;\">24  <td style=\"color:black;\">10  <td style=\"color:black;\">7  <td style=\"color:black;\">13  <td style=\"color:black;\">2  <td style=\"color:black;\">20  <td style=\"color:black;\">18  <td style=\"color:black;\">28  <td style=\"color:black;\">3  <td style=\"color:black;\">11  <td style=\"color:black;\">21  <td style=\"color:black;\">23  <td style=\"color:black;\">17  <td style=\"color:black;\">1 \n",
       "  <tr> <td style=\"color:black;\">25  <td style=\"color:black;\">33  <td style=\"color:black;\">11  <td style=\"color:black;\">26  <td style=\"color:black;\">3  <td style=\"color:black;\">9  <td style=\"color:black;\">19  <td style=\"color:black;\">23  <td style=\"color:black;\">10  <td style=\"color:black;\">29  <td style=\"color:black;\">5  <td style=\"color:black;\">7  <td style=\"color:black;\">8  <td style=\"color:black;\">36  <td style=\"color:black;\">1  <td style=\"color:black;\">14  <td style=\"color:black;\">24  <td style=\"color:black;\">13  <td style=\"color:black;\">28  <td style=\"color:black;\">27  <td style=\"color:black;\">20  <td style=\"color:black;\">34  <td style=\"color:black;\">32  <td style=\"color:black;\">15  <td style=\"color:black;\">16  <td style=\"color:black;\">21  <td style=\"color:black;\">17  <td style=\"color:black;\">4  <td style=\"color:black;\">22  <td style=\"color:black;\">35  <td style=\"color:black;\">2  <td style=\"color:black;\">12  <td style=\"color:black;\">6  <td style=\"color:black;\">31  <td style=\"color:black;\">18  <td style=\"color:black;\">28 \n",
       "  <tr> <td style=\"color:black;\">8  <td style=\"color:black;\">7  <td style=\"color:black;\">20  <td style=\"color:black;\">5  <td style=\"color:black;\">35  <td style=\"color:black;\">17  <td style=\"color:black;\">2  <td style=\"color:black;\">1  <td style=\"color:black;\">18  <td style=\"color:black;\">11  <td style=\"color:black;\">21  <td style=\"color:black;\">25  <td style=\"color:black;\">34  <td style=\"color:black;\">32  <td style=\"color:black;\">12  <td style=\"color:black;\">16  <td style=\"color:black;\">23  <td style=\"color:black;\">10  <td style=\"color:black;\">4  <td style=\"color:black;\">31  <td style=\"color:black;\">6  <td style=\"color:black;\">3  <td style=\"color:black;\">22  <td style=\"color:black;\">28  <td style=\"color:black;\">26  <td style=\"color:black;\">33  <td style=\"color:black;\">28  <td style=\"color:black;\">29  <td style=\"color:black;\">24  <td style=\"color:black;\">19  <td style=\"color:black;\">14  <td style=\"color:black;\">27  <td style=\"color:black;\">9  <td style=\"color:black;\">36  <td style=\"color:black;\">13  <td style=\"color:black;\">15 \n",
       "  <tr> <td style=\"color:black;\">4  <td style=\"color:black;\">16  <td style=\"color:black;\">23  <td style=\"color:black;\">27  <td style=\"color:black;\">12  <td style=\"color:black;\">22  <td style=\"color:black;\">34  <td style=\"color:black;\">26  <td style=\"color:black;\">17  <td style=\"color:black;\">20  <td style=\"color:black;\">3  <td style=\"color:black;\">31  <td style=\"color:black;\">28  <td style=\"color:black;\">18  <td style=\"color:black;\">35  <td style=\"color:black;\">19  <td style=\"color:black;\">7  <td style=\"color:black;\">11  <td style=\"color:black;\">25  <td style=\"color:black;\">5  <td style=\"color:black;\">14  <td style=\"color:black;\">13  <td style=\"color:black;\">2  <td style=\"color:black;\">21  <td style=\"color:black;\">6  <td style=\"color:black;\">15  <td style=\"color:black;\">36  <td style=\"color:black;\">32  <td style=\"color:black;\">9  <td style=\"color:black;\">1  <td style=\"color:black;\">28  <td style=\"color:black;\">24  <td style=\"color:black;\">8  <td style=\"color:black;\">10  <td style=\"color:black;\">33  <td style=\"color:black;\">30 \n",
       "<tbody>\n",
       "  <tr> <td style=\"color:black;\">26  <td style=\"color:black;\">12  <td style=\"color:black;\">6  <td style=\"color:black;\">35  <td style=\"color:black;\">25  <td style=\"color:black;\">7  <td style=\"color:black;\">18  <td style=\"color:black;\">13  <td style=\"color:black;\">1  <td style=\"color:black;\">3  <td style=\"color:black;\">14  <td style=\"color:black;\">21  <td style=\"color:black;\">23  <td style=\"color:black;\">22  <td style=\"color:black;\">30  <td style=\"color:black;\">11  <td style=\"color:black;\">27  <td style=\"color:black;\">4  <td style=\"color:black;\">19  <td style=\"color:black;\">10  <td style=\"color:black;\">33  <td style=\"color:black;\">24  <td style=\"color:black;\">16  <td style=\"color:black;\">8  <td style=\"color:black;\">20  <td style=\"color:black;\">2  <td style=\"color:black;\">32  <td style=\"color:black;\">9  <td style=\"color:black;\">17  <td style=\"color:black;\">36  <td style=\"color:black;\">34  <td style=\"color:black;\">28  <td style=\"color:black;\">28  <td style=\"color:black;\">5  <td style=\"color:black;\">15  <td style=\"color:black;\">31 \n",
       "  <tr> <td style=\"color:black;\">33  <td style=\"color:black;\">31  <td style=\"color:black;\">4  <td style=\"color:black;\">36  <td style=\"color:black;\">34  <td style=\"color:black;\">5  <td style=\"color:black;\">26  <td style=\"color:black;\">11  <td style=\"color:black;\">6  <td style=\"color:black;\">24  <td style=\"color:black;\">29  <td style=\"color:black;\">32  <td style=\"color:black;\">15  <td style=\"color:black;\">35  <td style=\"color:black;\">10  <td style=\"color:black;\">20  <td style=\"color:black;\">13  <td style=\"color:black;\">3  <td style=\"color:black;\">14  <td style=\"color:black;\">29  <td style=\"color:black;\">12  <td style=\"color:black;\">9  <td style=\"color:black;\">17  <td style=\"color:black;\">22  <td style=\"color:black;\">18  <td style=\"color:black;\">28  <td style=\"color:black;\">23  <td style=\"color:black;\">27  <td style=\"color:black;\">19  <td style=\"color:black;\">21  <td style=\"color:black;\">8  <td style=\"color:black;\">7  <td style=\"color:black;\">1  <td style=\"color:black;\">2  <td style=\"color:black;\">25  <td style=\"color:black;\">16 \n",
       "  <tr> <td style=\"color:black;\">14  <td style=\"color:black;\">19  <td style=\"color:black;\">15  <td style=\"color:black;\">1  <td style=\"color:black;\">21  <td style=\"color:black;\">16  <td style=\"color:black;\">9  <td style=\"color:black;\">7  <td style=\"color:black;\">31  <td style=\"color:black;\">10  <td style=\"color:black;\">2  <td style=\"color:black;\">21  <td style=\"color:black;\">18  <td style=\"color:black;\">26  <td style=\"color:black;\">32  <td style=\"color:black;\">6  <td style=\"color:black;\">17  <td style=\"color:black;\">34  <td style=\"color:black;\">29  <td style=\"color:black;\">35  <td style=\"color:black;\">3  <td style=\"color:black;\">36  <td style=\"color:black;\">28  <td style=\"color:black;\">27  <td style=\"color:black;\">33  <td style=\"color:black;\">24  <td style=\"color:black;\">8  <td style=\"color:black;\">28  <td style=\"color:black;\">25  <td style=\"color:black;\">5  <td style=\"color:black;\">20  <td style=\"color:black;\">23  <td style=\"color:black;\">4  <td style=\"color:black;\">12  <td style=\"color:black;\">11  <td style=\"color:black;\">13 \n",
       "  <tr> <td style=\"color:black;\">2  <td style=\"color:black;\">13  <td style=\"color:black;\">3  <td style=\"color:black;\">24  <td style=\"color:black;\">30  <td style=\"color:black;\">28  <td style=\"color:black;\">33  <td style=\"color:black;\">29  <td style=\"color:black;\">19  <td style=\"color:black;\">34  <td style=\"color:black;\">23  <td style=\"color:black;\">27  <td style=\"color:black;\">31  <td style=\"color:black;\">7  <td style=\"color:black;\">21  <td style=\"color:black;\">25  <td style=\"color:black;\">8  <td style=\"color:black;\">12  <td style=\"color:black;\">20  <td style=\"color:black;\">15  <td style=\"color:black;\">5  <td style=\"color:black;\">32  <td style=\"color:black;\">17  <td style=\"color:black;\">1  <td style=\"color:black;\">10  <td style=\"color:black;\">4  <td style=\"color:black;\">6  <td style=\"color:black;\">16  <td style=\"color:black;\">11  <td style=\"color:black;\">25  <td style=\"color:black;\">21  <td style=\"color:black;\">17  <td style=\"color:black;\">35  <td style=\"color:black;\">14  <td style=\"color:black;\">36  <td style=\"color:black;\">9 \n",
       "  <tr> <td style=\"color:black;\">28  <td style=\"color:black;\">11  <td style=\"color:black;\">32  <td style=\"color:black;\">22  <td style=\"color:black;\">9  <td style=\"color:black;\">10  <td style=\"color:black;\">20  <td style=\"color:black;\">15  <td style=\"color:black;\">8  <td style=\"color:black;\">25  <td style=\"color:black;\">17  <td style=\"color:black;\">36  <td style=\"color:black;\">5  <td style=\"color:black;\">19  <td style=\"color:black;\">14  <td style=\"color:black;\">28  <td style=\"color:black;\">1  <td style=\"color:black;\">16  <td style=\"color:black;\">21  <td style=\"color:black;\">4  <td style=\"color:black;\">26  <td style=\"color:black;\">23  <td style=\"color:black;\">34  <td style=\"color:black;\">2  <td style=\"color:black;\">13  <td style=\"color:black;\">35  <td style=\"color:black;\">7  <td style=\"color:black;\">12  <td style=\"color:black;\">31  <td style=\"color:black;\">29  <td style=\"color:black;\">6  <td style=\"color:black;\">33  <td style=\"color:black;\">18  <td style=\"color:black;\">27  <td style=\"color:black;\">24  <td style=\"color:black;\">3 \n",
       "  <tr> <td style=\"color:black;\">17  <td style=\"color:black;\">8  <td style=\"color:black;\">17  <td style=\"color:black;\">20  <td style=\"color:black;\">27  <td style=\"color:black;\">23  <td style=\"color:black;\">16  <td style=\"color:black;\">35  <td style=\"color:black;\">12  <td style=\"color:black;\">5  <td style=\"color:black;\">28  <td style=\"color:black;\">4  <td style=\"color:black;\">33  <td style=\"color:black;\">28  <td style=\"color:black;\">36  <td style=\"color:black;\">2  <td style=\"color:black;\">9  <td style=\"color:black;\">24  <td style=\"color:black;\">6  <td style=\"color:black;\">25  <td style=\"color:black;\">13  <td style=\"color:black;\">7  <td style=\"color:black;\">31  <td style=\"color:black;\">11  <td style=\"color:black;\">14  <td style=\"color:black;\">1  <td style=\"color:black;\">3  <td style=\"color:black;\">22  <td style=\"color:black;\">34  <td style=\"color:black;\">15  <td style=\"color:black;\">21  <td style=\"color:black;\">19  <td style=\"color:black;\">29  <td style=\"color:black;\">32  <td style=\"color:black;\">26  <td style=\"color:black;\">10 \n",
       "<tbody>\n",
       "  <tr> <td style=\"color:black;\">27  <td style=\"color:black;\">5  <td style=\"color:black;\">19  <td style=\"color:black;\">29  <td style=\"color:black;\">23  <td style=\"color:black;\">11  <td style=\"color:black;\">35  <td style=\"color:black;\">25  <td style=\"color:black;\">32  <td style=\"color:black;\">13  <td style=\"color:black;\">7  <td style=\"color:black;\">25  <td style=\"color:black;\">9  <td style=\"color:black;\">4  <td style=\"color:black;\">20  <td style=\"color:black;\">3  <td style=\"color:black;\">12  <td style=\"color:black;\">8  <td style=\"color:black;\">1  <td style=\"color:black;\">14  <td style=\"color:black;\">34  <td style=\"color:black;\">33  <td style=\"color:black;\">21  <td style=\"color:black;\">17  <td style=\"color:black;\">31  <td style=\"color:black;\">36  <td style=\"color:black;\">15  <td style=\"color:black;\">18  <td style=\"color:black;\">16  <td style=\"color:black;\">24  <td style=\"color:black;\">28  <td style=\"color:black;\">21  <td style=\"color:black;\">10  <td style=\"color:black;\">28  <td style=\"color:black;\">6  <td style=\"color:black;\">2 \n",
       "  <tr> <td style=\"color:black;\">13  <td style=\"color:black;\">22  <td style=\"color:black;\">25  <td style=\"color:black;\">12  <td style=\"color:black;\">6  <td style=\"color:black;\">1  <td style=\"color:black;\">27  <td style=\"color:black;\">16  <td style=\"color:black;\">28  <td style=\"color:black;\">19  <td style=\"color:black;\">10  <td style=\"color:black;\">20  <td style=\"color:black;\">26  <td style=\"color:black;\">30  <td style=\"color:black;\">5  <td style=\"color:black;\">36  <td style=\"color:black;\">32  <td style=\"color:black;\">2  <td style=\"color:black;\">8  <td style=\"color:black;\">3  <td style=\"color:black;\">24  <td style=\"color:black;\">28  <td style=\"color:black;\">11  <td style=\"color:black;\">35  <td style=\"color:black;\">23  <td style=\"color:black;\">9  <td style=\"color:black;\">4  <td style=\"color:black;\">7  <td style=\"color:black;\">21  <td style=\"color:black;\">14  <td style=\"color:black;\">18  <td style=\"color:black;\">34  <td style=\"color:black;\">17  <td style=\"color:black;\">15  <td style=\"color:black;\">31  <td style=\"color:black;\">33 \n",
       "  <tr> <td style=\"color:black;\">21  <td style=\"color:black;\">20  <td style=\"color:black;\">28  <td style=\"color:black;\">7  <td style=\"color:black;\">16  <td style=\"color:black;\">4  <td style=\"color:black;\">3  <td style=\"color:black;\">2  <td style=\"color:black;\">33  <td style=\"color:black;\">6  <td style=\"color:black;\">1  <td style=\"color:black;\">11  <td style=\"color:black;\">24  <td style=\"color:black;\">14  <td style=\"color:black;\">21  <td style=\"color:black;\">10  <td style=\"color:black;\">28  <td style=\"color:black;\">18  <td style=\"color:black;\">32  <td style=\"color:black;\">12  <td style=\"color:black;\">31  <td style=\"color:black;\">27  <td style=\"color:black;\">15  <td style=\"color:black;\">13  <td style=\"color:black;\">29  <td style=\"color:black;\">19  <td style=\"color:black;\">25  <td style=\"color:black;\">34  <td style=\"color:black;\">5  <td style=\"color:black;\">17  <td style=\"color:black;\">9  <td style=\"color:black;\">36  <td style=\"color:black;\">26  <td style=\"color:black;\">35  <td style=\"color:black;\">8  <td style=\"color:black;\">23 \n",
       "  <tr> <td style=\"color:black;\">36  <td style=\"color:black;\">34  <td style=\"color:black;\">18  <td style=\"color:black;\">9  <td style=\"color:black;\">29  <td style=\"color:black;\">8  <td style=\"color:black;\">5  <td style=\"color:black;\">31  <td style=\"color:black;\">24  <td style=\"color:black;\">4  <td style=\"color:black;\">22  <td style=\"color:black;\">29  <td style=\"color:black;\">1  <td style=\"color:black;\">15  <td style=\"color:black;\">33  <td style=\"color:black;\">23  <td style=\"color:black;\">35  <td style=\"color:black;\">17  <td style=\"color:black;\">7  <td style=\"color:black;\">6  <td style=\"color:black;\">16  <td style=\"color:black;\">2  <td style=\"color:black;\">20  <td style=\"color:black;\">25  <td style=\"color:black;\">28  <td style=\"color:black;\">10  <td style=\"color:black;\">11  <td style=\"color:black;\">26  <td style=\"color:black;\">27  <td style=\"color:black;\">32  <td style=\"color:black;\">12  <td style=\"color:black;\">13  <td style=\"color:black;\">14  <td style=\"color:black;\">3  <td style=\"color:black;\">19  <td style=\"color:black;\">21 \n",
       "  <tr> <td style=\"color:black;\">15  <td style=\"color:black;\">10  <td style=\"color:black;\">2  <td style=\"color:black;\">33  <td style=\"color:black;\">31  <td style=\"color:black;\">3  <td style=\"color:black;\">36  <td style=\"color:black;\">14  <td style=\"color:black;\">23  <td style=\"color:black;\">17  <td style=\"color:black;\">34  <td style=\"color:black;\">17  <td style=\"color:black;\">13  <td style=\"color:black;\">11  <td style=\"color:black;\">25  <td style=\"color:black;\">27  <td style=\"color:black;\">21  <td style=\"color:black;\">6  <td style=\"color:black;\">26  <td style=\"color:black;\">9  <td style=\"color:black;\">28  <td style=\"color:black;\">19  <td style=\"color:black;\">4  <td style=\"color:black;\">5  <td style=\"color:black;\">12  <td style=\"color:black;\">21  <td style=\"color:black;\">20  <td style=\"color:black;\">35  <td style=\"color:black;\">28  <td style=\"color:black;\">8  <td style=\"color:black;\">7  <td style=\"color:black;\">16  <td style=\"color:black;\">32  <td style=\"color:black;\">1  <td style=\"color:black;\">29  <td style=\"color:black;\">24 \n",
       "  <tr> <td style=\"color:black;\">24  <td style=\"color:black;\">26  <td style=\"color:black;\">35  <td style=\"color:black;\">17  <td style=\"color:black;\">32  <td style=\"color:black;\">14  <td style=\"color:black;\">21  <td style=\"color:black;\">8  <td style=\"color:black;\">29  <td style=\"color:black;\">15  <td style=\"color:black;\">9  <td style=\"color:black;\">12  <td style=\"color:black;\">16  <td style=\"color:black;\">31  <td style=\"color:black;\">19  <td style=\"color:black;\">34  <td style=\"color:black;\">28  <td style=\"color:black;\">7  <td style=\"color:black;\">10  <td style=\"color:black;\">29  <td style=\"color:black;\">22  <td style=\"color:black;\">18  <td style=\"color:black;\">36  <td style=\"color:black;\">23  <td style=\"color:black;\">1  <td style=\"color:black;\">3  <td style=\"color:black;\">13  <td style=\"color:black;\">33  <td style=\"color:black;\">2  <td style=\"color:black;\">6  <td style=\"color:black;\">11  <td style=\"color:black;\">4  <td style=\"color:black;\">25  <td style=\"color:black;\">20  <td style=\"color:black;\">27  <td style=\"color:black;\">5 \n",
       "</table></body></html>"
      ],
      "text/plain": [
       "<IPython.core.display.HTML object>"
      ]
     },
     "execution_count": 15,
     "metadata": {},
     "output_type": "execute_result"
    }
   ],
   "source": [
    "read_solve_write_display_sudoku('sudokuDim6.json')"
   ]
  },
  {
   "cell_type": "code",
   "execution_count": 16,
   "metadata": {},
   "outputs": [
    {
     "name": "stdout",
     "output_type": "stream",
     "text": [
      "I have read a valid MetaSudoku problem description of dimension 7.\n",
      "\n",
      "Gurobi Optimizer version 9.0.1 build v9.0.1rc0 (mac64)\n",
      "Optimize a model with 12018 rows, 120050 columns and 591283 nonzeros\n",
      "Model fingerprint: 0x4d56a5c9\n",
      "Variable types: 0 continuous, 120050 integer (117649 binary)\n",
      "Coefficient statistics:\n",
      "  Matrix range     [1e+00, 5e+01]\n",
      "  Objective range  [0e+00, 0e+00]\n",
      "  Bounds range     [1e+00, 5e+01]\n",
      "  RHS range        [1e+00, 4e+01]\n",
      "Presolve removed 2466 rows and 4698 columns\n",
      "Presolve time: 0.77s\n",
      "Presolved: 9552 rows, 115352 columns, 461408 nonzeros\n",
      "Variable types: 0 continuous, 115352 integer (115352 binary)\n",
      "\n",
      "Root simplex log...\n",
      "\n",
      "Iteration    Objective       Primal Inf.    Dual Inf.      Time\n",
      "   11053    2.9065033e-04   2.062311e+04   0.000000e+00      5s\n",
      "   14243    4.1318691e-04   2.021897e+05   0.000000e+00     10s\n",
      "   16853    4.9285009e-04   2.847540e+04   0.000000e+00     15s\n",
      "   18853    5.4645058e-04   2.107938e+04   0.000000e+00     20s\n",
      "   20653    5.9281426e-04   7.022201e+04   0.000000e+00     25s\n",
      "   22173    6.3404178e-04   2.896732e+04   0.000000e+00     30s\n",
      "   23983    8.2131346e-04   4.106700e+04   0.000000e+00     35s\n",
      "   25563    9.7526656e-04   4.152263e+04   0.000000e+00     40s\n",
      "   27073    1.0983175e-03   4.624300e+04   0.000000e+00     45s\n",
      "   28403    1.1871375e-03   2.636833e+05   0.000000e+00     50s\n",
      "   29683    1.2672260e-03   2.653802e+04   0.000000e+00     55s\n",
      "   30943    1.3470930e-03   2.007457e+04   0.000000e+00     60s\n",
      "   32063    1.4037362e-03   2.239156e+04   0.000000e+00     65s\n",
      "   33173    1.4560443e-03   2.529735e+04   0.000000e+00     70s\n",
      "   34263    1.5048290e-03   2.882089e+04   0.000000e+00     75s\n",
      "   35313    1.5506420e-03   1.104139e+04   0.000000e+00     80s\n",
      "   36273    1.5903279e-03   4.059986e+04   0.000000e+00     85s\n",
      "   37233    1.6280948e-03   3.054680e+04   0.000000e+00     90s\n",
      "   38213    1.6644471e-03   2.316143e+04   0.000000e+00     95s\n",
      "   39123    1.6968337e-03   1.118605e+04   0.000000e+00    100s\n",
      "   40063    1.7307593e-03   1.160248e+05   0.000000e+00    105s\n",
      "   40913    1.7615591e-03   1.012290e+04   0.000000e+00    110s\n",
      "   41723    1.7890454e-03   4.880114e+04   0.000000e+00    115s\n",
      "   42633    1.8183663e-03   1.053298e+04   0.000000e+00    120s\n",
      "   43433    1.8461656e-03   1.612883e+04   0.000000e+00    125s\n",
      "   44253    1.8711597e-03   2.752174e+04   0.000000e+00    130s\n",
      "   45113    1.8969571e-03   1.444888e+04   0.000000e+00    135s\n",
      "   45943    1.9216090e-03   1.149552e+04   0.000000e+00    140s\n",
      "   46793    1.9433388e-03   2.230047e+04   0.000000e+00    145s\n",
      "   47533    1.9630335e-03   1.871589e+04   0.000000e+00    150s\n",
      "   48343    1.9840693e-03   2.016510e+04   0.000000e+00    155s\n",
      "   49163    2.0048371e-03   9.618948e+03   0.000000e+00    160s\n",
      "   49943    2.0222103e-03   3.518513e+04   0.000000e+00    165s\n",
      "   50733    2.0385525e-03   6.745439e+03   0.000000e+00    170s\n",
      "   51543    2.0544085e-03   9.786780e+03   0.000000e+00    175s\n",
      "   52313    2.0709198e-03   3.334101e+04   0.000000e+00    180s\n",
      "   53053    2.0852782e-03   1.211811e+04   0.000000e+00    185s\n",
      "   53823    2.1002029e-03   7.065998e+03   0.000000e+00    190s\n",
      "   54603    2.1139683e-03   1.150426e+04   0.000000e+00    195s\n",
      "   55343    2.1269321e-03   1.394092e+04   0.000000e+00    200s\n",
      "   56143    2.1389003e-03   1.456602e+04   0.000000e+00    205s\n",
      "   56883    2.1504031e-03   1.758411e+04   0.000000e+00    210s\n",
      "   57673    2.1616718e-03   1.067947e+04   0.000000e+00    215s\n",
      "   58423    2.1721294e-03   1.486567e+04   0.000000e+00    220s\n",
      "   59203    2.1832350e-03   7.469010e+03   0.000000e+00    225s\n",
      "   60013    2.1945680e-03   9.152562e+03   0.000000e+00    230s\n",
      "   60743    2.2040634e-03   9.951368e+03   0.000000e+00    235s\n",
      "   61553    2.2140476e-03   6.169532e+03   0.000000e+00    240s\n",
      "   62283    2.2230972e-03   1.213922e+04   0.000000e+00    245s\n",
      "   63033    2.2314543e-03   1.166704e+04   0.000000e+00    250s\n",
      "   63863    2.2414852e-03   5.579089e+03   0.000000e+00    255s\n",
      "   64623    2.2493696e-03   3.885565e+03   0.000000e+00    260s\n",
      "   65463    2.2581684e-03   5.722283e+03   0.000000e+00    266s\n",
      "   66223    2.2658038e-03   4.919837e+03   0.000000e+00    271s\n",
      "   66923    2.2726471e-03   1.959594e+04   0.000000e+00    275s\n",
      "   67833    2.2805999e-03   5.802425e+03   0.000000e+00    281s\n",
      "   68603    2.2868242e-03   3.366220e+03   0.000000e+00    286s\n",
      "   69303    2.2921981e-03   4.760817e+03   0.000000e+00    290s\n",
      "   70143    2.2989104e-03   3.974577e+03   0.000000e+00    296s\n",
      "   70843    2.3041409e-03   2.783842e+03   0.000000e+00    300s\n",
      "   71643    2.3092304e-03   1.982295e+03   0.000000e+00    306s\n",
      "   72313    2.3128278e-03   2.026058e+03   0.000000e+00    310s\n",
      "   73083    2.3163764e-03   1.530865e+03   0.000000e+00    315s\n",
      "   73893    2.3200438e-03   9.889672e+02   0.000000e+00    321s\n",
      "   74553    2.3224885e-03   8.930432e+02   0.000000e+00    325s\n",
      "   75303    2.3251132e-03   2.671538e+03   0.000000e+00    331s\n",
      "   75993    2.3270863e-03   4.389776e+02   0.000000e+00    335s\n",
      "   76793    2.3285570e-03   2.024016e+02   0.000000e+00    341s\n",
      "   77483    2.3293959e-03   8.819594e+01   0.000000e+00    345s\n",
      "   78163    2.3298576e-03   1.827078e+01   0.000000e+00    350s\n",
      "   78490    0.0000000e+00   0.000000e+00   0.000000e+00    352s\n",
      "\n",
      "Root relaxation: objective 0.000000e+00, 78490 iterations, 351.24 seconds\n",
      "Total elapsed time = 935.91s\n",
      "\n",
      "    Nodes    |    Current Node    |     Objective Bounds      |     Work\n",
      " Expl Unexpl |  Obj  Depth IntInf | Incumbent    BestBd   Gap | It/Node Time\n",
      "\n",
      "     0     0    0.00000    0 4946          -    0.00000      -     - 2711s\n",
      "H    0     0                       0.0000000    0.00000  0.00%     - 2832s\n",
      "     0     0    0.00000    0 4946    0.00000    0.00000  0.00%     - 2832s\n",
      "\n",
      "Explored 1 nodes (1135482 simplex iterations) in 2832.94 seconds\n",
      "Thread count was 16 (of 16 available processors)\n",
      "\n",
      "Solution count 1: 0 \n",
      "\n",
      "Optimal solution found (tolerance 1.00e-04)\n",
      "Best objective 0.000000000000e+00, best bound 0.000000000000e+00, gap 0.0000%\n"
     ]
    },
    {
     "data": {
      "text/html": [
       "<html><head><style>table { border-collapse: collapse; font-family: Calibri, sans-serif; } colgroup, tbody { border: solid thin; } td { td border: solid thin; height: 1.4em; width: 1.4em; text-align: center; padding: 0; }</style></head><body>\n",
       "<table>\n",
       "  <caption>7 x 7 x 7 x 7 Sudoku</caption>\n",
       "  <colgroup><col><col><col><col><col><col><col>\n",
       "  <colgroup><col><col><col><col><col><col><col>\n",
       "  <colgroup><col><col><col><col><col><col><col>\n",
       "  <colgroup><col><col><col><col><col><col><col>\n",
       "  <colgroup><col><col><col><col><col><col><col>\n",
       "  <colgroup><col><col><col><col><col><col><col>\n",
       "  <colgroup><col><col><col><col><col><col><col>\n",
       "\n",
       "<tbody>\n",
       "  <tr> <td style=\"color:red;\">15  <td style=\"color:red;\">23  <td style=\"color:black;\">31  <td style=\"color:black;\">40  <td style=\"color:black;\">49  <td style=\"color:black;\">6  <td style=\"color:red;\">17  <td style=\"color:black;\">41  <td style=\"color:black;\">36  <td style=\"color:black;\">14  <td style=\"color:black;\">43  <td style=\"color:black;\">11  <td style=\"color:black;\">12  <td style=\"color:black;\">20  <td style=\"color:black;\">24  <td style=\"color:black;\">26  <td style=\"color:black;\">33  <td style=\"color:black;\">18  <td style=\"color:black;\">28  <td style=\"color:black;\">38  <td style=\"color:black;\">29  <td style=\"color:black;\">22  <td style=\"color:black;\">1  <td style=\"color:black;\">46  <td style=\"color:black;\">47  <td style=\"color:black;\">2  <td style=\"color:black;\">37  <td style=\"color:black;\">27  <td style=\"color:black;\">45  <td style=\"color:black;\">7  <td style=\"color:black;\">16  <td style=\"color:black;\">25  <td style=\"color:black;\">13  <td style=\"color:black;\">9  <td style=\"color:black;\">10  <td style=\"color:black;\">3  <td style=\"color:black;\">5  <td style=\"color:black;\">8  <td style=\"color:black;\">39  <td style=\"color:black;\">34  <td style=\"color:black;\">48  <td style=\"color:black;\">4  <td style=\"color:black;\">32  <td style=\"color:black;\">35  <td style=\"color:black;\">42  <td style=\"color:black;\">19  <td style=\"color:black;\">44  <td style=\"color:black;\">30  <td style=\"color:black;\">21 \n",
       "  <tr> <td style=\"color:black;\">35  <td style=\"color:black;\">14  <td style=\"color:black;\">37  <td style=\"color:black;\">26  <td style=\"color:black;\">44  <td style=\"color:black;\">13  <td style=\"color:black;\">24  <td style=\"color:black;\">42  <td style=\"color:black;\">40  <td style=\"color:black;\">15  <td style=\"color:black;\">17  <td style=\"color:black;\">1  <td style=\"color:black;\">22  <td style=\"color:black;\">48  <td style=\"color:black;\">43  <td style=\"color:black;\">46  <td style=\"color:black;\">19  <td style=\"color:black;\">10  <td style=\"color:black;\">7  <td style=\"color:black;\">3  <td style=\"color:black;\">2  <td style=\"color:black;\">28  <td style=\"color:black;\">20  <td style=\"color:black;\">21  <td style=\"color:black;\">16  <td style=\"color:black;\">39  <td style=\"color:black;\">4  <td style=\"color:black;\">33  <td style=\"color:black;\">23  <td style=\"color:black;\">31  <td style=\"color:black;\">41  <td style=\"color:black;\">38  <td style=\"color:black;\">34  <td style=\"color:black;\">5  <td style=\"color:black;\">32  <td style=\"color:black;\">9  <td style=\"color:black;\">36  <td style=\"color:black;\">18  <td style=\"color:black;\">30  <td style=\"color:black;\">27  <td style=\"color:black;\">29  <td style=\"color:black;\">6  <td style=\"color:black;\">45  <td style=\"color:black;\">25  <td style=\"color:black;\">8  <td style=\"color:black;\">49  <td style=\"color:black;\">47  <td style=\"color:black;\">12  <td style=\"color:black;\">11 \n",
       "  <tr> <td style=\"color:black;\">47  <td style=\"color:red;\">39  <td style=\"color:red;\">8  <td style=\"color:black;\">36  <td style=\"color:black;\">20  <td style=\"color:black;\">42  <td style=\"color:black;\">43  <td style=\"color:red;\">16  <td style=\"color:black;\">37  <td style=\"color:black;\">35  <td style=\"color:black;\">46  <td style=\"color:black;\">26  <td style=\"color:black;\">23  <td style=\"color:black;\">9  <td style=\"color:black;\">49  <td style=\"color:black;\">1  <td style=\"color:black;\">41  <td style=\"color:black;\">17  <td style=\"color:black;\">6  <td style=\"color:black;\">4  <td style=\"color:black;\">5  <td style=\"color:black;\">30  <td style=\"color:black;\">40  <td style=\"color:black;\">34  <td style=\"color:black;\">44  <td style=\"color:black;\">12  <td style=\"color:black;\">48  <td style=\"color:black;\">19  <td style=\"color:black;\">33  <td style=\"color:black;\">24  <td style=\"color:black;\">18  <td style=\"color:black;\">29  <td style=\"color:black;\">11  <td style=\"color:black;\">27  <td style=\"color:black;\">3  <td style=\"color:black;\">21  <td style=\"color:black;\">13  <td style=\"color:black;\">32  <td style=\"color:black;\">14  <td style=\"color:black;\">45  <td style=\"color:black;\">25  <td style=\"color:black;\">10  <td style=\"color:black;\">15  <td style=\"color:black;\">22  <td style=\"color:black;\">31  <td style=\"color:black;\">38  <td style=\"color:black;\">7  <td style=\"color:black;\">2  <td style=\"color:black;\">28 \n",
       "  <tr> <td style=\"color:black;\">21  <td style=\"color:black;\">5  <td style=\"color:black;\">3  <td style=\"color:black;\">9  <td style=\"color:black;\">30  <td style=\"color:black;\">46  <td style=\"color:black;\">22  <td style=\"color:black;\">13  <td style=\"color:black;\">31  <td style=\"color:black;\">19  <td style=\"color:black;\">2  <td style=\"color:black;\">28  <td style=\"color:black;\">45  <td style=\"color:black;\">8  <td style=\"color:black;\">16  <td style=\"color:black;\">32  <td style=\"color:black;\">42  <td style=\"color:black;\">35  <td style=\"color:black;\">34  <td style=\"color:black;\">20  <td style=\"color:black;\">44  <td style=\"color:black;\">38  <td style=\"color:black;\">14  <td style=\"color:black;\">49  <td style=\"color:black;\">23  <td style=\"color:black;\">26  <td style=\"color:black;\">25  <td style=\"color:black;\">24  <td style=\"color:black;\">39  <td style=\"color:black;\">36  <td style=\"color:black;\">47  <td style=\"color:black;\">1  <td style=\"color:black;\">40  <td style=\"color:black;\">4  <td style=\"color:black;\">6  <td style=\"color:black;\">7  <td style=\"color:black;\">17  <td style=\"color:black;\">33  <td style=\"color:black;\">37  <td style=\"color:black;\">11  <td style=\"color:black;\">12  <td style=\"color:black;\">15  <td style=\"color:black;\">43  <td style=\"color:black;\">10  <td style=\"color:black;\">48  <td style=\"color:black;\">29  <td style=\"color:black;\">18  <td style=\"color:black;\">41  <td style=\"color:black;\">27 \n",
       "  <tr> <td style=\"color:black;\">29  <td style=\"color:black;\">48  <td style=\"color:black;\">4  <td style=\"color:black;\">41  <td style=\"color:black;\">1  <td style=\"color:black;\">28  <td style=\"color:black;\">7  <td style=\"color:black;\">21  <td style=\"color:black;\">49  <td style=\"color:black;\">5  <td style=\"color:black;\">25  <td style=\"color:black;\">38  <td style=\"color:black;\">27  <td style=\"color:black;\">32  <td style=\"color:black;\">31  <td style=\"color:black;\">12  <td style=\"color:black;\">39  <td style=\"color:black;\">45  <td style=\"color:black;\">40  <td style=\"color:black;\">9  <td style=\"color:black;\">11  <td style=\"color:black;\">6  <td style=\"color:black;\">35  <td style=\"color:black;\">36  <td style=\"color:black;\">15  <td style=\"color:black;\">10  <td style=\"color:black;\">18  <td style=\"color:black;\">3  <td style=\"color:black;\">30  <td style=\"color:black;\">2  <td style=\"color:black;\">19  <td style=\"color:black;\">8  <td style=\"color:black;\">43  <td style=\"color:black;\">26  <td style=\"color:black;\">37  <td style=\"color:black;\">47  <td style=\"color:black;\">42  <td style=\"color:black;\">46  <td style=\"color:black;\">20  <td style=\"color:black;\">22  <td style=\"color:black;\">44  <td style=\"color:black;\">24  <td style=\"color:black;\">17  <td style=\"color:black;\">13  <td style=\"color:black;\">34  <td style=\"color:black;\">23  <td style=\"color:black;\">14  <td style=\"color:black;\">33  <td style=\"color:black;\">16 \n",
       "  <tr> <td style=\"color:black;\">27  <td style=\"color:black;\">19  <td style=\"color:black;\">32  <td style=\"color:black;\">45  <td style=\"color:black;\">33  <td style=\"color:black;\">11  <td style=\"color:black;\">2  <td style=\"color:black;\">10  <td style=\"color:black;\">34  <td style=\"color:black;\">3  <td style=\"color:black;\">24  <td style=\"color:black;\">18  <td style=\"color:black;\">29  <td style=\"color:black;\">47  <td style=\"color:black;\">14  <td style=\"color:black;\">37  <td style=\"color:black;\">36  <td style=\"color:black;\">22  <td style=\"color:black;\">30  <td style=\"color:black;\">25  <td style=\"color:black;\">21  <td style=\"color:black;\">8  <td style=\"color:black;\">13  <td style=\"color:black;\">7  <td style=\"color:black;\">31  <td style=\"color:black;\">42  <td style=\"color:black;\">41  <td style=\"color:black;\">5  <td style=\"color:black;\">17  <td style=\"color:black;\">15  <td style=\"color:black;\">48  <td style=\"color:black;\">28  <td style=\"color:black;\">12  <td style=\"color:black;\">49  <td style=\"color:black;\">44  <td style=\"color:black;\">1  <td style=\"color:black;\">38  <td style=\"color:black;\">23  <td style=\"color:black;\">35  <td style=\"color:black;\">43  <td style=\"color:black;\">16  <td style=\"color:black;\">26  <td style=\"color:black;\">40  <td style=\"color:black;\">6  <td style=\"color:black;\">46  <td style=\"color:black;\">4  <td style=\"color:black;\">39  <td style=\"color:black;\">9  <td style=\"color:black;\">20 \n",
       "  <tr> <td style=\"color:black;\">16  <td style=\"color:black;\">34  <td style=\"color:black;\">12  <td style=\"color:black;\">25  <td style=\"color:black;\">10  <td style=\"color:black;\">18  <td style=\"color:black;\">38  <td style=\"color:black;\">6  <td style=\"color:black;\">4  <td style=\"color:black;\">7  <td style=\"color:black;\">44  <td style=\"color:black;\">30  <td style=\"color:black;\">39  <td style=\"color:black;\">33  <td style=\"color:black;\">13  <td style=\"color:black;\">15  <td style=\"color:black;\">23  <td style=\"color:black;\">8  <td style=\"color:black;\">47  <td style=\"color:black;\">48  <td style=\"color:black;\">27  <td style=\"color:black;\">45  <td style=\"color:black;\">43  <td style=\"color:black;\">32  <td style=\"color:black;\">17  <td style=\"color:black;\">9  <td style=\"color:black;\">11  <td style=\"color:black;\">29  <td style=\"color:black;\">22  <td style=\"color:black;\">46  <td style=\"color:black;\">35  <td style=\"color:black;\">21  <td style=\"color:black;\">14  <td style=\"color:black;\">20  <td style=\"color:black;\">42  <td style=\"color:black;\">28  <td style=\"color:black;\">41  <td style=\"color:black;\">31  <td style=\"color:black;\">49  <td style=\"color:black;\">2  <td style=\"color:black;\">19  <td style=\"color:black;\">40  <td style=\"color:black;\">24  <td style=\"color:black;\">36  <td style=\"color:black;\">26  <td style=\"color:black;\">1  <td style=\"color:black;\">5  <td style=\"color:black;\">37  <td style=\"color:black;\">3 \n",
       "<tbody>\n",
       "  <tr> <td style=\"color:black;\">37  <td style=\"color:black;\">44  <td style=\"color:black;\">21  <td style=\"color:red;\">14  <td style=\"color:red;\">11  <td style=\"color:red;\">29  <td style=\"color:black;\">8  <td style=\"color:black;\">19  <td style=\"color:red;\">33  <td style=\"color:black;\">48  <td style=\"color:black;\">23  <td style=\"color:black;\">20  <td style=\"color:black;\">6  <td style=\"color:black;\">41  <td style=\"color:black;\">47  <td style=\"color:black;\">9  <td style=\"color:black;\">26  <td style=\"color:black;\">43  <td style=\"color:black;\">17  <td style=\"color:black;\">40  <td style=\"color:black;\">24  <td style=\"color:black;\">35  <td style=\"color:black;\">16  <td style=\"color:black;\">15  <td style=\"color:black;\">7  <td style=\"color:black;\">18  <td style=\"color:black;\">39  <td style=\"color:black;\">46  <td style=\"color:black;\">12  <td style=\"color:black;\">4  <td style=\"color:black;\">36  <td style=\"color:black;\">2  <td style=\"color:black;\">10  <td style=\"color:black;\">38  <td style=\"color:black;\">27  <td style=\"color:black;\">30  <td style=\"color:black;\">32  <td style=\"color:black;\">42  <td style=\"color:black;\">13  <td style=\"color:black;\">1  <td style=\"color:black;\">22  <td style=\"color:black;\">34  <td style=\"color:black;\">49  <td style=\"color:black;\">28  <td style=\"color:black;\">5  <td style=\"color:black;\">3  <td style=\"color:black;\">45  <td style=\"color:black;\">31  <td style=\"color:black;\">25 \n",
       "  <tr> <td style=\"color:black;\">18  <td style=\"color:black;\">28  <td style=\"color:black;\">16  <td style=\"color:black;\">24  <td style=\"color:red;\">38  <td style=\"color:black;\">23  <td style=\"color:black;\">46  <td style=\"color:red;\">17  <td style=\"color:red;\">2  <td style=\"color:black;\">12  <td style=\"color:black;\">15  <td style=\"color:black;\">7  <td style=\"color:black;\">4  <td style=\"color:black;\">31  <td style=\"color:black;\">33  <td style=\"color:black;\">22  <td style=\"color:black;\">10  <td style=\"color:black;\">48  <td style=\"color:black;\">27  <td style=\"color:black;\">41  <td style=\"color:black;\">49  <td style=\"color:black;\">21  <td style=\"color:black;\">29  <td style=\"color:black;\">13  <td style=\"color:black;\">3  <td style=\"color:black;\">34  <td style=\"color:black;\">1  <td style=\"color:black;\">40  <td style=\"color:black;\">5  <td style=\"color:black;\">19  <td style=\"color:black;\">32  <td style=\"color:black;\">42  <td style=\"color:black;\">35  <td style=\"color:black;\">30  <td style=\"color:black;\">45  <td style=\"color:black;\">26  <td style=\"color:black;\">47  <td style=\"color:black;\">25  <td style=\"color:black;\">43  <td style=\"color:black;\">39  <td style=\"color:black;\">36  <td style=\"color:black;\">44  <td style=\"color:black;\">14  <td style=\"color:black;\">11  <td style=\"color:black;\">9  <td style=\"color:black;\">20  <td style=\"color:black;\">37  <td style=\"color:black;\">8  <td style=\"color:black;\">6 \n",
       "  <tr> <td style=\"color:black;\">1  <td style=\"color:black;\">36  <td style=\"color:black;\">6  <td style=\"color:black;\">27  <td style=\"color:black;\">9  <td style=\"color:black;\">22  <td style=\"color:black;\">12  <td style=\"color:black;\">25  <td style=\"color:black;\">35  <td style=\"color:black;\">21  <td style=\"color:black;\">8  <td style=\"color:black;\">13  <td style=\"color:black;\">28  <td style=\"color:black;\">42  <td style=\"color:black;\">19  <td style=\"color:black;\">3  <td style=\"color:black;\">32  <td style=\"color:black;\">4  <td style=\"color:black;\">31  <td style=\"color:black;\">30  <td style=\"color:black;\">39  <td style=\"color:black;\">2  <td style=\"color:black;\">5  <td style=\"color:black;\">23  <td style=\"color:black;\">43  <td style=\"color:black;\">20  <td style=\"color:black;\">17  <td style=\"color:black;\">11  <td style=\"color:black;\">47  <td style=\"color:black;\">26  <td style=\"color:black;\">7  <td style=\"color:black;\">33  <td style=\"color:black;\">37  <td style=\"color:black;\">44  <td style=\"color:black;\">41  <td style=\"color:black;\">29  <td style=\"color:black;\">49  <td style=\"color:black;\">15  <td style=\"color:black;\">45  <td style=\"color:black;\">24  <td style=\"color:black;\">14  <td style=\"color:black;\">16  <td style=\"color:black;\">46  <td style=\"color:black;\">34  <td style=\"color:black;\">38  <td style=\"color:black;\">40  <td style=\"color:black;\">10  <td style=\"color:black;\">48  <td style=\"color:black;\">18 \n",
       "  <tr> <td style=\"color:black;\">7  <td style=\"color:black;\">30  <td style=\"color:black;\">17  <td style=\"color:black;\">47  <td style=\"color:black;\">3  <td style=\"color:black;\">49  <td style=\"color:black;\">15  <td style=\"color:black;\">24  <td style=\"color:black;\">18  <td style=\"color:black;\">39  <td style=\"color:black;\">22  <td style=\"color:black;\">16  <td style=\"color:black;\">26  <td style=\"color:black;\">14  <td style=\"color:black;\">35  <td style=\"color:black;\">2  <td style=\"color:black;\">21  <td style=\"color:black;\">20  <td style=\"color:black;\">11  <td style=\"color:black;\">28  <td style=\"color:black;\">23  <td style=\"color:black;\">32  <td style=\"color:black;\">41  <td style=\"color:black;\">12  <td style=\"color:black;\">6  <td style=\"color:black;\">44  <td style=\"color:black;\">45  <td style=\"color:black;\">10  <td style=\"color:black;\">48  <td style=\"color:black;\">25  <td style=\"color:black;\">40  <td style=\"color:black;\">43  <td style=\"color:black;\">31  <td style=\"color:black;\">34  <td style=\"color:black;\">1  <td style=\"color:black;\">5  <td style=\"color:black;\">37  <td style=\"color:black;\">9  <td style=\"color:black;\">46  <td style=\"color:black;\">8  <td style=\"color:black;\">38  <td style=\"color:black;\">27  <td style=\"color:black;\">13  <td style=\"color:black;\">29  <td style=\"color:black;\">33  <td style=\"color:black;\">42  <td style=\"color:black;\">19  <td style=\"color:black;\">4  <td style=\"color:black;\">36 \n",
       "  <tr> <td style=\"color:black;\">31  <td style=\"color:black;\">42  <td style=\"color:black;\">13  <td style=\"color:black;\">43  <td style=\"color:black;\">40  <td style=\"color:black;\">39  <td style=\"color:black;\">20  <td style=\"color:black;\">44  <td style=\"color:black;\">11  <td style=\"color:black;\">29  <td style=\"color:black;\">3  <td style=\"color:black;\">47  <td style=\"color:black;\">10  <td style=\"color:black;\">27  <td style=\"color:black;\">6  <td style=\"color:black;\">45  <td style=\"color:black;\">34  <td style=\"color:black;\">5  <td style=\"color:black;\">37  <td style=\"color:black;\">15  <td style=\"color:black;\">46  <td style=\"color:black;\">48  <td style=\"color:black;\">36  <td style=\"color:black;\">26  <td style=\"color:black;\">49  <td style=\"color:black;\">30  <td style=\"color:black;\">38  <td style=\"color:black;\">25  <td style=\"color:black;\">16  <td style=\"color:black;\">9  <td style=\"color:black;\">21  <td style=\"color:black;\">24  <td style=\"color:black;\">23  <td style=\"color:black;\">8  <td style=\"color:black;\">14  <td style=\"color:black;\">33  <td style=\"color:black;\">28  <td style=\"color:black;\">4  <td style=\"color:black;\">2  <td style=\"color:black;\">19  <td style=\"color:black;\">18  <td style=\"color:black;\">12  <td style=\"color:black;\">41  <td style=\"color:black;\">7  <td style=\"color:black;\">35  <td style=\"color:black;\">22  <td style=\"color:black;\">1  <td style=\"color:black;\">17  <td style=\"color:black;\">32 \n",
       "  <tr> <td style=\"color:black;\">4  <td style=\"color:black;\">45  <td style=\"color:black;\">10  <td style=\"color:black;\">2  <td style=\"color:black;\">32  <td style=\"color:black;\">34  <td style=\"color:black;\">35  <td style=\"color:black;\">43  <td style=\"color:black;\">5  <td style=\"color:black;\">1  <td style=\"color:black;\">38  <td style=\"color:black;\">46  <td style=\"color:black;\">49  <td style=\"color:black;\">37  <td style=\"color:black;\">7  <td style=\"color:black;\">29  <td style=\"color:black;\">12  <td style=\"color:black;\">36  <td style=\"color:black;\">25  <td style=\"color:black;\">14  <td style=\"color:black;\">16  <td style=\"color:black;\">42  <td style=\"color:black;\">8  <td style=\"color:black;\">9  <td style=\"color:black;\">19  <td style=\"color:black;\">33  <td style=\"color:black;\">24  <td style=\"color:black;\">28  <td style=\"color:black;\">11  <td style=\"color:black;\">13  <td style=\"color:black;\">22  <td style=\"color:black;\">17  <td style=\"color:black;\">39  <td style=\"color:black;\">3  <td style=\"color:black;\">18  <td style=\"color:black;\">6  <td style=\"color:black;\">40  <td style=\"color:black;\">41  <td style=\"color:black;\">31  <td style=\"color:black;\">48  <td style=\"color:black;\">20  <td style=\"color:black;\">23  <td style=\"color:black;\">44  <td style=\"color:black;\">30  <td style=\"color:black;\">27  <td style=\"color:black;\">21  <td style=\"color:black;\">26  <td style=\"color:black;\">47  <td style=\"color:black;\">15 \n",
       "  <tr> <td style=\"color:black;\">26  <td style=\"color:black;\">25  <td style=\"color:black;\">5  <td style=\"color:black;\">48  <td style=\"color:black;\">19  <td style=\"color:black;\">41  <td style=\"color:black;\">33  <td style=\"color:black;\">34  <td style=\"color:black;\">9  <td style=\"color:black;\">32  <td style=\"color:black;\">40  <td style=\"color:black;\">45  <td style=\"color:black;\">30  <td style=\"color:black;\">36  <td style=\"color:black;\">42  <td style=\"color:black;\">18  <td style=\"color:black;\">44  <td style=\"color:black;\">1  <td style=\"color:black;\">13  <td style=\"color:black;\">8  <td style=\"color:black;\">38  <td style=\"color:black;\">47  <td style=\"color:black;\">4  <td style=\"color:black;\">22  <td style=\"color:black;\">27  <td style=\"color:black;\">37  <td style=\"color:black;\">14  <td style=\"color:black;\">31  <td style=\"color:black;\">46  <td style=\"color:black;\">28  <td style=\"color:black;\">15  <td style=\"color:black;\">49  <td style=\"color:black;\">29  <td style=\"color:black;\">6  <td style=\"color:black;\">20  <td style=\"color:black;\">11  <td style=\"color:black;\">35  <td style=\"color:black;\">21  <td style=\"color:black;\">10  <td style=\"color:black;\">3  <td style=\"color:black;\">7  <td style=\"color:black;\">17  <td style=\"color:black;\">39  <td style=\"color:black;\">2  <td style=\"color:black;\">16  <td style=\"color:black;\">24  <td style=\"color:black;\">23  <td style=\"color:black;\">43  <td style=\"color:black;\">12 \n",
       "<tbody>\n",
       "  <tr> <td style=\"color:black;\">24  <td style=\"color:black;\">2  <td style=\"color:black;\">47  <td style=\"color:black;\">44  <td style=\"color:black;\">37  <td style=\"color:black;\">21  <td style=\"color:black;\">23  <td style=\"color:black;\">45  <td style=\"color:black;\">3  <td style=\"color:black;\">25  <td style=\"color:black;\">13  <td style=\"color:black;\">27  <td style=\"color:black;\">19  <td style=\"color:black;\">17  <td style=\"color:black;\">26  <td style=\"color:black;\">11  <td style=\"color:black;\">48  <td style=\"color:black;\">31  <td style=\"color:black;\">1  <td style=\"color:black;\">39  <td style=\"color:black;\">18  <td style=\"color:black;\">29  <td style=\"color:black;\">28  <td style=\"color:black;\">6  <td style=\"color:black;\">10  <td style=\"color:black;\">49  <td style=\"color:black;\">35  <td style=\"color:black;\">32  <td style=\"color:black;\">34  <td style=\"color:black;\">14  <td style=\"color:black;\">46  <td style=\"color:black;\">40  <td style=\"color:black;\">41  <td style=\"color:black;\">33  <td style=\"color:black;\">15  <td style=\"color:black;\">43  <td style=\"color:black;\">9  <td style=\"color:black;\">20  <td style=\"color:black;\">38  <td style=\"color:black;\">12  <td style=\"color:black;\">30  <td style=\"color:black;\">8  <td style=\"color:black;\">4  <td style=\"color:black;\">16  <td style=\"color:black;\">36  <td style=\"color:black;\">5  <td style=\"color:black;\">42  <td style=\"color:black;\">7  <td style=\"color:black;\">22 \n",
       "  <tr> <td style=\"color:black;\">14  <td style=\"color:black;\">6  <td style=\"color:black;\">1  <td style=\"color:black;\">11  <td style=\"color:black;\">13  <td style=\"color:black;\">31  <td style=\"color:black;\">9  <td style=\"color:black;\">22  <td style=\"color:black;\">47  <td style=\"color:black;\">33  <td style=\"color:black;\">41  <td style=\"color:black;\">5  <td style=\"color:black;\">35  <td style=\"color:black;\">43  <td style=\"color:black;\">25  <td style=\"color:black;\">23  <td style=\"color:black;\">16  <td style=\"color:black;\">27  <td style=\"color:black;\">46  <td style=\"color:black;\">19  <td style=\"color:black;\">20  <td style=\"color:black;\">36  <td style=\"color:black;\">45  <td style=\"color:black;\">8  <td style=\"color:black;\">26  <td style=\"color:black;\">48  <td style=\"color:black;\">42  <td style=\"color:black;\">7  <td style=\"color:black;\">37  <td style=\"color:black;\">30  <td style=\"color:black;\">29  <td style=\"color:black;\">32  <td style=\"color:black;\">38  <td style=\"color:black;\">21  <td style=\"color:black;\">24  <td style=\"color:black;\">44  <td style=\"color:black;\">15  <td style=\"color:black;\">49  <td style=\"color:black;\">3  <td style=\"color:black;\">10  <td style=\"color:black;\">4  <td style=\"color:black;\">39  <td style=\"color:black;\">34  <td style=\"color:black;\">12  <td style=\"color:black;\">17  <td style=\"color:black;\">18  <td style=\"color:black;\">40  <td style=\"color:black;\">28  <td style=\"color:black;\">2 \n",
       "  <tr> <td style=\"color:black;\">38  <td style=\"color:black;\">29  <td style=\"color:black;\">46  <td style=\"color:black;\">22  <td style=\"color:black;\">35  <td style=\"color:black;\">33  <td style=\"color:black;\">34  <td style=\"color:black;\">12  <td style=\"color:black;\">15  <td style=\"color:black;\">31  <td style=\"color:black;\">6  <td style=\"color:black;\">42  <td style=\"color:black;\">21  <td style=\"color:black;\">18  <td style=\"color:black;\">45  <td style=\"color:black;\">28  <td style=\"color:black;\">43  <td style=\"color:black;\">30  <td style=\"color:black;\">24  <td style=\"color:black;\">32  <td style=\"color:black;\">17  <td style=\"color:black;\">1  <td style=\"color:black;\">25  <td style=\"color:black;\">40  <td style=\"color:black;\">5  <td style=\"color:black;\">16  <td style=\"color:black;\">9  <td style=\"color:black;\">44  <td style=\"color:black;\">3  <td style=\"color:black;\">39  <td style=\"color:black;\">13  <td style=\"color:black;\">4  <td style=\"color:black;\">8  <td style=\"color:black;\">10  <td style=\"color:black;\">2  <td style=\"color:black;\">36  <td style=\"color:black;\">48  <td style=\"color:black;\">19  <td style=\"color:black;\">7  <td style=\"color:black;\">37  <td style=\"color:black;\">26  <td style=\"color:black;\">41  <td style=\"color:black;\">23  <td style=\"color:black;\">27  <td style=\"color:black;\">47  <td style=\"color:black;\">11  <td style=\"color:black;\">20  <td style=\"color:black;\">49  <td style=\"color:black;\">14 \n",
       "  <tr> <td style=\"color:black;\">5  <td style=\"color:black;\">17  <td style=\"color:black;\">30  <td style=\"color:black;\">19  <td style=\"color:black;\">43  <td style=\"color:black;\">26  <td style=\"color:black;\">10  <td style=\"color:black;\">37  <td style=\"color:black;\">44  <td style=\"color:black;\">38  <td style=\"color:black;\">7  <td style=\"color:black;\">23  <td style=\"color:black;\">40  <td style=\"color:black;\">4  <td style=\"color:black;\">22  <td style=\"color:black;\">6  <td style=\"color:black;\">3  <td style=\"color:black;\">14  <td style=\"color:black;\">8  <td style=\"color:black;\">34  <td style=\"color:black;\">42  <td style=\"color:black;\">46  <td style=\"color:black;\">15  <td style=\"color:black;\">11  <td style=\"color:black;\">39  <td style=\"color:black;\">13  <td style=\"color:black;\">27  <td style=\"color:black;\">47  <td style=\"color:black;\">36  <td style=\"color:black;\">16  <td style=\"color:black;\">49  <td style=\"color:black;\">20  <td style=\"color:black;\">1  <td style=\"color:black;\">12  <td style=\"color:black;\">48  <td style=\"color:black;\">18  <td style=\"color:black;\">33  <td style=\"color:black;\">24  <td style=\"color:black;\">29  <td style=\"color:black;\">35  <td style=\"color:black;\">2  <td style=\"color:black;\">28  <td style=\"color:black;\">21  <td style=\"color:black;\">41  <td style=\"color:black;\">45  <td style=\"color:black;\">31  <td style=\"color:black;\">25  <td style=\"color:black;\">32  <td style=\"color:black;\">9 \n",
       "  <tr> <td style=\"color:black;\">36  <td style=\"color:black;\">49  <td style=\"color:black;\">27  <td style=\"color:black;\">32  <td style=\"color:black;\">15  <td style=\"color:black;\">7  <td style=\"color:black;\">40  <td style=\"color:black;\">8  <td style=\"color:black;\">30  <td style=\"color:black;\">46  <td style=\"color:black;\">16  <td style=\"color:black;\">29  <td style=\"color:black;\">20  <td style=\"color:black;\">24  <td style=\"color:black;\">2  <td style=\"color:black;\">10  <td style=\"color:black;\">5  <td style=\"color:black;\">41  <td style=\"color:black;\">21  <td style=\"color:black;\">12  <td style=\"color:black;\">13  <td style=\"color:black;\">3  <td style=\"color:black;\">38  <td style=\"color:black;\">19  <td style=\"color:black;\">34  <td style=\"color:black;\">14  <td style=\"color:black;\">23  <td style=\"color:black;\">4  <td style=\"color:black;\">44  <td style=\"color:black;\">45  <td style=\"color:black;\">25  <td style=\"color:black;\">18  <td style=\"color:black;\">9  <td style=\"color:black;\">28  <td style=\"color:black;\">11  <td style=\"color:black;\">42  <td style=\"color:black;\">6  <td style=\"color:black;\">22  <td style=\"color:black;\">1  <td style=\"color:black;\">47  <td style=\"color:black;\">17  <td style=\"color:black;\">31  <td style=\"color:black;\">35  <td style=\"color:black;\">39  <td style=\"color:black;\">37  <td style=\"color:black;\">33  <td style=\"color:black;\">48  <td style=\"color:black;\">26  <td style=\"color:black;\">43 \n",
       "  <tr> <td style=\"color:black;\">25  <td style=\"color:black;\">12  <td style=\"color:black;\">48  <td style=\"color:black;\">28  <td style=\"color:black;\">42  <td style=\"color:black;\">20  <td style=\"color:black;\">45  <td style=\"color:black;\">36  <td style=\"color:black;\">32  <td style=\"color:black;\">49  <td style=\"color:black;\">10  <td style=\"color:black;\">39  <td style=\"color:black;\">9  <td style=\"color:black;\">26  <td style=\"color:black;\">29  <td style=\"color:black;\">4  <td style=\"color:black;\">38  <td style=\"color:black;\">40  <td style=\"color:black;\">15  <td style=\"color:black;\">44  <td style=\"color:black;\">47  <td style=\"color:black;\">31  <td style=\"color:black;\">37  <td style=\"color:black;\">33  <td style=\"color:black;\">22  <td style=\"color:black;\">41  <td style=\"color:black;\">2  <td style=\"color:black;\">18  <td style=\"color:black;\">27  <td style=\"color:black;\">17  <td style=\"color:black;\">5  <td style=\"color:black;\">19  <td style=\"color:black;\">7  <td style=\"color:black;\">43  <td style=\"color:black;\">35  <td style=\"color:black;\">16  <td style=\"color:black;\">23  <td style=\"color:black;\">34  <td style=\"color:black;\">21  <td style=\"color:black;\">46  <td style=\"color:black;\">11  <td style=\"color:black;\">14  <td style=\"color:black;\">6  <td style=\"color:black;\">24  <td style=\"color:black;\">13  <td style=\"color:black;\">30  <td style=\"color:black;\">3  <td style=\"color:black;\">1  <td style=\"color:black;\">8 \n",
       "  <tr> <td style=\"color:black;\">3  <td style=\"color:black;\">16  <td style=\"color:black;\">41  <td style=\"color:black;\">39  <td style=\"color:black;\">4  <td style=\"color:black;\">8  <td style=\"color:black;\">18  <td style=\"color:black;\">2  <td style=\"color:black;\">28  <td style=\"color:black;\">34  <td style=\"color:black;\">14  <td style=\"color:black;\">48  <td style=\"color:black;\">1  <td style=\"color:black;\">11  <td style=\"color:black;\">36  <td style=\"color:black;\">49  <td style=\"color:black;\">37  <td style=\"color:black;\">7  <td style=\"color:black;\">35  <td style=\"color:black;\">33  <td style=\"color:black;\">9  <td style=\"color:black;\">12  <td style=\"color:black;\">24  <td style=\"color:black;\">30  <td style=\"color:black;\">21  <td style=\"color:black;\">17  <td style=\"color:black;\">20  <td style=\"color:black;\">43  <td style=\"color:black;\">6  <td style=\"color:black;\">42  <td style=\"color:black;\">26  <td style=\"color:black;\">23  <td style=\"color:black;\">47  <td style=\"color:black;\">31  <td style=\"color:black;\">22  <td style=\"color:black;\">45  <td style=\"color:black;\">25  <td style=\"color:black;\">13  <td style=\"color:black;\">40  <td style=\"color:black;\">5  <td style=\"color:black;\">27  <td style=\"color:black;\">32  <td style=\"color:black;\">29  <td style=\"color:black;\">38  <td style=\"color:black;\">15  <td style=\"color:black;\">10  <td style=\"color:black;\">46  <td style=\"color:black;\">19  <td style=\"color:black;\">44 \n",
       "<tbody>\n",
       "  <tr> <td style=\"color:black;\">40  <td style=\"color:black;\">31  <td style=\"color:black;\">42  <td style=\"color:black;\">15  <td style=\"color:black;\">14  <td style=\"color:black;\">43  <td style=\"color:black;\">44  <td style=\"color:black;\">1  <td style=\"color:black;\">13  <td style=\"color:black;\">37  <td style=\"color:black;\">45  <td style=\"color:black;\">9  <td style=\"color:black;\">11  <td style=\"color:black;\">5  <td style=\"color:black;\">41  <td style=\"color:black;\">19  <td style=\"color:black;\">7  <td style=\"color:black;\">6  <td style=\"color:black;\">26  <td style=\"color:black;\">27  <td style=\"color:black;\">30  <td style=\"color:black;\">24  <td style=\"color:black;\">39  <td style=\"color:black;\">3  <td style=\"color:black;\">4  <td style=\"color:black;\">21  <td style=\"color:black;\">47  <td style=\"color:black;\">8  <td style=\"color:black;\">32  <td style=\"color:black;\">10  <td style=\"color:black;\">20  <td style=\"color:black;\">46  <td style=\"color:black;\">16  <td style=\"color:black;\">29  <td style=\"color:black;\">49  <td style=\"color:black;\">35  <td style=\"color:black;\">22  <td style=\"color:black;\">38  <td style=\"color:black;\">36  <td style=\"color:black;\">25  <td style=\"color:black;\">34  <td style=\"color:black;\">33  <td style=\"color:black;\">12  <td style=\"color:black;\">17  <td style=\"color:black;\">2  <td style=\"color:black;\">48  <td style=\"color:black;\">28  <td style=\"color:black;\">18  <td style=\"color:black;\">23 \n",
       "  <tr> <td style=\"color:black;\">22  <td style=\"color:black;\">26  <td style=\"color:black;\">45  <td style=\"color:black;\">18  <td style=\"color:black;\">6  <td style=\"color:black;\">48  <td style=\"color:black;\">19  <td style=\"color:black;\">15  <td style=\"color:black;\">8  <td style=\"color:black;\">44  <td style=\"color:black;\">42  <td style=\"color:black;\">10  <td style=\"color:black;\">17  <td style=\"color:black;\">16  <td style=\"color:black;\">39  <td style=\"color:black;\">24  <td style=\"color:black;\">4  <td style=\"color:black;\">2  <td style=\"color:black;\">3  <td style=\"color:black;\">29  <td style=\"color:black;\">37  <td style=\"color:black;\">23  <td style=\"color:black;\">46  <td style=\"color:black;\">27  <td style=\"color:black;\">35  <td style=\"color:black;\">28  <td style=\"color:black;\">33  <td style=\"color:black;\">49  <td style=\"color:black;\">14  <td style=\"color:black;\">47  <td style=\"color:black;\">31  <td style=\"color:black;\">13  <td style=\"color:black;\">25  <td style=\"color:black;\">11  <td style=\"color:black;\">38  <td style=\"color:black;\">32  <td style=\"color:black;\">20  <td style=\"color:black;\">40  <td style=\"color:black;\">12  <td style=\"color:black;\">21  <td style=\"color:black;\">43  <td style=\"color:black;\">30  <td style=\"color:black;\">7  <td style=\"color:black;\">9  <td style=\"color:black;\">1  <td style=\"color:black;\">36  <td style=\"color:black;\">41  <td style=\"color:black;\">5  <td style=\"color:black;\">34 \n",
       "  <tr> <td style=\"color:black;\">41  <td style=\"color:black;\">20  <td style=\"color:black;\">2  <td style=\"color:black;\">23  <td style=\"color:black;\">16  <td style=\"color:black;\">47  <td style=\"color:black;\">28  <td style=\"color:black;\">29  <td style=\"color:black;\">25  <td style=\"color:black;\">43  <td style=\"color:black;\">26  <td style=\"color:black;\">14  <td style=\"color:black;\">46  <td style=\"color:black;\">38  <td style=\"color:black;\">17  <td style=\"color:black;\">21  <td style=\"color:black;\">45  <td style=\"color:black;\">15  <td style=\"color:black;\">22  <td style=\"color:black;\">11  <td style=\"color:black;\">34  <td style=\"color:black;\">44  <td style=\"color:black;\">12  <td style=\"color:black;\">48  <td style=\"color:black;\">42  <td style=\"color:black;\">40  <td style=\"color:black;\">13  <td style=\"color:black;\">37  <td style=\"color:black;\">1  <td style=\"color:black;\">33  <td style=\"color:black;\">8  <td style=\"color:black;\">35  <td style=\"color:black;\">36  <td style=\"color:black;\">24  <td style=\"color:black;\">5  <td style=\"color:black;\">39  <td style=\"color:black;\">31  <td style=\"color:black;\">10  <td style=\"color:black;\">18  <td style=\"color:black;\">49  <td style=\"color:black;\">9  <td style=\"color:black;\">7  <td style=\"color:black;\">19  <td style=\"color:black;\">3  <td style=\"color:black;\">4  <td style=\"color:black;\">6  <td style=\"color:black;\">32  <td style=\"color:black;\">27  <td style=\"color:black;\">30 \n",
       "  <tr> <td style=\"color:black;\">49  <td style=\"color:black;\">10  <td style=\"color:black;\">29  <td style=\"color:black;\">13  <td style=\"color:black;\">12  <td style=\"color:black;\">38  <td style=\"color:black;\">11  <td style=\"color:black;\">35  <td style=\"color:black;\">39  <td style=\"color:black;\">27  <td style=\"color:black;\">31  <td style=\"color:black;\">21  <td style=\"color:black;\">7  <td style=\"color:black;\">30  <td style=\"color:black;\">9  <td style=\"color:black;\">8  <td style=\"color:black;\">40  <td style=\"color:black;\">28  <td style=\"color:black;\">33  <td style=\"color:black;\">47  <td style=\"color:black;\">36  <td style=\"color:black;\">5  <td style=\"color:black;\">6  <td style=\"color:black;\">2  <td style=\"color:black;\">18  <td style=\"color:black;\">32  <td style=\"color:black;\">34  <td style=\"color:black;\">26  <td style=\"color:black;\">15  <td style=\"color:black;\">41  <td style=\"color:black;\">43  <td style=\"color:black;\">22  <td style=\"color:black;\">3  <td style=\"color:black;\">48  <td style=\"color:black;\">17  <td style=\"color:black;\">19  <td style=\"color:black;\">1  <td style=\"color:black;\">44  <td style=\"color:black;\">42  <td style=\"color:black;\">4  <td style=\"color:black;\">23  <td style=\"color:black;\">37  <td style=\"color:black;\">25  <td style=\"color:black;\">20  <td style=\"color:black;\">24  <td style=\"color:black;\">45  <td style=\"color:black;\">16  <td style=\"color:black;\">14  <td style=\"color:black;\">46 \n",
       "  <tr> <td style=\"color:black;\">17  <td style=\"color:black;\">3  <td style=\"color:black;\">35  <td style=\"color:black;\">5  <td style=\"color:black;\">21  <td style=\"color:black;\">24  <td style=\"color:black;\">4  <td style=\"color:black;\">32  <td style=\"color:black;\">12  <td style=\"color:black;\">36  <td style=\"color:black;\">49  <td style=\"color:black;\">19  <td style=\"color:black;\">34  <td style=\"color:black;\">6  <td style=\"color:black;\">48  <td style=\"color:black;\">14  <td style=\"color:black;\">25  <td style=\"color:black;\">23  <td style=\"color:black;\">18  <td style=\"color:black;\">42  <td style=\"color:black;\">1  <td style=\"color:black;\">15  <td style=\"color:black;\">31  <td style=\"color:black;\">20  <td style=\"color:black;\">9  <td style=\"color:black;\">38  <td style=\"color:black;\">43  <td style=\"color:black;\">22  <td style=\"color:black;\">7  <td style=\"color:black;\">27  <td style=\"color:black;\">37  <td style=\"color:black;\">30  <td style=\"color:black;\">45  <td style=\"color:black;\">2  <td style=\"color:black;\">40  <td style=\"color:black;\">46  <td style=\"color:black;\">26  <td style=\"color:black;\">28  <td style=\"color:black;\">16  <td style=\"color:black;\">41  <td style=\"color:black;\">8  <td style=\"color:black;\">29  <td style=\"color:black;\">47  <td style=\"color:black;\">33  <td style=\"color:black;\">11  <td style=\"color:black;\">44  <td style=\"color:black;\">13  <td style=\"color:black;\">10  <td style=\"color:black;\">39 \n",
       "  <tr> <td style=\"color:black;\">32  <td style=\"color:black;\">33  <td style=\"color:black;\">7  <td style=\"color:black;\">8  <td style=\"color:black;\">39  <td style=\"color:black;\">9  <td style=\"color:black;\">30  <td style=\"color:black;\">40  <td style=\"color:black;\">41  <td style=\"color:black;\">4  <td style=\"color:black;\">20  <td style=\"color:black;\">22  <td style=\"color:black;\">18  <td style=\"color:black;\">3  <td style=\"color:black;\">46  <td style=\"color:black;\">13  <td style=\"color:black;\">49  <td style=\"color:black;\">16  <td style=\"color:black;\">10  <td style=\"color:black;\">5  <td style=\"color:black;\">35  <td style=\"color:black;\">14  <td style=\"color:black;\">11  <td style=\"color:black;\">45  <td style=\"color:black;\">36  <td style=\"color:black;\">25  <td style=\"color:black;\">19  <td style=\"color:black;\">1  <td style=\"color:black;\">28  <td style=\"color:black;\">34  <td style=\"color:black;\">23  <td style=\"color:black;\">12  <td style=\"color:black;\">44  <td style=\"color:black;\">42  <td style=\"color:black;\">21  <td style=\"color:black;\">2  <td style=\"color:black;\">24  <td style=\"color:black;\">6  <td style=\"color:black;\">27  <td style=\"color:black;\">17  <td style=\"color:black;\">47  <td style=\"color:black;\">48  <td style=\"color:black;\">38  <td style=\"color:black;\">31  <td style=\"color:black;\">29  <td style=\"color:black;\">37  <td style=\"color:black;\">43  <td style=\"color:black;\">15  <td style=\"color:black;\">26 \n",
       "  <tr> <td style=\"color:black;\">46  <td style=\"color:black;\">27  <td style=\"color:black;\">34  <td style=\"color:black;\">1  <td style=\"color:black;\">25  <td style=\"color:black;\">36  <td style=\"color:black;\">37  <td style=\"color:black;\">28  <td style=\"color:black;\">23  <td style=\"color:black;\">47  <td style=\"color:black;\">48  <td style=\"color:black;\">24  <td style=\"color:black;\">33  <td style=\"color:black;\">2  <td style=\"color:black;\">32  <td style=\"color:black;\">44  <td style=\"color:black;\">20  <td style=\"color:black;\">12  <td style=\"color:black;\">38  <td style=\"color:black;\">31  <td style=\"color:black;\">43  <td style=\"color:black;\">10  <td style=\"color:black;\">7  <td style=\"color:black;\">16  <td style=\"color:black;\">41  <td style=\"color:black;\">29  <td style=\"color:black;\">30  <td style=\"color:black;\">17  <td style=\"color:black;\">4  <td style=\"color:black;\">18  <td style=\"color:black;\">9  <td style=\"color:black;\">6  <td style=\"color:black;\">26  <td style=\"color:black;\">39  <td style=\"color:black;\">19  <td style=\"color:black;\">14  <td style=\"color:black;\">11  <td style=\"color:black;\">5  <td style=\"color:black;\">15  <td style=\"color:black;\">13  <td style=\"color:black;\">45  <td style=\"color:black;\">3  <td style=\"color:black;\">42  <td style=\"color:black;\">8  <td style=\"color:black;\">40  <td style=\"color:black;\">35  <td style=\"color:black;\">22  <td style=\"color:black;\">21  <td style=\"color:black;\">49 \n",
       "<tbody>\n",
       "  <tr> <td style=\"color:black;\">43  <td style=\"color:black;\">46  <td style=\"color:black;\">19  <td style=\"color:black;\">49  <td style=\"color:black;\">22  <td style=\"color:black;\">16  <td style=\"color:black;\">14  <td style=\"color:black;\">9  <td style=\"color:black;\">27  <td style=\"color:black;\">23  <td style=\"color:black;\">34  <td style=\"color:black;\">25  <td style=\"color:black;\">48  <td style=\"color:black;\">1  <td style=\"color:black;\">21  <td style=\"color:black;\">30  <td style=\"color:black;\">6  <td style=\"color:black;\">26  <td style=\"color:black;\">20  <td style=\"color:black;\">2  <td style=\"color:black;\">31  <td style=\"color:black;\">17  <td style=\"color:black;\">18  <td style=\"color:black;\">39  <td style=\"color:black;\">37  <td style=\"color:black;\">47  <td style=\"color:black;\">12  <td style=\"color:black;\">13  <td style=\"color:black;\">35  <td style=\"color:black;\">32  <td style=\"color:black;\">44  <td style=\"color:black;\">3  <td style=\"color:black;\">33  <td style=\"color:black;\">41  <td style=\"color:black;\">4  <td style=\"color:black;\">15  <td style=\"color:black;\">8  <td style=\"color:black;\">7  <td style=\"color:black;\">24  <td style=\"color:black;\">38  <td style=\"color:black;\">40  <td style=\"color:black;\">45  <td style=\"color:black;\">11  <td style=\"color:black;\">5  <td style=\"color:black;\">10  <td style=\"color:black;\">28  <td style=\"color:black;\">36  <td style=\"color:black;\">42  <td style=\"color:black;\">29 \n",
       "  <tr> <td style=\"color:black;\">48  <td style=\"color:black;\">24  <td style=\"color:black;\">38  <td style=\"color:black;\">33  <td style=\"color:black;\">2  <td style=\"color:black;\">40  <td style=\"color:black;\">31  <td style=\"color:black;\">46  <td style=\"color:black;\">42  <td style=\"color:black;\">13  <td style=\"color:black;\">30  <td style=\"color:black;\">8  <td style=\"color:black;\">37  <td style=\"color:black;\">44  <td style=\"color:black;\">15  <td style=\"color:black;\">7  <td style=\"color:black;\">14  <td style=\"color:black;\">19  <td style=\"color:black;\">12  <td style=\"color:black;\">49  <td style=\"color:black;\">32  <td style=\"color:black;\">26  <td style=\"color:black;\">22  <td style=\"color:black;\">25  <td style=\"color:black;\">20  <td style=\"color:black;\">23  <td style=\"color:black;\">29  <td style=\"color:black;\">45  <td style=\"color:black;\">18  <td style=\"color:black;\">11  <td style=\"color:black;\">10  <td style=\"color:black;\">27  <td style=\"color:black;\">28  <td style=\"color:black;\">36  <td style=\"color:black;\">34  <td style=\"color:black;\">17  <td style=\"color:black;\">4  <td style=\"color:black;\">1  <td style=\"color:black;\">47  <td style=\"color:black;\">16  <td style=\"color:black;\">3  <td style=\"color:black;\">5  <td style=\"color:black;\">9  <td style=\"color:black;\">21  <td style=\"color:black;\">6  <td style=\"color:black;\">43  <td style=\"color:black;\">35  <td style=\"color:black;\">39  <td style=\"color:black;\">41 \n",
       "  <tr> <td style=\"color:black;\">11  <td style=\"color:black;\">18  <td style=\"color:black;\">9  <td style=\"color:black;\">10  <td style=\"color:black;\">23  <td style=\"color:black;\">15  <td style=\"color:black;\">25  <td style=\"color:black;\">26  <td style=\"color:black;\">6  <td style=\"color:black;\">24  <td style=\"color:black;\">19  <td style=\"color:black;\">17  <td style=\"color:black;\">32  <td style=\"color:black;\">39  <td style=\"color:black;\">34  <td style=\"color:black;\">5  <td style=\"color:black;\">1  <td style=\"color:black;\">29  <td style=\"color:black;\">36  <td style=\"color:black;\">22  <td style=\"color:black;\">3  <td style=\"color:black;\">33  <td style=\"color:black;\">49  <td style=\"color:black;\">38  <td style=\"color:black;\">28  <td style=\"color:black;\">4  <td style=\"color:black;\">46  <td style=\"color:black;\">41  <td style=\"color:black;\">31  <td style=\"color:black;\">40  <td style=\"color:black;\">2  <td style=\"color:black;\">14  <td style=\"color:black;\">20  <td style=\"color:black;\">13  <td style=\"color:black;\">16  <td style=\"color:black;\">12  <td style=\"color:black;\">21  <td style=\"color:black;\">27  <td style=\"color:black;\">48  <td style=\"color:black;\">42  <td style=\"color:black;\">35  <td style=\"color:black;\">43  <td style=\"color:black;\">30  <td style=\"color:black;\">37  <td style=\"color:black;\">7  <td style=\"color:black;\">47  <td style=\"color:black;\">8  <td style=\"color:black;\">44  <td style=\"color:black;\">45 \n",
       "  <tr> <td style=\"color:black;\">8  <td style=\"color:black;\">4  <td style=\"color:black;\">44  <td style=\"color:black;\">34  <td style=\"color:black;\">26  <td style=\"color:black;\">3  <td style=\"color:black;\">13  <td style=\"color:black;\">38  <td style=\"color:black;\">20  <td style=\"color:black;\">2  <td style=\"color:black;\">33  <td style=\"color:black;\">15  <td style=\"color:black;\">43  <td style=\"color:black;\">49  <td style=\"color:black;\">28  <td style=\"color:black;\">47  <td style=\"color:black;\">35  <td style=\"color:black;\">39  <td style=\"color:black;\">41  <td style=\"color:black;\">16  <td style=\"color:black;\">45  <td style=\"color:black;\">9  <td style=\"color:black;\">21  <td style=\"color:black;\">10  <td style=\"color:black;\">11  <td style=\"color:black;\">19  <td style=\"color:black;\">5  <td style=\"color:black;\">42  <td style=\"color:black;\">29  <td style=\"color:black;\">37  <td style=\"color:black;\">1  <td style=\"color:black;\">7  <td style=\"color:black;\">24  <td style=\"color:black;\">22  <td style=\"color:black;\">30  <td style=\"color:black;\">31  <td style=\"color:black;\">14  <td style=\"color:black;\">36  <td style=\"color:black;\">32  <td style=\"color:black;\">6  <td style=\"color:black;\">46  <td style=\"color:black;\">25  <td style=\"color:black;\">18  <td style=\"color:black;\">40  <td style=\"color:black;\">12  <td style=\"color:black;\">27  <td style=\"color:black;\">17  <td style=\"color:black;\">23  <td style=\"color:black;\">48 \n",
       "  <tr> <td style=\"color:black;\">12  <td style=\"color:black;\">7  <td style=\"color:black;\">28  <td style=\"color:black;\">37  <td style=\"color:black;\">36  <td style=\"color:black;\">35  <td style=\"color:black;\">21  <td style=\"color:black;\">18  <td style=\"color:black;\">14  <td style=\"color:black;\">41  <td style=\"color:black;\">47  <td style=\"color:black;\">4  <td style=\"color:black;\">31  <td style=\"color:black;\">45  <td style=\"color:black;\">11  <td style=\"color:black;\">27  <td style=\"color:black;\">46  <td style=\"color:black;\">25  <td style=\"color:black;\">44  <td style=\"color:black;\">13  <td style=\"color:black;\">40  <td style=\"color:black;\">43  <td style=\"color:black;\">32  <td style=\"color:black;\">24  <td style=\"color:black;\">8  <td style=\"color:black;\">6  <td style=\"color:black;\">3  <td style=\"color:black;\">30  <td style=\"color:black;\">26  <td style=\"color:black;\">5  <td style=\"color:black;\">42  <td style=\"color:black;\">9  <td style=\"color:black;\">48  <td style=\"color:black;\">17  <td style=\"color:black;\">23  <td style=\"color:black;\">22  <td style=\"color:black;\">10  <td style=\"color:black;\">29  <td style=\"color:black;\">19  <td style=\"color:black;\">20  <td style=\"color:black;\">39  <td style=\"color:black;\">2  <td style=\"color:black;\">33  <td style=\"color:black;\">1  <td style=\"color:black;\">49  <td style=\"color:black;\">34  <td style=\"color:black;\">15  <td style=\"color:black;\">16  <td style=\"color:black;\">38 \n",
       "  <tr> <td style=\"color:black;\">45  <td style=\"color:black;\">32  <td style=\"color:black;\">20  <td style=\"color:black;\">30  <td style=\"color:black;\">5  <td style=\"color:black;\">17  <td style=\"color:black;\">6  <td style=\"color:black;\">11  <td style=\"color:black;\">21  <td style=\"color:black;\">10  <td style=\"color:black;\">29  <td style=\"color:black;\">3  <td style=\"color:black;\">16  <td style=\"color:black;\">35  <td style=\"color:black;\">37  <td style=\"color:black;\">42  <td style=\"color:black;\">18  <td style=\"color:black;\">9  <td style=\"color:black;\">43  <td style=\"color:black;\">24  <td style=\"color:black;\">48  <td style=\"color:black;\">7  <td style=\"color:black;\">34  <td style=\"color:black;\">1  <td style=\"color:black;\">2  <td style=\"color:black;\">27  <td style=\"color:black;\">40  <td style=\"color:black;\">36  <td style=\"color:black;\">8  <td style=\"color:black;\">38  <td style=\"color:black;\">39  <td style=\"color:black;\">15  <td style=\"color:black;\">49  <td style=\"color:black;\">47  <td style=\"color:black;\">12  <td style=\"color:black;\">23  <td style=\"color:black;\">44  <td style=\"color:black;\">26  <td style=\"color:black;\">41  <td style=\"color:black;\">33  <td style=\"color:black;\">28  <td style=\"color:black;\">13  <td style=\"color:black;\">22  <td style=\"color:black;\">19  <td style=\"color:black;\">14  <td style=\"color:black;\">25  <td style=\"color:black;\">31  <td style=\"color:black;\">46  <td style=\"color:black;\">4 \n",
       "  <tr> <td style=\"color:black;\">42  <td style=\"color:black;\">1  <td style=\"color:black;\">39  <td style=\"color:black;\">29  <td style=\"color:black;\">47  <td style=\"color:black;\">27  <td style=\"color:black;\">41  <td style=\"color:black;\">5  <td style=\"color:black;\">22  <td style=\"color:black;\">40  <td style=\"color:black;\">28  <td style=\"color:black;\">12  <td style=\"color:black;\">36  <td style=\"color:black;\">7  <td style=\"color:black;\">8  <td style=\"color:black;\">33  <td style=\"color:black;\">17  <td style=\"color:black;\">38  <td style=\"color:black;\">23  <td style=\"color:black;\">10  <td style=\"color:black;\">4  <td style=\"color:black;\">16  <td style=\"color:black;\">44  <td style=\"color:black;\">35  <td style=\"color:black;\">14  <td style=\"color:black;\">31  <td style=\"color:black;\">15  <td style=\"color:black;\">48  <td style=\"color:black;\">19  <td style=\"color:black;\">43  <td style=\"color:black;\">6  <td style=\"color:black;\">45  <td style=\"color:black;\">21  <td style=\"color:black;\">25  <td style=\"color:black;\">46  <td style=\"color:black;\">37  <td style=\"color:black;\">34  <td style=\"color:black;\">30  <td style=\"color:black;\">11  <td style=\"color:black;\">9  <td style=\"color:black;\">49  <td style=\"color:black;\">18  <td style=\"color:black;\">26  <td style=\"color:black;\">32  <td style=\"color:black;\">3  <td style=\"color:black;\">2  <td style=\"color:black;\">24  <td style=\"color:black;\">20  <td style=\"color:black;\">13 \n",
       "<tbody>\n",
       "  <tr> <td style=\"color:black;\">20  <td style=\"color:black;\">11  <td style=\"color:black;\">23  <td style=\"color:black;\">4  <td style=\"color:black;\">7  <td style=\"color:black;\">45  <td style=\"color:black;\">32  <td style=\"color:black;\">14  <td style=\"color:black;\">26  <td style=\"color:black;\">42  <td style=\"color:black;\">9  <td style=\"color:black;\">34  <td style=\"color:black;\">8  <td style=\"color:black;\">12  <td style=\"color:black;\">10  <td style=\"color:black;\">36  <td style=\"color:black;\">29  <td style=\"color:black;\">24  <td style=\"color:black;\">49  <td style=\"color:black;\">46  <td style=\"color:black;\">41  <td style=\"color:black;\">13  <td style=\"color:black;\">3  <td style=\"color:black;\">18  <td style=\"color:black;\">1  <td style=\"color:black;\">35  <td style=\"color:black;\">31  <td style=\"color:black;\">6  <td style=\"color:black;\">25  <td style=\"color:black;\">44  <td style=\"color:black;\">27  <td style=\"color:black;\">5  <td style=\"color:black;\">30  <td style=\"color:black;\">16  <td style=\"color:black;\">33  <td style=\"color:black;\">38  <td style=\"color:black;\">43  <td style=\"color:black;\">17  <td style=\"color:black;\">28  <td style=\"color:black;\">40  <td style=\"color:black;\">15  <td style=\"color:black;\">47  <td style=\"color:black;\">37  <td style=\"color:black;\">48  <td style=\"color:black;\">21  <td style=\"color:black;\">39  <td style=\"color:black;\">2  <td style=\"color:black;\">22  <td style=\"color:black;\">19 \n",
       "  <tr> <td style=\"color:black;\">19  <td style=\"color:black;\">37  <td style=\"color:black;\">40  <td style=\"color:black;\">21  <td style=\"color:black;\">46  <td style=\"color:black;\">25  <td style=\"color:black;\">27  <td style=\"color:black;\">33  <td style=\"color:black;\">45  <td style=\"color:black;\">18  <td style=\"color:black;\">35  <td style=\"color:black;\">49  <td style=\"color:black;\">41  <td style=\"color:black;\">15  <td style=\"color:black;\">44  <td style=\"color:black;\">31  <td style=\"color:black;\">13  <td style=\"color:black;\">3  <td style=\"color:black;\">48  <td style=\"color:black;\">6  <td style=\"color:black;\">12  <td style=\"color:black;\">4  <td style=\"color:black;\">10  <td style=\"color:black;\">47  <td style=\"color:black;\">24  <td style=\"color:black;\">11  <td style=\"color:black;\">28  <td style=\"color:black;\">9  <td style=\"color:black;\">20  <td style=\"color:black;\">29  <td style=\"color:black;\">14  <td style=\"color:black;\">34  <td style=\"color:black;\">17  <td style=\"color:black;\">7  <td style=\"color:black;\">26  <td style=\"color:black;\">8  <td style=\"color:black;\">39  <td style=\"color:black;\">2  <td style=\"color:black;\">22  <td style=\"color:black;\">32  <td style=\"color:black;\">5  <td style=\"color:black;\">42  <td style=\"color:black;\">36  <td style=\"color:black;\">43  <td style=\"color:black;\">23  <td style=\"color:black;\">16  <td style=\"color:black;\">30  <td style=\"color:black;\">38  <td style=\"color:black;\">1 \n",
       "  <tr> <td style=\"color:black;\">44  <td style=\"color:black;\">9  <td style=\"color:black;\">49  <td style=\"color:black;\">3  <td style=\"color:black;\">24  <td style=\"color:black;\">1  <td style=\"color:black;\">26  <td style=\"color:black;\">48  <td style=\"color:black;\">16  <td style=\"color:black;\">22  <td style=\"color:black;\">4  <td style=\"color:black;\">43  <td style=\"color:black;\">47  <td style=\"color:black;\">13  <td style=\"color:black;\">30  <td style=\"color:black;\">25  <td style=\"color:black;\">28  <td style=\"color:black;\">11  <td style=\"color:black;\">2  <td style=\"color:black;\">17  <td style=\"color:black;\">33  <td style=\"color:black;\">20  <td style=\"color:black;\">42  <td style=\"color:black;\">5  <td style=\"color:black;\">32  <td style=\"color:black;\">8  <td style=\"color:black;\">7  <td style=\"color:black;\">39  <td style=\"color:black;\">41  <td style=\"color:black;\">21  <td style=\"color:black;\">38  <td style=\"color:black;\">31  <td style=\"color:black;\">15  <td style=\"color:black;\">19  <td style=\"color:black;\">36  <td style=\"color:black;\">27  <td style=\"color:black;\">45  <td style=\"color:black;\">37  <td style=\"color:black;\">34  <td style=\"color:black;\">23  <td style=\"color:black;\">6  <td style=\"color:black;\">35  <td style=\"color:black;\">10  <td style=\"color:black;\">46  <td style=\"color:black;\">18  <td style=\"color:black;\">14  <td style=\"color:black;\">12  <td style=\"color:black;\">29  <td style=\"color:black;\">40 \n",
       "  <tr> <td style=\"color:black;\">13  <td style=\"color:black;\">38  <td style=\"color:black;\">33  <td style=\"color:black;\">12  <td style=\"color:black;\">18  <td style=\"color:black;\">14  <td style=\"color:black;\">48  <td style=\"color:black;\">3  <td style=\"color:black;\">7  <td style=\"color:black;\">17  <td style=\"color:black;\">39  <td style=\"color:black;\">40  <td style=\"color:black;\">5  <td style=\"color:black;\">28  <td style=\"color:black;\">20  <td style=\"color:black;\">43  <td style=\"color:black;\">27  <td style=\"color:black;\">42  <td style=\"color:black;\">16  <td style=\"color:black;\">1  <td style=\"color:black;\">19  <td style=\"color:black;\">25  <td style=\"color:black;\">23  <td style=\"color:black;\">37  <td style=\"color:black;\">29  <td style=\"color:black;\">15  <td style=\"color:black;\">22  <td style=\"color:black;\">34  <td style=\"color:black;\">24  <td style=\"color:black;\">8  <td style=\"color:black;\">45  <td style=\"color:black;\">10  <td style=\"color:black;\">2  <td style=\"color:black;\">46  <td style=\"color:black;\">9  <td style=\"color:black;\">4  <td style=\"color:black;\">30  <td style=\"color:black;\">11  <td style=\"color:black;\">44  <td style=\"color:black;\">26  <td style=\"color:black;\">21  <td style=\"color:black;\">36  <td style=\"color:black;\">31  <td style=\"color:black;\">47  <td style=\"color:black;\">41  <td style=\"color:black;\">32  <td style=\"color:black;\">49  <td style=\"color:black;\">6  <td style=\"color:black;\">35 \n",
       "  <tr> <td style=\"color:black;\">39  <td style=\"color:black;\">47  <td style=\"color:black;\">36  <td style=\"color:black;\">35  <td style=\"color:black;\">8  <td style=\"color:black;\">30  <td style=\"color:black;\">29  <td style=\"color:black;\">20  <td style=\"color:black;\">10  <td style=\"color:black;\">6  <td style=\"color:black;\">37  <td style=\"color:black;\">31  <td style=\"color:black;\">2  <td style=\"color:black;\">21  <td style=\"color:black;\">40  <td style=\"color:black;\">38  <td style=\"color:black;\">9  <td style=\"color:black;\">32  <td style=\"color:black;\">4  <td style=\"color:black;\">23  <td style=\"color:black;\">26  <td style=\"color:black;\">41  <td style=\"color:black;\">27  <td style=\"color:black;\">44  <td style=\"color:black;\">45  <td style=\"color:black;\">43  <td style=\"color:black;\">16  <td style=\"color:black;\">12  <td style=\"color:black;\">49  <td style=\"color:black;\">22  <td style=\"color:black;\">3  <td style=\"color:black;\">48  <td style=\"color:black;\">18  <td style=\"color:black;\">1  <td style=\"color:black;\">28  <td style=\"color:black;\">13  <td style=\"color:black;\">46  <td style=\"color:black;\">14  <td style=\"color:black;\">33  <td style=\"color:black;\">7  <td style=\"color:black;\">24  <td style=\"color:black;\">19  <td style=\"color:black;\">5  <td style=\"color:black;\">42  <td style=\"color:black;\">25  <td style=\"color:black;\">15  <td style=\"color:black;\">34  <td style=\"color:black;\">11  <td style=\"color:black;\">17 \n",
       "  <tr> <td style=\"color:black;\">2  <td style=\"color:black;\">15  <td style=\"color:black;\">43  <td style=\"color:black;\">31  <td style=\"color:black;\">28  <td style=\"color:black;\">10  <td style=\"color:black;\">16  <td style=\"color:black;\">23  <td style=\"color:black;\">46  <td style=\"color:black;\">11  <td style=\"color:black;\">1  <td style=\"color:black;\">32  <td style=\"color:black;\">24  <td style=\"color:black;\">19  <td style=\"color:black;\">5  <td style=\"color:black;\">34  <td style=\"color:black;\">22  <td style=\"color:black;\">47  <td style=\"color:black;\">14  <td style=\"color:black;\">21  <td style=\"color:black;\">7  <td style=\"color:black;\">40  <td style=\"color:black;\">30  <td style=\"color:black;\">17  <td style=\"color:black;\">48  <td style=\"color:black;\">36  <td style=\"color:black;\">26  <td style=\"color:black;\">38  <td style=\"color:black;\">42  <td style=\"color:black;\">35  <td style=\"color:black;\">4  <td style=\"color:black;\">39  <td style=\"color:black;\">6  <td style=\"color:black;\">37  <td style=\"color:black;\">13  <td style=\"color:black;\">20  <td style=\"color:black;\">18  <td style=\"color:black;\">12  <td style=\"color:black;\">25  <td style=\"color:black;\">29  <td style=\"color:black;\">41  <td style=\"color:black;\">49  <td style=\"color:black;\">27  <td style=\"color:black;\">45  <td style=\"color:black;\">44  <td style=\"color:black;\">8  <td style=\"color:black;\">9  <td style=\"color:black;\">3  <td style=\"color:black;\">33 \n",
       "  <tr> <td style=\"color:black;\">6  <td style=\"color:black;\">41  <td style=\"color:black;\">22  <td style=\"color:black;\">17  <td style=\"color:black;\">34  <td style=\"color:black;\">5  <td style=\"color:black;\">42  <td style=\"color:black;\">27  <td style=\"color:black;\">38  <td style=\"color:black;\">30  <td style=\"color:black;\">36  <td style=\"color:black;\">44  <td style=\"color:black;\">25  <td style=\"color:black;\">29  <td style=\"color:black;\">18  <td style=\"color:black;\">39  <td style=\"color:black;\">8  <td style=\"color:black;\">37  <td style=\"color:black;\">45  <td style=\"color:black;\">35  <td style=\"color:black;\">15  <td style=\"color:black;\">19  <td style=\"color:black;\">2  <td style=\"color:black;\">14  <td style=\"color:black;\">33  <td style=\"color:black;\">46  <td style=\"color:black;\">49  <td style=\"color:black;\">21  <td style=\"color:black;\">43  <td style=\"color:black;\">23  <td style=\"color:black;\">12  <td style=\"color:black;\">11  <td style=\"color:black;\">32  <td style=\"color:black;\">40  <td style=\"color:black;\">47  <td style=\"color:black;\">48  <td style=\"color:black;\">16  <td style=\"color:black;\">3  <td style=\"color:black;\">9  <td style=\"color:black;\">31  <td style=\"color:black;\">10  <td style=\"color:black;\">1  <td style=\"color:black;\">20  <td style=\"color:black;\">26  <td style=\"color:black;\">28  <td style=\"color:black;\">7  <td style=\"color:black;\">4  <td style=\"color:black;\">13  <td style=\"color:black;\">24 \n",
       "<tbody>\n",
       "  <tr> <td style=\"color:black;\">34  <td style=\"color:black;\">22  <td style=\"color:black;\">25  <td style=\"color:black;\">38  <td style=\"color:black;\">41  <td style=\"color:black;\">44  <td style=\"color:black;\">5  <td style=\"color:black;\">30  <td style=\"color:black;\">48  <td style=\"color:black;\">9  <td style=\"color:black;\">32  <td style=\"color:black;\">35  <td style=\"color:black;\">13  <td style=\"color:black;\">23  <td style=\"color:black;\">27  <td style=\"color:black;\">20  <td style=\"color:black;\">47  <td style=\"color:black;\">46  <td style=\"color:black;\">19  <td style=\"color:black;\">45  <td style=\"color:black;\">28  <td style=\"color:black;\">18  <td style=\"color:black;\">26  <td style=\"color:black;\">31  <td style=\"color:black;\">12  <td style=\"color:black;\">24  <td style=\"color:black;\">10  <td style=\"color:black;\">2  <td style=\"color:black;\">21  <td style=\"color:black;\">1  <td style=\"color:black;\">33  <td style=\"color:black;\">37  <td style=\"color:black;\">4  <td style=\"color:black;\">15  <td style=\"color:black;\">29  <td style=\"color:black;\">40  <td style=\"color:black;\">3  <td style=\"color:black;\">43  <td style=\"color:black;\">8  <td style=\"color:black;\">14  <td style=\"color:black;\">42  <td style=\"color:black;\">11  <td style=\"color:black;\">16  <td style=\"color:black;\">49  <td style=\"color:black;\">39  <td style=\"color:black;\">17  <td style=\"color:black;\">6  <td style=\"color:black;\">36  <td style=\"color:black;\">7 \n",
       "  <tr> <td style=\"color:black;\">10  <td style=\"color:black;\">43  <td style=\"color:black;\">11  <td style=\"color:black;\">7  <td style=\"color:black;\">17  <td style=\"color:black;\">12  <td style=\"color:black;\">39  <td style=\"color:black;\">4  <td style=\"color:black;\">1  <td style=\"color:black;\">16  <td style=\"color:black;\">21  <td style=\"color:black;\">41  <td style=\"color:black;\">42  <td style=\"color:black;\">46  <td style=\"color:black;\">3  <td style=\"color:black;\">40  <td style=\"color:black;\">15  <td style=\"color:black;\">34  <td style=\"color:black;\">5  <td style=\"color:black;\">18  <td style=\"color:black;\">14  <td style=\"color:black;\">37  <td style=\"color:black;\">9  <td style=\"color:black;\">29  <td style=\"color:black;\">38  <td style=\"color:black;\">45  <td style=\"color:black;\">6  <td style=\"color:black;\">20  <td style=\"color:black;\">2  <td style=\"color:black;\">48  <td style=\"color:black;\">24  <td style=\"color:black;\">47  <td style=\"color:black;\">27  <td style=\"color:black;\">23  <td style=\"color:black;\">8  <td style=\"color:black;\">49  <td style=\"color:black;\">19  <td style=\"color:black;\">35  <td style=\"color:black;\">26  <td style=\"color:black;\">36  <td style=\"color:black;\">32  <td style=\"color:black;\">22  <td style=\"color:black;\">28  <td style=\"color:black;\">44  <td style=\"color:black;\">30  <td style=\"color:black;\">13  <td style=\"color:black;\">33  <td style=\"color:black;\">25  <td style=\"color:black;\">31 \n",
       "  <tr> <td style=\"color:black;\">23  <td style=\"color:black;\">8  <td style=\"color:black;\">14  <td style=\"color:black;\">20  <td style=\"color:black;\">27  <td style=\"color:black;\">2  <td style=\"color:black;\">49  <td style=\"color:black;\">47  <td style=\"color:black;\">19  <td style=\"color:black;\">26  <td style=\"color:black;\">11  <td style=\"color:black;\">36  <td style=\"color:black;\">15  <td style=\"color:black;\">25  <td style=\"color:black;\">1  <td style=\"color:black;\">16  <td style=\"color:black;\">31  <td style=\"color:black;\">13  <td style=\"color:black;\">39  <td style=\"color:black;\">7  <td style=\"color:black;\">10  <td style=\"color:black;\">34  <td style=\"color:black;\">33  <td style=\"color:black;\">42  <td style=\"color:black;\">30  <td style=\"color:black;\">3  <td style=\"color:black;\">21  <td style=\"color:black;\">35  <td style=\"color:black;\">9  <td style=\"color:black;\">12  <td style=\"color:black;\">17  <td style=\"color:black;\">44  <td style=\"color:black;\">22  <td style=\"color:black;\">18  <td style=\"color:black;\">43  <td style=\"color:black;\">24  <td style=\"color:black;\">29  <td style=\"color:black;\">45  <td style=\"color:black;\">6  <td style=\"color:black;\">28  <td style=\"color:black;\">37  <td style=\"color:black;\">46  <td style=\"color:black;\">48  <td style=\"color:black;\">4  <td style=\"color:black;\">32  <td style=\"color:black;\">41  <td style=\"color:black;\">38  <td style=\"color:black;\">40  <td style=\"color:black;\">5 \n",
       "  <tr> <td style=\"color:black;\">30  <td style=\"color:black;\">21  <td style=\"color:black;\">18  <td style=\"color:black;\">6  <td style=\"color:black;\">45  <td style=\"color:black;\">19  <td style=\"color:black;\">3  <td style=\"color:black;\">7  <td style=\"color:black;\">24  <td style=\"color:black;\">28  <td style=\"color:black;\">27  <td style=\"color:black;\">33  <td style=\"color:black;\">14  <td style=\"color:black;\">40  <td style=\"color:black;\">12  <td style=\"color:black;\">17  <td style=\"color:black;\">11  <td style=\"color:black;\">49  <td style=\"color:black;\">42  <td style=\"color:black;\">36  <td style=\"color:black;\">8  <td style=\"color:black;\">39  <td style=\"color:black;\">47  <td style=\"color:black;\">4  <td style=\"color:black;\">25  <td style=\"color:black;\">22  <td style=\"color:black;\">44  <td style=\"color:black;\">16  <td style=\"color:black;\">38  <td style=\"color:black;\">20  <td style=\"color:black;\">34  <td style=\"color:black;\">41  <td style=\"color:black;\">46  <td style=\"color:black;\">32  <td style=\"color:black;\">31  <td style=\"color:black;\">10  <td style=\"color:black;\">2  <td style=\"color:black;\">48  <td style=\"color:black;\">5  <td style=\"color:black;\">15  <td style=\"color:black;\">13  <td style=\"color:black;\">9  <td style=\"color:black;\">1  <td style=\"color:black;\">23  <td style=\"color:black;\">43  <td style=\"color:black;\">26  <td style=\"color:black;\">29  <td style=\"color:black;\">35  <td style=\"color:black;\">37 \n",
       "  <tr> <td style=\"color:black;\">33  <td style=\"color:black;\">40  <td style=\"color:black;\">24  <td style=\"color:black;\">16  <td style=\"color:black;\">48  <td style=\"color:black;\">32  <td style=\"color:black;\">47  <td style=\"color:black;\">31  <td style=\"color:black;\">43  <td style=\"color:black;\">8  <td style=\"color:black;\">5  <td style=\"color:black;\">2  <td style=\"color:black;\">44  <td style=\"color:black;\">10  <td style=\"color:black;\">38  <td style=\"color:black;\">35  <td style=\"color:black;\">30  <td style=\"color:black;\">21  <td style=\"color:black;\">29  <td style=\"color:black;\">37  <td style=\"color:black;\">6  <td style=\"color:black;\">11  <td style=\"color:black;\">17  <td style=\"color:black;\">41  <td style=\"color:black;\">46  <td style=\"color:black;\">7  <td style=\"color:black;\">36  <td style=\"color:black;\">23  <td style=\"color:black;\">13  <td style=\"color:black;\">49  <td style=\"color:black;\">28  <td style=\"color:black;\">26  <td style=\"color:black;\">19  <td style=\"color:black;\">14  <td style=\"color:black;\">25  <td style=\"color:black;\">34  <td style=\"color:black;\">12  <td style=\"color:black;\">39  <td style=\"color:black;\">4  <td style=\"color:black;\">18  <td style=\"color:black;\">1  <td style=\"color:black;\">20  <td style=\"color:black;\">3  <td style=\"color:black;\">15  <td style=\"color:black;\">22  <td style=\"color:black;\">9  <td style=\"color:black;\">27  <td style=\"color:black;\">45  <td style=\"color:black;\">42 \n",
       "  <tr> <td style=\"color:black;\">28  <td style=\"color:black;\">35  <td style=\"color:black;\">15  <td style=\"color:black;\">42  <td style=\"color:black;\">29  <td style=\"color:black;\">37  <td style=\"color:black;\">36  <td style=\"color:black;\">49  <td style=\"color:black;\">17  <td style=\"color:black;\">20  <td style=\"color:black;\">12  <td style=\"color:black;\">6  <td style=\"color:black;\">38  <td style=\"color:black;\">34  <td style=\"color:black;\">4  <td style=\"color:black;\">41  <td style=\"color:black;\">2  <td style=\"color:black;\">33  <td style=\"color:black;\">9  <td style=\"color:black;\">26  <td style=\"color:black;\">22  <td style=\"color:black;\">27  <td style=\"color:black;\">48  <td style=\"color:black;\">43  <td style=\"color:black;\">13  <td style=\"color:black;\">1  <td style=\"color:black;\">32  <td style=\"color:black;\">14  <td style=\"color:black;\">40  <td style=\"color:black;\">3  <td style=\"color:black;\">30  <td style=\"color:black;\">16  <td style=\"color:black;\">5  <td style=\"color:black;\">45  <td style=\"color:black;\">39  <td style=\"color:black;\">25  <td style=\"color:black;\">7  <td style=\"color:black;\">47  <td style=\"color:black;\">23  <td style=\"color:black;\">44  <td style=\"color:black;\">31  <td style=\"color:black;\">21  <td style=\"color:black;\">8  <td style=\"color:black;\">18  <td style=\"color:black;\">19  <td style=\"color:black;\">46  <td style=\"color:black;\">11  <td style=\"color:black;\">24  <td style=\"color:black;\">10 \n",
       "  <tr> <td style=\"color:black;\">9  <td style=\"color:black;\">13  <td style=\"color:black;\">26  <td style=\"color:black;\">46  <td style=\"color:black;\">31  <td style=\"color:black;\">4  <td style=\"color:black;\">1  <td style=\"color:black;\">39  <td style=\"color:black;\">29  <td style=\"color:black;\">45  <td style=\"color:black;\">18  <td style=\"color:black;\">37  <td style=\"color:black;\">3  <td style=\"color:black;\">22  <td style=\"color:black;\">23  <td style=\"color:black;\">48  <td style=\"color:black;\">24  <td style=\"color:black;\">44  <td style=\"color:black;\">32  <td style=\"color:black;\">43  <td style=\"color:black;\">25  <td style=\"color:black;\">49  <td style=\"color:black;\">19  <td style=\"color:black;\">28  <td style=\"color:black;\">40  <td style=\"color:black;\">5  <td style=\"color:black;\">8  <td style=\"color:black;\">15  <td style=\"color:black;\">10  <td style=\"color:black;\">6  <td style=\"color:black;\">11  <td style=\"color:black;\">36  <td style=\"color:black;\">42  <td style=\"color:black;\">35  <td style=\"color:black;\">7  <td style=\"color:black;\">41  <td style=\"color:black;\">27  <td style=\"color:black;\">16  <td style=\"color:black;\">17  <td style=\"color:black;\">30  <td style=\"color:black;\">33  <td style=\"color:black;\">38  <td style=\"color:black;\">2  <td style=\"color:black;\">14  <td style=\"color:black;\">20  <td style=\"color:black;\">12  <td style=\"color:black;\">21  <td style=\"color:black;\">34  <td style=\"color:black;\">47 \n",
       "</table></body></html>"
      ],
      "text/plain": [
       "<IPython.core.display.HTML object>"
      ]
     },
     "execution_count": 16,
     "metadata": {},
     "output_type": "execute_result"
    }
   ],
   "source": [
    "read_solve_write_display_sudoku('sudokuDim7.json')"
   ]
  },
  {
   "cell_type": "markdown",
   "metadata": {},
   "source": [
    "# Other Sudoku Related Ideas\n",
    "\n",
    "How does Gurobi compare to previous versions of its solver and also to other solvers in terms of solver times for larger MetaSudoku instances? The code we wrote uses the Gurobi specific Python API, and we do not want to recode it for each separate solver. But one can imagine it should be possible to write out solver independent AMPL code and then run CPLEX or XPRESS or CBC via that AMPL code.\n",
    "\n",
    "An App on your phone that would recognize a Sudoku problem by camera, also recognize the filled in digits using some OCR and then immediately solve the problem and overlay the solution on screen in an Augmented Reality sense would not save the world, but still be really cool, right?! :)\n",
    "\n",
    "We can very well solve Sudokus by computer now, but in fact Sudokus are created because some humans seem to derive pleasure from solving them with their natural brains. So depriving them from that satisfaction is not a very useful undertaking. Here, we have been reading Sudokus from a json file, but I generated them manually in a pretty much trial and error way. As for computer generation of them, surely brute force generation of random numbers for some random squares can lead to infeasible Sudoku problems. So clearly something smarter is needed. It could be enjoyable to dabble a bit into that. However, there are plenty to be found on the internet already. \n",
    "\n",
    "I also wonder how a technique like reinforcement learning could solve these discrete optimisation problems. We could have agents per constraint, each trying to satisfy their constraint, without coordination with any other agent. They would receive a reward if their constraint is satisfied or close to satisfied. Would that work? Or, due to the discrete nature of the problem, rather just keep oscillating and never converge to a valid solution? It sounds quite similar to decoupling a MILP approach into an ADMM approach, which also generally has no guarantees to converge to a solution when integer variables are contained in the problem. However, [2] argues it proves convergence for a special ADMM case it set up."
   ]
  },
  {
   "cell_type": "markdown",
   "metadata": {},
   "source": [
    "## References\n",
    "\n",
    "[1] Sudoku Solving Algorithms, Wikipedia (https://en.wikipedia.org/wiki/Sudoku_solving_algorithms#Computation_time) <br>\n",
    "\n",
    "[2] Baoyuan Wu, Bernard Ghanem, lp-Box ADMM: A Versatile Framework for Integer Programming. (https://arxiv.org/pdf/1604.07666.pdf)"
   ]
  },
  {
   "cell_type": "markdown",
   "metadata": {},
   "source": [
    "Written by Peter Sels on March 22nd, 2020. Copyright © 2020 Logically Yours BV."
   ]
  }
 ],
 "metadata": {
  "kernelspec": {
   "display_name": "Python 3",
   "language": "python",
   "name": "python3"
  },
  "language_info": {
   "codemirror_mode": {
    "name": "ipython",
    "version": 3
   },
   "file_extension": ".py",
   "mimetype": "text/x-python",
   "name": "python",
   "nbconvert_exporter": "python",
   "pygments_lexer": "ipython3",
   "version": "3.7.6"
  }
 },
 "nbformat": 4,
 "nbformat_minor": 4
}
