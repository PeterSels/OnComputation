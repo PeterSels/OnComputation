{
 "cells": [
  {
   "cell_type": "markdown",
   "metadata": {},
   "source": [
    "# Master Mind on the HP-15C calculator, for old times' sake "
   ]
  },
  {
   "cell_type": "code",
   "execution_count": null,
   "metadata": {},
   "outputs": [],
   "source": [
    "# set this notebook to use a large part of the browser window width\n",
    "from IPython.core.display import HTML, display\n",
    "display(HTML(\"<style>.container { width:80% !important; }</style>\"))"
   ]
  },
  {
   "cell_type": "code",
   "execution_count": null,
   "metadata": {},
   "outputs": [],
   "source": [
    "secret = '4323'\n",
    "guess = '4213'\n",
    "\n",
    "N = len(secret)\n",
    "print('N = {:d}'.format(N))\n",
    "\n",
    "matched_secret = ['0', '0', '0', '0']\n",
    "matched_guess  = ['0', '0', '0', '0']\n",
    "print('matched_secret = ' + str(matched_secret))\n",
    "print('matched_guess = ' + str(matched_guess))\n",
    "\n",
    "print('secret = ' + secret)\n",
    "print('guess = ' + guess)\n",
    "\n",
    "def calculate_n_correctly_positioned(secret, guess, matched_secret, matched_guess):\n",
    "    result = 0\n",
    "    for i in range(0, N):\n",
    "        if guess[i] == secret[i]:\n",
    "            result += 1\n",
    "            matched_secret[i] = '1'\n",
    "            matched_guess[i] = '1'\n",
    "    return result\n",
    "\n",
    "n_correctly_positioned = calculate_n_correctly_positioned(secret, guess, matched_secret, matched_guess)\n",
    "print('n_correctly_positioned = {:d}'.format(n_correctly_positioned))\n",
    "print('matched_secret = ' + str(matched_secret))\n",
    "\n",
    "def calculate_n_wrongly_positioned(secret, guess, matched_secret, matched_guess):\n",
    "    result = 0\n",
    "    for j in range(0, N):\n",
    "        if matched_secret[j] == '0':\n",
    "            for k in range(0, N):\n",
    "                if matched_guess[k] == '0':\n",
    "                    if guess[k] == secret[j]:\n",
    "                        matched_secret[j] = '1'\n",
    "                        matched_guess[k] = '1'\n",
    "                        result += 1\n",
    "    return result\n",
    "\n",
    "n_wrongly_positioned = calculate_n_wrongly_positioned(secret, guess, matched_secret, matched_guess)\n",
    "print('n_wrongly_positioned = {:d}'.format(n_wrongly_positioned))\n",
    "print('matched_secret = ' + str(matched_secret))\n",
    "print('matched_guess = ' + str(matched_guess))\n",
    "\n"
   ]
  },
  {
   "cell_type": "code",
   "execution_count": null,
   "metadata": {},
   "outputs": [],
   "source": [
    "# try to make something close to the HP-15C interactive experience with python widgets\n"
   ]
  },
  {
   "cell_type": "markdown",
   "metadata": {},
   "source": [
    "# References\n",
    "\n",
    "[1] \n"
   ]
  },
  {
   "cell_type": "markdown",
   "metadata": {},
   "source": [
    "Peter Sels, April 25th 2020. \n",
    "\n",
    "Copyright © 2020 Logically Yours BV."
   ]
  }
 ],
 "metadata": {
  "_draft": {
   "nbviewer_url": "https://gist.github.com/923d2f39fe742fce3cc13065e97c9f57"
  },
  "gist": {
   "data": {
    "description": "ChessCompress.ipynb",
    "public": true
   },
   "id": "923d2f39fe742fce3cc13065e97c9f57"
  },
  "kernelspec": {
   "display_name": "Python 3",
   "language": "python",
   "name": "python3"
  },
  "language_info": {
   "codemirror_mode": {
    "name": "ipython",
    "version": 3
   },
   "file_extension": ".py",
   "mimetype": "text/x-python",
   "name": "python",
   "nbconvert_exporter": "python",
   "pygments_lexer": "ipython3",
   "version": "3.7.6"
  },
  "toc": {
   "base_numbering": 1,
   "nav_menu": {},
   "number_sections": true,
   "sideBar": true,
   "skip_h1_title": false,
   "title_cell": "Table of Contents",
   "title_sidebar": "Contents",
   "toc_cell": false,
   "toc_position": {},
   "toc_section_display": true,
   "toc_window_display": true
  },
  "varInspector": {
   "cols": {
    "lenName": 16,
    "lenType": 16,
    "lenVar": 40
   },
   "kernels_config": {
    "python": {
     "delete_cmd_postfix": "",
     "delete_cmd_prefix": "del ",
     "library": "var_list.py",
     "varRefreshCmd": "print(var_dic_list())"
    },
    "r": {
     "delete_cmd_postfix": ") ",
     "delete_cmd_prefix": "rm(",
     "library": "var_list.r",
     "varRefreshCmd": "cat(var_dic_list()) "
    }
   },
   "types_to_exclude": [
    "module",
    "function",
    "builtin_function_or_method",
    "instance",
    "_Feature"
   ],
   "window_display": false
  }
 },
 "nbformat": 4,
 "nbformat_minor": 4
}
